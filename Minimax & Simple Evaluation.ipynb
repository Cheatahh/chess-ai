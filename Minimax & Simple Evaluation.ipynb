{
 "cells": [
  {
   "cell_type": "code",
   "execution_count": null,
   "id": "d2abcd5f",
   "metadata": {},
   "outputs": [],
   "source": [
    "HTML(read(open(\"style.html\"), String))"
   ]
  },
  {
   "cell_type": "markdown",
   "id": "b3ddb9a9",
   "metadata": {},
   "source": [
    "These are the new implementations, remove old ones later"
   ]
  },
  {
   "cell_type": "code",
   "execution_count": 1,
   "id": "1327b33a",
   "metadata": {},
   "outputs": [
    {
     "data": {
      "text/plain": [
       "evaluate2 (generic function with 1 method)"
      ]
     },
     "execution_count": 1,
     "metadata": {},
     "output_type": "execute_result"
    }
   ],
   "source": [
    "using NBInclude\n",
    "@nbinclude(\"Piece-Weight and Simple Evaluation.ipynb\")"
   ]
  },
  {
   "cell_type": "code",
   "execution_count": 21,
   "id": "6728a9bb",
   "metadata": {},
   "outputs": [
    {
     "data": {
      "text/plain": [
       "evaluate_incremental (generic function with 1 method)"
      ]
     },
     "execution_count": 21,
     "metadata": {},
     "output_type": "execute_result"
    }
   ],
   "source": [
    "function valueOf(piece, square)\n",
    "    if piece === EMPTY\n",
    "        return 0\n",
    "    end\n",
    "    matrix = get_matrix_from_piece(piece, piece_dict)\n",
    "    weight = get_weight_from_piece(piece, piece_weight)\n",
    "    piece_value = matrix[rank(square).val][file(square).val] + weight\n",
    "    return piece_value\n",
    "end\n",
    "\n",
    "# assert target_move to be legal\n",
    "function evaluate_incremental(source_score_white, source_score_black, source_board, target_move)\n",
    "    # possible incremental changes\n",
    "    # - move 1 piece (just move)\n",
    "    # - move 1 piece and remove 1 piece of the opposite color on the target location (capture)\n",
    "    # - move 1 piece and remove 1 piece of the opposite color on the target location +1 rank in center direction (en passent)\n",
    "    # - move 1 piece and replace it (promotion)\n",
    "    # - move two pieces (casteling)\n",
    "    \n",
    "    # dispatch action\n",
    "    #   if: ischeckmate\n",
    "    #     return +- infinity\n",
    "    #\n",
    "    #   if: isdraw\n",
    "    #     return 0\n",
    "    #\n",
    "    #   update score by - captured piece and new piece position\n",
    "    #\n",
    "    #   if: move is promition\n",
    "    #     update score by removing pawn & adding promition piece at target location\n",
    "    #\n",
    "    #   if: piece is king & move is castle\n",
    "    #     (casteling can only be initiated by moving the king)\n",
    "    #     update score by new king & rook positions\n",
    "    #\n",
    "    #   if: piece is pawn & move is en passent\n",
    "    #     update score by - captured piece and new pawn position \n",
    "    #       \n",
    "    \n",
    "    color_to_move = sidetomove(source_board)\n",
    "    \n",
    "    source_square = from(target_move)\n",
    "    piece_to_move = pieceon(source_board, source_square)\n",
    "    destination_square = to(target_move)\n",
    "    piece_to_capture = pieceon(source_board, destination_square)\n",
    "    \n",
    "    undoinfo = domove!(source_board, target_move)\n",
    "    \n",
    "    if ischeckmate(source_board)\n",
    "        undomove!(source_board, undoinfo)\n",
    "        if color_to_move == WHITE\n",
    "            return 200000, -200000\n",
    "        else\n",
    "            return -200000, 200000\n",
    "        end\n",
    "    end\n",
    "    \n",
    "    if isdraw(source_board)\n",
    "        undomove!(source_board, undoinfo)\n",
    "        return 0, 0\n",
    "    end\n",
    "    \n",
    "    undomove!(source_board, undoinfo)\n",
    "    \n",
    "    # for later use\n",
    "    destination_square_piece_value = valueOf(piece_to_move, destination_square)\n",
    "    \n",
    "    # remove & readd piece, remove captured piece (may be nothing)\n",
    "    if color_to_move == WHITE\n",
    "        source_score_white -= valueOf(piece_to_move, source_square)\n",
    "        source_score_white += destination_square_piece_value\n",
    "        source_score_black -= valueOf(piece_to_capture, destination_square)\n",
    "    else\n",
    "        source_score_black -= valueOf(piece_to_move, source_square)\n",
    "        source_score_black += destination_square_piece_value\n",
    "        source_score_white -= valueOf(piece_to_capture, destination_square)\n",
    "    end\n",
    "    \n",
    "    piece_to_move_type = ptype(piece_to_move)\n",
    "    \n",
    "    # casteling? -> also count for rook\n",
    "    # casteling is the only case where distance == 2\n",
    "    if piece_to_move_type === KING\n",
    "        if distance(source_square, destination_square) == 2\n",
    "            destination_square_file = file(destination_square)\n",
    "\n",
    "            # C & G are the only files where a castling king can move to\n",
    "            if destination_square_file == FILE_C\n",
    "                # rook moved fom FILE_A to FILE_D\n",
    "\n",
    "                # white queen side castle\n",
    "                if color_to_move == WHITE \n",
    "                    source_score_white -= valueOf(PIECE_WR, SQ_A1)\n",
    "                    source_score_white += valueOf(PIECE_WR, SQ_D1)\n",
    "                # black king side castle\n",
    "                else\n",
    "                    source_score_black -= valueOf(PIECE_BR, SQ_A8)\n",
    "                    source_score_black += valueOf(PIECE_BR, SQ_D8)\n",
    "                end\n",
    "            elseif destination_square_file == FILE_G \n",
    "                # rook moved fom FILE_H to FILE_F\n",
    "\n",
    "                # white king side castle\n",
    "                if color_to_move == WHITE \n",
    "                    source_score_white -= valueOf(PIECE_WR, SQ_H1)\n",
    "                    source_score_white += valueOf(PIECE_WR, SQ_F1)\n",
    "                # black queen side castle\n",
    "                else\n",
    "                    source_score_black -= valueOf(PIECE_BR, SQ_H8)\n",
    "                    source_score_black += valueOf(PIECE_BR, SQ_F8)\n",
    "                end\n",
    "            end\n",
    "        end\n",
    "            \n",
    "        # break early\n",
    "        return source_score_white, source_score_black\n",
    "    end\n",
    "    \n",
    "    # casteling? -> also count for replaced piece\n",
    "    if ispromotion(target_move)\n",
    "        promoted_piece = promotion(move)\n",
    "        promoted_piece_value = valueOf(Piece(color_to_move, promoted_piece), piece_dict, piece_weight)\n",
    "        # replace white piece with promoted piece\n",
    "        if color_to_move === WHITE\n",
    "            source_score_white -= destination_square_piece_value\n",
    "            source_score_white += promoted_piece_value\n",
    "        # replace black piece with promoted piece\n",
    "        else\n",
    "            source_score_black -= destination_square_piece_value\n",
    "            source_score_black += promoted_piece_value\n",
    "        end\n",
    "            \n",
    "        # break early\n",
    "        return source_score_white, source_score_black\n",
    "    end\n",
    "    \n",
    "    # is pawn & source file != dest file & piece_to_capture == nothing -> en passent\n",
    "    # if piece_to_move_type === PAWN && file(source_square) != file(destination_square) && piece_to_capture === nothing\n",
    "    en_passent_capture_square = epsquare(source_board)\n",
    "    if en_passent_capture_square != SQ_NONE\n",
    "        # remove black pawn\n",
    "        if color_to_move === WHITE\n",
    "            #source_score_black -= valueOf(PIECE_BP, Square(file(destination_square), rank(source_square)))\n",
    "            source_score_black -= valueOf(PIECE_BP, en_passent_capture_square)\n",
    "        # remove white pawn\n",
    "        else\n",
    "            #source_score_white -= valueOf(PIECE_WP, Square(file(destination_square), rank(source_square)))\n",
    "            source_score_white -= valueOf(PIECE_WP, en_passent_capture_square)\n",
    "        end\n",
    "    end\n",
    "    \n",
    "    return source_score_white, source_score_black\n",
    "end"
   ]
  },
  {
   "cell_type": "code",
   "execution_count": null,
   "id": "ee2f35ec",
   "metadata": {},
   "outputs": [],
   "source": [
    "b = startboard()"
   ]
  },
  {
   "cell_type": "code",
   "execution_count": null,
   "id": "64d3b872",
   "metadata": {},
   "outputs": [],
   "source": [
    "b = startboard()\n",
    "domove!(b, \"e2e4\")\n",
    "println(evaluate_for_color(b, WHITE, piece_dict, piece_weight))\n",
    "println(evaluate_for_color(b, BLACK, piece_dict, piece_weight))\n",
    "domove!(b, \"d7d5\")\n",
    "println(evaluate_for_color(b, WHITE, piece_dict, piece_weight))\n",
    "println(evaluate_for_color(b, BLACK, piece_dict, piece_weight))\n",
    "domove!(b, \"e4d5\")\n",
    "println(evaluate_for_color(b, WHITE, piece_dict, piece_weight))\n",
    "println(evaluate_for_color(b, BLACK, piece_dict, piece_weight))"
   ]
  },
  {
   "cell_type": "code",
   "execution_count": null,
   "id": "eaeadea9",
   "metadata": {},
   "outputs": [],
   "source": [
    "b = startboard()\n",
    "score_white = evaluate_for_color(b, WHITE, piece_dict, piece_weight)\n",
    "score_black = evaluate_for_color(b, BLACK, piece_dict, piece_weight)\n",
    "score_white, score_black = evaluate_incremental(score_white, score_black, b, movefromstring(\"e2e4\"))\n",
    "println(score_white)\n",
    "println(score_black)\n",
    "domove!(b, \"e2e4\")\n",
    "score_white, score_black = evaluate_incremental(score_white, score_black, b, movefromstring(\"d7d5\"))\n",
    "println(score_white)\n",
    "println(score_black)\n",
    "domove!(b, \"d7d5\")\n",
    "score_white, score_black = evaluate_incremental(score_white, score_black, b, movefromstring(\"e4d5\"))\n",
    "println(score_white)\n",
    "println(score_black)"
   ]
  },
  {
   "cell_type": "code",
   "execution_count": 3,
   "id": "799cbd30",
   "metadata": {},
   "outputs": [
    {
     "data": {
      "text/plain": [
       "minimax_incremental (generic function with 1 method)"
      ]
     },
     "execution_count": 3,
     "metadata": {},
     "output_type": "execute_result"
    }
   ],
   "source": [
    "function minimax_incremental(score_white, score_black, board, requiredDepth)\n",
    "\n",
    "    best_move = nothing\n",
    "    \n",
    "    function minimax(score_white, score_black, board, depth)\n",
    "        possibleMoves = moves(board)\n",
    "        if depth == 0 || size(possibleMoves) == 0\n",
    "            if sidetomove(board) == WHITE\n",
    "                return score_white - score_black\n",
    "            else\n",
    "                return score_black - score_white\n",
    "            end\n",
    "        end\n",
    "        maxValue = 1 << 63;\n",
    "        for move in possibleMoves\n",
    "            new_score_white, new_score_black = evaluate_incremental(score_white, score_black, board, move)\n",
    "            undoInfo = domove!(board, move)\n",
    "            value = -minimax(new_score_white, new_score_black, board, depth - 1)\n",
    "            undomove!(board, undoInfo)\n",
    "            if value > maxValue\n",
    "                maxValue = value\n",
    "                if depth == requiredDepth\n",
    "                    println(\"Best move: \", move, \" score \", value)\n",
    "                    best_move = move\n",
    "                end\n",
    "            end\n",
    "        end\n",
    "        recycle!(possibleMoves)\n",
    "        return maxValue\n",
    "    end\n",
    "    \n",
    "    minimax(score_white, score_black, board, requiredDepth)\n",
    "    return best_move\n",
    "end"
   ]
  },
  {
   "cell_type": "code",
   "execution_count": null,
   "id": "3970340d",
   "metadata": {},
   "outputs": [],
   "source": [
    "struct MiniMaxIncAI \n",
    "    depth\n",
    "end\n",
    "\n",
    "function next_move(board, ai::MiniMaxIncAI)\n",
    "    score_white = evaluate_for_color(board, WHITE, piece_dict, piece_weight)\n",
    "    score_black = evaluate_for_color(board, WHITE, piece_dict, piece_weight)\n",
    "    return minimax_incremental(score_white, score_black, board, ai.depth), \"\"\n",
    "end"
   ]
  },
  {
   "cell_type": "code",
   "execution_count": 10,
   "id": "b686c1f1",
   "metadata": {},
   "outputs": [],
   "source": [
    "using NBInclude\n",
    "@nbinclude(\"BasicGame.ipynb\")"
   ]
  },
  {
   "cell_type": "code",
   "execution_count": null,
   "id": "1d1574ad",
   "metadata": {
    "scrolled": false
   },
   "outputs": [],
   "source": [
    "play_game(MiniMaxIncAI(3))"
   ]
  },
  {
   "cell_type": "code",
   "execution_count": 17,
   "id": "47bbe5b8",
   "metadata": {},
   "outputs": [
    {
     "data": {
      "text/plain": [
       "next_move (generic function with 3 methods)"
      ]
     },
     "execution_count": 17,
     "metadata": {},
     "output_type": "execute_result"
    }
   ],
   "source": [
    "struct MiniMaxProgressiveIncAI \n",
    "    maxTime\n",
    "    maxDepth\n",
    "end\n",
    "\n",
    "function next_move(board, ai::MiniMaxProgressiveIncAI)\n",
    "    score_white = evaluate_for_color(board, WHITE, piece_dict, piece_weight)\n",
    "    score_black = evaluate_for_color(board, WHITE, piece_dict, piece_weight)\n",
    "    \n",
    "    function eval_minimax_incremental(with_depth)\n",
    "         println(\"New search depth: \", with_depth)\n",
    "         return minimax_incremental(score_white, score_black, board, with_depth)\n",
    "    end\n",
    "    \n",
    "    deepest_finished_depth = 0\n",
    "    best_move = nothing\n",
    "    remaining_time = ai.maxTime\n",
    "    last_time = 0\n",
    "    \n",
    "    while last_time * 2 < remaining_time\n",
    "        last_time = @elapsed begin \n",
    "            best_move = eval_minimax_incremental(deepest_finished_depth + 1)\n",
    "        end\n",
    "        deepest_finished_depth += 1\n",
    "        remaining_time -= last_time\n",
    "    end\n",
    "    \n",
    "    if best_move !== nothing\n",
    "        undoinfo = domove!(board, best_move)\n",
    "        score_white = evaluate_for_color(board, WHITE, piece_dict, piece_weight)\n",
    "        score_black = evaluate_for_color(board, BLACK, piece_dict, piece_weight)\n",
    "        undomove!(board, undoinfo)\n",
    "    end\n",
    "    \n",
    "    return best_move, \"Depth: \" * string(deepest_finished_depth) * \"\\nWhite: \" * string(score_white) * \"\\nBlack: \" * string(score_black)\n",
    "end"
   ]
  },
  {
   "cell_type": "code",
   "execution_count": 22,
   "id": "78109354",
   "metadata": {},
   "outputs": [
    {
     "data": {
      "text/html": [
       "Board:<div class=\"chessboard\"><style soped=\"true\">.dark-square {\n",
       "    fill: #c3936a;\n",
       "    stroke-width: 0;\n",
       "}\n",
       ".light-square {\n",
       "    fill: #ffd7a6;\n",
       "    stroke-width: 0;\n",
       "}\n",
       ".highlight {\n",
       "    fill: #47d18b;\n",
       "}\n",
       "@media (prefers-color-scheme: dark) {\n",
       "    .dark-square {\n",
       "        fill: #00796b;\n",
       "    }\n",
       "    .light-square {\n",
       "        fill: #3ca59b;\n",
       "    }\n",
       "    .highlight {\n",
       "        fill: #d23600;\n",
       "    }\n",
       "}\n",
       "</style><svg style=\"float: left; margin-right: 20px\" viewBox=\"0 0 8 8\" height=\"280\" width=\"280\"><g><g><rect x=\"0\" y=\"0\" class=\"light-square\" height=\"1\" width=\"1\"></rect><image x=\"0\" xlink:href=\"https://raw.githubusercontent.com/romstad/Chess.jl/master/img/br.svg\" y=\"0\" height=\"1\" width=\"1\"></image></g><g><rect x=\"0\" y=\"1\" class=\"dark-square\" height=\"1\" width=\"1\"></rect><image x=\"0\" xlink:href=\"https://raw.githubusercontent.com/romstad/Chess.jl/master/img/bp.svg\" y=\"1\" height=\"1\" width=\"1\"></image></g><g><rect x=\"0\" y=\"2\" class=\"light-square\" height=\"1\" width=\"1\"></rect><g></g></g><g><rect x=\"0\" y=\"3\" class=\"dark-square\" height=\"1\" width=\"1\"></rect><g></g></g><g><rect x=\"0\" y=\"4\" class=\"light-square\" height=\"1\" width=\"1\"></rect><g></g></g><g><rect x=\"0\" y=\"5\" class=\"dark-square\" height=\"1\" width=\"1\"></rect><g></g></g><g><rect x=\"0\" y=\"6\" class=\"light-square\" height=\"1\" width=\"1\"></rect><image x=\"0\" xlink:href=\"https://raw.githubusercontent.com/romstad/Chess.jl/master/img/wp.svg\" y=\"6\" height=\"1\" width=\"1\"></image></g><g><rect x=\"0\" y=\"7\" class=\"dark-square\" height=\"1\" width=\"1\"></rect><image x=\"0\" xlink:href=\"https://raw.githubusercontent.com/romstad/Chess.jl/master/img/wr.svg\" y=\"7\" height=\"1\" width=\"1\"></image></g><g><rect x=\"1\" y=\"0\" class=\"dark-square\" height=\"1\" width=\"1\"></rect><g></g></g><g><rect x=\"1\" y=\"1\" class=\"light-square\" height=\"1\" width=\"1\"></rect><image x=\"1\" xlink:href=\"https://raw.githubusercontent.com/romstad/Chess.jl/master/img/bp.svg\" y=\"1\" height=\"1\" width=\"1\"></image></g><g><rect x=\"1\" y=\"2\" class=\"dark-square\" height=\"1\" width=\"1\"></rect><g></g></g><g><rect x=\"1\" y=\"3\" class=\"light-square\" height=\"1\" width=\"1\"></rect><g></g></g><g><rect x=\"1\" y=\"4\" class=\"dark-square\" height=\"1\" width=\"1\"></rect><g></g></g><g><rect x=\"1\" y=\"5\" class=\"light-square\" height=\"1\" width=\"1\"></rect><g></g></g><g><rect x=\"1\" y=\"6\" class=\"dark-square\" height=\"1\" width=\"1\"></rect><image x=\"1\" xlink:href=\"https://raw.githubusercontent.com/romstad/Chess.jl/master/img/wp.svg\" y=\"6\" height=\"1\" width=\"1\"></image></g><g><rect x=\"1\" y=\"7\" class=\"light-square\" height=\"1\" width=\"1\"></rect><image x=\"1\" xlink:href=\"https://raw.githubusercontent.com/romstad/Chess.jl/master/img/wn.svg\" y=\"7\" height=\"1\" width=\"1\"></image></g><g><rect x=\"2\" y=\"0\" class=\"light-square\" height=\"1\" width=\"1\"></rect><image x=\"2\" xlink:href=\"https://raw.githubusercontent.com/romstad/Chess.jl/master/img/bb.svg\" y=\"0\" height=\"1\" width=\"1\"></image></g><g><rect x=\"2\" y=\"1\" class=\"dark-square\" height=\"1\" width=\"1\"></rect><image x=\"2\" xlink:href=\"https://raw.githubusercontent.com/romstad/Chess.jl/master/img/bp.svg\" y=\"1\" height=\"1\" width=\"1\"></image></g><g><rect x=\"2\" y=\"2\" class=\"light-square\" height=\"1\" width=\"1\"></rect><image x=\"2\" xlink:href=\"https://raw.githubusercontent.com/romstad/Chess.jl/master/img/bn.svg\" y=\"2\" height=\"1\" width=\"1\"></image></g><g><rect x=\"2\" y=\"3\" class=\"dark-square\" height=\"1\" width=\"1\"></rect><g></g></g><g><rect x=\"2\" y=\"4\" class=\"light-square\" height=\"1\" width=\"1\"></rect><g></g></g><g><rect x=\"2\" y=\"5\" class=\"dark-square\" height=\"1\" width=\"1\"></rect><g></g></g><g><rect x=\"2\" y=\"6\" class=\"light-square\" height=\"1\" width=\"1\"></rect><image x=\"2\" xlink:href=\"https://raw.githubusercontent.com/romstad/Chess.jl/master/img/wp.svg\" y=\"6\" height=\"1\" width=\"1\"></image></g><g><rect x=\"2\" y=\"7\" class=\"dark-square\" height=\"1\" width=\"1\"></rect><image x=\"2\" xlink:href=\"https://raw.githubusercontent.com/romstad/Chess.jl/master/img/wb.svg\" y=\"7\" height=\"1\" width=\"1\"></image></g><g><rect x=\"3\" y=\"0\" class=\"dark-square\" height=\"1\" width=\"1\"></rect><image x=\"3\" xlink:href=\"https://raw.githubusercontent.com/romstad/Chess.jl/master/img/bq.svg\" y=\"0\" height=\"1\" width=\"1\"></image></g><g><rect x=\"3\" y=\"1\" class=\"light-square\" height=\"1\" width=\"1\"></rect><image x=\"3\" xlink:href=\"https://raw.githubusercontent.com/romstad/Chess.jl/master/img/bp.svg\" y=\"1\" height=\"1\" width=\"1\"></image></g><g><rect x=\"3\" y=\"2\" class=\"dark-square\" height=\"1\" width=\"1\"></rect><g></g></g><g><rect x=\"3\" y=\"3\" class=\"light-square\" height=\"1\" width=\"1\"></rect><g></g></g><g><rect x=\"3\" y=\"4\" class=\"dark-square\" height=\"1\" width=\"1\"></rect><g></g></g><g><rect x=\"3\" y=\"5\" class=\"light-square\" height=\"1\" width=\"1\"></rect><g></g></g><g><rect x=\"3\" y=\"6\" class=\"dark-square\" height=\"1\" width=\"1\"></rect><image x=\"3\" xlink:href=\"https://raw.githubusercontent.com/romstad/Chess.jl/master/img/wp.svg\" y=\"6\" height=\"1\" width=\"1\"></image></g><g><rect x=\"3\" y=\"7\" class=\"light-square\" height=\"1\" width=\"1\"></rect><image x=\"3\" xlink:href=\"https://raw.githubusercontent.com/romstad/Chess.jl/master/img/wq.svg\" y=\"7\" height=\"1\" width=\"1\"></image></g><g><rect x=\"4\" y=\"0\" class=\"light-square\" height=\"1\" width=\"1\"></rect><image x=\"4\" xlink:href=\"https://raw.githubusercontent.com/romstad/Chess.jl/master/img/bk.svg\" y=\"0\" height=\"1\" width=\"1\"></image></g><g><rect x=\"4\" y=\"1\" class=\"dark-square\" height=\"1\" width=\"1\"></rect><image x=\"4\" xlink:href=\"https://raw.githubusercontent.com/romstad/Chess.jl/master/img/bp.svg\" y=\"1\" height=\"1\" width=\"1\"></image></g><g><rect x=\"4\" y=\"2\" class=\"light-square\" height=\"1\" width=\"1\"></rect><g></g></g><g><rect x=\"4\" y=\"3\" class=\"dark-square\" height=\"1\" width=\"1\"></rect><g></g></g><g><rect x=\"4\" y=\"4\" class=\"light-square\" height=\"1\" width=\"1\"></rect><image x=\"4\" xlink:href=\"https://raw.githubusercontent.com/romstad/Chess.jl/master/img/wp.svg\" y=\"4\" height=\"1\" width=\"1\"></image></g><g><rect x=\"4\" y=\"5\" class=\"dark-square\" height=\"1\" width=\"1\"></rect><g></g></g><g><rect x=\"4\" y=\"6\" class=\"light-square\" height=\"1\" width=\"1\"></rect><g></g></g><g><rect x=\"4\" y=\"7\" class=\"dark-square\" height=\"1\" width=\"1\"></rect><image x=\"4\" xlink:href=\"https://raw.githubusercontent.com/romstad/Chess.jl/master/img/wk.svg\" y=\"7\" height=\"1\" width=\"1\"></image></g><g><rect x=\"5\" y=\"0\" class=\"dark-square\" height=\"1\" width=\"1\"></rect><image x=\"5\" xlink:href=\"https://raw.githubusercontent.com/romstad/Chess.jl/master/img/bb.svg\" y=\"0\" height=\"1\" width=\"1\"></image></g><g><rect x=\"5\" y=\"1\" class=\"light-square\" height=\"1\" width=\"1\"></rect><image x=\"5\" xlink:href=\"https://raw.githubusercontent.com/romstad/Chess.jl/master/img/bp.svg\" y=\"1\" height=\"1\" width=\"1\"></image></g><g><rect x=\"5\" y=\"2\" class=\"dark-square\" height=\"1\" width=\"1\"></rect><g></g></g><g><rect x=\"5\" y=\"3\" class=\"light-square\" height=\"1\" width=\"1\"></rect><g></g></g><g><rect x=\"5\" y=\"4\" class=\"dark-square\" height=\"1\" width=\"1\"></rect><g></g></g><g><rect x=\"5\" y=\"5\" class=\"light-square\" height=\"1\" width=\"1\"></rect><g></g></g><g><rect x=\"5\" y=\"6\" class=\"dark-square\" height=\"1\" width=\"1\"></rect><image x=\"5\" xlink:href=\"https://raw.githubusercontent.com/romstad/Chess.jl/master/img/wp.svg\" y=\"6\" height=\"1\" width=\"1\"></image></g><g><rect x=\"5\" y=\"7\" class=\"light-square\" height=\"1\" width=\"1\"></rect><image x=\"5\" xlink:href=\"https://raw.githubusercontent.com/romstad/Chess.jl/master/img/wb.svg\" y=\"7\" height=\"1\" width=\"1\"></image></g><g><rect x=\"6\" y=\"0\" class=\"light-square\" height=\"1\" width=\"1\"></rect><image x=\"6\" xlink:href=\"https://raw.githubusercontent.com/romstad/Chess.jl/master/img/bn.svg\" y=\"0\" height=\"1\" width=\"1\"></image></g><g><rect x=\"6\" y=\"1\" class=\"dark-square\" height=\"1\" width=\"1\"></rect><image x=\"6\" xlink:href=\"https://raw.githubusercontent.com/romstad/Chess.jl/master/img/bp.svg\" y=\"1\" height=\"1\" width=\"1\"></image></g><g><rect x=\"6\" y=\"2\" class=\"light-square\" height=\"1\" width=\"1\"></rect><g></g></g><g><rect x=\"6\" y=\"3\" class=\"dark-square\" height=\"1\" width=\"1\"></rect><g></g></g><g><rect x=\"6\" y=\"4\" class=\"light-square\" height=\"1\" width=\"1\"></rect><g></g></g><g><rect x=\"6\" y=\"5\" class=\"dark-square\" height=\"1\" width=\"1\"></rect><g></g></g><g><rect x=\"6\" y=\"6\" class=\"light-square\" height=\"1\" width=\"1\"></rect><image x=\"6\" xlink:href=\"https://raw.githubusercontent.com/romstad/Chess.jl/master/img/wp.svg\" y=\"6\" height=\"1\" width=\"1\"></image></g><g><rect x=\"6\" y=\"7\" class=\"dark-square\" height=\"1\" width=\"1\"></rect><image x=\"6\" xlink:href=\"https://raw.githubusercontent.com/romstad/Chess.jl/master/img/wn.svg\" y=\"7\" height=\"1\" width=\"1\"></image></g><g><rect x=\"7\" y=\"0\" class=\"dark-square\" height=\"1\" width=\"1\"></rect><image x=\"7\" xlink:href=\"https://raw.githubusercontent.com/romstad/Chess.jl/master/img/br.svg\" y=\"0\" height=\"1\" width=\"1\"></image></g><g><rect x=\"7\" y=\"1\" class=\"light-square\" height=\"1\" width=\"1\"></rect><image x=\"7\" xlink:href=\"https://raw.githubusercontent.com/romstad/Chess.jl/master/img/bp.svg\" y=\"1\" height=\"1\" width=\"1\"></image></g><g><rect x=\"7\" y=\"2\" class=\"dark-square\" height=\"1\" width=\"1\"></rect><g></g></g><g><rect x=\"7\" y=\"3\" class=\"light-square\" height=\"1\" width=\"1\"></rect><g></g></g><g><rect x=\"7\" y=\"4\" class=\"dark-square\" height=\"1\" width=\"1\"></rect><g></g></g><g><rect x=\"7\" y=\"5\" class=\"light-square\" height=\"1\" width=\"1\"></rect><g></g></g><g><rect x=\"7\" y=\"6\" class=\"dark-square\" height=\"1\" width=\"1\"></rect><image x=\"7\" xlink:href=\"https://raw.githubusercontent.com/romstad/Chess.jl/master/img/wp.svg\" y=\"6\" height=\"1\" width=\"1\"></image></g><g><rect x=\"7\" y=\"7\" class=\"light-square\" height=\"1\" width=\"1\"></rect><image x=\"7\" xlink:href=\"https://raw.githubusercontent.com/romstad/Chess.jl/master/img/wr.svg\" y=\"7\" height=\"1\" width=\"1\"></image></g></g><g></g></svg><div><p>White to move</p><p>Castle rights: KQkq</p><p><a href=\"https://lichess.org/editor/r1bqkbnr/pppppppp/2n5/8/4P3/8/PPPP1PPP/RNBQKBNR_w_KQkq_-\" target=\"_blank\">Open in lichess</a></p></div></div>"
      ],
      "text/plain": [
       "Board (r1bqkbnr/pppppppp/2n5/8/4P3/8/PPPP1PPP/RNBQKBNR w KQkq -):\n",
       " r  -  b  q  k  b  n  r \n",
       " p  p  p  p  p  p  p  p \n",
       " -  -  n  -  -  -  -  - \n",
       " -  -  -  -  -  -  -  - \n",
       " -  -  -  -  P  -  -  - \n",
       " -  -  -  -  -  -  -  - \n",
       " P  P  P  P  -  P  P  P \n",
       " R  N  B  Q  K  B  N  R "
      ]
     },
     "execution_count": 22,
     "metadata": {},
     "output_type": "execute_result"
    }
   ],
   "source": [
    "play_game(MiniMaxProgressiveIncAI(4, 5))"
   ]
  }
 ],
 "metadata": {
  "kernelspec": {
   "display_name": "Julia 8 Threads 1.8.1",
   "language": "julia",
   "name": "julia-8-threads-1.8"
  },
  "language_info": {
   "file_extension": ".jl",
   "mimetype": "application/julia",
   "name": "julia",
   "version": "1.8.1"
  }
 },
 "nbformat": 4,
 "nbformat_minor": 5
}
