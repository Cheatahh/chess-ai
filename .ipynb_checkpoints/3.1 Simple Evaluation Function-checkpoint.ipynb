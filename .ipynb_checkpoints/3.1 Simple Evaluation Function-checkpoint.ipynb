{
 "cells": [
  {
   "cell_type": "code",
   "execution_count": 1,
   "id": "507ae268",
   "metadata": {},
   "outputs": [
    {
     "data": {
      "text/html": [
       "<link href='http://fonts.googleapis.com/css?family=Alegreya+Sans:100,300,400,500,700,800,900,100italic,300italic,400italic,500italic,700italic,800italic,900italic' rel='stylesheet' type='text/css'>\r\n",
       "<link href='http://fonts.googleapis.com/css?family=Arvo:400,700,400italic' rel='stylesheet' type='text/css'>\r\n",
       "<link href='http://fonts.googleapis.com/css?family=PT+Mono' rel='stylesheet' type='text/css'>\r\n",
       "<link href='http://fonts.googleapis.com/css?family=Shadows+Into+Light' rel='stylesheet' type='text/css'>\r\n",
       "<link href='http://fonts.googleapis.com/css?family=Philosopher:400,700,400italic,700italic' rel='stylesheet' type='text/css'>\r\n",
       "\r\n",
       "<style>\r\n",
       "\r\n",
       "@font-face {\r\n",
       "    font-family: \"Computer Modern\";\r\n",
       "    src: url('http://mirrors.ctan.org/fonts/cm-unicode/fonts/otf/cmunss.otf');\r\n",
       "}\r\n",
       "\r\n",
       ".container { width: 100% }\r\n",
       "\r\n",
       "/* Formatting for header cells */\r\n",
       ".text_cell_render h1 {\r\n",
       "    font-family: 'Philosopher', sans-serif;\r\n",
       "    font-weight: 400;\r\n",
       "    font-size: 2.2em;\r\n",
       "    line-height: 100%;\r\n",
       "    color: rgb(0, 80, 120);\r\n",
       "    margin-bottom: 0.1em;\r\n",
       "    margin-top: 0.1em;\r\n",
       "    display: block;\r\n",
       "}\t\r\n",
       ".text_cell_render h2 {\r\n",
       "    font-family: 'Philosopher', serif;\r\n",
       "    font-weight: 400;\r\n",
       "    font-size: 1.9em;\r\n",
       "    line-height: 100%;\r\n",
       "    color: rgb(200,100,0);\r\n",
       "    margin-bottom: 0.1em;\r\n",
       "    margin-top: 0.1em;\r\n",
       "    display: block;\r\n",
       "}\t\r\n",
       "\r\n",
       ".text_cell_render h3 {\r\n",
       "    font-family: 'Philosopher', serif;\r\n",
       "    margin-top:12px;\r\n",
       "    margin-bottom: 3px;\r\n",
       "    font-style: italic;\r\n",
       "    color: rgb(94,127,192);\r\n",
       "}\r\n",
       "\r\n",
       ".text_cell_render h4 {\r\n",
       "    font-family: 'Philosopher', serif;\r\n",
       "}\r\n",
       "\r\n",
       ".text_cell_render h5 {\r\n",
       "    font-family: 'Alegreya Sans', sans-serif;\r\n",
       "    font-weight: 300;\r\n",
       "    font-size: 16pt;\r\n",
       "    color: grey;\r\n",
       "    font-style: italic;\r\n",
       "    margin-bottom: .1em;\r\n",
       "    margin-top: 0.1em;\r\n",
       "    display: block;\r\n",
       "}\r\n",
       "\r\n",
       ".text_cell_render h6 {\r\n",
       "    font-family: 'PT Mono', sans-serif;\r\n",
       "    font-weight: 300;\r\n",
       "    font-size: 10pt;\r\n",
       "    color: grey;\r\n",
       "    margin-bottom: 1px;\r\n",
       "    margin-top: 1px;\r\n",
       "}\r\n",
       "\r\n",
       ".text_cell_render em {\r\n",
       "    font-family: 'Philosopher', sans-serif;\r\n",
       "    color:        blue;\r\n",
       "    background-color: rgb(255,220,180);\r\n",
       "    font-size:    110%;\r\n",
       "    margin-left:   2px;\r\n",
       "    margin-right:  2px;\r\n",
       "    font-weight:   100;\r\n",
       "}\r\n",
       "\r\n",
       ".text_cell_render b {\r\n",
       "    color:            rgb(255,195,195);\r\n",
       "    background-color: rgb(0,0,0);\r\n",
       "    font-size:    110%;\r\n",
       "    margin-left:   2px;\r\n",
       "    margin-right:  2px;\r\n",
       "    font-weight:   650;\r\n",
       "}\r\n",
       "\r\n",
       ".text_cell_render tt {\r\n",
       "    font-size:    120%;\r\n",
       "    margin-left:   2px;\r\n",
       "    margin-right:  2px;\r\n",
       "    font-weight:   150;\r\n",
       "}\r\n",
       "\r\n",
       ".Codemirror {\r\n",
       "    font-family: \"PT Mono\";\r\n",
       "    font-size: 100%;\r\n",
       "}\r\n",
       "\r\n",
       "</style>"
      ],
      "text/plain": [
       "HTML{String}(\"<link href='http://fonts.googleapis.com/css?family=Alegreya+Sans:100,300,400,500,700,800,900,100italic,300italic,400italic,500italic,700italic,800italic,900italic' rel='stylesheet' type='text/css'>\\r\\n<link href='http://fonts.googleapis.com/css?family=Arvo:400,700,400italic' rel='stylesheet' type='text/css'>\\r\\n<link href='http://fonts.googleapis.com/css?family=PT+Mono' rel='stylesheet' type='text/css'>\\r\\n<link href='http://fonts.googleapis.com/css?family=Shadows+Into+Light' rel='stylesheet' type='text/css'>\\r\\n<link href='http://fonts.googleapis.com/css?family=Philosopher:400,700,400italic,700italic' rel='stylesheet' type='text/css'>\\r\\n\\r\\n<style>\\r\\n\\r\\n@font-face {\\r\\n    font-family: \\\"Computer Modern\\\";\\r\\n    src: url('http://mirrors.ctan.org/fonts/cm-unicode/fonts/otf/cmunss.otf');\\r\\n}\\r\\n\\r\\n.container { width: 100% }\\r\\n\\r\\n/* Formatting for header cells */\\r\\n.text_cell_render h1 {\\r\\n    font-family: 'Philosopher', sans-serif;\\r\\n    font-weight: 400;\\r\\n    font-size: 2.2em;\\r\\n    line-height: 100%;\\r\\n    color: rgb(0, 80, 120);\\r\\n    margin-bottom: 0.1em;\\r\\n    margin-top: 0.1em;\\r\\n    display: block;\\r\\n}\\t\\r\\n.text_cell_render h2 {\\r\\n    font-family: 'Philosopher', serif;\\r\\n    font-weight: 400;\\r\\n    font-size: 1.9em;\\r\\n    line-height: 100%;\\r\\n    color: rgb(200,100,0);\\r\\n    margin-bottom: 0.1em;\\r\\n    margin-top: 0.1em;\\r\\n    display: block;\\r\\n}\\t\\r\\n\\r\\n.text_cell_render h3 {\\r\\n    font-family: 'Philosopher', serif;\\r\\n    margin-top:12px;\\r\\n    margin-bottom: 3px;\\r\\n    font-style: italic;\\r\\n    color: rgb(94,127,192);\\r\\n}\\r\\n\\r\\n.text_cell_render h4 {\\r\\n    font-family: 'Philosopher', serif;\\r\\n}\\r\\n\\r\\n.text_cell_render h5 {\\r\\n    font-family: 'Alegreya Sans', sans-serif;\\r\\n    font-weight: 300;\\r\\n    font-size: 16pt;\\r\\n    color: grey;\\r\\n    font-style: italic;\\r\\n    margin-bottom: .1em;\\r\\n    margin-top: 0.1em;\\r\\n    display: block;\\r\\n}\\r\\n\\r\\n.text_cell_render h6 {\\r\\n    font-family: 'PT Mono', sans-serif;\\r\\n    font-weight: 300;\\r\\n    font-size: 10pt;\\r\\n    color: grey;\\r\\n    margin-bottom: 1px;\\r\\n    margin-top: 1px;\\r\\n}\\r\\n\\r\\n.text_cell_render em {\\r\\n    font-family: 'Philosopher', sans-serif;\\r\\n    color:        blue;\\r\\n    background-color: rgb(255,220,180);\\r\\n    font-size:    110%;\\r\\n    margin-left:   2px;\\r\\n    margin-right:  2px;\\r\\n    font-weight:   100;\\r\\n}\\r\\n\\r\\n.text_cell_render b {\\r\\n    color:            rgb(255,195,195);\\r\\n    background-color: rgb(0,0,0);\\r\\n    font-size:    110%;\\r\\n    margin-left:   2px;\\r\\n    margin-right:  2px;\\r\\n    font-weight:   650;\\r\\n}\\r\\n\\r\\n.text_cell_render tt {\\r\\n    font-size:    120%;\\r\\n    margin-left:   2px;\\r\\n    margin-right:  2px;\\r\\n    font-weight:   150;\\r\\n}\\r\\n\\r\\n.Codemirror {\\r\\n    font-family: \\\"PT Mono\\\";\\r\\n    font-size: 100%;\\r\\n}\\r\\n\\r\\n</style>\")"
      ]
     },
     "execution_count": 1,
     "metadata": {},
     "output_type": "execute_result"
    }
   ],
   "source": [
    "HTML(read(open(\"style.html\"), String))"
   ]
  },
  {
   "cell_type": "code",
   "execution_count": 2,
   "id": "f869b164",
   "metadata": {},
   "outputs": [
    {
     "name": "stderr",
     "output_type": "stream",
     "text": [
      "\u001b[32m\u001b[1m    Updating\u001b[22m\u001b[39m registry at `C:\\Users\\luckb\\.julia\\registries\\General.toml`\n",
      "\u001b[32m\u001b[1m   Resolving\u001b[22m\u001b[39m package versions...\n",
      "\u001b[32m\u001b[1m  No Changes\u001b[22m\u001b[39m to `C:\\Users\\luckb\\.julia\\environments\\v1.8\\Project.toml`\n",
      "\u001b[32m\u001b[1m  No Changes\u001b[22m\u001b[39m to `C:\\Users\\luckb\\.julia\\environments\\v1.8\\Manifest.toml`\n"
     ]
    }
   ],
   "source": [
    "using Pkg\n",
    "Pkg.add(\"NBInclude\")"
   ]
  },
  {
   "cell_type": "code",
   "execution_count": 3,
   "id": "0b46361e",
   "metadata": {},
   "outputs": [
    {
     "name": "stderr",
     "output_type": "stream",
     "text": [
      "\u001b[32m\u001b[1m   Resolving\u001b[22m\u001b[39m package versions...\n",
      "\u001b[32m\u001b[1m  No Changes\u001b[22m\u001b[39m to `C:\\Users\\luckb\\.julia\\environments\\v1.8\\Project.toml`\n",
      "\u001b[32m\u001b[1m  No Changes\u001b[22m\u001b[39m to `C:\\Users\\luckb\\.julia\\environments\\v1.8\\Manifest.toml`\n"
     ]
    },
    {
     "data": {
      "text/plain": [
       "valueOf (generic function with 1 method)"
      ]
     },
     "execution_count": 3,
     "metadata": {},
     "output_type": "execute_result"
    }
   ],
   "source": [
    "using NBInclude\n",
    "@nbinclude(\"3.0 Piece-Weight & Value calculation.ipynb\")"
   ]
  },
  {
   "cell_type": "markdown",
   "id": "ef4fbf69",
   "metadata": {},
   "source": [
    "***"
   ]
  },
  {
   "cell_type": "markdown",
   "id": "20b1cc74",
   "metadata": {},
   "source": [
    "Dieses Notebook beschäftigt sich mit der [Simple Evaluation Function](https://www.chessprogramming.org/Simplified_Evaluation_Function) und unserer Implementierung in der Form einer \"evaluate function\". Das Ziel ist es die Situation des Schachbrettes zu einem gegeben Zeitpunkt zu analysieren und jeder Spielfigur einen, von der Situation abhängigen, Wert (Gewichtung) zuzuordnen.\n",
    "\n",
    "Dazu werden die Gewichtungen und Hilfsfunktionen aus dem Notebook [3.0 Piece-Weight & Value calculation](<3.0 Piece-Weight & Value calculation.ipynb>) verwendet."
   ]
  },
  {
   "cell_type": "markdown",
   "id": "28be535b",
   "metadata": {},
   "source": [
    "***"
   ]
  },
  {
   "cell_type": "markdown",
   "id": "5b08e32f",
   "metadata": {},
   "source": [
    "# EVALUATE FUNCTION"
   ]
  },
  {
   "cell_type": "markdown",
   "id": "b776785e",
   "metadata": {},
   "source": [
    "Frühere Versionen sind im Notebook [3.1.1 Simple Evaluation Function - Test](3.1.1 Simple Evaluation Function - Test.ipynb) zu finden."
   ]
  },
  {
   "cell_type": "markdown",
   "id": "4a325fa7",
   "metadata": {},
   "source": [
    "## evaluate_incremental"
   ]
  },
  {
   "cell_type": "markdown",
   "id": "41c148c1",
   "metadata": {},
   "source": [
    "Dies ist die dritte Version der \"evaluate function\". Es wurden wichtige Probleme behoben, inklusive:\n",
    " + Schachmatt setzen\n",
    " + Promotion\n",
    " + Erkennung von Zügen, die zu Schachmatt führen\n",
    " + Erkennung von Zügen, die zu einem Remis führen\n",
    " + Erkennung von Zügen, die zu einer Promotion führen\n",
    " + Erkennung von Zügen, die ein En-Passent ermöglichen"
   ]
  },
  {
   "cell_type": "markdown",
   "id": "1361745b",
   "metadata": {},
   "source": [
    "Diese Funktion wird in den Notebooks XXX und XXX zur Implementierung verschiedener AIs verwendet."
   ]
  },
  {
   "cell_type": "code",
   "execution_count": 5,
   "id": "71e94aaf",
   "metadata": {},
   "outputs": [
    {
     "data": {
      "text/plain": [
       "evaluate_incremental (generic function with 1 method)"
      ]
     },
     "execution_count": 5,
     "metadata": {},
     "output_type": "execute_result"
    }
   ],
   "source": [
    "function evaluate_incremental(source_score_white, source_score_black, source_board, target_move) \n",
    "    # possible incremental changes\n",
    "    # - move 1 piece (just move)\n",
    "    # - move 1 piece and remove 1 piece of the opposite color on the target location (capture)\n",
    "    # - move 1 piece and remove 1 piece of the opposite color on the target location +1 rank in center direction (en passent)\n",
    "    # - move 1 piece and replace it (promotion)\n",
    "    # - move two pieces (casteling)\n",
    "    \n",
    "    # dispatch action\n",
    "    #   if: ischeckmate\n",
    "    #     return +- infinity\n",
    "    #\n",
    "    #   if: isdraw\n",
    "    #     return 0\n",
    "    #\n",
    "    #   update score by - captured piece and new piece position\n",
    "    #\n",
    "    #   if: move is promotion\n",
    "    #     update score by removing pawn & adding promition piece at target location\n",
    "    #\n",
    "    #   if: piece is king & move is castle\n",
    "    #     (casteling can only be initiated by moving the king)\n",
    "    #     update score by new king & rook positions\n",
    "    #\n",
    "    #   if: piece is pawn & move is en passent\n",
    "    #     update score by - captured piece and new pawn position \n",
    "    #       \n",
    "    \n",
    "    color_to_move = sidetomove(source_board)\n",
    "    \n",
    "    source_square = from(target_move)\n",
    "    piece_to_move = pieceon(source_board, source_square)\n",
    "    destination_square = to(target_move)\n",
    "    piece_to_capture = pieceon(source_board, destination_square)\n",
    "    \n",
    "    undoinfo = domove!(source_board, target_move)\n",
    "    \n",
    "    if ischeckmate(source_board)\n",
    "        undomove!(source_board, undoinfo)\n",
    "        if color_to_move == WHITE\n",
    "            return 200000, -200000\n",
    "        else\n",
    "            return -200000, 200000\n",
    "        end\n",
    "    end\n",
    "    \n",
    "    if isdraw(source_board)\n",
    "        undomove!(source_board, undoinfo)\n",
    "        return 0, 0\n",
    "    end\n",
    "    \n",
    "    undomove!(source_board, undoinfo)\n",
    "    \n",
    "    # for later use\n",
    "    destination_square_piece_value = valueOf(piece_to_move, destination_square)\n",
    "    \n",
    "    # remove & readd piece, remove captured piece (may be nothing)\n",
    "    if color_to_move == WHITE\n",
    "        source_score_white -= valueOf(piece_to_move, source_square)\n",
    "        source_score_white += destination_square_piece_value\n",
    "        source_score_black -= valueOf(piece_to_capture, destination_square)\n",
    "    else\n",
    "        source_score_black -= valueOf(piece_to_move, source_square)\n",
    "        source_score_black += destination_square_piece_value\n",
    "        source_score_white -= valueOf(piece_to_capture, destination_square)\n",
    "    end\n",
    "    \n",
    "    piece_to_move_type = ptype(piece_to_move)\n",
    "    \n",
    "    # casteling? -> also count for rook\n",
    "    # casteling is the only case where distance == 2\n",
    "    if piece_to_move_type === KING\n",
    "        if distance(source_square, destination_square) == 2\n",
    "            destination_square_file = file(destination_square)\n",
    "\n",
    "            # C & G are the only files where a castling king can move to\n",
    "            if destination_square_file == FILE_C\n",
    "                # rook moved fom FILE_A to FILE_D\n",
    "\n",
    "                # white queen side castle\n",
    "                if color_to_move == WHITE \n",
    "                    source_score_white -= valueOf(PIECE_WR, SQ_A1)\n",
    "                    source_score_white += valueOf(PIECE_WR, SQ_D1)\n",
    "                # black king side castle\n",
    "                else\n",
    "                    source_score_black -= valueOf(PIECE_BR, SQ_A8)\n",
    "                    source_score_black += valueOf(PIECE_BR, SQ_D8)\n",
    "                end\n",
    "            elseif destination_square_file == FILE_G \n",
    "                # rook moved fom FILE_H to FILE_F\n",
    "\n",
    "                # white king side castle\n",
    "                if color_to_move == WHITE \n",
    "                    source_score_white -= valueOf(PIECE_WR, SQ_H1)\n",
    "                    source_score_white += valueOf(PIECE_WR, SQ_F1)\n",
    "                # black queen side castle\n",
    "                else\n",
    "                    source_score_black -= valueOf(PIECE_BR, SQ_H8)\n",
    "                    source_score_black += valueOf(PIECE_BR, SQ_F8)\n",
    "                end\n",
    "            end\n",
    "        end\n",
    "            \n",
    "        # break early\n",
    "        return source_score_white, source_score_black\n",
    "    end\n",
    "    \n",
    "    # casteling? -> also count for replaced piece\n",
    "    if ispromotion(target_move)\n",
    "        promoted_piece = promotion(move)\n",
    "        promoted_piece_value = valueOf(Piece(color_to_move, promoted_piece), piece_dict, piece_weight)\n",
    "        # replace white piece with promoted piece\n",
    "        if color_to_move === WHITE\n",
    "            source_score_white -= destination_square_piece_value\n",
    "            source_score_white += promoted_piece_value\n",
    "        # replace black piece with promoted piece\n",
    "        else\n",
    "            source_score_black -= destination_square_piece_value\n",
    "            source_score_black += promoted_piece_value\n",
    "        end\n",
    "            \n",
    "        # break early\n",
    "        return source_score_white, source_score_black\n",
    "    end\n",
    "    \n",
    "    # is pawn & source file != dest file & piece_to_capture == nothing -> en passent\n",
    "    # if piece_to_move_type === PAWN && file(source_square) != file(destination_square) && piece_to_capture === nothing\n",
    "    en_passent_capture_square = epsquare(source_board)\n",
    "    if en_passent_capture_square != SQ_NONE\n",
    "        # remove black pawn\n",
    "        if color_to_move === WHITE\n",
    "            #source_score_black -= valueOf(PIECE_BP, Square(file(destination_square), rank(source_square)))\n",
    "            source_score_black -= valueOf(PIECE_BP, en_passent_capture_square)\n",
    "        # remove white pawn\n",
    "        else\n",
    "            #source_score_white -= valueOf(PIECE_WP, Square(file(destination_square), rank(source_square)))\n",
    "            source_score_white -= valueOf(PIECE_WP, en_passent_capture_square)\n",
    "        end\n",
    "    end\n",
    "    \n",
    "    return source_score_white, source_score_black\n",
    "end"
   ]
  },
  {
   "cell_type": "markdown",
   "id": "a21b1563",
   "metadata": {},
   "source": [
    "Zusätzlich wird die \"evaluate_for_color function\" zur Berechnung des Ausgangsscores verwendet."
   ]
  },
  {
   "cell_type": "code",
   "execution_count": 6,
   "id": "d69153d8",
   "metadata": {},
   "outputs": [
    {
     "data": {
      "text/plain": [
       "evaluate_for_color (generic function with 1 method)"
      ]
     },
     "execution_count": 6,
     "metadata": {},
     "output_type": "execute_result"
    }
   ],
   "source": [
    "function evaluate_for_color(board, color, piece_dict, piece_weight)\n",
    "    score = 0\n",
    "    for file in 'a':'h'\n",
    "      for rank in '1':'8'\n",
    "        square = Square(filefromchar(file), rankfromchar(rank))\n",
    "        piece = pieceon(board, square)\n",
    "        if piece !== EMPTY && pcolor(piece) == color\n",
    "            matrix = get_matrix_from_piece(piece, piece_dict)\n",
    "            weight = get_weight_from_piece(piece, piece_weight)\n",
    "            score += matrix[8 - (Int(rank) - Int('1'))][Int(file) - Int('a') + 1] + weight\n",
    "            end\n",
    "        end\n",
    "    end\n",
    "    return score\n",
    "end"
   ]
  },
  {
   "cell_type": "markdown",
   "id": "522955e1",
   "metadata": {},
   "source": [
    "***"
   ]
  },
  {
   "cell_type": "markdown",
   "id": "6d7cb522",
   "metadata": {},
   "source": [
    "by Florian Stach and Luc Kaiser"
   ]
  },
  {
   "cell_type": "markdown",
   "id": "689db327",
   "metadata": {},
   "source": [
    "last updated: 11/01/2023"
   ]
  },
  {
   "cell_type": "markdown",
   "id": "7db43b85",
   "metadata": {},
   "source": [
    "***"
   ]
  }
 ],
 "metadata": {
  "kernelspec": {
   "display_name": "Julia 1.8.2",
   "language": "julia",
   "name": "julia-1.8"
  },
  "language_info": {
   "file_extension": ".jl",
   "mimetype": "application/julia",
   "name": "julia",
   "version": "1.8.2"
  }
 },
 "nbformat": 4,
 "nbformat_minor": 5
}
