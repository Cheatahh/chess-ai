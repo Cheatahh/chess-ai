{
 "cells": [
  {
   "cell_type": "code",
   "execution_count": null,
   "id": "0c6eb234",
   "metadata": {},
   "outputs": [],
   "source": [
    "HTML(read(open(\"style.html\"), String))"
   ]
  },
  {
   "cell_type": "markdown",
   "id": "d8d681a6",
   "metadata": {},
   "source": [
    "Dieses Notebook führt die durchgeführten Tests der MiniMax-Funktion auf."
   ]
  },
  {
   "cell_type": "code",
   "execution_count": null,
   "id": "06e25b7b",
   "metadata": {},
   "outputs": [],
   "source": [
    "using Pkg\n",
    "Pkg.add(\"NBInclude\")"
   ]
  },
  {
   "cell_type": "code",
   "execution_count": null,
   "id": "f8168276",
   "metadata": {},
   "outputs": [],
   "source": [
    "using NBInclude\n",
    "@nbinclude(\"MinMax-Implementierung.ipynb\")"
   ]
  },
  {
   "cell_type": "markdown",
   "id": "b2889fcd",
   "metadata": {},
   "source": [
    "Zuerst wurden einige generelle Tests durchgeführt, um zu testen, ob die Funktion im Ganzen funktioniert."
   ]
  },
  {
   "cell_type": "code",
   "execution_count": null,
   "id": "ab9c110a",
   "metadata": {},
   "outputs": [],
   "source": [
    "doMiniMax(startboard(), 4)"
   ]
  },
  {
   "cell_type": "code",
   "execution_count": null,
   "id": "42bf79f1",
   "metadata": {},
   "outputs": [],
   "source": [
    "fromfen(\"rnbqkbnr/pppppppp/8/8/8/2N5/PPPPPPPP/R1BQKBNR b KQkq - 1 1\")"
   ]
  },
  {
   "cell_type": "code",
   "execution_count": null,
   "id": "8f7352b6",
   "metadata": {},
   "outputs": [],
   "source": [
    "doMiniMax(fromfen(\"rnbqkbnr/pppppppp/8/8/8/2N5/PPPPPPPP/R1BQKBNR b KQkq - 1 1\"), 4)"
   ]
  },
  {
   "cell_type": "code",
   "execution_count": null,
   "id": "d9c5365f",
   "metadata": {},
   "outputs": [],
   "source": [
    "fromfen(\"rnbqk2r/ppp1ppbp/5n2/3p2p1/3PP3/2N2P2/PPP3PP/R1BQKBNR w KQkq - 0 1\")"
   ]
  },
  {
   "cell_type": "code",
   "execution_count": null,
   "id": "3234fe26",
   "metadata": {},
   "outputs": [],
   "source": [
    "doMiniMax(fromfen(\"rnbqk2r/ppp1ppbp/5n2/3p2p1/3PP3/2N2P2/PPP3PP/R1BQKBNR w KQkq - 0 1\"), 4)"
   ]
  },
  {
   "cell_type": "code",
   "execution_count": null,
   "id": "24bee002",
   "metadata": {},
   "outputs": [],
   "source": [
    "startboard()"
   ]
  },
  {
   "cell_type": "code",
   "execution_count": null,
   "id": "abf7b504",
   "metadata": {},
   "outputs": [],
   "source": [
    "doMiniMax(startboard(), 0) === nothing"
   ]
  },
  {
   "cell_type": "markdown",
   "id": "2e58bc6e",
   "metadata": {},
   "source": [
    "Im nächsten Schritt wurden Unittests durchgeführt um die exakten Spezifikationen zu überprüfen."
   ]
  },
  {
   "cell_type": "code",
   "execution_count": null,
   "id": "5c4b8a9b",
   "metadata": {},
   "outputs": [],
   "source": [
    "function test_doMiniMax(fen::String, requiredDepth, ex_move::String, ex_result::Bool)\n",
    "    board = fromfen(fen)\n",
    "    result = doMiniMax(board, requiredDepth)\n",
    "    return (string(result) == ex_move) == ex_result\n",
    "end\n",
    "    "
   ]
  },
  {
   "cell_type": "markdown",
   "id": "6e507673",
   "metadata": {},
   "source": [
    "In den nächsten Tests werden spezifische Situationen überprüft. Beispielsweise ob die KI uns Matt setzt, ob sie Spielfiguren schlägt oder ob sie Spielfiguren schlägt und ihre eigenen Figuren opfert."
   ]
  },
  {
   "cell_type": "code",
   "execution_count": null,
   "id": "b66974fb",
   "metadata": {},
   "outputs": [],
   "source": [
    "fromfen(\"2k5/8/1q6/8/8/8/5PPP/6K1 b - - 0 1\")"
   ]
  },
  {
   "cell_type": "code",
   "execution_count": null,
   "id": "238595c4",
   "metadata": {},
   "outputs": [],
   "source": [
    "println(test_doMiniMax(\n",
    "    \"2k5/8/1q6/8/8/8/5PPP/6K1 b - - 0 1\",\n",
    "    4, \n",
    "    \"Move(b6b1)\", \n",
    "    true\n",
    "))"
   ]
  },
  {
   "cell_type": "code",
   "execution_count": null,
   "id": "59ba791b",
   "metadata": {
    "scrolled": true
   },
   "outputs": [],
   "source": [
    "doMiniMax(fromfen(\"2k5/8/1q6/8/8/8/5PPP/6K1 b - - 0 1\"), 4)"
   ]
  },
  {
   "cell_type": "markdown",
   "id": "9e4beb30",
   "metadata": {},
   "source": [
    "Dieser Test zeigt ein Problem auf, denn eigentlich sollte die AI und mit dem Move(b6b1) Matt setzen. Jedoch zieht die KI mit Move(b6c7) die Queen zurück. Dieses Problem bedarf weiterer Untersuchung."
   ]
  },
  {
   "cell_type": "code",
   "execution_count": null,
   "id": "d44c797c",
   "metadata": {},
   "outputs": [],
   "source": [
    "doMiniMax(fromfen(\"2k5/8/1q6/8/8/8/5PPP/6K1 b - - 0 1\"), 1)"
   ]
  },
  {
   "cell_type": "code",
   "execution_count": null,
   "id": "4f56b194",
   "metadata": {},
   "outputs": [],
   "source": [
    "fromfen(\"2k5/8/1q6/8/8/8/5PPP/61K b - - 0 1\")"
   ]
  },
  {
   "cell_type": "code",
   "execution_count": null,
   "id": "d5108497",
   "metadata": {},
   "outputs": [],
   "source": [
    "doMiniMax(fromfen(\"2k5/8/1q6/8/8/8/5PPP/61K b - - 0 1\"), 4)"
   ]
  },
  {
   "cell_type": "markdown",
   "id": "e024670d",
   "metadata": {},
   "source": [
    "Hier wird getestet, ob die KI den Unterschied zwischen \"Schlagen\" und \"intelligentem Schlagen\" kennt. Der Unterschied ist, das beim \"intelligenten Schlagen\" die KI ihre eigenen Spielfiguren nicht opfert und auf lange Sicht keinen negativen Score erhält."
   ]
  },
  {
   "cell_type": "code",
   "execution_count": null,
   "id": "027e3084",
   "metadata": {},
   "outputs": [],
   "source": [
    "fromfen(\"4k3/3p1ppp/4p3/1p1n4/8/2N5/3PPPPP/4K3 w - - 0 1\")"
   ]
  },
  {
   "cell_type": "code",
   "execution_count": null,
   "id": "6bb2d7e6",
   "metadata": {},
   "outputs": [],
   "source": [
    "println(test_doMiniMax(\n",
    "    \"4k3/3p1ppp/4p3/1p1n4/8/2N5/3PPPPP/4K3 w - - 0 1\",\n",
    "    4, \n",
    "    \"Move(c3b5)\", \n",
    "    true\n",
    "))"
   ]
  },
  {
   "cell_type": "markdown",
   "id": "8b017a53",
   "metadata": {},
   "source": [
    "Der nächste Test zeigt das Verhalten von \"unintelligentem Schlagen\". Hier wird der Black Knight geschlagen, nur damit im nächsten Zug der White Knight zurück geschlagen wird. Im vorherigen Beispiel mit einer Tiefe von 4 wird jedoch der Black Pawn geschlagen.\n"
   ]
  },
  {
   "cell_type": "code",
   "execution_count": null,
   "id": "ec7ea35f",
   "metadata": {},
   "outputs": [],
   "source": [
    "fromfen(\"4k3/3p1ppp/4p3/1p1n4/8/2N5/3PPPPP/4K3 w - - 0 1\")\n"
   ]
  },
  {
   "cell_type": "code",
   "execution_count": null,
   "id": "7de29b5d",
   "metadata": {},
   "outputs": [],
   "source": [
    "println(test_doMiniMax(\n",
    "    \"4k3/3p1ppp/4p3/1p1n4/8/2N5/3PPPPP/4K3 w - - 0 1\",\n",
    "    1, \n",
    "    \"Move(c3b5)\", \n",
    "    true\n",
    "))"
   ]
  },
  {
   "cell_type": "code",
   "execution_count": null,
   "id": "18a856b4",
   "metadata": {},
   "outputs": [],
   "source": [
    "string(doMiniMax(fromfen(\"4k3/3p1ppp/4p3/1p1n4/8/2N5/3PPPPP/4K3 w - - 0 1\"), 1))"
   ]
  },
  {
   "cell_type": "code",
   "execution_count": null,
   "id": "ab8a1281",
   "metadata": {},
   "outputs": [],
   "source": [
    "fromfen(\"6rk/2b1q1pp/8/3N4/8/2r5/6PP/6RK w - - 0 1\")"
   ]
  },
  {
   "cell_type": "code",
   "execution_count": null,
   "id": "0936bfe2",
   "metadata": {},
   "outputs": [],
   "source": [
    "println(test_doMiniMax(\n",
    "    \"6rk/2b1q1pp/8/3N4/8/2r5/6PP/6RK w - - 0 1\",\n",
    "    4, \n",
    "    \"Move(d5e7)\", \n",
    "    true\n",
    "))"
   ]
  },
  {
   "cell_type": "code",
   "execution_count": null,
   "id": "ef8fe7fa",
   "metadata": {},
   "outputs": [],
   "source": [
    "println(test_doMiniMax(\n",
    "    \"6rk/2b1q1pp/8/3N4/8/2r5/6PP/6RK w - - 0 1\",\n",
    "    4, \n",
    "    \"Move(d5c7)\", \n",
    "    false\n",
    "))"
   ]
  },
  {
   "cell_type": "code",
   "execution_count": null,
   "id": "87889279",
   "metadata": {},
   "outputs": [],
   "source": [
    "fromfen(\"2r3k1/8/8/3N4/8/8/6PP/6RK w - - 0 1\")"
   ]
  },
  {
   "cell_type": "code",
   "execution_count": null,
   "id": "97734d2e",
   "metadata": {},
   "outputs": [],
   "source": [
    "println(test_doMiniMax(\n",
    "    \"2r3k1/8/8/3N4/8/8/6PP/6RK w - - 0 1\",\n",
    "    4, \n",
    "    \"Move(d5e7)\", \n",
    "    true\n",
    "))"
   ]
  },
  {
   "cell_type": "markdown",
   "id": "254a8a22",
   "metadata": {},
   "source": [
    "Hier wird getestet, ob die KI einen \"En passent\" Zug durchführt. Es steht jedoch zur Debatte, ob die Voraussetzung, dass der Zug Move(d7d5) direkt vor dem \"En passent\" durchgeführt wird, erfüllt ist."
   ]
  },
  {
   "cell_type": "code",
   "execution_count": null,
   "id": "303eb155",
   "metadata": {
    "scrolled": true
   },
   "outputs": [],
   "source": [
    "fromfen(\"7k/5p2/8/3pP3/8/8/2PP4/7K w - - 0 1\")"
   ]
  },
  {
   "cell_type": "code",
   "execution_count": null,
   "id": "722079ba",
   "metadata": {},
   "outputs": [],
   "source": [
    "println(test_doMiniMax(\n",
    "    \"7k/5p2/8/3pP3/8/8/2PP4/7K w - - 0 1\",\n",
    "    4, \n",
    "    \"Move(e5d6)\", \n",
    "    true\n",
    "))"
   ]
  },
  {
   "cell_type": "code",
   "execution_count": null,
   "id": "0e0cc37d",
   "metadata": {},
   "outputs": [],
   "source": [
    "doMiniMax(fromfen(\"7k/5p2/8/3pP3/8/8/2PP4/7K w - - 0 1\"), 4)"
   ]
  },
  {
   "cell_type": "markdown",
   "id": "e9f6252e",
   "metadata": {},
   "source": [
    "Wie wir hier sehen ist die vorherige Annahme bestätigt worden. Nach der Problembehandlung wurde ersichtlich, dass die Vorbedingung nicht mit Hilfe eines fromfen() weitergegebn werden kann."
   ]
  },
  {
   "cell_type": "code",
   "execution_count": null,
   "id": "94d35943",
   "metadata": {},
   "outputs": [],
   "source": []
  }
 ],
 "metadata": {
  "kernelspec": {
   "display_name": "Julia 1.8.2",
   "language": "julia",
   "name": "julia-1.8"
  },
  "language_info": {
   "file_extension": ".jl",
   "mimetype": "application/julia",
   "name": "julia",
   "version": "1.8.2"
  }
 },
 "nbformat": 4,
 "nbformat_minor": 5
}
