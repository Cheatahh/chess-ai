{
 "cells": [
  {
   "cell_type": "code",
   "execution_count": null,
   "id": "104f63f5",
   "metadata": {},
   "outputs": [],
   "source": [
    "HTML(read(open(\"style.html\"), String))"
   ]
  },
  {
   "cell_type": "markdown",
   "id": "cc1079c5",
   "metadata": {},
   "source": [
    "## Basic Game\n",
    "\n",
    "Das Modul `Chess.jl` stellt eine Implementation des Schachspiels für die Sprache Julia bereit. Dieses kann gegebenenfalls über den Packagemanager `Pkg` installiert werden."
   ]
  },
  {
   "cell_type": "code",
   "execution_count": null,
   "id": "7977e043",
   "metadata": {},
   "outputs": [],
   "source": [
    "using Pkg\n",
    "Pkg.add(\"Chess\")"
   ]
  },
  {
   "cell_type": "code",
   "execution_count": null,
   "id": "7d763a90",
   "metadata": {},
   "outputs": [],
   "source": [
    "using Chess"
   ]
  },
  {
   "cell_type": "markdown",
   "id": "e5fc7a4a",
   "metadata": {},
   "source": [
    "Ein Schachspiel besteht aus einem abwechselnden Durchführen jeweils genau eines Zuges. Besondere Konventionen wie zum Beispiel Rochaden zählen hierbei als ein Zug."
   ]
  },
  {
   "cell_type": "markdown",
   "id": "62ee2e18",
   "metadata": {},
   "source": [
    "Hierbei folgt das Spielen eines Schachspiels stets der folgenden Logik:"
   ]
  },
  {
   "cell_type": "markdown",
   "id": "1d358f45",
   "metadata": {},
   "source": [
    "ai_turn = false\n",
    "\n",
    "while !isterminal(game)\n",
    "\n",
    "    move = next_move(game, ai_turn ? ai : player)\n",
    "    domove!(game, move)\n",
    "    ai_turn = !ai_turn\n",
    "    \n",
    "end     "
   ]
  },
  {
   "cell_type": "markdown",
   "id": "5d48120c",
   "metadata": {},
   "source": [
    "Die Funktion `next_move` : (`board`, `entity`) -> `move` bildet auf den nächsten durchzuführenden Zug ab. Hierbei wird die Implementation der Funktion über Multiple-Dispatch mit dem `entity` Attribut bestimmt. Dieses welchselt mit der Partei am Zug."
   ]
  },
  {
   "cell_type": "markdown",
   "id": "b480b427",
   "metadata": {},
   "source": [
    "### Entity Player\n",
    "\n",
    "Die Spieler-Implementation (Methode) der `next_move` Funktion setzt einer Benutzer-Eingabe voraus, welche in Julia mithilfe der `readline`(`stream`) Funktion erreicht werden kann. "
   ]
  },
  {
   "cell_type": "code",
   "execution_count": null,
   "id": "caceb164",
   "metadata": {},
   "outputs": [],
   "source": [
    "input = readline(stdin)\n",
    "print(input)"
   ]
  },
  {
   "cell_type": "markdown",
   "id": "c7fa9ed0",
   "metadata": {},
   "source": [
    "Wie bereits zu erkennen ist, kann der Benutzer jeden beliebigen Text als Eingabe vormulieren, auch solche, die nicht einer validen Zugeingabe entsprechen. Um einer solchen fehlerhaften Eingabe entgegen zu wirken, definieren wir die folgende Funktion:"
   ]
  },
  {
   "cell_type": "code",
   "execution_count": null,
   "id": "7487c6d2",
   "metadata": {},
   "outputs": [],
   "source": [
    "function validate_userinput(input::String)\n",
    "    if match(r\"^[a-hA-H][1-8][a-hA-H][1-8]$\", input) === nothing\n",
    "        return \"Invalid input '$(input)'\"\n",
    "    end\n",
    "    return nothing\n",
    "end"
   ]
  },
  {
   "cell_type": "markdown",
   "id": "c6972229",
   "metadata": {},
   "source": [
    "Der reguläre Ausdruck `^[a-h][1-8][a-h][1-8]$` akzeptiert hierbei nur Eingabetexte, welche aus zwei Feldern bestehen: Start & Ende. Da es sich bei der X- und Y-Indizierung auf einem Schachbrett um Koordinaten im Bereich [a-h] und [a-8] handelt, werden diese zusätzlich auf die entsprechenden Bereiche begrenzt. Je nach Status des Spiels ist eine Angabe des Startfelden theoretisch redundant, jedoch entschieden wir uns, die verbose Form als Eingabenorm beizubehalten."
   ]
  },
  {
   "cell_type": "markdown",
   "id": "66031004",
   "metadata": {},
   "source": [
    "Falls die Eingabe der `validate_userinput` Funktion einen syntaktisch validen Zug aufweist, so gibt diese `nothing` zurück. Der Rückgabewert ist als eine Art Felher zu interpretieren. Ist die Eingabe invalid, so wird ein String mit der Fehlernachricht zurückgegeben."
   ]
  },
  {
   "cell_type": "markdown",
   "id": "4872f0b0",
   "metadata": {},
   "source": [
    "Des weiteren ist zu prüfen, ob es sich bei dem syntaktisch validen Zug um einen tatsächlich legalen und durchführbaren Zug handelt. Beispielsweise könnte der Benutzer in der Startposition den Zug `\"e2f2\"` eingeben, welcher dem Bauer instruktieren würde, um ein Feld nach rechts zu gehen. Dieser Zug ist laut Spielregeln nicht möglich und muss daher unterbunden werden. Hierzu definieren wir die folgende Funktion:"
   ]
  },
  {
   "cell_type": "code",
   "execution_count": null,
   "id": "9310bca3",
   "metadata": {},
   "outputs": [],
   "source": [
    "function validate_legal_move(board::Board, move::Move)\n",
    "    all_legal_moves = moves(board)\n",
    "    if move ∉ all_legal_moves\n",
    "        return(\"Illegal move '$(move)'\")\n",
    "    end\n",
    "    return nothing\n",
    "end"
   ]
  },
  {
   "cell_type": "markdown",
   "id": "e523001a",
   "metadata": {},
   "source": [
    "Mithilfe der `moves(board)` Funktion können wir alle legalen Züge auflisten. Anschließend ist zu prüfen, ob sich der Zugkandidat in der entsprechenden Liste befindet. In Julia kann dies durch die respektiven Operatoren `∈` und `∉` durchgeführt werden. Die `validate_legal_move` Funktion gibt bei einem Fehler ebenfalls einen String zurück, andersweitig `nothing`."
   ]
  },
  {
   "cell_type": "markdown",
   "id": "de17fc6c",
   "metadata": {},
   "source": [
    "Mit den beiden Prüffunktionen können wir anschließend die `next_move` Funktion für einen Player definieren:"
   ]
  },
  {
   "cell_type": "code",
   "execution_count": null,
   "id": "132fd2af",
   "metadata": {},
   "outputs": [],
   "source": [
    "struct Player end\n",
    "\n",
    "function next_move(board, _::Player)\n",
    "    move = nothing\n",
    "    while true\n",
    "        userinput = readline(stdin)\n",
    "        if userinput == \"exit\" || userinput == \"reset\"\n",
    "            return userinput\n",
    "        end\n",
    "        error = validate_userinput(userinput)\n",
    "        if error != nothing\n",
    "            println(error)\n",
    "            continue\n",
    "        end\n",
    "        move = movefromstring(userinput)\n",
    "        error = validate_legal_move(board, move)\n",
    "        if error != nothing\n",
    "            println(error)\n",
    "            continue\n",
    "        end\n",
    "        break\n",
    "    end\n",
    "    return move\n",
    "end"
   ]
  },
  {
   "cell_type": "markdown",
   "id": "8bfe57b0",
   "metadata": {},
   "source": [
    "Als zusätzlich valide Eingaben definieren wir die Worte `exit` und `reset`, welche gegebenenfalls das Spiel vorzeitig beenden oder zurücksetzten können."
   ]
  },
  {
   "cell_type": "markdown",
   "id": "73ceb476",
   "metadata": {},
   "source": [
    "## Game Implementation\n",
    "\n",
    "Mit allen bereits implementieren Komponenten lässt sich eine erste, lauffähige Durchführung eines Schachspiels implementieren:"
   ]
  },
  {
   "cell_type": "code",
   "execution_count": null,
   "id": "3534513c",
   "metadata": {},
   "outputs": [],
   "source": [
    "function play_game(ai, player = Player(), game = SimpleGame(), ai_turn = false)\n",
    "    print_game(game)\n",
    "    \n",
    "    while !isterminal(game)\n",
    "        move = next_move(board(game), ai_turn ? ai : player)\n",
    "        if move == \"exit\"\n",
    "            IJulia.clear_output()\n",
    "            return board(game)\n",
    "        end\n",
    "        if move == \"reset\"\n",
    "            return play_game(ai)\n",
    "        end\n",
    "        domove!(game, move)\n",
    "        print_game(game)\n",
    "        ai_turn = !ai_turn\n",
    "    end\n",
    "    \n",
    "    return isdraw(game) ? \"Draw!\" : ai_turn ? \"Checkmate! You win!\" : \"Checkmate! You lost!\"\n",
    "end"
   ]
  },
  {
   "cell_type": "markdown",
   "id": "af66160d",
   "metadata": {},
   "source": [
    "Nachdem ein Spiel beendet wurde, gibt die Funktion das Ergebnis es Spiels zurück."
   ]
  },
  {
   "cell_type": "markdown",
   "id": "ce8a4da1",
   "metadata": {},
   "source": [
    "Um die Ausgabe während des Spiels zu vereinfachen, definieren wir die folgende Funktion, welche die aktuelle Ausgabezelle löscht und das Spielbrett erneut ausgibt. Konvertiert man ein `Chess.jl`- Schachbrett zu HTML, so wird dieses in einer anschaulichen Form ausgerendert."
   ]
  },
  {
   "cell_type": "code",
   "execution_count": null,
   "id": "9a6a7a28",
   "metadata": {},
   "outputs": [],
   "source": [
    "function print_game(game)\n",
    "    IJulia.clear_output()\n",
    "    html = HTML(IJulia.html(board(game)))\n",
    "    IJulia.display(html)\n",
    "end"
   ]
  },
  {
   "cell_type": "markdown",
   "id": "f30e8bd6",
   "metadata": {},
   "source": [
    "Als letzte Komponente für ein vollständiges Schachspiel fehlt ein KI-Gegner. Hierzu importieren wir die `RandomAI`."
   ]
  },
  {
   "cell_type": "code",
   "execution_count": null,
   "id": "f149f945",
   "metadata": {},
   "outputs": [],
   "source": [
    "# using Pkg\n",
    "# Pkg.add(\"NBInclude\")"
   ]
  },
  {
   "cell_type": "code",
   "execution_count": null,
   "id": "31b42ecf",
   "metadata": {},
   "outputs": [],
   "source": [
    "using NBInclude\n",
    "@nbinclude(\"RandomAI.ipynb\")"
   ]
  },
  {
   "cell_type": "code",
   "execution_count": null,
   "id": "be4d151f",
   "metadata": {},
   "outputs": [],
   "source": [
    "play_game(RandomAI())"
   ]
  },
  {
   "cell_type": "markdown",
   "id": "89a2dc42",
   "metadata": {},
   "source": [
    "***"
   ]
  },
  {
   "cell_type": "markdown",
   "id": "dbefc14a",
   "metadata": {},
   "source": [
    "by Florian Stach and Luc Kaiser"
   ]
  },
  {
   "cell_type": "markdown",
   "id": "30a5b8b0",
   "metadata": {},
   "source": [
    "Last updated: 30/11/2022"
   ]
  },
  {
   "cell_type": "markdown",
   "id": "7c991cac",
   "metadata": {},
   "source": [
    "***"
   ]
  }
 ],
 "metadata": {
  "kernelspec": {
   "display_name": "Julia 1.8.1",
   "language": "julia",
   "name": "julia-1.8"
  },
  "language_info": {
   "file_extension": ".jl",
   "mimetype": "application/julia",
   "name": "julia",
   "version": "1.8.1"
  }
 },
 "nbformat": 4,
 "nbformat_minor": 5
}
