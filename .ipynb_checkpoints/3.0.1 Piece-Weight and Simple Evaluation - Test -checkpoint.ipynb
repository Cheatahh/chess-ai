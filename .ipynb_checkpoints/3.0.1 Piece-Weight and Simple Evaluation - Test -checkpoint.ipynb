{
 "cells": [
  {
   "cell_type": "code",
   "execution_count": 1,
   "id": "4bcc15fd",
   "metadata": {},
   "outputs": [
    {
     "data": {
      "text/html": [
       "<link href='http://fonts.googleapis.com/css?family=Alegreya+Sans:100,300,400,500,700,800,900,100italic,300italic,400italic,500italic,700italic,800italic,900italic' rel='stylesheet' type='text/css'>\n",
       "<link href='http://fonts.googleapis.com/css?family=Arvo:400,700,400italic' rel='stylesheet' type='text/css'>\n",
       "<link href='http://fonts.googleapis.com/css?family=PT+Mono' rel='stylesheet' type='text/css'>\n",
       "<link href='http://fonts.googleapis.com/css?family=Shadows+Into+Light' rel='stylesheet' type='text/css'>\n",
       "<link href='http://fonts.googleapis.com/css?family=Philosopher:400,700,400italic,700italic' rel='stylesheet' type='text/css'>\n",
       "\n",
       "<style>\n",
       "\n",
       "@font-face {\n",
       "    font-family: \"Computer Modern\";\n",
       "    src: url('http://mirrors.ctan.org/fonts/cm-unicode/fonts/otf/cmunss.otf');\n",
       "}\n",
       "\n",
       ".container { width: 100% }\n",
       "\n",
       "/* Formatting for header cells */\n",
       ".text_cell_render h1 {\n",
       "    font-family: 'Philosopher', sans-serif;\n",
       "    font-weight: 400;\n",
       "    font-size: 2.2em;\n",
       "    line-height: 100%;\n",
       "    color: rgb(0, 80, 120);\n",
       "    margin-bottom: 0.1em;\n",
       "    margin-top: 0.1em;\n",
       "    display: block;\n",
       "}\t\n",
       ".text_cell_render h2 {\n",
       "    font-family: 'Philosopher', serif;\n",
       "    font-weight: 400;\n",
       "    font-size: 1.9em;\n",
       "    line-height: 100%;\n",
       "    color: rgb(200,100,0);\n",
       "    margin-bottom: 0.1em;\n",
       "    margin-top: 0.1em;\n",
       "    display: block;\n",
       "}\t\n",
       "\n",
       ".text_cell_render h3 {\n",
       "    font-family: 'Philosopher', serif;\n",
       "    margin-top:12px;\n",
       "    margin-bottom: 3px;\n",
       "    font-style: italic;\n",
       "    color: rgb(94,127,192);\n",
       "}\n",
       "\n",
       ".text_cell_render h4 {\n",
       "    font-family: 'Philosopher', serif;\n",
       "}\n",
       "\n",
       ".text_cell_render h5 {\n",
       "    font-family: 'Alegreya Sans', sans-serif;\n",
       "    font-weight: 300;\n",
       "    font-size: 16pt;\n",
       "    color: grey;\n",
       "    font-style: italic;\n",
       "    margin-bottom: .1em;\n",
       "    margin-top: 0.1em;\n",
       "    display: block;\n",
       "}\n",
       "\n",
       ".text_cell_render h6 {\n",
       "    font-family: 'PT Mono', sans-serif;\n",
       "    font-weight: 300;\n",
       "    font-size: 10pt;\n",
       "    color: grey;\n",
       "    margin-bottom: 1px;\n",
       "    margin-top: 1px;\n",
       "}\n",
       "\n",
       ".text_cell_render em {\n",
       "    font-family: 'Philosopher', sans-serif;\n",
       "    color:        blue;\n",
       "    background-color: rgb(255,220,180);\n",
       "    font-size:    110%;\n",
       "    margin-left:   2px;\n",
       "    margin-right:  2px;\n",
       "    font-weight:   100;\n",
       "}\n",
       "\n",
       ".text_cell_render b {\n",
       "    color:            rgb(255,195,195);\n",
       "    background-color: rgb(0,0,0);\n",
       "    font-size:    110%;\n",
       "    margin-left:   2px;\n",
       "    margin-right:  2px;\n",
       "    font-weight:   650;\n",
       "}\n",
       "\n",
       ".text_cell_render tt {\n",
       "    font-size:    120%;\n",
       "    margin-left:   2px;\n",
       "    margin-right:  2px;\n",
       "    font-weight:   150;\n",
       "}\n",
       "\n",
       ".Codemirror {\n",
       "    font-family: \"PT Mono\";\n",
       "    font-size: 100%;\n",
       "}\n",
       "\n",
       "</style>"
      ],
      "text/plain": [
       "HTML{String}(\"<link href='http://fonts.googleapis.com/css?family=Alegreya+Sans:100,300,400,500,700,800,900,100italic,300italic,400italic,500italic,700italic,800italic,900italic' rel='stylesheet' type='text/css'>\\n<link href='http://fonts.googleapis.com/css?family=Arvo:400,700,400italic' rel='stylesheet' type='text/css'>\\n<link href='http://fonts.googleapis.com/css?family=PT+Mono' rel='stylesheet' type='text/css'>\\n<link href='http://fonts.googleapis.com/css?family=Shadows+Into+Light' rel='stylesheet' type='text/css'>\\n<link href='http://fonts.googleapis.com/css?family=Philosopher:400,700,400italic,700italic' rel='stylesheet' type='text/css'>\\n\\n<style>\\n\\n@font-face {\\n    font-family: \\\"Computer Modern\\\";\\n    src: url('http://mirrors.ctan.org/fonts/cm-unicode/fonts/otf/cmunss.otf');\\n}\\n\\n.container { width: 100% }\\n\\n/* Formatting for header cells */\\n.text_cell_render h1 {\\n    font-family: 'Philosopher', sans-serif;\\n    font-weight: 400;\\n    font-size: 2.2em;\\n    line-height: 100%;\\n    color: rgb(0, 80, 120);\\n    margin-bottom: 0.1em;\\n    margin-top: 0.1em;\\n    display: block;\\n}\\t\\n.text_cell_render h2 {\\n    font-family: 'Philosopher', serif;\\n    font-weight: 400;\\n    font-size: 1.9em;\\n    line-height: 100%;\\n    color: rgb(200,100,0);\\n    margin-bottom: 0.1em;\\n    margin-top: 0.1em;\\n    display: block;\\n}\\t\\n\\n.text_cell_render h3 {\\n    font-family: 'Philosopher', serif;\\n    margin-top:12px;\\n    margin-bottom: 3px;\\n    font-style: italic;\\n    color: rgb(94,127,192);\\n}\\n\\n.text_cell_render h4 {\\n    font-family: 'Philosopher', serif;\\n}\\n\\n.text_cell_render h5 {\\n    font-family: 'Alegreya Sans', sans-serif;\\n    font-weight: 300;\\n    font-size: 16pt;\\n    color: grey;\\n    font-style: italic;\\n    margin-bottom: .1em;\\n    margin-top: 0.1em;\\n    display: block;\\n}\\n\\n.text_cell_render h6 {\\n    font-family: 'PT Mono', sans-serif;\\n    font-weight: 300;\\n    font-size: 10pt;\\n    color: grey;\\n    margin-bottom: 1px;\\n    margin-top: 1px;\\n}\\n\\n.text_cell_render em {\\n    font-family: 'Philosopher', sans-serif;\\n    color:        blue;\\n    background-color: rgb(255,220,180);\\n    font-size:    110%;\\n    margin-left:   2px;\\n    margin-right:  2px;\\n    font-weight:   100;\\n}\\n\\n.text_cell_render b {\\n    color:            rgb(255,195,195);\\n    background-color: rgb(0,0,0);\\n    font-size:    110%;\\n    margin-left:   2px;\\n    margin-right:  2px;\\n    font-weight:   650;\\n}\\n\\n.text_cell_render tt {\\n    font-size:    120%;\\n    margin-left:   2px;\\n    margin-right:  2px;\\n    font-weight:   150;\\n}\\n\\n.Codemirror {\\n    font-family: \\\"PT Mono\\\";\\n    font-size: 100%;\\n}\\n\\n</style>\")"
      ]
     },
     "execution_count": 1,
     "metadata": {},
     "output_type": "execute_result"
    }
   ],
   "source": [
    "HTML(read(open(\"style.html\"), String))"
   ]
  },
  {
   "cell_type": "code",
   "execution_count": 2,
   "id": "c63e2ed1",
   "metadata": {
    "scrolled": true
   },
   "outputs": [
    {
     "name": "stderr",
     "output_type": "stream",
     "text": [
      "\u001b[32m\u001b[1m    Updating\u001b[22m\u001b[39m registry at `C:\\Users\\flori\\.julia\\registries\\General.toml`\n",
      "\u001b[32m\u001b[1m   Resolving\u001b[22m\u001b[39m package versions...\n",
      "\u001b[32m\u001b[1m  No Changes\u001b[22m\u001b[39m to `C:\\Users\\flori\\.julia\\environments\\v1.8\\Project.toml`\n",
      "\u001b[32m\u001b[1m  No Changes\u001b[22m\u001b[39m to `C:\\Users\\flori\\.julia\\environments\\v1.8\\Manifest.toml`\n"
     ]
    }
   ],
   "source": [
    "using Pkg\n",
    "Pkg.add(\"NBInclude\")"
   ]
  },
  {
   "cell_type": "code",
   "execution_count": 1,
   "id": "945e1adc",
   "metadata": {
    "scrolled": true
   },
   "outputs": [
    {
     "name": "stderr",
     "output_type": "stream",
     "text": [
      "\u001b[32m\u001b[1m    Updating\u001b[22m\u001b[39m registry at `C:\\Users\\luckb\\.julia\\registries\\General.toml`\n",
      "\u001b[32m\u001b[1m   Resolving\u001b[22m\u001b[39m package versions...\n",
      "\u001b[32m\u001b[1m  No Changes\u001b[22m\u001b[39m to `C:\\Users\\luckb\\.julia\\environments\\v1.8\\Project.toml`\n",
      "\u001b[32m\u001b[1m  No Changes\u001b[22m\u001b[39m to `C:\\Users\\luckb\\.julia\\environments\\v1.8\\Manifest.toml`\n",
      "\u001b[32m\u001b[1m   Resolving\u001b[22m\u001b[39m package versions...\n",
      "\u001b[32m\u001b[1m  No Changes\u001b[22m\u001b[39m to `C:\\Users\\luckb\\.julia\\environments\\v1.8\\Project.toml`\n",
      "\u001b[32m\u001b[1m  No Changes\u001b[22m\u001b[39m to `C:\\Users\\luckb\\.julia\\environments\\v1.8\\Manifest.toml`\n"
     ]
    },
    {
     "data": {
      "text/plain": [
       "evaluate2 (generic function with 1 method)"
      ]
     },
     "execution_count": 1,
     "metadata": {},
     "output_type": "execute_result"
    }
   ],
   "source": [
    "using NBInclude\n",
    "@nbinclude(\"1.2 BasicGame.ipynb\")\n",
    "@nbinclude(\"3.0 Piece-Weight and Simple Evaluation.ipynb\")"
   ]
  },
  {
   "cell_type": "markdown",
   "id": "1568eaf6",
   "metadata": {},
   "source": [
    "***"
   ]
  },
  {
   "cell_type": "markdown",
   "id": "a91dba06",
   "metadata": {},
   "source": [
    "# Outdated Code"
   ]
  },
  {
   "cell_type": "markdown",
   "id": "a6624ced",
   "metadata": {},
   "source": [
    "Im Laufe des Entwicklungsprozesses werden mit Hilfe von Tests Probleme im Code gefunden. Kleinere Änderungen werden nicht näher genannt, sollte jedoch eine komplette Funktion erneuert bzw. ausgetauscht werden, so wird der Grund und der alte Code genannt."
   ]
  },
  {
   "cell_type": "markdown",
   "id": "90487108",
   "metadata": {},
   "source": [
    "### function evaluate"
   ]
  },
  {
   "cell_type": "code",
   "execution_count": 2,
   "id": "bea369c9",
   "metadata": {},
   "outputs": [
    {
     "data": {
      "text/plain": [
       "evaluate (generic function with 1 method)"
      ]
     },
     "execution_count": 2,
     "metadata": {},
     "output_type": "execute_result"
    }
   ],
   "source": [
    "function evaluate(board, piece_dict, piece_weight)\n",
    "    # if checkmate return = +-infinity, if draw return = 0\n",
    "    score = 0\n",
    "    for file in 'a':'h'\n",
    "      for rank in '1':'8'\n",
    "        square = Square(filefromchar(file), rankfromchar(rank))\n",
    "        piece = pieceon(board, square)\n",
    "        if piece !== EMPTY\n",
    "            matrix = get_matrix_from_piece(piece, piece_dict)\n",
    "            weight = get_weight_from_piece(piece, piece_weight)\n",
    "            score += matrix[8 - (Int(rank) - Int('1'))][Int(file) - Int('a') + 1] + weight\n",
    "            end\n",
    "        end\n",
    "    end\n",
    "    return score\n",
    "end"
   ]
  },
  {
   "cell_type": "markdown",
   "id": "6cb00291",
   "metadata": {},
   "source": [
    "Das Problem mit dieser ersten Version der Evaluationsfunktion war, dass keine Unterscheidung zwischen der Farbe stattgefunden hat, keine Figuren geschlagen wurden und somit nur eine optimale \"Stellung\" angestrebt wurde."
   ]
  },
  {
   "cell_type": "markdown",
   "id": "fb098569",
   "metadata": {},
   "source": [
    "In der zweiten Version der Evaluationsfunktion,  wurde dementsprechend eine Unterscheidung der Farbe eingebaut. Jedoch trat ein weiteres Problem auf. Im Laufe des Spiels wurden zwar Figuren geschlagen, jedoch setzte die KI nicht Matt und erkannt auch keine Situationen, die zum Matt führen konnten. Somit war klar. dass ein großer Teil der Funktion noch fehlt. "
   ]
  },
  {
   "cell_type": "markdown",
   "id": "1a115c55",
   "metadata": {},
   "source": []
  },
  {
   "cell_type": "code",
   "execution_count": null,
   "id": "19c47fc0",
   "metadata": {},
   "outputs": [],
   "source": []
  },
  {
   "cell_type": "markdown",
   "id": "4755ddbc",
   "metadata": {},
   "source": [
    "## Unittests - Matrix"
   ]
  },
  {
   "cell_type": "code",
   "execution_count": 4,
   "id": "003f946a",
   "metadata": {},
   "outputs": [
    {
     "data": {
      "text/plain": [
       "test_get_matrix_from_piece (generic function with 1 method)"
      ]
     },
     "execution_count": 4,
     "metadata": {},
     "output_type": "execute_result"
    }
   ],
   "source": [
    "# Test get_matrix_from_piece \n",
    "\n",
    "function test_get_matrix_from_piece(piece, ex_matrix, ex_result::Bool)\n",
    "    result = get_matrix_from_piece(piece, piece_dict)\n",
    "    return (result == ex_matrix) == ex_result\n",
    "end"
   ]
  },
  {
   "cell_type": "code",
   "execution_count": 5,
   "id": "f73ce650",
   "metadata": {},
   "outputs": [
    {
     "name": "stdout",
     "output_type": "stream",
     "text": [
      "true\n"
     ]
    }
   ],
   "source": [
    "println(test_get_matrix_from_piece(PIECE_WP,matrix_wp, true))"
   ]
  },
  {
   "cell_type": "code",
   "execution_count": 6,
   "id": "1518bb55",
   "metadata": {},
   "outputs": [
    {
     "name": "stdout",
     "output_type": "stream",
     "text": [
      "true\n"
     ]
    }
   ],
   "source": [
    "println(test_get_matrix_from_piece(PIECE_WB,matrix_wp, false))"
   ]
  },
  {
   "cell_type": "code",
   "execution_count": 7,
   "id": "cdbf3435",
   "metadata": {},
   "outputs": [
    {
     "name": "stdout",
     "output_type": "stream",
     "text": [
      "true\n"
     ]
    }
   ],
   "source": [
    "println(test_get_matrix_from_piece(PIECE_WP,matrix_wq, false))"
   ]
  },
  {
   "cell_type": "markdown",
   "id": "ad8ec732",
   "metadata": {},
   "source": [
    "***"
   ]
  },
  {
   "cell_type": "code",
   "execution_count": 8,
   "id": "f33c2bf1",
   "metadata": {},
   "outputs": [
    {
     "data": {
      "text/plain": [
       "test_get_weight_from_piece (generic function with 1 method)"
      ]
     },
     "execution_count": 8,
     "metadata": {},
     "output_type": "execute_result"
    }
   ],
   "source": [
    "# Test get_weight_from_piece(piece, piece_weight) \n",
    "\n",
    "function test_get_weight_from_piece(piece, ex_weight, ex_result::Bool)\n",
    "    result = get_weight_from_piece(piece, piece_weight)\n",
    "    return (result == ex_weight) == ex_result\n",
    "end"
   ]
  },
  {
   "cell_type": "code",
   "execution_count": 9,
   "id": "d5788586",
   "metadata": {},
   "outputs": [
    {
     "name": "stdout",
     "output_type": "stream",
     "text": [
      "true\n"
     ]
    }
   ],
   "source": [
    "println(test_get_weight_from_piece(PIECE_WP, 100, true))"
   ]
  },
  {
   "cell_type": "code",
   "execution_count": 10,
   "id": "032be10b",
   "metadata": {},
   "outputs": [
    {
     "name": "stdout",
     "output_type": "stream",
     "text": [
      "true\n"
     ]
    }
   ],
   "source": [
    "println(test_get_weight_from_piece(PIECE_WP, 1000, false))"
   ]
  },
  {
   "cell_type": "code",
   "execution_count": 11,
   "id": "3088f55b",
   "metadata": {},
   "outputs": [
    {
     "name": "stdout",
     "output_type": "stream",
     "text": [
      "true\n"
     ]
    }
   ],
   "source": [
    "println(test_get_weight_from_piece(PIECE_WP, 1000, false))"
   ]
  },
  {
   "cell_type": "code",
   "execution_count": 12,
   "id": "3360cc57",
   "metadata": {},
   "outputs": [
    {
     "name": "stdout",
     "output_type": "stream",
     "text": [
      "true\n"
     ]
    }
   ],
   "source": [
    "println(test_get_weight_from_piece(PIECE_WP, 1000, false))"
   ]
  },
  {
   "cell_type": "code",
   "execution_count": 13,
   "id": "99f3abc1",
   "metadata": {},
   "outputs": [
    {
     "name": "stdout",
     "output_type": "stream",
     "text": [
      "true\n"
     ]
    }
   ],
   "source": [
    "println(test_get_weight_from_piece(PIECE_BP, 100, true))"
   ]
  },
  {
   "cell_type": "markdown",
   "id": "ef192d49",
   "metadata": {},
   "source": [
    "***"
   ]
  },
  {
   "cell_type": "markdown",
   "id": "ce188229",
   "metadata": {},
   "source": [
    "## Unittests - Evaluation"
   ]
  },
  {
   "cell_type": "code",
   "execution_count": 14,
   "id": "99da0125",
   "metadata": {},
   "outputs": [
    {
     "data": {
      "text/plain": [
       "test_evaluate (generic function with 1 method)"
      ]
     },
     "execution_count": 14,
     "metadata": {},
     "output_type": "execute_result"
    }
   ],
   "source": [
    "# Test evaluate(board, piece_dict, piece_weight)\n",
    "\n",
    "function test_evaluate(fen::String, ex_score, ex_result::Bool)\n",
    "    board = fromfen(fen)\n",
    "    result = evaluate(board, piece_dict, piece_weight)\n",
    "    return (result == ex_score) == ex_result\n",
    "end"
   ]
  },
  {
   "cell_type": "code",
   "execution_count": 15,
   "id": "f3b8aec8",
   "metadata": {},
   "outputs": [
    {
     "name": "stdout",
     "output_type": "stream",
     "text": [
      "true\n"
     ]
    }
   ],
   "source": [
    "println(test_evaluate(\n",
    "    \"4k3/3p4/8/8/3P4/8/4P3/4K3 w - - 0 1\",\n",
    "    40280,\n",
    "    true\n",
    "))"
   ]
  },
  {
   "cell_type": "markdown",
   "id": "7fe8486e",
   "metadata": {},
   "source": [
    "***"
   ]
  },
  {
   "cell_type": "code",
   "execution_count": 16,
   "id": "85e7773f",
   "metadata": {},
   "outputs": [
    {
     "data": {
      "text/plain": [
       "test_evaluate_for_color (generic function with 1 method)"
      ]
     },
     "execution_count": 16,
     "metadata": {},
     "output_type": "execute_result"
    }
   ],
   "source": [
    "# Test evaluate_for_color(board, color, piece_dict, piece_weight)\n",
    "\n",
    "function test_evaluate_for_color(fen::String, color, ex_score, ex_result::Bool)\n",
    "    board = fromfen(fen)\n",
    "    result = evaluate_for_color(board, color, piece_dict, piece_weight)\n",
    "#    return result\n",
    "    return (result == ex_score) == ex_result\n",
    "end"
   ]
  },
  {
   "cell_type": "code",
   "execution_count": 17,
   "id": "ac881cc0",
   "metadata": {},
   "outputs": [
    {
     "name": "stdout",
     "output_type": "stream",
     "text": [
      "true\n"
     ]
    }
   ],
   "source": [
    "println(test_evaluate_for_color(\n",
    "    \"4k3/3p4/8/8/3P4/8/4P3/4K3 w - - 0 1\",\n",
    "    WHITE, \n",
    "    20200,\n",
    "    true\n",
    "))"
   ]
  },
  {
   "cell_type": "code",
   "execution_count": 18,
   "id": "cfd52fdd",
   "metadata": {},
   "outputs": [
    {
     "name": "stdout",
     "output_type": "stream",
     "text": [
      "true\n"
     ]
    }
   ],
   "source": [
    "println(test_evaluate_for_color(\n",
    "    \"4k3/3p4/8/8/3P4/8/4P3/4K3 w - - 0 1\",\n",
    "    BLACK, \n",
    "    20080,\n",
    "    true\n",
    "))"
   ]
  },
  {
   "cell_type": "markdown",
   "id": "0b34bf26",
   "metadata": {},
   "source": [
    "***"
   ]
  },
  {
   "cell_type": "code",
   "execution_count": 19,
   "id": "6069fa25",
   "metadata": {},
   "outputs": [
    {
     "data": {
      "text/plain": [
       "test_evaluate2 (generic function with 1 method)"
      ]
     },
     "execution_count": 19,
     "metadata": {},
     "output_type": "execute_result"
    }
   ],
   "source": [
    "# Test evaluate2(board, piece_dict, piece_weight)\n",
    "\n",
    "function test_evaluate2(fen::String, color, ex_score, ex_result::Bool)\n",
    "    board = fromfen(fen)\n",
    "    result = evaluate2(board, color, piece_dict, piece_weight)\n",
    "    return (result == ex_score) == ex_result\n",
    "end"
   ]
  },
  {
   "cell_type": "code",
   "execution_count": 20,
   "id": "b0e725b9",
   "metadata": {},
   "outputs": [
    {
     "name": "stdout",
     "output_type": "stream",
     "text": [
      "true\n"
     ]
    }
   ],
   "source": [
    "println(test_evaluate2(\n",
    "    \"4k3/3p4/8/8/3P4/8/4P3/4K3 w - - 0 1\",\n",
    "    WHITE, \n",
    "    120,\n",
    "    true\n",
    "))"
   ]
  },
  {
   "cell_type": "code",
   "execution_count": 21,
   "id": "fd79698c",
   "metadata": {},
   "outputs": [
    {
     "name": "stdout",
     "output_type": "stream",
     "text": [
      "true\n"
     ]
    }
   ],
   "source": [
    "println(test_evaluate2(\n",
    "    \"4k3/3p4/8/8/3P4/8/4P3/4K3 w - - 0 1\",\n",
    "    BLACK, \n",
    "    120,\n",
    "    false\n",
    "))"
   ]
  },
  {
   "cell_type": "code",
   "execution_count": 22,
   "id": "96ab691f",
   "metadata": {},
   "outputs": [
    {
     "name": "stdout",
     "output_type": "stream",
     "text": [
      "true\n"
     ]
    }
   ],
   "source": [
    "println(test_evaluate2(\n",
    "    \"4k3/3p4/8/8/3P4/8/4P3/4K3 w - - 0 1\",\n",
    "    BLACK, \n",
    "    -80,\n",
    "    false\n",
    "))"
   ]
  },
  {
   "cell_type": "markdown",
   "id": "d6259648",
   "metadata": {},
   "source": [
    "***"
   ]
  },
  {
   "cell_type": "markdown",
   "id": "c236c1e7",
   "metadata": {},
   "source": [
    "by Florian Stach and Luc Kaiser"
   ]
  },
  {
   "cell_type": "markdown",
   "id": "30b6096c",
   "metadata": {},
   "source": [
    "Last updated: 30/11/2022"
   ]
  },
  {
   "cell_type": "markdown",
   "id": "9907cf82",
   "metadata": {},
   "source": [
    "***"
   ]
  }
 ],
 "metadata": {
  "kernelspec": {
   "display_name": "Julia 1.8.2",
   "language": "julia",
   "name": "julia-1.8"
  },
  "language_info": {
   "file_extension": ".jl",
   "mimetype": "application/julia",
   "name": "julia",
   "version": "1.8.2"
  }
 },
 "nbformat": 4,
 "nbformat_minor": 5
}
