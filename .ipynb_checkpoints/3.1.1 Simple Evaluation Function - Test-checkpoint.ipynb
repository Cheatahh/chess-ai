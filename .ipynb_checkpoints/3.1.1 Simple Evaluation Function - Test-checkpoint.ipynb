{
 "cells": [
  {
   "cell_type": "code",
   "execution_count": 1,
   "id": "ef055746",
   "metadata": {},
   "outputs": [
    {
     "data": {
      "text/html": [
       "<link href='http://fonts.googleapis.com/css?family=Alegreya+Sans:100,300,400,500,700,800,900,100italic,300italic,400italic,500italic,700italic,800italic,900italic' rel='stylesheet' type='text/css'>\r\n",
       "<link href='http://fonts.googleapis.com/css?family=Arvo:400,700,400italic' rel='stylesheet' type='text/css'>\r\n",
       "<link href='http://fonts.googleapis.com/css?family=PT+Mono' rel='stylesheet' type='text/css'>\r\n",
       "<link href='http://fonts.googleapis.com/css?family=Shadows+Into+Light' rel='stylesheet' type='text/css'>\r\n",
       "<link href='http://fonts.googleapis.com/css?family=Philosopher:400,700,400italic,700italic' rel='stylesheet' type='text/css'>\r\n",
       "\r\n",
       "<style>\r\n",
       "\r\n",
       "@font-face {\r\n",
       "    font-family: \"Computer Modern\";\r\n",
       "    src: url('http://mirrors.ctan.org/fonts/cm-unicode/fonts/otf/cmunss.otf');\r\n",
       "}\r\n",
       "\r\n",
       ".container { width: 100% }\r\n",
       "\r\n",
       "/* Formatting for header cells */\r\n",
       ".text_cell_render h1 {\r\n",
       "    font-family: 'Philosopher', sans-serif;\r\n",
       "    font-weight: 400;\r\n",
       "    font-size: 2.2em;\r\n",
       "    line-height: 100%;\r\n",
       "    color: rgb(0, 80, 120);\r\n",
       "    margin-bottom: 0.1em;\r\n",
       "    margin-top: 0.1em;\r\n",
       "    display: block;\r\n",
       "}\t\r\n",
       ".text_cell_render h2 {\r\n",
       "    font-family: 'Philosopher', serif;\r\n",
       "    font-weight: 400;\r\n",
       "    font-size: 1.9em;\r\n",
       "    line-height: 100%;\r\n",
       "    color: rgb(200,100,0);\r\n",
       "    margin-bottom: 0.1em;\r\n",
       "    margin-top: 0.1em;\r\n",
       "    display: block;\r\n",
       "}\t\r\n",
       "\r\n",
       ".text_cell_render h3 {\r\n",
       "    font-family: 'Philosopher', serif;\r\n",
       "    margin-top:12px;\r\n",
       "    margin-bottom: 3px;\r\n",
       "    font-style: italic;\r\n",
       "    color: rgb(94,127,192);\r\n",
       "}\r\n",
       "\r\n",
       ".text_cell_render h4 {\r\n",
       "    font-family: 'Philosopher', serif;\r\n",
       "}\r\n",
       "\r\n",
       ".text_cell_render h5 {\r\n",
       "    font-family: 'Alegreya Sans', sans-serif;\r\n",
       "    font-weight: 300;\r\n",
       "    font-size: 16pt;\r\n",
       "    color: grey;\r\n",
       "    font-style: italic;\r\n",
       "    margin-bottom: .1em;\r\n",
       "    margin-top: 0.1em;\r\n",
       "    display: block;\r\n",
       "}\r\n",
       "\r\n",
       ".text_cell_render h6 {\r\n",
       "    font-family: 'PT Mono', sans-serif;\r\n",
       "    font-weight: 300;\r\n",
       "    font-size: 10pt;\r\n",
       "    color: grey;\r\n",
       "    margin-bottom: 1px;\r\n",
       "    margin-top: 1px;\r\n",
       "}\r\n",
       "\r\n",
       ".text_cell_render em {\r\n",
       "    font-family: 'Philosopher', sans-serif;\r\n",
       "    color:        blue;\r\n",
       "    background-color: rgb(255,220,180);\r\n",
       "    font-size:    110%;\r\n",
       "    margin-left:   2px;\r\n",
       "    margin-right:  2px;\r\n",
       "    font-weight:   100;\r\n",
       "}\r\n",
       "\r\n",
       ".text_cell_render b {\r\n",
       "    color:            rgb(255,195,195);\r\n",
       "    background-color: rgb(0,0,0);\r\n",
       "    font-size:    110%;\r\n",
       "    margin-left:   2px;\r\n",
       "    margin-right:  2px;\r\n",
       "    font-weight:   650;\r\n",
       "}\r\n",
       "\r\n",
       ".text_cell_render tt {\r\n",
       "    font-size:    120%;\r\n",
       "    margin-left:   2px;\r\n",
       "    margin-right:  2px;\r\n",
       "    font-weight:   150;\r\n",
       "}\r\n",
       "\r\n",
       ".Codemirror {\r\n",
       "    font-family: \"PT Mono\";\r\n",
       "    font-size: 100%;\r\n",
       "}\r\n",
       "\r\n",
       "</style>"
      ],
      "text/plain": [
       "HTML{String}(\"<link href='http://fonts.googleapis.com/css?family=Alegreya+Sans:100,300,400,500,700,800,900,100italic,300italic,400italic,500italic,700italic,800italic,900italic' rel='stylesheet' type='text/css'>\\r\\n<link href='http://fonts.googleapis.com/css?family=Arvo:400,700,400italic' rel='stylesheet' type='text/css'>\\r\\n<link href='http://fonts.googleapis.com/css?family=PT+Mono' rel='stylesheet' type='text/css'>\\r\\n<link href='http://fonts.googleapis.com/css?family=Shadows+Into+Light' rel='stylesheet' type='text/css'>\\r\\n<link href='http://fonts.googleapis.com/css?family=Philosopher:400,700,400italic,700italic' rel='stylesheet' type='text/css'>\\r\\n\\r\\n<style>\\r\\n\\r\\n@font-face {\\r\\n    font-family: \\\"Computer Modern\\\";\\r\\n    src: url('http://mirrors.ctan.org/fonts/cm-unicode/fonts/otf/cmunss.otf');\\r\\n}\\r\\n\\r\\n.container { width: 100% }\\r\\n\\r\\n/* Formatting for header cells */\\r\\n.text_cell_render h1 {\\r\\n    font-family: 'Philosopher', sans-serif;\\r\\n    font-weight: 400;\\r\\n    font-size: 2.2em;\\r\\n    line-height: 100%;\\r\\n    color: rgb(0, 80, 120);\\r\\n    margin-bottom: 0.1em;\\r\\n    margin-top: 0.1em;\\r\\n    display: block;\\r\\n}\\t\\r\\n.text_cell_render h2 {\\r\\n    font-family: 'Philosopher', serif;\\r\\n    font-weight: 400;\\r\\n    font-size: 1.9em;\\r\\n    line-height: 100%;\\r\\n    color: rgb(200,100,0);\\r\\n    margin-bottom: 0.1em;\\r\\n    margin-top: 0.1em;\\r\\n    display: block;\\r\\n}\\t\\r\\n\\r\\n.text_cell_render h3 {\\r\\n    font-family: 'Philosopher', serif;\\r\\n    margin-top:12px;\\r\\n    margin-bottom: 3px;\\r\\n    font-style: italic;\\r\\n    color: rgb(94,127,192);\\r\\n}\\r\\n\\r\\n.text_cell_render h4 {\\r\\n    font-family: 'Philosopher', serif;\\r\\n}\\r\\n\\r\\n.text_cell_render h5 {\\r\\n    font-family: 'Alegreya Sans', sans-serif;\\r\\n    font-weight: 300;\\r\\n    font-size: 16pt;\\r\\n    color: grey;\\r\\n    font-style: italic;\\r\\n    margin-bottom: .1em;\\r\\n    margin-top: 0.1em;\\r\\n    display: block;\\r\\n}\\r\\n\\r\\n.text_cell_render h6 {\\r\\n    font-family: 'PT Mono', sans-serif;\\r\\n    font-weight: 300;\\r\\n    font-size: 10pt;\\r\\n    color: grey;\\r\\n    margin-bottom: 1px;\\r\\n    margin-top: 1px;\\r\\n}\\r\\n\\r\\n.text_cell_render em {\\r\\n    font-family: 'Philosopher', sans-serif;\\r\\n    color:        blue;\\r\\n    background-color: rgb(255,220,180);\\r\\n    font-size:    110%;\\r\\n    margin-left:   2px;\\r\\n    margin-right:  2px;\\r\\n    font-weight:   100;\\r\\n}\\r\\n\\r\\n.text_cell_render b {\\r\\n    color:            rgb(255,195,195);\\r\\n    background-color: rgb(0,0,0);\\r\\n    font-size:    110%;\\r\\n    margin-left:   2px;\\r\\n    margin-right:  2px;\\r\\n    font-weight:   650;\\r\\n}\\r\\n\\r\\n.text_cell_render tt {\\r\\n    font-size:    120%;\\r\\n    margin-left:   2px;\\r\\n    margin-right:  2px;\\r\\n    font-weight:   150;\\r\\n}\\r\\n\\r\\n.Codemirror {\\r\\n    font-family: \\\"PT Mono\\\";\\r\\n    font-size: 100%;\\r\\n}\\r\\n\\r\\n</style>\")"
      ]
     },
     "execution_count": 1,
     "metadata": {},
     "output_type": "execute_result"
    }
   ],
   "source": [
    "HTML(read(open(\"style.html\"), String))"
   ]
  },
  {
   "cell_type": "code",
   "execution_count": 2,
   "id": "1d3b4b84",
   "metadata": {},
   "outputs": [
    {
     "name": "stderr",
     "output_type": "stream",
     "text": [
      "\u001b[32m\u001b[1m    Updating\u001b[22m\u001b[39m registry at `C:\\Users\\luckb\\.julia\\registries\\General.toml`\n",
      "\u001b[32m\u001b[1m   Resolving\u001b[22m\u001b[39m package versions...\n",
      "\u001b[32m\u001b[1m  No Changes\u001b[22m\u001b[39m to `C:\\Users\\luckb\\.julia\\environments\\v1.8\\Project.toml`\n",
      "\u001b[32m\u001b[1m  No Changes\u001b[22m\u001b[39m to `C:\\Users\\luckb\\.julia\\environments\\v1.8\\Manifest.toml`\n"
     ]
    }
   ],
   "source": [
    "using Pkg\n",
    "Pkg.add(\"NBInclude\")"
   ]
  },
  {
   "cell_type": "code",
   "execution_count": 3,
   "id": "a2a2976e",
   "metadata": {},
   "outputs": [
    {
     "name": "stderr",
     "output_type": "stream",
     "text": [
      "\u001b[32m\u001b[1m   Resolving\u001b[22m\u001b[39m package versions...\n",
      "\u001b[32m\u001b[1m  No Changes\u001b[22m\u001b[39m to `C:\\Users\\luckb\\.julia\\environments\\v1.8\\Project.toml`\n",
      "\u001b[32m\u001b[1m  No Changes\u001b[22m\u001b[39m to `C:\\Users\\luckb\\.julia\\environments\\v1.8\\Manifest.toml`\n",
      "\u001b[32m\u001b[1m   Resolving\u001b[22m\u001b[39m package versions...\n",
      "\u001b[32m\u001b[1m  No Changes\u001b[22m\u001b[39m to `C:\\Users\\luckb\\.julia\\environments\\v1.8\\Project.toml`\n",
      "\u001b[32m\u001b[1m  No Changes\u001b[22m\u001b[39m to `C:\\Users\\luckb\\.julia\\environments\\v1.8\\Manifest.toml`\n",
      "\u001b[32m\u001b[1m   Resolving\u001b[22m\u001b[39m package versions...\n",
      "\u001b[32m\u001b[1m  No Changes\u001b[22m\u001b[39m to `C:\\Users\\luckb\\.julia\\environments\\v1.8\\Project.toml`\n",
      "\u001b[32m\u001b[1m  No Changes\u001b[22m\u001b[39m to `C:\\Users\\luckb\\.julia\\environments\\v1.8\\Manifest.toml`\n",
      "\u001b[32m\u001b[1m   Resolving\u001b[22m\u001b[39m package versions...\n",
      "\u001b[32m\u001b[1m  No Changes\u001b[22m\u001b[39m to `C:\\Users\\luckb\\.julia\\environments\\v1.8\\Project.toml`\n",
      "\u001b[32m\u001b[1m  No Changes\u001b[22m\u001b[39m to `C:\\Users\\luckb\\.julia\\environments\\v1.8\\Manifest.toml`\n"
     ]
    },
    {
     "data": {
      "text/plain": [
       "evaluate_for_color (generic function with 1 method)"
      ]
     },
     "execution_count": 3,
     "metadata": {},
     "output_type": "execute_result"
    }
   ],
   "source": [
    "using NBInclude\n",
    "@nbinclude(\"1.2 BasicGame.ipynb\")\n",
    "@nbinclude(\"3.0 Piece-Weight & Value calculation.ipynb\")\n",
    "@nbinclude(\"3.1 Simple Evaluation Function.ipynb\")"
   ]
  },
  {
   "cell_type": "markdown",
   "id": "0b942e97",
   "metadata": {},
   "source": [
    "***"
   ]
  },
  {
   "cell_type": "markdown",
   "id": "40a91864",
   "metadata": {},
   "source": [
    "Dieses Notebook dient dazu die erarbeiteten \"Simple Evaluation Functions\" zu testen. Dazu werden sowohl Unittests als auch Funktionstests durchgeführt. Die Unittests selbst dienen zur spezifischen Überprüfung verschiedener Szenarien, wohingegen die Funktionstests dazu dienen zu überprüfen, ob der erarbeitete Algorithmus innerhalb eines Schachmatches funktioniert."
   ]
  },
  {
   "cell_type": "markdown",
   "id": "c740ab0e",
   "metadata": {},
   "source": [
    "Zusätzlich werden in diesem Notebook veraltete und fehlerhafte Versionen von Funktionscode erfasst. Die zugrunde liegenden Probleme sowie anschließende Lösungen werden kurz erörtert. Dies dient dazu, dass die normalen Notebooks nicht zu lang werden und der richtige, funktionierende Code direkt erkenntlich ist."
   ]
  },
  {
   "cell_type": "markdown",
   "id": "51765cd5",
   "metadata": {},
   "source": [
    "***"
   ]
  },
  {
   "cell_type": "markdown",
   "id": "b2045000",
   "metadata": {},
   "source": [
    "# OUTDATED CODE"
   ]
  },
  {
   "cell_type": "markdown",
   "id": "4d386fad",
   "metadata": {},
   "source": [
    "Wie bereits zu Beginn des Notebooks erwähnt wird in diesem Abschnitt der veraltete Code dokumentiert. Die Probleme und Lösungsansätze werden kurz erörtert."
   ]
  },
  {
   "cell_type": "markdown",
   "id": "88aac5fe",
   "metadata": {},
   "source": [
    "## function evaluate"
   ]
  },
  {
   "cell_type": "code",
   "execution_count": 4,
   "id": "690ec249",
   "metadata": {},
   "outputs": [
    {
     "data": {
      "text/plain": [
       "evaluate (generic function with 1 method)"
      ]
     },
     "execution_count": 4,
     "metadata": {},
     "output_type": "execute_result"
    }
   ],
   "source": [
    "function evaluate(board, piece_dict, piece_weight)\n",
    "    score = 0\n",
    "    for file in 'a':'h'\n",
    "      for rank in '1':'8'\n",
    "        square = Square(filefromchar(file), rankfromchar(rank))\n",
    "        piece = pieceon(board, square)\n",
    "        if piece !== EMPTY\n",
    "            matrix = get_matrix_from_piece(piece, piece_dict)\n",
    "            weight = get_weight_from_piece(piece, piece_weight)\n",
    "            score += matrix[8 - (Int(rank) - Int('1'))][Int(file) - Int('a') + 1] + weight\n",
    "            end\n",
    "        end\n",
    "    end\n",
    "    return score\n",
    "end"
   ]
  },
  {
   "cell_type": "markdown",
   "id": "89b3bb0c",
   "metadata": {},
   "source": [
    "Das Problem mit dieser ersten Version der Evaluationsfunktion war, dass keine Unterscheidung zwischen der Farbe stattgefunden hat, keine Figuren geschlagen wurden und somit nur eine optimale \"Stellung\" angestrebt wurde."
   ]
  },
  {
   "cell_type": "markdown",
   "id": "e74f5117",
   "metadata": {},
   "source": [
    "In der zweiten Version der Evaluationsfunktion wurde dementsprechend eine Unterscheidung der Farbe eingebaut."
   ]
  },
  {
   "cell_type": "code",
   "execution_count": 5,
   "id": "8689bbf1",
   "metadata": {},
   "outputs": [
    {
     "data": {
      "text/plain": [
       "evaluate_for_color (generic function with 1 method)"
      ]
     },
     "execution_count": 5,
     "metadata": {},
     "output_type": "execute_result"
    }
   ],
   "source": [
    "function evaluate_for_color(board, color, piece_dict, piece_weight)\n",
    "    score = 0\n",
    "    for file in 'a':'h'\n",
    "      for rank in '1':'8'\n",
    "        square = Square(filefromchar(file), rankfromchar(rank))\n",
    "        piece = pieceon(board, square)\n",
    "        if piece !== EMPTY && pcolor(piece) == color\n",
    "            matrix = get_matrix_from_piece(piece, piece_dict)\n",
    "            weight = get_weight_from_piece(piece, piece_weight)\n",
    "            score += matrix[8 - (Int(rank) - Int('1'))][Int(file) - Int('a') + 1] + weight\n",
    "            end\n",
    "        end\n",
    "    end\n",
    "    return score\n",
    "end"
   ]
  },
  {
   "cell_type": "markdown",
   "id": "3005dae2",
   "metadata": {},
   "source": [
    "In der \"evaluate_for_color\" Funktion wird jedoch nur der Score in Abhängigkeit von der Farbe errechnet, nicht jedoch der Gesamtscore des Moves in Abhängigkeit eines bestimmten Boards. Dazu ist die nächste Funktion, \"evaluate2\", nötig."
   ]
  },
  {
   "cell_type": "code",
   "execution_count": 6,
   "id": "633c4ff1",
   "metadata": {},
   "outputs": [
    {
     "data": {
      "text/plain": [
       "evaluate2 (generic function with 1 method)"
      ]
     },
     "execution_count": 6,
     "metadata": {},
     "output_type": "execute_result"
    }
   ],
   "source": [
    "function evaluate2(board, color, piece_dict, piece_weight)\n",
    "    score_white = evaluate_for_color(board, WHITE, piece_dict, piece_weight)\n",
    "    score_black = evaluate_for_color(board, BLACK, piece_dict, piece_weight)\n",
    "    if color == WHITE\n",
    "        return score_white - score_black\n",
    "    else\n",
    "        return score_black - score_white\n",
    "    end\n",
    "end"
   ]
  },
  {
   "cell_type": "markdown",
   "id": "9392daf9",
   "metadata": {},
   "source": [
    "Jedoch trat ein weiteres Problem auf. Im Laufe des Spiels wurden zwar Figuren geschlagen, jedoch setzte die KI nicht Matt und erkannt auch keine Situationen, die zum Matt führen konnten. Somit war klar, dass ein wichtiger Teil der Funktion noch fehlt. \n",
    "\n",
    "In der dritten Version, \"[evaluate_incremental](<3.1%20Simple%20Evaluation%20Function.ipynb>)\", wurde dieses Problem behoben."
   ]
  },
  {
   "cell_type": "markdown",
   "id": "b933f4fa",
   "metadata": {},
   "source": [
    "***"
   ]
  },
  {
   "cell_type": "markdown",
   "id": "d17d1919",
   "metadata": {},
   "source": [
    "# TESTING"
   ]
  },
  {
   "cell_type": "markdown",
   "id": "32a4c1f5",
   "metadata": {},
   "source": [
    "## Unittests - Evaluation"
   ]
  },
  {
   "cell_type": "markdown",
   "id": "4fddafc4",
   "metadata": {},
   "source": [
    "### Test function for evaluate(board, piece_dict, piece_weight)"
   ]
  },
  {
   "cell_type": "code",
   "execution_count": 7,
   "id": "92c1f5fc",
   "metadata": {},
   "outputs": [
    {
     "data": {
      "text/plain": [
       "test_evaluate (generic function with 1 method)"
      ]
     },
     "execution_count": 7,
     "metadata": {},
     "output_type": "execute_result"
    }
   ],
   "source": [
    "function test_evaluate(fen::String, ex_score, ex_result::Bool)\n",
    "    board = fromfen(fen)\n",
    "    result = evaluate(board, piece_dict, piece_weight)\n",
    "    return (result == ex_score) == ex_result\n",
    "end"
   ]
  },
  {
   "cell_type": "code",
   "execution_count": 8,
   "id": "d786915f",
   "metadata": {},
   "outputs": [
    {
     "name": "stdout",
     "output_type": "stream",
     "text": [
      "true\n"
     ]
    }
   ],
   "source": [
    "println(test_evaluate(\n",
    "    \"4k3/3p4/8/8/3P4/8/4P3/4K3 w - - 0 1\",\n",
    "    40280,\n",
    "    true\n",
    "))"
   ]
  },
  {
   "cell_type": "markdown",
   "id": "4f9da580",
   "metadata": {},
   "source": [
    "***"
   ]
  },
  {
   "cell_type": "markdown",
   "id": "3ef97e96",
   "metadata": {},
   "source": [
    "### Test function for evaluate_for_color(board, color, piece_dict, piece_weight)"
   ]
  },
  {
   "cell_type": "code",
   "execution_count": 9,
   "id": "7f1e18b0",
   "metadata": {},
   "outputs": [
    {
     "data": {
      "text/plain": [
       "test_evaluate_for_color (generic function with 1 method)"
      ]
     },
     "execution_count": 9,
     "metadata": {},
     "output_type": "execute_result"
    }
   ],
   "source": [
    "function test_evaluate_for_color(fen::String, color, ex_score, ex_result::Bool)\n",
    "    board = fromfen(fen)\n",
    "    result = evaluate_for_color(board, color, piece_dict, piece_weight)\n",
    "    return (result == ex_score) == ex_result\n",
    "end"
   ]
  },
  {
   "cell_type": "code",
   "execution_count": 10,
   "id": "4198f225",
   "metadata": {},
   "outputs": [
    {
     "name": "stdout",
     "output_type": "stream",
     "text": [
      "true\n"
     ]
    }
   ],
   "source": [
    "println(test_evaluate_for_color(\n",
    "    \"4k3/3p4/8/8/3P4/8/4P3/4K3 w - - 0 1\",\n",
    "    WHITE, \n",
    "    20200,\n",
    "    true\n",
    "))"
   ]
  },
  {
   "cell_type": "code",
   "execution_count": 11,
   "id": "2c10b2ac",
   "metadata": {},
   "outputs": [
    {
     "name": "stdout",
     "output_type": "stream",
     "text": [
      "true\n"
     ]
    }
   ],
   "source": [
    "println(test_evaluate_for_color(\n",
    "    \"4k3/3p4/8/8/3P4/8/4P3/4K3 w - - 0 1\",\n",
    "    BLACK, \n",
    "    20080,\n",
    "    true\n",
    "))"
   ]
  },
  {
   "cell_type": "markdown",
   "id": "4caea21d",
   "metadata": {},
   "source": [
    "***"
   ]
  },
  {
   "cell_type": "markdown",
   "id": "b27ca04f",
   "metadata": {},
   "source": [
    "### Test function for evaluate2(board, piece_dict, piece_weight)"
   ]
  },
  {
   "cell_type": "code",
   "execution_count": 12,
   "id": "d034d4db",
   "metadata": {},
   "outputs": [
    {
     "data": {
      "text/plain": [
       "test_evaluate2 (generic function with 1 method)"
      ]
     },
     "execution_count": 12,
     "metadata": {},
     "output_type": "execute_result"
    }
   ],
   "source": [
    "function test_evaluate2(fen::String, color, ex_score, ex_result::Bool)\n",
    "    board = fromfen(fen)\n",
    "    result = evaluate2(board, color, piece_dict, piece_weight)\n",
    "    return (result == ex_score) == ex_result\n",
    "end"
   ]
  },
  {
   "cell_type": "code",
   "execution_count": 13,
   "id": "9939dc1e",
   "metadata": {},
   "outputs": [
    {
     "name": "stdout",
     "output_type": "stream",
     "text": [
      "true\n"
     ]
    }
   ],
   "source": [
    "println(test_evaluate2(\n",
    "    \"4k3/3p4/8/8/3P4/8/4P3/4K3 w - - 0 1\",\n",
    "    WHITE, \n",
    "    120,\n",
    "    true\n",
    "))"
   ]
  },
  {
   "cell_type": "code",
   "execution_count": 14,
   "id": "a6a6fad5",
   "metadata": {},
   "outputs": [
    {
     "name": "stdout",
     "output_type": "stream",
     "text": [
      "true\n"
     ]
    }
   ],
   "source": [
    "println(test_evaluate2(\n",
    "    \"4k3/3p4/8/8/3P4/8/4P3/4K3 w - - 0 1\",\n",
    "    BLACK, \n",
    "    120,\n",
    "    false\n",
    "))"
   ]
  },
  {
   "cell_type": "code",
   "execution_count": 15,
   "id": "8bd099b7",
   "metadata": {},
   "outputs": [
    {
     "name": "stdout",
     "output_type": "stream",
     "text": [
      "true\n"
     ]
    }
   ],
   "source": [
    "println(test_evaluate2(\n",
    "    \"4k3/3p4/8/8/3P4/8/4P3/4K3 w - - 0 1\",\n",
    "    BLACK, \n",
    "    -80,\n",
    "    false\n",
    "))"
   ]
  },
  {
   "cell_type": "markdown",
   "id": "3089fc33",
   "metadata": {},
   "source": [
    "***"
   ]
  },
  {
   "cell_type": "markdown",
   "id": "e08f7de6",
   "metadata": {},
   "source": [
    "### Test function for evaluate_incremental(source_score_white, source_score_black, source_board, target_move) "
   ]
  },
  {
   "cell_type": "markdown",
   "id": "6c91500b",
   "metadata": {},
   "source": [
    "Nachfolgend wird die evaluate_incremental function getestet, indem die berechneten Werte mit denen der evaluate_for_color function verglichen werden."
   ]
  },
  {
   "cell_type": "code",
   "execution_count": 16,
   "id": "15aa490d",
   "metadata": {},
   "outputs": [
    {
     "name": "stdout",
     "output_type": "stream",
     "text": [
      "23945\n",
      "23905\n",
      "23945\n",
      "23945\n",
      "23950\n",
      "23825\n"
     ]
    }
   ],
   "source": [
    "b = startboard()\n",
    "domove!(b, \"e2e4\")\n",
    "println(evaluate_for_color(b, WHITE, piece_dict, piece_weight))\n",
    "println(evaluate_for_color(b, BLACK, piece_dict, piece_weight))\n",
    "domove!(b, \"d7d5\")\n",
    "println(evaluate_for_color(b, WHITE, piece_dict, piece_weight))\n",
    "println(evaluate_for_color(b, BLACK, piece_dict, piece_weight))\n",
    "domove!(b, \"e4d5\")\n",
    "println(evaluate_for_color(b, WHITE, piece_dict, piece_weight))\n",
    "println(evaluate_for_color(b, BLACK, piece_dict, piece_weight))"
   ]
  },
  {
   "cell_type": "code",
   "execution_count": 17,
   "id": "cad9ec1e",
   "metadata": {},
   "outputs": [
    {
     "name": "stdout",
     "output_type": "stream",
     "text": [
      "23945\n",
      "23905\n",
      "23945\n",
      "23945\n",
      "23950\n",
      "23825\n"
     ]
    }
   ],
   "source": [
    "b = startboard()\n",
    "score_white = evaluate_for_color(b, WHITE, piece_dict, piece_weight)\n",
    "score_black = evaluate_for_color(b, BLACK, piece_dict, piece_weight)\n",
    "score_white, score_black = evaluate_incremental(score_white, score_black, b, movefromstring(\"e2e4\"))\n",
    "println(score_white)\n",
    "println(score_black)\n",
    "domove!(b, \"e2e4\")\n",
    "score_white, score_black = evaluate_incremental(score_white, score_black, b, movefromstring(\"d7d5\"))\n",
    "println(score_white)\n",
    "println(score_black)\n",
    "domove!(b, \"d7d5\")\n",
    "score_white, score_black = evaluate_incremental(score_white, score_black, b, movefromstring(\"e4d5\"))\n",
    "println(score_white)\n",
    "println(score_black)"
   ]
  },
  {
   "cell_type": "markdown",
   "id": "c46ae926",
   "metadata": {},
   "source": [
    "Wie zu sehen ist, stimmen die Werte überein. Somit gibt es keine groben Rechenfehler."
   ]
  },
  {
   "cell_type": "markdown",
   "id": "31f69cb4",
   "metadata": {},
   "source": [
    "***"
   ]
  },
  {
   "cell_type": "markdown",
   "id": "31a45f9c",
   "metadata": {},
   "source": [
    "by Florian Stach and Luc Kaiser"
   ]
  },
  {
   "cell_type": "markdown",
   "id": "f9acc7a5",
   "metadata": {},
   "source": [
    "Last updated: 11/01/2023"
   ]
  },
  {
   "cell_type": "markdown",
   "id": "b45c5889",
   "metadata": {},
   "source": [
    "***"
   ]
  }
 ],
 "metadata": {
  "kernelspec": {
   "display_name": "Julia 1.8.1",
   "language": "julia",
   "name": "julia-1.8"
  },
  "language_info": {
   "file_extension": ".jl",
   "mimetype": "application/julia",
   "name": "julia",
   "version": "1.8.1"
  }
 },
 "nbformat": 4,
 "nbformat_minor": 5
}
