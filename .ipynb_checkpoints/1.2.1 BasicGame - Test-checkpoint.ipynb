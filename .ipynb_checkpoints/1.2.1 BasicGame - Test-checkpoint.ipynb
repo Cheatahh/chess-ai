{
 "cells": [
  {
   "cell_type": "code",
   "execution_count": 2,
   "id": "91d9d52d",
   "metadata": {},
   "outputs": [
    {
     "data": {
      "text/html": [
       "<link href='http://fonts.googleapis.com/css?family=Alegreya+Sans:100,300,400,500,700,800,900,100italic,300italic,400italic,500italic,700italic,800italic,900italic' rel='stylesheet' type='text/css'>\r\n",
       "<link href='http://fonts.googleapis.com/css?family=Arvo:400,700,400italic' rel='stylesheet' type='text/css'>\r\n",
       "<link href='http://fonts.googleapis.com/css?family=PT+Mono' rel='stylesheet' type='text/css'>\r\n",
       "<link href='http://fonts.googleapis.com/css?family=Shadows+Into+Light' rel='stylesheet' type='text/css'>\r\n",
       "<link href='http://fonts.googleapis.com/css?family=Philosopher:400,700,400italic,700italic' rel='stylesheet' type='text/css'>\r\n",
       "\r\n",
       "<style>\r\n",
       "\r\n",
       "@font-face {\r\n",
       "    font-family: \"Computer Modern\";\r\n",
       "    src: url('http://mirrors.ctan.org/fonts/cm-unicode/fonts/otf/cmunss.otf');\r\n",
       "}\r\n",
       "\r\n",
       ".container { width: 100% }\r\n",
       "\r\n",
       "/* Formatting for header cells */\r\n",
       ".text_cell_render h1 {\r\n",
       "    font-family: 'Philosopher', sans-serif;\r\n",
       "    font-weight: 400;\r\n",
       "    font-size: 2.2em;\r\n",
       "    line-height: 100%;\r\n",
       "    color: rgb(0, 80, 120);\r\n",
       "    margin-bottom: 0.1em;\r\n",
       "    margin-top: 0.1em;\r\n",
       "    display: block;\r\n",
       "}\t\r\n",
       ".text_cell_render h2 {\r\n",
       "    font-family: 'Philosopher', serif;\r\n",
       "    font-weight: 400;\r\n",
       "    font-size: 1.9em;\r\n",
       "    line-height: 100%;\r\n",
       "    color: rgb(200,100,0);\r\n",
       "    margin-bottom: 0.1em;\r\n",
       "    margin-top: 0.1em;\r\n",
       "    display: block;\r\n",
       "}\t\r\n",
       "\r\n",
       ".text_cell_render h3 {\r\n",
       "    font-family: 'Philosopher', serif;\r\n",
       "    margin-top:12px;\r\n",
       "    margin-bottom: 3px;\r\n",
       "    font-style: italic;\r\n",
       "    color: rgb(94,127,192);\r\n",
       "}\r\n",
       "\r\n",
       ".text_cell_render h4 {\r\n",
       "    font-family: 'Philosopher', serif;\r\n",
       "}\r\n",
       "\r\n",
       ".text_cell_render h5 {\r\n",
       "    font-family: 'Alegreya Sans', sans-serif;\r\n",
       "    font-weight: 300;\r\n",
       "    font-size: 16pt;\r\n",
       "    color: grey;\r\n",
       "    font-style: italic;\r\n",
       "    margin-bottom: .1em;\r\n",
       "    margin-top: 0.1em;\r\n",
       "    display: block;\r\n",
       "}\r\n",
       "\r\n",
       ".text_cell_render h6 {\r\n",
       "    font-family: 'PT Mono', sans-serif;\r\n",
       "    font-weight: 300;\r\n",
       "    font-size: 10pt;\r\n",
       "    color: grey;\r\n",
       "    margin-bottom: 1px;\r\n",
       "    margin-top: 1px;\r\n",
       "}\r\n",
       "\r\n",
       ".text_cell_render em {\r\n",
       "    font-family: 'Philosopher', sans-serif;\r\n",
       "    color:        blue;\r\n",
       "    background-color: rgb(255,220,180);\r\n",
       "    font-size:    110%;\r\n",
       "    margin-left:   2px;\r\n",
       "    margin-right:  2px;\r\n",
       "    font-weight:   100;\r\n",
       "}\r\n",
       "\r\n",
       ".text_cell_render b {\r\n",
       "    color:            rgb(255,195,195);\r\n",
       "    background-color: rgb(0,0,0);\r\n",
       "    font-size:    110%;\r\n",
       "    margin-left:   2px;\r\n",
       "    margin-right:  2px;\r\n",
       "    font-weight:   650;\r\n",
       "}\r\n",
       "\r\n",
       ".text_cell_render tt {\r\n",
       "    font-size:    120%;\r\n",
       "    margin-left:   2px;\r\n",
       "    margin-right:  2px;\r\n",
       "    font-weight:   150;\r\n",
       "}\r\n",
       "\r\n",
       ".Codemirror {\r\n",
       "    font-family: \"PT Mono\";\r\n",
       "    font-size: 100%;\r\n",
       "}\r\n",
       "\r\n",
       "</style>"
      ],
      "text/plain": [
       "HTML{String}(\"<link href='http://fonts.googleapis.com/css?family=Alegreya+Sans:100,300,400,500,700,800,900,100italic,300italic,400italic,500italic,700italic,800italic,900italic' rel='stylesheet' type='text/css'>\\r\\n<link href='http://fonts.googleapis.com/css?family=Arvo:400,700,400italic' rel='stylesheet' type='text/css'>\\r\\n<link href='http://fonts.googleapis.com/css?family=PT+Mono' rel='stylesheet' type='text/css'>\\r\\n<link href='http://fonts.googleapis.com/css?family=Shadows+Into+Light' rel='stylesheet' type='text/css'>\\r\\n<link href='http://fonts.googleapis.com/css?family=Philosopher:400,700,400italic,700italic' rel='stylesheet' type='text/css'>\\r\\n\\r\\n<style>\\r\\n\\r\\n@font-face {\\r\\n    font-family: \\\"Computer Modern\\\";\\r\\n    src: url('http://mirrors.ctan.org/fonts/cm-unicode/fonts/otf/cmunss.otf');\\r\\n}\\r\\n\\r\\n.container { width: 100% }\\r\\n\\r\\n/* Formatting for header cells */\\r\\n.text_cell_render h1 {\\r\\n    font-family: 'Philosopher', sans-serif;\\r\\n    font-weight: 400;\\r\\n    font-size: 2.2em;\\r\\n    line-height: 100%;\\r\\n    color: rgb(0, 80, 120);\\r\\n    margin-bottom: 0.1em;\\r\\n    margin-top: 0.1em;\\r\\n    display: block;\\r\\n}\\t\\r\\n.text_cell_render h2 {\\r\\n    font-family: 'Philosopher', serif;\\r\\n    font-weight: 400;\\r\\n    font-size: 1.9em;\\r\\n    line-height: 100%;\\r\\n    color: rgb(200,100,0);\\r\\n    margin-bottom: 0.1em;\\r\\n    margin-top: 0.1em;\\r\\n    display: block;\\r\\n}\\t\\r\\n\\r\\n.text_cell_render h3 {\\r\\n    font-family: 'Philosopher', serif;\\r\\n    margin-top:12px;\\r\\n    margin-bottom: 3px;\\r\\n    font-style: italic;\\r\\n    color: rgb(94,127,192);\\r\\n}\\r\\n\\r\\n.text_cell_render h4 {\\r\\n    font-family: 'Philosopher', serif;\\r\\n}\\r\\n\\r\\n.text_cell_render h5 {\\r\\n    font-family: 'Alegreya Sans', sans-serif;\\r\\n    font-weight: 300;\\r\\n    font-size: 16pt;\\r\\n    color: grey;\\r\\n    font-style: italic;\\r\\n    margin-bottom: .1em;\\r\\n    margin-top: 0.1em;\\r\\n    display: block;\\r\\n}\\r\\n\\r\\n.text_cell_render h6 {\\r\\n    font-family: 'PT Mono', sans-serif;\\r\\n    font-weight: 300;\\r\\n    font-size: 10pt;\\r\\n    color: grey;\\r\\n    margin-bottom: 1px;\\r\\n    margin-top: 1px;\\r\\n}\\r\\n\\r\\n.text_cell_render em {\\r\\n    font-family: 'Philosopher', sans-serif;\\r\\n    color:        blue;\\r\\n    background-color: rgb(255,220,180);\\r\\n    font-size:    110%;\\r\\n    margin-left:   2px;\\r\\n    margin-right:  2px;\\r\\n    font-weight:   100;\\r\\n}\\r\\n\\r\\n.text_cell_render b {\\r\\n    color:            rgb(255,195,195);\\r\\n    background-color: rgb(0,0,0);\\r\\n    font-size:    110%;\\r\\n    margin-left:   2px;\\r\\n    margin-right:  2px;\\r\\n    font-weight:   650;\\r\\n}\\r\\n\\r\\n.text_cell_render tt {\\r\\n    font-size:    120%;\\r\\n    margin-left:   2px;\\r\\n    margin-right:  2px;\\r\\n    font-weight:   150;\\r\\n}\\r\\n\\r\\n.Codemirror {\\r\\n    font-family: \\\"PT Mono\\\";\\r\\n    font-size: 100%;\\r\\n}\\r\\n\\r\\n</style>\")"
      ]
     },
     "execution_count": 2,
     "metadata": {},
     "output_type": "execute_result"
    }
   ],
   "source": [
    "HTML(read(open(\"style.html\"), String))"
   ]
  },
  {
   "cell_type": "code",
   "execution_count": 3,
   "id": "015f5bb3",
   "metadata": {},
   "outputs": [
    {
     "name": "stderr",
     "output_type": "stream",
     "text": [
      "\u001b[32m\u001b[1m   Resolving\u001b[22m\u001b[39m package versions...\n",
      "\u001b[32m\u001b[1m  No Changes\u001b[22m\u001b[39m to `C:\\Users\\luckb\\.julia\\environments\\v1.8\\Project.toml`\n",
      "\u001b[32m\u001b[1m  No Changes\u001b[22m\u001b[39m to `C:\\Users\\luckb\\.julia\\environments\\v1.8\\Manifest.toml`\n"
     ]
    }
   ],
   "source": [
    "using Pkg\n",
    "Pkg.add(\"NBInclude\")"
   ]
  },
  {
   "cell_type": "code",
   "execution_count": 4,
   "id": "29e970bb",
   "metadata": {},
   "outputs": [
    {
     "name": "stderr",
     "output_type": "stream",
     "text": [
      "\u001b[32m\u001b[1m   Resolving\u001b[22m\u001b[39m package versions...\n",
      "\u001b[32m\u001b[1m  No Changes\u001b[22m\u001b[39m to `C:\\Users\\luckb\\.julia\\environments\\v1.8\\Project.toml`\n",
      "\u001b[32m\u001b[1m  No Changes\u001b[22m\u001b[39m to `C:\\Users\\luckb\\.julia\\environments\\v1.8\\Manifest.toml`\n"
     ]
    },
    {
     "data": {
      "text/plain": [
       "print_game (generic function with 1 method)"
      ]
     },
     "execution_count": 4,
     "metadata": {},
     "output_type": "execute_result"
    }
   ],
   "source": [
    "using NBInclude\n",
    "@nbinclude(\"1.2 BasicGame.ipynb\")"
   ]
  },
  {
   "cell_type": "code",
   "execution_count": 5,
   "id": "c89743f8",
   "metadata": {},
   "outputs": [
    {
     "data": {
      "text/plain": [
       "test_validate_userinput (generic function with 1 method)"
      ]
     },
     "execution_count": 5,
     "metadata": {},
     "output_type": "execute_result"
    }
   ],
   "source": [
    "function test_validate_userinput()\n",
    "    for a in 'a':'f' \n",
    "        for b in '1':'8' \n",
    "            for c in 'a':'f' \n",
    "                for d in '1':'8'\n",
    "                    if validate_userinput(\"$(a)$(b)$(c)$(d)\") !== nothing\n",
    "                        return false\n",
    "                    end\n",
    "                end \n",
    "            end \n",
    "        end \n",
    "    end\n",
    "    return true\n",
    "end"
   ]
  },
  {
   "cell_type": "code",
   "execution_count": 6,
   "id": "1dfe74df",
   "metadata": {},
   "outputs": [
    {
     "name": "stdout",
     "output_type": "stream",
     "text": [
      "true\n"
     ]
    }
   ],
   "source": [
    "println(test_validate_userinput())"
   ]
  },
  {
   "cell_type": "code",
   "execution_count": 7,
   "id": "e0ed0611",
   "metadata": {},
   "outputs": [
    {
     "name": "stdout",
     "output_type": "stream",
     "text": [
      "true\n"
     ]
    }
   ],
   "source": [
    "println(validate_userinput(\"test\") !== nothing)"
   ]
  },
  {
   "cell_type": "code",
   "execution_count": 8,
   "id": "823d29a3",
   "metadata": {},
   "outputs": [
    {
     "data": {
      "text/plain": [
       "test_validate_legal_move (generic function with 1 method)"
      ]
     },
     "execution_count": 8,
     "metadata": {},
     "output_type": "execute_result"
    }
   ],
   "source": [
    "function test_validate_legal_move(fen::String, move::String, expected_is_valid::Bool)\n",
    "    board = fromfen(fen)\n",
    "    move_to_test = movefromstring(move)\n",
    "    move_is_valid = validate_legal_move(board, move_to_test) === nothing\n",
    "    return move_is_valid == expected_is_valid\n",
    "end"
   ]
  },
  {
   "cell_type": "code",
   "execution_count": 9,
   "id": "804c017c",
   "metadata": {},
   "outputs": [
    {
     "name": "stdout",
     "output_type": "stream",
     "text": [
      "true\n"
     ]
    }
   ],
   "source": [
    "println(test_validate_legal_move(\n",
    "    \"rnbqkbnr/pppppppp/8/8/8/8/PPPPPPPP/RNBQKBNR w KQkq -\",\n",
    "    \"e2e4\",\n",
    "    true\n",
    "))"
   ]
  },
  {
   "cell_type": "code",
   "execution_count": 10,
   "id": "0d518ecd",
   "metadata": {
    "scrolled": true
   },
   "outputs": [
    {
     "name": "stdout",
     "output_type": "stream",
     "text": [
      "true\n"
     ]
    }
   ],
   "source": [
    "println(test_validate_legal_move(\n",
    "    \"rnbqkbnr/ppp2ppp/8/3pQ3/4P3/8/PPPP1PPP/RNB1KBNR b KQkq -\",\n",
    "    \"e8e7\",\n",
    "    false\n",
    "))"
   ]
  },
  {
   "cell_type": "code",
   "execution_count": 11,
   "id": "ffef9372",
   "metadata": {},
   "outputs": [
    {
     "name": "stdout",
     "output_type": "stream",
     "text": [
      "true\n"
     ]
    }
   ],
   "source": [
    "println(test_validate_legal_move(\n",
    "    \"rnbqkbnr/ppp2ppp/8/3pQ3/4P3/8/PPPP1PPP/RNB1KBNR b KQkq -\",\n",
    "    \"g8e7\",\n",
    "    true\n",
    "))"
   ]
  },
  {
   "cell_type": "code",
   "execution_count": 12,
   "id": "cafe4bfd",
   "metadata": {},
   "outputs": [
    {
     "data": {
      "text/plain": [
       "test_play_game (generic function with 2 methods)"
      ]
     },
     "execution_count": 12,
     "metadata": {},
     "output_type": "execute_result"
    }
   ],
   "source": [
    "mutable struct TestPlayer\n",
    "    moves::Vector{}\n",
    "    current::Int\n",
    "end\n",
    "\n",
    "function next_move(board, bot::TestPlayer)\n",
    "    if bot.current >= length(bot.moves)\n",
    "        return \"exit\"\n",
    "    end\n",
    "    return bot.moves[bot.current += 1]\n",
    "end\n",
    "\n",
    "function test_play_game(expected::String, player1_moves::Vector{}, player2_moves::Vector{}, board = startboard())\n",
    "    player1 = TestPlayer(player1_moves, 0) # ai\n",
    "    player2 = TestPlayer(player2_moves, 0) # player\n",
    "    \n",
    "    result = play_game(player1, player2, SimpleGame(board))\n",
    "\n",
    "    if typeof(result) == Board\n",
    "        result = fen(result)\n",
    "    end\n",
    "    \n",
    "    return result == expected\n",
    "end"
   ]
  },
  {
   "cell_type": "code",
   "execution_count": 13,
   "id": "e341eb89",
   "metadata": {},
   "outputs": [
    {
     "data": {
      "text/html": [
       "Board:<div class=\"chessboard\"><style soped=\"true\">.dark-square {\n",
       "    fill: #c3936a;\n",
       "    stroke-width: 0;\n",
       "}\n",
       ".light-square {\n",
       "    fill: #ffd7a6;\n",
       "    stroke-width: 0;\n",
       "}\n",
       ".highlight {\n",
       "    fill: #47d18b;\n",
       "}\n",
       "@media (prefers-color-scheme: dark) {\n",
       "    .dark-square {\n",
       "        fill: #00796b;\n",
       "    }\n",
       "    .light-square {\n",
       "        fill: #3ca59b;\n",
       "    }\n",
       "    .highlight {\n",
       "        fill: #d23600;\n",
       "    }\n",
       "}\n",
       "</style><svg style=\"float: left; margin-right: 20px\" viewBox=\"0 0 8 8\" height=\"280\" width=\"280\"><g><g><rect x=\"0\" y=\"0\" class=\"light-square\" height=\"1\" width=\"1\"></rect><image x=\"0\" xlink:href=\"https://raw.githubusercontent.com/romstad/Chess.jl/master/img/br.svg\" y=\"0\" height=\"1\" width=\"1\"></image></g><g><rect x=\"0\" y=\"1\" class=\"dark-square\" height=\"1\" width=\"1\"></rect><image x=\"0\" xlink:href=\"https://raw.githubusercontent.com/romstad/Chess.jl/master/img/bp.svg\" y=\"1\" height=\"1\" width=\"1\"></image></g><g><rect x=\"0\" y=\"2\" class=\"light-square\" height=\"1\" width=\"1\"></rect><g></g></g><g><rect x=\"0\" y=\"3\" class=\"dark-square\" height=\"1\" width=\"1\"></rect><g></g></g><g><rect x=\"0\" y=\"4\" class=\"light-square\" height=\"1\" width=\"1\"></rect><g></g></g><g><rect x=\"0\" y=\"5\" class=\"dark-square\" height=\"1\" width=\"1\"></rect><g></g></g><g><rect x=\"0\" y=\"6\" class=\"light-square\" height=\"1\" width=\"1\"></rect><image x=\"0\" xlink:href=\"https://raw.githubusercontent.com/romstad/Chess.jl/master/img/wp.svg\" y=\"6\" height=\"1\" width=\"1\"></image></g><g><rect x=\"0\" y=\"7\" class=\"dark-square\" height=\"1\" width=\"1\"></rect><image x=\"0\" xlink:href=\"https://raw.githubusercontent.com/romstad/Chess.jl/master/img/wr.svg\" y=\"7\" height=\"1\" width=\"1\"></image></g><g><rect x=\"1\" y=\"0\" class=\"dark-square\" height=\"1\" width=\"1\"></rect><image x=\"1\" xlink:href=\"https://raw.githubusercontent.com/romstad/Chess.jl/master/img/bn.svg\" y=\"0\" height=\"1\" width=\"1\"></image></g><g><rect x=\"1\" y=\"1\" class=\"light-square\" height=\"1\" width=\"1\"></rect><image x=\"1\" xlink:href=\"https://raw.githubusercontent.com/romstad/Chess.jl/master/img/bp.svg\" y=\"1\" height=\"1\" width=\"1\"></image></g><g><rect x=\"1\" y=\"2\" class=\"dark-square\" height=\"1\" width=\"1\"></rect><g></g></g><g><rect x=\"1\" y=\"3\" class=\"light-square\" height=\"1\" width=\"1\"></rect><g></g></g><g><rect x=\"1\" y=\"4\" class=\"dark-square\" height=\"1\" width=\"1\"></rect><g></g></g><g><rect x=\"1\" y=\"5\" class=\"light-square\" height=\"1\" width=\"1\"></rect><g></g></g><g><rect x=\"1\" y=\"6\" class=\"dark-square\" height=\"1\" width=\"1\"></rect><image x=\"1\" xlink:href=\"https://raw.githubusercontent.com/romstad/Chess.jl/master/img/wp.svg\" y=\"6\" height=\"1\" width=\"1\"></image></g><g><rect x=\"1\" y=\"7\" class=\"light-square\" height=\"1\" width=\"1\"></rect><image x=\"1\" xlink:href=\"https://raw.githubusercontent.com/romstad/Chess.jl/master/img/wn.svg\" y=\"7\" height=\"1\" width=\"1\"></image></g><g><rect x=\"2\" y=\"0\" class=\"light-square\" height=\"1\" width=\"1\"></rect><image x=\"2\" xlink:href=\"https://raw.githubusercontent.com/romstad/Chess.jl/master/img/bb.svg\" y=\"0\" height=\"1\" width=\"1\"></image></g><g><rect x=\"2\" y=\"1\" class=\"dark-square\" height=\"1\" width=\"1\"></rect><image x=\"2\" xlink:href=\"https://raw.githubusercontent.com/romstad/Chess.jl/master/img/bp.svg\" y=\"1\" height=\"1\" width=\"1\"></image></g><g><rect x=\"2\" y=\"2\" class=\"light-square\" height=\"1\" width=\"1\"></rect><g></g></g><g><rect x=\"2\" y=\"3\" class=\"dark-square\" height=\"1\" width=\"1\"></rect><g></g></g><g><rect x=\"2\" y=\"4\" class=\"light-square\" height=\"1\" width=\"1\"></rect><g></g></g><g><rect x=\"2\" y=\"5\" class=\"dark-square\" height=\"1\" width=\"1\"></rect><g></g></g><g><rect x=\"2\" y=\"6\" class=\"light-square\" height=\"1\" width=\"1\"></rect><image x=\"2\" xlink:href=\"https://raw.githubusercontent.com/romstad/Chess.jl/master/img/wp.svg\" y=\"6\" height=\"1\" width=\"1\"></image></g><g><rect x=\"2\" y=\"7\" class=\"dark-square\" height=\"1\" width=\"1\"></rect><image x=\"2\" xlink:href=\"https://raw.githubusercontent.com/romstad/Chess.jl/master/img/wb.svg\" y=\"7\" height=\"1\" width=\"1\"></image></g><g><rect x=\"3\" y=\"0\" class=\"dark-square\" height=\"1\" width=\"1\"></rect><image x=\"3\" xlink:href=\"https://raw.githubusercontent.com/romstad/Chess.jl/master/img/bq.svg\" y=\"0\" height=\"1\" width=\"1\"></image></g><g><rect x=\"3\" y=\"1\" class=\"light-square\" height=\"1\" width=\"1\"></rect><image x=\"3\" xlink:href=\"https://raw.githubusercontent.com/romstad/Chess.jl/master/img/bp.svg\" y=\"1\" height=\"1\" width=\"1\"></image></g><g><rect x=\"3\" y=\"2\" class=\"dark-square\" height=\"1\" width=\"1\"></rect><g></g></g><g><rect x=\"3\" y=\"3\" class=\"light-square\" height=\"1\" width=\"1\"></rect><g></g></g><g><rect x=\"3\" y=\"4\" class=\"dark-square\" height=\"1\" width=\"1\"></rect><g></g></g><g><rect x=\"3\" y=\"5\" class=\"light-square\" height=\"1\" width=\"1\"></rect><g></g></g><g><rect x=\"3\" y=\"6\" class=\"dark-square\" height=\"1\" width=\"1\"></rect><image x=\"3\" xlink:href=\"https://raw.githubusercontent.com/romstad/Chess.jl/master/img/wp.svg\" y=\"6\" height=\"1\" width=\"1\"></image></g><g><rect x=\"3\" y=\"7\" class=\"light-square\" height=\"1\" width=\"1\"></rect><image x=\"3\" xlink:href=\"https://raw.githubusercontent.com/romstad/Chess.jl/master/img/wq.svg\" y=\"7\" height=\"1\" width=\"1\"></image></g><g><rect x=\"4\" y=\"0\" class=\"light-square\" height=\"1\" width=\"1\"></rect><image x=\"4\" xlink:href=\"https://raw.githubusercontent.com/romstad/Chess.jl/master/img/bk.svg\" y=\"0\" height=\"1\" width=\"1\"></image></g><g><rect x=\"4\" y=\"1\" class=\"dark-square\" height=\"1\" width=\"1\"></rect><image x=\"4\" xlink:href=\"https://raw.githubusercontent.com/romstad/Chess.jl/master/img/bp.svg\" y=\"1\" height=\"1\" width=\"1\"></image></g><g><rect x=\"4\" y=\"2\" class=\"light-square\" height=\"1\" width=\"1\"></rect><g></g></g><g><rect x=\"4\" y=\"3\" class=\"dark-square\" height=\"1\" width=\"1\"></rect><g></g></g><g><rect x=\"4\" y=\"4\" class=\"light-square\" height=\"1\" width=\"1\"></rect><g></g></g><g><rect x=\"4\" y=\"5\" class=\"dark-square\" height=\"1\" width=\"1\"></rect><g></g></g><g><rect x=\"4\" y=\"6\" class=\"light-square\" height=\"1\" width=\"1\"></rect><image x=\"4\" xlink:href=\"https://raw.githubusercontent.com/romstad/Chess.jl/master/img/wp.svg\" y=\"6\" height=\"1\" width=\"1\"></image></g><g><rect x=\"4\" y=\"7\" class=\"dark-square\" height=\"1\" width=\"1\"></rect><image x=\"4\" xlink:href=\"https://raw.githubusercontent.com/romstad/Chess.jl/master/img/wk.svg\" y=\"7\" height=\"1\" width=\"1\"></image></g><g><rect x=\"5\" y=\"0\" class=\"dark-square\" height=\"1\" width=\"1\"></rect><image x=\"5\" xlink:href=\"https://raw.githubusercontent.com/romstad/Chess.jl/master/img/bb.svg\" y=\"0\" height=\"1\" width=\"1\"></image></g><g><rect x=\"5\" y=\"1\" class=\"light-square\" height=\"1\" width=\"1\"></rect><image x=\"5\" xlink:href=\"https://raw.githubusercontent.com/romstad/Chess.jl/master/img/bp.svg\" y=\"1\" height=\"1\" width=\"1\"></image></g><g><rect x=\"5\" y=\"2\" class=\"dark-square\" height=\"1\" width=\"1\"></rect><g></g></g><g><rect x=\"5\" y=\"3\" class=\"light-square\" height=\"1\" width=\"1\"></rect><g></g></g><g><rect x=\"5\" y=\"4\" class=\"dark-square\" height=\"1\" width=\"1\"></rect><g></g></g><g><rect x=\"5\" y=\"5\" class=\"light-square\" height=\"1\" width=\"1\"></rect><g></g></g><g><rect x=\"5\" y=\"6\" class=\"dark-square\" height=\"1\" width=\"1\"></rect><image x=\"5\" xlink:href=\"https://raw.githubusercontent.com/romstad/Chess.jl/master/img/wp.svg\" y=\"6\" height=\"1\" width=\"1\"></image></g><g><rect x=\"5\" y=\"7\" class=\"light-square\" height=\"1\" width=\"1\"></rect><image x=\"5\" xlink:href=\"https://raw.githubusercontent.com/romstad/Chess.jl/master/img/wb.svg\" y=\"7\" height=\"1\" width=\"1\"></image></g><g><rect x=\"6\" y=\"0\" class=\"light-square\" height=\"1\" width=\"1\"></rect><image x=\"6\" xlink:href=\"https://raw.githubusercontent.com/romstad/Chess.jl/master/img/bn.svg\" y=\"0\" height=\"1\" width=\"1\"></image></g><g><rect x=\"6\" y=\"1\" class=\"dark-square\" height=\"1\" width=\"1\"></rect><image x=\"6\" xlink:href=\"https://raw.githubusercontent.com/romstad/Chess.jl/master/img/bp.svg\" y=\"1\" height=\"1\" width=\"1\"></image></g><g><rect x=\"6\" y=\"2\" class=\"light-square\" height=\"1\" width=\"1\"></rect><g></g></g><g><rect x=\"6\" y=\"3\" class=\"dark-square\" height=\"1\" width=\"1\"></rect><g></g></g><g><rect x=\"6\" y=\"4\" class=\"light-square\" height=\"1\" width=\"1\"></rect><g></g></g><g><rect x=\"6\" y=\"5\" class=\"dark-square\" height=\"1\" width=\"1\"></rect><g></g></g><g><rect x=\"6\" y=\"6\" class=\"light-square\" height=\"1\" width=\"1\"></rect><image x=\"6\" xlink:href=\"https://raw.githubusercontent.com/romstad/Chess.jl/master/img/wp.svg\" y=\"6\" height=\"1\" width=\"1\"></image></g><g><rect x=\"6\" y=\"7\" class=\"dark-square\" height=\"1\" width=\"1\"></rect><image x=\"6\" xlink:href=\"https://raw.githubusercontent.com/romstad/Chess.jl/master/img/wn.svg\" y=\"7\" height=\"1\" width=\"1\"></image></g><g><rect x=\"7\" y=\"0\" class=\"dark-square\" height=\"1\" width=\"1\"></rect><image x=\"7\" xlink:href=\"https://raw.githubusercontent.com/romstad/Chess.jl/master/img/br.svg\" y=\"0\" height=\"1\" width=\"1\"></image></g><g><rect x=\"7\" y=\"1\" class=\"light-square\" height=\"1\" width=\"1\"></rect><image x=\"7\" xlink:href=\"https://raw.githubusercontent.com/romstad/Chess.jl/master/img/bp.svg\" y=\"1\" height=\"1\" width=\"1\"></image></g><g><rect x=\"7\" y=\"2\" class=\"dark-square\" height=\"1\" width=\"1\"></rect><g></g></g><g><rect x=\"7\" y=\"3\" class=\"light-square\" height=\"1\" width=\"1\"></rect><g></g></g><g><rect x=\"7\" y=\"4\" class=\"dark-square\" height=\"1\" width=\"1\"></rect><g></g></g><g><rect x=\"7\" y=\"5\" class=\"light-square\" height=\"1\" width=\"1\"></rect><g></g></g><g><rect x=\"7\" y=\"6\" class=\"dark-square\" height=\"1\" width=\"1\"></rect><image x=\"7\" xlink:href=\"https://raw.githubusercontent.com/romstad/Chess.jl/master/img/wp.svg\" y=\"6\" height=\"1\" width=\"1\"></image></g><g><rect x=\"7\" y=\"7\" class=\"light-square\" height=\"1\" width=\"1\"></rect><image x=\"7\" xlink:href=\"https://raw.githubusercontent.com/romstad/Chess.jl/master/img/wr.svg\" y=\"7\" height=\"1\" width=\"1\"></image></g></g><g></g></svg><div><p>White to move</p><p>Castle rights: KQkq</p><p><a href=\"https://lichess.org/editor/rnbqkbnr/pppppppp/8/8/8/8/PPPPPPPP/RNBQKBNR_w_KQkq_-\" target=\"_blank\">Open in lichess</a></p></div></div>"
      ],
      "text/plain": [
       "HTML{String}(\"Board:<div class=\\\"chessboard\\\"><style soped=\\\"true\\\">.dark-square {\\n    fill: #c3936a;\\n    stroke-width: 0;\\n}\\n.light-square {\\n    fill: #ffd7a6;\\n    stroke-width: 0;\\n}\\n.highlight {\\n    fill: #47d18b;\\n}\\n@media (prefers-color-scheme: dark) {\\n    .dark-square {\\n        fill: #00796b;\\n    }\\n    .light-square {\\n        fill: #3ca59b;\\n    }\\n    .highlight {\\n        fill: #d23600;\\n    }\\n}\\n</style><svg style=\\\"float: left; margin-right: 20px\\\" viewBox=\\\"0 0 8 8\\\" height=\\\"280\\\" width=\\\"280\\\"><g><g><rect x=\\\"0\\\" y=\\\"0\\\" class=\\\"light-square\\\" height=\\\"1\\\" width=\\\"1\\\"></rect><image x=\\\"0\\\" xlink:href=\\\"https://raw.githubusercontent.com/romstad/Chess.jl/master/img/br.svg\\\" y=\\\"0\\\" height=\\\"1\\\" width=\\\"1\\\"></image></g><g><rect x=\\\"0\\\" y=\\\"1\\\" class=\\\"dark-square\\\" height=\\\"1\\\" width=\\\"1\\\"></rect><image x=\\\"0\\\" xlink:href=\\\"https://raw.githubusercontent.com/romstad/Chess.jl/master/img/bp.svg\\\" y=\\\"1\\\" height=\\\"1\\\" width=\\\"1\\\"></image></g><g><rect x=\\\"0\\\" y=\\\"2\\\" class=\\\"light-square\\\" height=\\\"1\\\" width=\\\"1\\\"></rect><g></g></g><g><rect x=\\\"0\\\" y=\\\"3\\\" class=\\\"dark-square\\\" height=\\\"1\\\" width=\\\"1\\\"></rect><g></g></g><g><rect x=\\\"0\\\" y=\\\"4\\\" class=\\\"light-square\\\" height=\\\"1\\\" width=\\\"1\\\"></rect><g></g></g><g><rect x=\\\"0\\\" y=\\\"5\\\" class=\\\"dark-square\\\" height=\\\"1\\\" width=\\\"1\\\"></rect><g></g></g><g><rect x=\\\"0\\\" y=\\\"6\\\" class=\\\"light-square\\\" height=\\\"1\\\" width=\\\"1\\\"></rect><image x=\\\"0\\\" xlink:href=\\\"https://raw.githubusercontent.com/romstad/Chess.jl/master/img/wp.svg\\\" y=\\\"6\\\" height=\\\"1\\\" width=\\\"1\\\"></image></g><g><rect x=\\\"0\\\" y=\\\"7\\\" class=\\\"dark-square\\\" height=\\\"1\\\" width=\\\"1\\\"></rect><image x=\\\"0\\\" xlink:href=\\\"https://raw.githubusercontent.com/romstad/Chess.jl/master/img/wr.svg\\\" y=\\\"7\\\" height=\\\"1\\\" width=\\\"1\\\"></image></g><g><rect x=\\\"1\\\" y=\\\"0\\\" class=\\\"dark-square\\\" height=\\\"1\\\" width=\\\"1\\\"></rect><image x=\\\"1\\\" xlink:href=\\\"https://raw.githubusercontent.com/romstad/Chess.jl/master/img/bn.svg\\\" y=\\\"0\\\" height=\\\"1\\\" width=\\\"1\\\"></image></g><g><rect x=\\\"1\\\" y=\\\"1\\\" class=\\\"light-square\\\" height=\\\"1\\\" width=\\\"1\\\"></rect><image x=\\\"1\\\" xlink:href=\\\"https://raw.githubusercontent.com/romstad/Chess.jl/master/img/bp.svg\\\" y=\\\"1\\\" height=\\\"1\\\" width=\\\"1\\\"></image></g><g><rect x=\\\"1\\\" y=\\\"2\\\" class=\\\"dark-square\\\" height=\\\"1\\\" width=\\\"1\\\"></rect><g></g></g><g><rect x=\\\"1\\\" y=\\\"3\\\" class=\\\"light-square\\\" height=\\\"1\\\" width=\\\"1\\\"></rect><g></g></g><g><rect x=\\\"1\\\" y=\\\"4\\\" class=\\\"dark-square\\\" height=\\\"1\\\" width=\\\"1\\\"></rect><g></g></g><g><rect x=\\\"1\\\" y=\\\"5\\\" class=\\\"light-square\\\" height=\\\"1\\\" width=\\\"1\\\"></rect><g></g></g><g><rect x=\\\"1\\\" y=\\\"6\\\" class=\\\"dark-square\\\" height=\\\"1\\\" width=\\\"1\\\"></rect><image x=\\\"1\\\" xlink:href=\\\"https://raw.githubusercontent.com/romstad/Chess.jl/master/img/wp.svg\\\" y=\\\"6\\\" height=\\\"1\\\" width=\\\"1\\\"></image></g><g><rect x=\\\"1\\\" y=\\\"7\\\" class=\\\"light-square\\\" height=\\\"1\\\" width=\\\"1\\\"></rect><image x=\\\"1\\\" xlink:href=\\\"https://raw.githubusercontent.com/romstad/Chess.jl/master/img/wn.svg\\\" y=\\\"7\\\" height=\\\"1\\\" width=\\\"1\\\"></image></g><g><rect x=\\\"2\\\" y=\\\"0\\\" class=\\\"light-square\\\" height=\\\"1\\\" width=\\\"1\\\"></rect><image x=\\\"2\\\" xlink:href=\\\"https://raw.githubusercontent.com/romstad/Chess.jl/master/img/bb.svg\\\" y=\\\"0\\\" height=\\\"1\\\" width=\\\"1\\\"></image></g><g><rect x=\\\"2\\\" y=\\\"1\\\" class=\\\"dark-square\\\" height=\\\"1\\\" width=\\\"1\\\"></rect><image x=\\\"2\\\" xlink:href=\\\"https://raw.githubusercontent.com/romstad/Chess.jl/master/img/bp.svg\\\" y=\\\"1\\\" height=\\\"1\\\" width=\\\"1\\\"></image></g><g><rect x=\\\"2\\\" y=\\\"2\\\" class=\\\"light-square\\\" height=\\\"1\\\" width=\\\"1\\\"></rect><g></g></g><g><rect x=\\\"2\\\" y=\\\"3\\\" class=\\\"dark-square\\\" height=\\\"1\\\" width=\\\"1\\\"></rect><g></g></g><g><rect x=\\\"2\\\" y=\\\"4\\\" class=\\\"light-square\\\" height=\\\"1\\\" width=\\\"1\\\"></rect><g></g></g><g><rect x=\\\"2\\\" y=\\\"5\\\" class=\\\"dark-square\\\" height=\\\"1\\\" width=\\\"1\\\"></rect><g></g></g><g><rect x=\\\"2\\\" y=\\\"6\\\" class=\\\"light-square\\\" height=\\\"1\\\" width=\\\"1\\\"></rect><image x=\\\"2\\\" xlink:href=\\\"https://raw.githubusercontent.com/romstad/Chess.jl/master/img/wp.svg\\\" y=\\\"6\\\" height=\\\"1\\\" width=\\\"1\\\"></image></g><g><rect x=\\\"2\\\" y=\\\"7\\\" class=\\\"dark-square\\\" height=\\\"1\\\" width=\\\"1\\\"></rect><image x=\\\"2\\\" xlink:href=\\\"https://raw.githubusercontent.com/romstad/Chess.jl/master/img/wb.svg\\\" y=\\\"7\\\" height=\\\"1\\\" width=\\\"1\\\"></image></g><g><rect x=\\\"3\\\" y=\\\"0\\\" class=\\\"dark-square\\\" height=\\\"1\\\" width=\\\"1\\\"></rect><image x=\\\"3\\\" xlink:href=\\\"https://raw.githubusercontent.com/romstad/Chess.jl/master/img/bq.svg\\\" y=\\\"0\\\" height=\\\"1\\\" width=\\\"1\\\"></image></g><g><rect x=\\\"3\\\" y=\\\"1\\\" class=\\\"light-square\\\" height=\\\"1\\\" width=\\\"1\\\"></rect><image x=\\\"3\\\" xlink:href=\\\"https://raw.githubusercontent.com/romstad/Chess.jl/master/img/bp.svg\\\" y=\\\"1\\\" height=\\\"1\\\" width=\\\"1\\\"></image></g><g><rect x=\\\"3\\\" y=\\\"2\\\" class=\\\"dark-square\\\" height=\\\"1\\\" width=\\\"1\\\"></rect><g></g></g><g><rect x=\\\"3\\\" y=\\\"3\\\" class=\\\"light-square\\\" height=\\\"1\\\" width=\\\"1\\\"></rect><g></g></g><g><rect x=\\\"3\\\" y=\\\"4\\\" class=\\\"dark-square\\\" height=\\\"1\\\" width=\\\"1\\\"></rect><g></g></g><g><rect x=\\\"3\\\" y=\\\"5\\\" class=\\\"light-square\\\" height=\\\"1\\\" width=\\\"1\\\"></rect><g></g></g><g><rect x=\\\"3\\\" y=\\\"6\\\" class=\\\"dark-square\\\" height=\\\"1\\\" width=\\\"1\\\"></rect><image x=\\\"3\\\" xlink:href=\\\"https://raw.githubusercontent.com/romstad/Chess.jl/master/img/wp.svg\\\" y=\\\"6\\\" height=\\\"1\\\" width=\\\"1\\\"></image></g><g><rect x=\\\"3\\\" y=\\\"7\\\" class=\\\"light-square\\\" height=\\\"1\\\" width=\\\"1\\\"></rect><image x=\\\"3\\\" xlink:href=\\\"https://raw.githubusercontent.com/romstad/Chess.jl/master/img/wq.svg\\\" y=\\\"7\\\" height=\\\"1\\\" width=\\\"1\\\"></image></g><g><rect x=\\\"4\\\" y=\\\"0\\\" class=\\\"light-square\\\" height=\\\"1\\\" width=\\\"1\\\"></rect><image x=\\\"4\\\" xlink:href=\\\"https://raw.githubusercontent.com/romstad/Chess.jl/master/img/bk.svg\\\" y=\\\"0\\\" height=\\\"1\\\" width=\\\"1\\\"></image></g><g><rect x=\\\"4\\\" y=\\\"1\\\" class=\\\"dark-square\\\" height=\\\"1\\\" width=\\\"1\\\"></rect><image x=\\\"4\\\" xlink:href=\\\"https://raw.githubusercontent.com/romstad/Chess.jl/master/img/bp.svg\\\" y=\\\"1\\\" height=\\\"1\\\" width=\\\"1\\\"></image></g><g><rect x=\\\"4\\\" y=\\\"2\\\" class=\\\"light-square\\\" height=\\\"1\\\" width=\\\"1\\\"></rect><g></g></g><g><rect x=\\\"4\\\" y=\\\"3\\\" class=\\\"dark-square\\\" height=\\\"1\\\" width=\\\"1\\\"></rect><g></g></g><g><rect x=\\\"4\\\" y=\\\"4\\\" class=\\\"light-square\\\" height=\\\"1\\\" width=\\\"1\\\"></rect><g></g></g><g><rect x=\\\"4\\\" y=\\\"5\\\" class=\\\"dark-square\\\" height=\\\"1\\\" width=\\\"1\\\"></rect><g></g></g><g><rect x=\\\"4\\\" y=\\\"6\\\" class=\\\"light-square\\\" height=\\\"1\\\" width=\\\"1\\\"></rect><image x=\\\"4\\\" xlink:href=\\\"https://raw.githubusercontent.com/romstad/Chess.jl/master/img/wp.svg\\\" y=\\\"6\\\" height=\\\"1\\\" width=\\\"1\\\"></image></g><g><rect x=\\\"4\\\" y=\\\"7\\\" class=\\\"dark-square\\\" height=\\\"1\\\" width=\\\"1\\\"></rect><image x=\\\"4\\\" xlink:href=\\\"https://raw.githubusercontent.com/romstad/Chess.jl/master/img/wk.svg\\\" y=\\\"7\\\" height=\\\"1\\\" width=\\\"1\\\"></image></g><g><rect x=\\\"5\\\" y=\\\"0\\\" class=\\\"dark-square\\\" height=\\\"1\\\" width=\\\"1\\\"></rect><image x=\\\"5\\\" xlink:href=\\\"https://raw.githubusercontent.com/romstad/Chess.jl/master/img/bb.svg\\\" y=\\\"0\\\" height=\\\"1\\\" width=\\\"1\\\"></image></g><g><rect x=\\\"5\\\" y=\\\"1\\\" class=\\\"light-square\\\" height=\\\"1\\\" width=\\\"1\\\"></rect><image x=\\\"5\\\" xlink:href=\\\"https://raw.githubusercontent.com/romstad/Chess.jl/master/img/bp.svg\\\" y=\\\"1\\\" height=\\\"1\\\" width=\\\"1\\\"></image></g><g><rect x=\\\"5\\\" y=\\\"2\\\" class=\\\"dark-square\\\" height=\\\"1\\\" width=\\\"1\\\"></rect><g></g></g><g><rect x=\\\"5\\\" y=\\\"3\\\" class=\\\"light-square\\\" height=\\\"1\\\" width=\\\"1\\\"></rect><g></g></g><g><rect x=\\\"5\\\" y=\\\"4\\\" class=\\\"dark-square\\\" height=\\\"1\\\" width=\\\"1\\\"></rect><g></g></g><g><rect x=\\\"5\\\" y=\\\"5\\\" class=\\\"light-square\\\" height=\\\"1\\\" width=\\\"1\\\"></rect><g></g></g><g><rect x=\\\"5\\\" y=\\\"6\\\" class=\\\"dark-square\\\" height=\\\"1\\\" width=\\\"1\\\"></rect><image x=\\\"5\\\" xlink:href=\\\"https://raw.githubusercontent.com/romstad/Chess.jl/master/img/wp.svg\\\" y=\\\"6\\\" height=\\\"1\\\" width=\\\"1\\\"></image></g><g><rect x=\\\"5\\\" y=\\\"7\\\" class=\\\"light-square\\\" height=\\\"1\\\" width=\\\"1\\\"></rect><image x=\\\"5\\\" xlink:href=\\\"https://raw.githubusercontent.com/romstad/Chess.jl/master/img/wb.svg\\\" y=\\\"7\\\" height=\\\"1\\\" width=\\\"1\\\"></image></g><g><rect x=\\\"6\\\" y=\\\"0\\\" class=\\\"light-square\\\" height=\\\"1\\\" width=\\\"1\\\"></rect><image x=\\\"6\\\" xlink:href=\\\"https://raw.githubusercontent.com/romstad/Chess.jl/master/img/bn.svg\\\" y=\\\"0\\\" height=\\\"1\\\" width=\\\"1\\\"></image></g><g><rect x=\\\"6\\\" y=\\\"1\\\" class=\\\"dark-square\\\" height=\\\"1\\\" width=\\\"1\\\"></rect><image x=\\\"6\\\" xlink:href=\\\"https://raw.githubusercontent.com/romstad/Chess.jl/master/img/bp.svg\\\" y=\\\"1\\\" height=\\\"1\\\" width=\\\"1\\\"></image></g><g><rect x=\\\"6\\\" y=\\\"2\\\" class=\\\"light-square\\\" height=\\\"1\\\" width=\\\"1\\\"></rect><g></g></g><g><rect x=\\\"6\\\" y=\\\"3\\\" class=\\\"dark-square\\\" height=\\\"1\\\" width=\\\"1\\\"></rect><g></g></g><g><rect x=\\\"6\\\" y=\\\"4\\\" class=\\\"light-square\\\" height=\\\"1\\\" width=\\\"1\\\"></rect><g></g></g><g><rect x=\\\"6\\\" y=\\\"5\\\" class=\\\"dark-square\\\" height=\\\"1\\\" width=\\\"1\\\"></rect><g></g></g><g><rect x=\\\"6\\\" y=\\\"6\\\" class=\\\"light-square\\\" height=\\\"1\\\" width=\\\"1\\\"></rect><image x=\\\"6\\\" xlink:href=\\\"https://raw.githubusercontent.com/romstad/Chess.jl/master/img/wp.svg\\\" y=\\\"6\\\" height=\\\"1\\\" width=\\\"1\\\"></image></g><g><rect x=\\\"6\\\" y=\\\"7\\\" class=\\\"dark-square\\\" height=\\\"1\\\" width=\\\"1\\\"></rect><image x=\\\"6\\\" xlink:href=\\\"https://raw.githubusercontent.com/romstad/Chess.jl/master/img/wn.svg\\\" y=\\\"7\\\" height=\\\"1\\\" width=\\\"1\\\"></image></g><g><rect x=\\\"7\\\" y=\\\"0\\\" class=\\\"dark-square\\\" height=\\\"1\\\" width=\\\"1\\\"></rect><image x=\\\"7\\\" xlink:href=\\\"https://raw.githubusercontent.com/romstad/Chess.jl/master/img/br.svg\\\" y=\\\"0\\\" height=\\\"1\\\" width=\\\"1\\\"></image></g><g><rect x=\\\"7\\\" y=\\\"1\\\" class=\\\"light-square\\\" height=\\\"1\\\" width=\\\"1\\\"></rect><image x=\\\"7\\\" xlink:href=\\\"https://raw.githubusercontent.com/romstad/Chess.jl/master/img/bp.svg\\\" y=\\\"1\\\" height=\\\"1\\\" width=\\\"1\\\"></image></g><g><rect x=\\\"7\\\" y=\\\"2\\\" class=\\\"dark-square\\\" height=\\\"1\\\" width=\\\"1\\\"></rect><g></g></g><g><rect x=\\\"7\\\" y=\\\"3\\\" class=\\\"light-square\\\" height=\\\"1\\\" width=\\\"1\\\"></rect><g></g></g><g><rect x=\\\"7\\\" y=\\\"4\\\" class=\\\"dark-square\\\" height=\\\"1\\\" width=\\\"1\\\"></rect><g></g></g><g><rect x=\\\"7\\\" y=\\\"5\\\" class=\\\"light-square\\\" height=\\\"1\\\" width=\\\"1\\\"></rect><g></g></g><g><rect x=\\\"7\\\" y=\\\"6\\\" class=\\\"dark-square\\\" height=\\\"1\\\" width=\\\"1\\\"></rect><image x=\\\"7\\\" xlink:href=\\\"https://raw.githubusercontent.com/romstad/Chess.jl/master/img/wp.svg\\\" y=\\\"6\\\" height=\\\"1\\\" width=\\\"1\\\"></image></g><g><rect x=\\\"7\\\" y=\\\"7\\\" class=\\\"light-square\\\" height=\\\"1\\\" width=\\\"1\\\"></rect><image x=\\\"7\\\" xlink:href=\\\"https://raw.githubusercontent.com/romstad/Chess.jl/master/img/wr.svg\\\" y=\\\"7\\\" height=\\\"1\\\" width=\\\"1\\\"></image></g></g><g></g></svg><div><p>White to move</p><p>Castle rights: KQkq</p><p><a href=\\\"https://lichess.org/editor/rnbqkbnr/pppppppp/8/8/8/8/PPPPPPPP/RNBQKBNR_w_KQkq_-\\\" target=\\\"_blank\\\">Open in lichess</a></p></div></div>\")"
      ]
     },
     "metadata": {},
     "output_type": "display_data"
    },
    {
     "ename": "LoadError",
     "evalue": "MethodError: no method matching domove!(::SimpleGame, ::Char)\n\u001b[0mClosest candidates are:\n\u001b[0m  domove!(::SimpleGame, \u001b[91m::Move\u001b[39m) at C:\\Users\\luckb\\.julia\\packages\\Chess\\29NoD\\src\\game.jl:837\n\u001b[0m  domove!(::SimpleGame, \u001b[91m::String\u001b[39m) at C:\\Users\\luckb\\.julia\\packages\\Chess\\29NoD\\src\\game.jl:846",
     "output_type": "error",
     "traceback": [
      "MethodError: no method matching domove!(::SimpleGame, ::Char)\n\u001b[0mClosest candidates are:\n\u001b[0m  domove!(::SimpleGame, \u001b[91m::Move\u001b[39m) at C:\\Users\\luckb\\.julia\\packages\\Chess\\29NoD\\src\\game.jl:837\n\u001b[0m  domove!(::SimpleGame, \u001b[91m::String\u001b[39m) at C:\\Users\\luckb\\.julia\\packages\\Chess\\29NoD\\src\\game.jl:846",
      "",
      "Stacktrace:",
      " [1] play_game(ai::TestPlayer, player::TestPlayer, game::SimpleGame, ai_turn::Bool)",
      "   @ Main C:\\Users\\luckb\\OneDrive\\Duales Studium Cyber-Security\\Theoriephasen\\Phase 5\\Studienarbeit\\Notebooks\\chess-ai\\1.2 BasicGame.ipynb:In[1]:19",
      " [2] play_game",
      "   @ C:\\Users\\luckb\\OneDrive\\Duales Studium Cyber-Security\\Theoriephasen\\Phase 5\\Studienarbeit\\Notebooks\\chess-ai\\1.2 BasicGame.ipynb:In[1]:2 [inlined]",
      " [3] test_play_game(expected::String, player1_moves::Vector{Any}, player2_moves::Vector{Any}, board::Board)",
      "   @ Main .\\In[12]:17",
      " [4] test_play_game(expected::String, player1_moves::Vector{Any}, player2_moves::Vector{Any})",
      "   @ Main .\\In[12]:14",
      " [5] top-level scope",
      "   @ In[13]:1",
      " [6] eval",
      "   @ .\\boot.jl:368 [inlined]",
      " [7] include_string(mapexpr::typeof(REPL.softscope), mod::Module, code::String, filename::String)",
      "   @ Base .\\loading.jl:1428"
     ]
    }
   ],
   "source": [
    "println(test_play_game(\n",
    "    \"rnbqkbnr/pppppppp/8/8/8/8/PPPPPPPP/RNBQKBNR w KQkq -\",\n",
    "    [],\n",
    "    []\n",
    "))"
   ]
  },
  {
   "cell_type": "code",
   "execution_count": 14,
   "id": "270485cc",
   "metadata": {},
   "outputs": [
    {
     "data": {
      "text/html": [
       "Board:<div class=\"chessboard\"><style soped=\"true\">.dark-square {\n",
       "    fill: #c3936a;\n",
       "    stroke-width: 0;\n",
       "}\n",
       ".light-square {\n",
       "    fill: #ffd7a6;\n",
       "    stroke-width: 0;\n",
       "}\n",
       ".highlight {\n",
       "    fill: #47d18b;\n",
       "}\n",
       "@media (prefers-color-scheme: dark) {\n",
       "    .dark-square {\n",
       "        fill: #00796b;\n",
       "    }\n",
       "    .light-square {\n",
       "        fill: #3ca59b;\n",
       "    }\n",
       "    .highlight {\n",
       "        fill: #d23600;\n",
       "    }\n",
       "}\n",
       "</style><svg style=\"float: left; margin-right: 20px\" viewBox=\"0 0 8 8\" height=\"280\" width=\"280\"><g><g><rect x=\"0\" y=\"0\" class=\"light-square\" height=\"1\" width=\"1\"></rect><image x=\"0\" xlink:href=\"https://raw.githubusercontent.com/romstad/Chess.jl/master/img/br.svg\" y=\"0\" height=\"1\" width=\"1\"></image></g><g><rect x=\"0\" y=\"1\" class=\"dark-square\" height=\"1\" width=\"1\"></rect><image x=\"0\" xlink:href=\"https://raw.githubusercontent.com/romstad/Chess.jl/master/img/bp.svg\" y=\"1\" height=\"1\" width=\"1\"></image></g><g><rect x=\"0\" y=\"2\" class=\"light-square\" height=\"1\" width=\"1\"></rect><g></g></g><g><rect x=\"0\" y=\"3\" class=\"dark-square\" height=\"1\" width=\"1\"></rect><g></g></g><g><rect x=\"0\" y=\"4\" class=\"light-square\" height=\"1\" width=\"1\"></rect><g></g></g><g><rect x=\"0\" y=\"5\" class=\"dark-square\" height=\"1\" width=\"1\"></rect><g></g></g><g><rect x=\"0\" y=\"6\" class=\"light-square\" height=\"1\" width=\"1\"></rect><image x=\"0\" xlink:href=\"https://raw.githubusercontent.com/romstad/Chess.jl/master/img/wp.svg\" y=\"6\" height=\"1\" width=\"1\"></image></g><g><rect x=\"0\" y=\"7\" class=\"dark-square\" height=\"1\" width=\"1\"></rect><image x=\"0\" xlink:href=\"https://raw.githubusercontent.com/romstad/Chess.jl/master/img/wr.svg\" y=\"7\" height=\"1\" width=\"1\"></image></g><g><rect x=\"1\" y=\"0\" class=\"dark-square\" height=\"1\" width=\"1\"></rect><image x=\"1\" xlink:href=\"https://raw.githubusercontent.com/romstad/Chess.jl/master/img/bn.svg\" y=\"0\" height=\"1\" width=\"1\"></image></g><g><rect x=\"1\" y=\"1\" class=\"light-square\" height=\"1\" width=\"1\"></rect><image x=\"1\" xlink:href=\"https://raw.githubusercontent.com/romstad/Chess.jl/master/img/bp.svg\" y=\"1\" height=\"1\" width=\"1\"></image></g><g><rect x=\"1\" y=\"2\" class=\"dark-square\" height=\"1\" width=\"1\"></rect><g></g></g><g><rect x=\"1\" y=\"3\" class=\"light-square\" height=\"1\" width=\"1\"></rect><g></g></g><g><rect x=\"1\" y=\"4\" class=\"dark-square\" height=\"1\" width=\"1\"></rect><g></g></g><g><rect x=\"1\" y=\"5\" class=\"light-square\" height=\"1\" width=\"1\"></rect><g></g></g><g><rect x=\"1\" y=\"6\" class=\"dark-square\" height=\"1\" width=\"1\"></rect><image x=\"1\" xlink:href=\"https://raw.githubusercontent.com/romstad/Chess.jl/master/img/wp.svg\" y=\"6\" height=\"1\" width=\"1\"></image></g><g><rect x=\"1\" y=\"7\" class=\"light-square\" height=\"1\" width=\"1\"></rect><image x=\"1\" xlink:href=\"https://raw.githubusercontent.com/romstad/Chess.jl/master/img/wn.svg\" y=\"7\" height=\"1\" width=\"1\"></image></g><g><rect x=\"2\" y=\"0\" class=\"light-square\" height=\"1\" width=\"1\"></rect><image x=\"2\" xlink:href=\"https://raw.githubusercontent.com/romstad/Chess.jl/master/img/bb.svg\" y=\"0\" height=\"1\" width=\"1\"></image></g><g><rect x=\"2\" y=\"1\" class=\"dark-square\" height=\"1\" width=\"1\"></rect><image x=\"2\" xlink:href=\"https://raw.githubusercontent.com/romstad/Chess.jl/master/img/bp.svg\" y=\"1\" height=\"1\" width=\"1\"></image></g><g><rect x=\"2\" y=\"2\" class=\"light-square\" height=\"1\" width=\"1\"></rect><g></g></g><g><rect x=\"2\" y=\"3\" class=\"dark-square\" height=\"1\" width=\"1\"></rect><g></g></g><g><rect x=\"2\" y=\"4\" class=\"light-square\" height=\"1\" width=\"1\"></rect><g></g></g><g><rect x=\"2\" y=\"5\" class=\"dark-square\" height=\"1\" width=\"1\"></rect><g></g></g><g><rect x=\"2\" y=\"6\" class=\"light-square\" height=\"1\" width=\"1\"></rect><image x=\"2\" xlink:href=\"https://raw.githubusercontent.com/romstad/Chess.jl/master/img/wp.svg\" y=\"6\" height=\"1\" width=\"1\"></image></g><g><rect x=\"2\" y=\"7\" class=\"dark-square\" height=\"1\" width=\"1\"></rect><image x=\"2\" xlink:href=\"https://raw.githubusercontent.com/romstad/Chess.jl/master/img/wb.svg\" y=\"7\" height=\"1\" width=\"1\"></image></g><g><rect x=\"3\" y=\"0\" class=\"dark-square\" height=\"1\" width=\"1\"></rect><image x=\"3\" xlink:href=\"https://raw.githubusercontent.com/romstad/Chess.jl/master/img/bq.svg\" y=\"0\" height=\"1\" width=\"1\"></image></g><g><rect x=\"3\" y=\"1\" class=\"light-square\" height=\"1\" width=\"1\"></rect><image x=\"3\" xlink:href=\"https://raw.githubusercontent.com/romstad/Chess.jl/master/img/bp.svg\" y=\"1\" height=\"1\" width=\"1\"></image></g><g><rect x=\"3\" y=\"2\" class=\"dark-square\" height=\"1\" width=\"1\"></rect><g></g></g><g><rect x=\"3\" y=\"3\" class=\"light-square\" height=\"1\" width=\"1\"></rect><g></g></g><g><rect x=\"3\" y=\"4\" class=\"dark-square\" height=\"1\" width=\"1\"></rect><g></g></g><g><rect x=\"3\" y=\"5\" class=\"light-square\" height=\"1\" width=\"1\"></rect><g></g></g><g><rect x=\"3\" y=\"6\" class=\"dark-square\" height=\"1\" width=\"1\"></rect><image x=\"3\" xlink:href=\"https://raw.githubusercontent.com/romstad/Chess.jl/master/img/wp.svg\" y=\"6\" height=\"1\" width=\"1\"></image></g><g><rect x=\"3\" y=\"7\" class=\"light-square\" height=\"1\" width=\"1\"></rect><image x=\"3\" xlink:href=\"https://raw.githubusercontent.com/romstad/Chess.jl/master/img/wq.svg\" y=\"7\" height=\"1\" width=\"1\"></image></g><g><rect x=\"4\" y=\"0\" class=\"light-square\" height=\"1\" width=\"1\"></rect><image x=\"4\" xlink:href=\"https://raw.githubusercontent.com/romstad/Chess.jl/master/img/bk.svg\" y=\"0\" height=\"1\" width=\"1\"></image></g><g><rect x=\"4\" y=\"1\" class=\"dark-square\" height=\"1\" width=\"1\"></rect><image x=\"4\" xlink:href=\"https://raw.githubusercontent.com/romstad/Chess.jl/master/img/bp.svg\" y=\"1\" height=\"1\" width=\"1\"></image></g><g><rect x=\"4\" y=\"2\" class=\"light-square\" height=\"1\" width=\"1\"></rect><g></g></g><g><rect x=\"4\" y=\"3\" class=\"dark-square\" height=\"1\" width=\"1\"></rect><g></g></g><g><rect x=\"4\" y=\"4\" class=\"light-square\" height=\"1\" width=\"1\"></rect><g></g></g><g><rect x=\"4\" y=\"5\" class=\"dark-square\" height=\"1\" width=\"1\"></rect><g></g></g><g><rect x=\"4\" y=\"6\" class=\"light-square\" height=\"1\" width=\"1\"></rect><image x=\"4\" xlink:href=\"https://raw.githubusercontent.com/romstad/Chess.jl/master/img/wp.svg\" y=\"6\" height=\"1\" width=\"1\"></image></g><g><rect x=\"4\" y=\"7\" class=\"dark-square\" height=\"1\" width=\"1\"></rect><image x=\"4\" xlink:href=\"https://raw.githubusercontent.com/romstad/Chess.jl/master/img/wk.svg\" y=\"7\" height=\"1\" width=\"1\"></image></g><g><rect x=\"5\" y=\"0\" class=\"dark-square\" height=\"1\" width=\"1\"></rect><image x=\"5\" xlink:href=\"https://raw.githubusercontent.com/romstad/Chess.jl/master/img/bb.svg\" y=\"0\" height=\"1\" width=\"1\"></image></g><g><rect x=\"5\" y=\"1\" class=\"light-square\" height=\"1\" width=\"1\"></rect><image x=\"5\" xlink:href=\"https://raw.githubusercontent.com/romstad/Chess.jl/master/img/bp.svg\" y=\"1\" height=\"1\" width=\"1\"></image></g><g><rect x=\"5\" y=\"2\" class=\"dark-square\" height=\"1\" width=\"1\"></rect><g></g></g><g><rect x=\"5\" y=\"3\" class=\"light-square\" height=\"1\" width=\"1\"></rect><g></g></g><g><rect x=\"5\" y=\"4\" class=\"dark-square\" height=\"1\" width=\"1\"></rect><g></g></g><g><rect x=\"5\" y=\"5\" class=\"light-square\" height=\"1\" width=\"1\"></rect><g></g></g><g><rect x=\"5\" y=\"6\" class=\"dark-square\" height=\"1\" width=\"1\"></rect><image x=\"5\" xlink:href=\"https://raw.githubusercontent.com/romstad/Chess.jl/master/img/wp.svg\" y=\"6\" height=\"1\" width=\"1\"></image></g><g><rect x=\"5\" y=\"7\" class=\"light-square\" height=\"1\" width=\"1\"></rect><image x=\"5\" xlink:href=\"https://raw.githubusercontent.com/romstad/Chess.jl/master/img/wb.svg\" y=\"7\" height=\"1\" width=\"1\"></image></g><g><rect x=\"6\" y=\"0\" class=\"light-square\" height=\"1\" width=\"1\"></rect><image x=\"6\" xlink:href=\"https://raw.githubusercontent.com/romstad/Chess.jl/master/img/bn.svg\" y=\"0\" height=\"1\" width=\"1\"></image></g><g><rect x=\"6\" y=\"1\" class=\"dark-square\" height=\"1\" width=\"1\"></rect><image x=\"6\" xlink:href=\"https://raw.githubusercontent.com/romstad/Chess.jl/master/img/bp.svg\" y=\"1\" height=\"1\" width=\"1\"></image></g><g><rect x=\"6\" y=\"2\" class=\"light-square\" height=\"1\" width=\"1\"></rect><g></g></g><g><rect x=\"6\" y=\"3\" class=\"dark-square\" height=\"1\" width=\"1\"></rect><g></g></g><g><rect x=\"6\" y=\"4\" class=\"light-square\" height=\"1\" width=\"1\"></rect><g></g></g><g><rect x=\"6\" y=\"5\" class=\"dark-square\" height=\"1\" width=\"1\"></rect><g></g></g><g><rect x=\"6\" y=\"6\" class=\"light-square\" height=\"1\" width=\"1\"></rect><image x=\"6\" xlink:href=\"https://raw.githubusercontent.com/romstad/Chess.jl/master/img/wp.svg\" y=\"6\" height=\"1\" width=\"1\"></image></g><g><rect x=\"6\" y=\"7\" class=\"dark-square\" height=\"1\" width=\"1\"></rect><image x=\"6\" xlink:href=\"https://raw.githubusercontent.com/romstad/Chess.jl/master/img/wn.svg\" y=\"7\" height=\"1\" width=\"1\"></image></g><g><rect x=\"7\" y=\"0\" class=\"dark-square\" height=\"1\" width=\"1\"></rect><image x=\"7\" xlink:href=\"https://raw.githubusercontent.com/romstad/Chess.jl/master/img/br.svg\" y=\"0\" height=\"1\" width=\"1\"></image></g><g><rect x=\"7\" y=\"1\" class=\"light-square\" height=\"1\" width=\"1\"></rect><image x=\"7\" xlink:href=\"https://raw.githubusercontent.com/romstad/Chess.jl/master/img/bp.svg\" y=\"1\" height=\"1\" width=\"1\"></image></g><g><rect x=\"7\" y=\"2\" class=\"dark-square\" height=\"1\" width=\"1\"></rect><g></g></g><g><rect x=\"7\" y=\"3\" class=\"light-square\" height=\"1\" width=\"1\"></rect><g></g></g><g><rect x=\"7\" y=\"4\" class=\"dark-square\" height=\"1\" width=\"1\"></rect><g></g></g><g><rect x=\"7\" y=\"5\" class=\"light-square\" height=\"1\" width=\"1\"></rect><g></g></g><g><rect x=\"7\" y=\"6\" class=\"dark-square\" height=\"1\" width=\"1\"></rect><image x=\"7\" xlink:href=\"https://raw.githubusercontent.com/romstad/Chess.jl/master/img/wp.svg\" y=\"6\" height=\"1\" width=\"1\"></image></g><g><rect x=\"7\" y=\"7\" class=\"light-square\" height=\"1\" width=\"1\"></rect><image x=\"7\" xlink:href=\"https://raw.githubusercontent.com/romstad/Chess.jl/master/img/wr.svg\" y=\"7\" height=\"1\" width=\"1\"></image></g></g><g></g></svg><div><p>White to move</p><p>Castle rights: KQkq</p><p><a href=\"https://lichess.org/editor/rnbqkbnr/pppppppp/8/8/8/8/PPPPPPPP/RNBQKBNR_w_KQkq_-\" target=\"_blank\">Open in lichess</a></p></div></div>"
      ],
      "text/plain": [
       "HTML{String}(\"Board:<div class=\\\"chessboard\\\"><style soped=\\\"true\\\">.dark-square {\\n    fill: #c3936a;\\n    stroke-width: 0;\\n}\\n.light-square {\\n    fill: #ffd7a6;\\n    stroke-width: 0;\\n}\\n.highlight {\\n    fill: #47d18b;\\n}\\n@media (prefers-color-scheme: dark) {\\n    .dark-square {\\n        fill: #00796b;\\n    }\\n    .light-square {\\n        fill: #3ca59b;\\n    }\\n    .highlight {\\n        fill: #d23600;\\n    }\\n}\\n</style><svg style=\\\"float: left; margin-right: 20px\\\" viewBox=\\\"0 0 8 8\\\" height=\\\"280\\\" width=\\\"280\\\"><g><g><rect x=\\\"0\\\" y=\\\"0\\\" class=\\\"light-square\\\" height=\\\"1\\\" width=\\\"1\\\"></rect><image x=\\\"0\\\" xlink:href=\\\"https://raw.githubusercontent.com/romstad/Chess.jl/master/img/br.svg\\\" y=\\\"0\\\" height=\\\"1\\\" width=\\\"1\\\"></image></g><g><rect x=\\\"0\\\" y=\\\"1\\\" class=\\\"dark-square\\\" height=\\\"1\\\" width=\\\"1\\\"></rect><image x=\\\"0\\\" xlink:href=\\\"https://raw.githubusercontent.com/romstad/Chess.jl/master/img/bp.svg\\\" y=\\\"1\\\" height=\\\"1\\\" width=\\\"1\\\"></image></g><g><rect x=\\\"0\\\" y=\\\"2\\\" class=\\\"light-square\\\" height=\\\"1\\\" width=\\\"1\\\"></rect><g></g></g><g><rect x=\\\"0\\\" y=\\\"3\\\" class=\\\"dark-square\\\" height=\\\"1\\\" width=\\\"1\\\"></rect><g></g></g><g><rect x=\\\"0\\\" y=\\\"4\\\" class=\\\"light-square\\\" height=\\\"1\\\" width=\\\"1\\\"></rect><g></g></g><g><rect x=\\\"0\\\" y=\\\"5\\\" class=\\\"dark-square\\\" height=\\\"1\\\" width=\\\"1\\\"></rect><g></g></g><g><rect x=\\\"0\\\" y=\\\"6\\\" class=\\\"light-square\\\" height=\\\"1\\\" width=\\\"1\\\"></rect><image x=\\\"0\\\" xlink:href=\\\"https://raw.githubusercontent.com/romstad/Chess.jl/master/img/wp.svg\\\" y=\\\"6\\\" height=\\\"1\\\" width=\\\"1\\\"></image></g><g><rect x=\\\"0\\\" y=\\\"7\\\" class=\\\"dark-square\\\" height=\\\"1\\\" width=\\\"1\\\"></rect><image x=\\\"0\\\" xlink:href=\\\"https://raw.githubusercontent.com/romstad/Chess.jl/master/img/wr.svg\\\" y=\\\"7\\\" height=\\\"1\\\" width=\\\"1\\\"></image></g><g><rect x=\\\"1\\\" y=\\\"0\\\" class=\\\"dark-square\\\" height=\\\"1\\\" width=\\\"1\\\"></rect><image x=\\\"1\\\" xlink:href=\\\"https://raw.githubusercontent.com/romstad/Chess.jl/master/img/bn.svg\\\" y=\\\"0\\\" height=\\\"1\\\" width=\\\"1\\\"></image></g><g><rect x=\\\"1\\\" y=\\\"1\\\" class=\\\"light-square\\\" height=\\\"1\\\" width=\\\"1\\\"></rect><image x=\\\"1\\\" xlink:href=\\\"https://raw.githubusercontent.com/romstad/Chess.jl/master/img/bp.svg\\\" y=\\\"1\\\" height=\\\"1\\\" width=\\\"1\\\"></image></g><g><rect x=\\\"1\\\" y=\\\"2\\\" class=\\\"dark-square\\\" height=\\\"1\\\" width=\\\"1\\\"></rect><g></g></g><g><rect x=\\\"1\\\" y=\\\"3\\\" class=\\\"light-square\\\" height=\\\"1\\\" width=\\\"1\\\"></rect><g></g></g><g><rect x=\\\"1\\\" y=\\\"4\\\" class=\\\"dark-square\\\" height=\\\"1\\\" width=\\\"1\\\"></rect><g></g></g><g><rect x=\\\"1\\\" y=\\\"5\\\" class=\\\"light-square\\\" height=\\\"1\\\" width=\\\"1\\\"></rect><g></g></g><g><rect x=\\\"1\\\" y=\\\"6\\\" class=\\\"dark-square\\\" height=\\\"1\\\" width=\\\"1\\\"></rect><image x=\\\"1\\\" xlink:href=\\\"https://raw.githubusercontent.com/romstad/Chess.jl/master/img/wp.svg\\\" y=\\\"6\\\" height=\\\"1\\\" width=\\\"1\\\"></image></g><g><rect x=\\\"1\\\" y=\\\"7\\\" class=\\\"light-square\\\" height=\\\"1\\\" width=\\\"1\\\"></rect><image x=\\\"1\\\" xlink:href=\\\"https://raw.githubusercontent.com/romstad/Chess.jl/master/img/wn.svg\\\" y=\\\"7\\\" height=\\\"1\\\" width=\\\"1\\\"></image></g><g><rect x=\\\"2\\\" y=\\\"0\\\" class=\\\"light-square\\\" height=\\\"1\\\" width=\\\"1\\\"></rect><image x=\\\"2\\\" xlink:href=\\\"https://raw.githubusercontent.com/romstad/Chess.jl/master/img/bb.svg\\\" y=\\\"0\\\" height=\\\"1\\\" width=\\\"1\\\"></image></g><g><rect x=\\\"2\\\" y=\\\"1\\\" class=\\\"dark-square\\\" height=\\\"1\\\" width=\\\"1\\\"></rect><image x=\\\"2\\\" xlink:href=\\\"https://raw.githubusercontent.com/romstad/Chess.jl/master/img/bp.svg\\\" y=\\\"1\\\" height=\\\"1\\\" width=\\\"1\\\"></image></g><g><rect x=\\\"2\\\" y=\\\"2\\\" class=\\\"light-square\\\" height=\\\"1\\\" width=\\\"1\\\"></rect><g></g></g><g><rect x=\\\"2\\\" y=\\\"3\\\" class=\\\"dark-square\\\" height=\\\"1\\\" width=\\\"1\\\"></rect><g></g></g><g><rect x=\\\"2\\\" y=\\\"4\\\" class=\\\"light-square\\\" height=\\\"1\\\" width=\\\"1\\\"></rect><g></g></g><g><rect x=\\\"2\\\" y=\\\"5\\\" class=\\\"dark-square\\\" height=\\\"1\\\" width=\\\"1\\\"></rect><g></g></g><g><rect x=\\\"2\\\" y=\\\"6\\\" class=\\\"light-square\\\" height=\\\"1\\\" width=\\\"1\\\"></rect><image x=\\\"2\\\" xlink:href=\\\"https://raw.githubusercontent.com/romstad/Chess.jl/master/img/wp.svg\\\" y=\\\"6\\\" height=\\\"1\\\" width=\\\"1\\\"></image></g><g><rect x=\\\"2\\\" y=\\\"7\\\" class=\\\"dark-square\\\" height=\\\"1\\\" width=\\\"1\\\"></rect><image x=\\\"2\\\" xlink:href=\\\"https://raw.githubusercontent.com/romstad/Chess.jl/master/img/wb.svg\\\" y=\\\"7\\\" height=\\\"1\\\" width=\\\"1\\\"></image></g><g><rect x=\\\"3\\\" y=\\\"0\\\" class=\\\"dark-square\\\" height=\\\"1\\\" width=\\\"1\\\"></rect><image x=\\\"3\\\" xlink:href=\\\"https://raw.githubusercontent.com/romstad/Chess.jl/master/img/bq.svg\\\" y=\\\"0\\\" height=\\\"1\\\" width=\\\"1\\\"></image></g><g><rect x=\\\"3\\\" y=\\\"1\\\" class=\\\"light-square\\\" height=\\\"1\\\" width=\\\"1\\\"></rect><image x=\\\"3\\\" xlink:href=\\\"https://raw.githubusercontent.com/romstad/Chess.jl/master/img/bp.svg\\\" y=\\\"1\\\" height=\\\"1\\\" width=\\\"1\\\"></image></g><g><rect x=\\\"3\\\" y=\\\"2\\\" class=\\\"dark-square\\\" height=\\\"1\\\" width=\\\"1\\\"></rect><g></g></g><g><rect x=\\\"3\\\" y=\\\"3\\\" class=\\\"light-square\\\" height=\\\"1\\\" width=\\\"1\\\"></rect><g></g></g><g><rect x=\\\"3\\\" y=\\\"4\\\" class=\\\"dark-square\\\" height=\\\"1\\\" width=\\\"1\\\"></rect><g></g></g><g><rect x=\\\"3\\\" y=\\\"5\\\" class=\\\"light-square\\\" height=\\\"1\\\" width=\\\"1\\\"></rect><g></g></g><g><rect x=\\\"3\\\" y=\\\"6\\\" class=\\\"dark-square\\\" height=\\\"1\\\" width=\\\"1\\\"></rect><image x=\\\"3\\\" xlink:href=\\\"https://raw.githubusercontent.com/romstad/Chess.jl/master/img/wp.svg\\\" y=\\\"6\\\" height=\\\"1\\\" width=\\\"1\\\"></image></g><g><rect x=\\\"3\\\" y=\\\"7\\\" class=\\\"light-square\\\" height=\\\"1\\\" width=\\\"1\\\"></rect><image x=\\\"3\\\" xlink:href=\\\"https://raw.githubusercontent.com/romstad/Chess.jl/master/img/wq.svg\\\" y=\\\"7\\\" height=\\\"1\\\" width=\\\"1\\\"></image></g><g><rect x=\\\"4\\\" y=\\\"0\\\" class=\\\"light-square\\\" height=\\\"1\\\" width=\\\"1\\\"></rect><image x=\\\"4\\\" xlink:href=\\\"https://raw.githubusercontent.com/romstad/Chess.jl/master/img/bk.svg\\\" y=\\\"0\\\" height=\\\"1\\\" width=\\\"1\\\"></image></g><g><rect x=\\\"4\\\" y=\\\"1\\\" class=\\\"dark-square\\\" height=\\\"1\\\" width=\\\"1\\\"></rect><image x=\\\"4\\\" xlink:href=\\\"https://raw.githubusercontent.com/romstad/Chess.jl/master/img/bp.svg\\\" y=\\\"1\\\" height=\\\"1\\\" width=\\\"1\\\"></image></g><g><rect x=\\\"4\\\" y=\\\"2\\\" class=\\\"light-square\\\" height=\\\"1\\\" width=\\\"1\\\"></rect><g></g></g><g><rect x=\\\"4\\\" y=\\\"3\\\" class=\\\"dark-square\\\" height=\\\"1\\\" width=\\\"1\\\"></rect><g></g></g><g><rect x=\\\"4\\\" y=\\\"4\\\" class=\\\"light-square\\\" height=\\\"1\\\" width=\\\"1\\\"></rect><g></g></g><g><rect x=\\\"4\\\" y=\\\"5\\\" class=\\\"dark-square\\\" height=\\\"1\\\" width=\\\"1\\\"></rect><g></g></g><g><rect x=\\\"4\\\" y=\\\"6\\\" class=\\\"light-square\\\" height=\\\"1\\\" width=\\\"1\\\"></rect><image x=\\\"4\\\" xlink:href=\\\"https://raw.githubusercontent.com/romstad/Chess.jl/master/img/wp.svg\\\" y=\\\"6\\\" height=\\\"1\\\" width=\\\"1\\\"></image></g><g><rect x=\\\"4\\\" y=\\\"7\\\" class=\\\"dark-square\\\" height=\\\"1\\\" width=\\\"1\\\"></rect><image x=\\\"4\\\" xlink:href=\\\"https://raw.githubusercontent.com/romstad/Chess.jl/master/img/wk.svg\\\" y=\\\"7\\\" height=\\\"1\\\" width=\\\"1\\\"></image></g><g><rect x=\\\"5\\\" y=\\\"0\\\" class=\\\"dark-square\\\" height=\\\"1\\\" width=\\\"1\\\"></rect><image x=\\\"5\\\" xlink:href=\\\"https://raw.githubusercontent.com/romstad/Chess.jl/master/img/bb.svg\\\" y=\\\"0\\\" height=\\\"1\\\" width=\\\"1\\\"></image></g><g><rect x=\\\"5\\\" y=\\\"1\\\" class=\\\"light-square\\\" height=\\\"1\\\" width=\\\"1\\\"></rect><image x=\\\"5\\\" xlink:href=\\\"https://raw.githubusercontent.com/romstad/Chess.jl/master/img/bp.svg\\\" y=\\\"1\\\" height=\\\"1\\\" width=\\\"1\\\"></image></g><g><rect x=\\\"5\\\" y=\\\"2\\\" class=\\\"dark-square\\\" height=\\\"1\\\" width=\\\"1\\\"></rect><g></g></g><g><rect x=\\\"5\\\" y=\\\"3\\\" class=\\\"light-square\\\" height=\\\"1\\\" width=\\\"1\\\"></rect><g></g></g><g><rect x=\\\"5\\\" y=\\\"4\\\" class=\\\"dark-square\\\" height=\\\"1\\\" width=\\\"1\\\"></rect><g></g></g><g><rect x=\\\"5\\\" y=\\\"5\\\" class=\\\"light-square\\\" height=\\\"1\\\" width=\\\"1\\\"></rect><g></g></g><g><rect x=\\\"5\\\" y=\\\"6\\\" class=\\\"dark-square\\\" height=\\\"1\\\" width=\\\"1\\\"></rect><image x=\\\"5\\\" xlink:href=\\\"https://raw.githubusercontent.com/romstad/Chess.jl/master/img/wp.svg\\\" y=\\\"6\\\" height=\\\"1\\\" width=\\\"1\\\"></image></g><g><rect x=\\\"5\\\" y=\\\"7\\\" class=\\\"light-square\\\" height=\\\"1\\\" width=\\\"1\\\"></rect><image x=\\\"5\\\" xlink:href=\\\"https://raw.githubusercontent.com/romstad/Chess.jl/master/img/wb.svg\\\" y=\\\"7\\\" height=\\\"1\\\" width=\\\"1\\\"></image></g><g><rect x=\\\"6\\\" y=\\\"0\\\" class=\\\"light-square\\\" height=\\\"1\\\" width=\\\"1\\\"></rect><image x=\\\"6\\\" xlink:href=\\\"https://raw.githubusercontent.com/romstad/Chess.jl/master/img/bn.svg\\\" y=\\\"0\\\" height=\\\"1\\\" width=\\\"1\\\"></image></g><g><rect x=\\\"6\\\" y=\\\"1\\\" class=\\\"dark-square\\\" height=\\\"1\\\" width=\\\"1\\\"></rect><image x=\\\"6\\\" xlink:href=\\\"https://raw.githubusercontent.com/romstad/Chess.jl/master/img/bp.svg\\\" y=\\\"1\\\" height=\\\"1\\\" width=\\\"1\\\"></image></g><g><rect x=\\\"6\\\" y=\\\"2\\\" class=\\\"light-square\\\" height=\\\"1\\\" width=\\\"1\\\"></rect><g></g></g><g><rect x=\\\"6\\\" y=\\\"3\\\" class=\\\"dark-square\\\" height=\\\"1\\\" width=\\\"1\\\"></rect><g></g></g><g><rect x=\\\"6\\\" y=\\\"4\\\" class=\\\"light-square\\\" height=\\\"1\\\" width=\\\"1\\\"></rect><g></g></g><g><rect x=\\\"6\\\" y=\\\"5\\\" class=\\\"dark-square\\\" height=\\\"1\\\" width=\\\"1\\\"></rect><g></g></g><g><rect x=\\\"6\\\" y=\\\"6\\\" class=\\\"light-square\\\" height=\\\"1\\\" width=\\\"1\\\"></rect><image x=\\\"6\\\" xlink:href=\\\"https://raw.githubusercontent.com/romstad/Chess.jl/master/img/wp.svg\\\" y=\\\"6\\\" height=\\\"1\\\" width=\\\"1\\\"></image></g><g><rect x=\\\"6\\\" y=\\\"7\\\" class=\\\"dark-square\\\" height=\\\"1\\\" width=\\\"1\\\"></rect><image x=\\\"6\\\" xlink:href=\\\"https://raw.githubusercontent.com/romstad/Chess.jl/master/img/wn.svg\\\" y=\\\"7\\\" height=\\\"1\\\" width=\\\"1\\\"></image></g><g><rect x=\\\"7\\\" y=\\\"0\\\" class=\\\"dark-square\\\" height=\\\"1\\\" width=\\\"1\\\"></rect><image x=\\\"7\\\" xlink:href=\\\"https://raw.githubusercontent.com/romstad/Chess.jl/master/img/br.svg\\\" y=\\\"0\\\" height=\\\"1\\\" width=\\\"1\\\"></image></g><g><rect x=\\\"7\\\" y=\\\"1\\\" class=\\\"light-square\\\" height=\\\"1\\\" width=\\\"1\\\"></rect><image x=\\\"7\\\" xlink:href=\\\"https://raw.githubusercontent.com/romstad/Chess.jl/master/img/bp.svg\\\" y=\\\"1\\\" height=\\\"1\\\" width=\\\"1\\\"></image></g><g><rect x=\\\"7\\\" y=\\\"2\\\" class=\\\"dark-square\\\" height=\\\"1\\\" width=\\\"1\\\"></rect><g></g></g><g><rect x=\\\"7\\\" y=\\\"3\\\" class=\\\"light-square\\\" height=\\\"1\\\" width=\\\"1\\\"></rect><g></g></g><g><rect x=\\\"7\\\" y=\\\"4\\\" class=\\\"dark-square\\\" height=\\\"1\\\" width=\\\"1\\\"></rect><g></g></g><g><rect x=\\\"7\\\" y=\\\"5\\\" class=\\\"light-square\\\" height=\\\"1\\\" width=\\\"1\\\"></rect><g></g></g><g><rect x=\\\"7\\\" y=\\\"6\\\" class=\\\"dark-square\\\" height=\\\"1\\\" width=\\\"1\\\"></rect><image x=\\\"7\\\" xlink:href=\\\"https://raw.githubusercontent.com/romstad/Chess.jl/master/img/wp.svg\\\" y=\\\"6\\\" height=\\\"1\\\" width=\\\"1\\\"></image></g><g><rect x=\\\"7\\\" y=\\\"7\\\" class=\\\"light-square\\\" height=\\\"1\\\" width=\\\"1\\\"></rect><image x=\\\"7\\\" xlink:href=\\\"https://raw.githubusercontent.com/romstad/Chess.jl/master/img/wr.svg\\\" y=\\\"7\\\" height=\\\"1\\\" width=\\\"1\\\"></image></g></g><g></g></svg><div><p>White to move</p><p>Castle rights: KQkq</p><p><a href=\\\"https://lichess.org/editor/rnbqkbnr/pppppppp/8/8/8/8/PPPPPPPP/RNBQKBNR_w_KQkq_-\\\" target=\\\"_blank\\\">Open in lichess</a></p></div></div>\")"
      ]
     },
     "metadata": {},
     "output_type": "display_data"
    },
    {
     "ename": "LoadError",
     "evalue": "MethodError: no method matching iterate(::Move)\n\u001b[0mClosest candidates are:\n\u001b[0m  iterate(\u001b[91m::Union{LinRange, StepRangeLen}\u001b[39m) at range.jl:872\n\u001b[0m  iterate(\u001b[91m::Union{LinRange, StepRangeLen}\u001b[39m, \u001b[91m::Integer\u001b[39m) at range.jl:872\n\u001b[0m  iterate(\u001b[91m::T\u001b[39m) where T<:Union{Base.KeySet{<:Any, <:Dict}, Base.ValueIterator{<:Dict}} at dict.jl:712\n\u001b[0m  ...",
     "output_type": "error",
     "traceback": [
      "MethodError: no method matching iterate(::Move)\n\u001b[0mClosest candidates are:\n\u001b[0m  iterate(\u001b[91m::Union{LinRange, StepRangeLen}\u001b[39m) at range.jl:872\n\u001b[0m  iterate(\u001b[91m::Union{LinRange, StepRangeLen}\u001b[39m, \u001b[91m::Integer\u001b[39m) at range.jl:872\n\u001b[0m  iterate(\u001b[91m::T\u001b[39m) where T<:Union{Base.KeySet{<:Any, <:Dict}, Base.ValueIterator{<:Dict}} at dict.jl:712\n\u001b[0m  ...",
      "",
      "Stacktrace:",
      "  [1] indexed_iterate(I::Move, i::Int64)",
      "    @ Base .\\tuple.jl:91",
      "  [2] macro expansion",
      "    @ C:\\Users\\luckb\\OneDrive\\Duales Studium Cyber-Security\\Theoriephasen\\Phase 5\\Studienarbeit\\Notebooks\\chess-ai\\1.2 BasicGame.ipynb:In[1]:6 [inlined]",
      "  [3] macro expansion",
      "    @ .\\timing.jl:382 [inlined]",
      "  [4] play_game(ai::TestPlayer, player::TestPlayer, game::SimpleGame, ai_turn::Bool)",
      "    @ Main C:\\Users\\luckb\\OneDrive\\Duales Studium Cyber-Security\\Theoriephasen\\Phase 5\\Studienarbeit\\Notebooks\\chess-ai\\1.2 BasicGame.ipynb:In[1]:5",
      "  [5] play_game",
      "    @ C:\\Users\\luckb\\OneDrive\\Duales Studium Cyber-Security\\Theoriephasen\\Phase 5\\Studienarbeit\\Notebooks\\chess-ai\\1.2 BasicGame.ipynb:In[1]:2 [inlined]",
      "  [6] test_play_game(expected::String, player1_moves::Vector{Any}, player2_moves::Vector{Move}, board::Board)",
      "    @ Main .\\In[12]:17",
      "  [7] test_play_game(expected::String, player1_moves::Vector{Any}, player2_moves::Vector{Move})",
      "    @ Main .\\In[12]:14",
      "  [8] top-level scope",
      "    @ In[14]:1",
      "  [9] eval",
      "    @ .\\boot.jl:368 [inlined]",
      " [10] include_string(mapexpr::typeof(REPL.softscope), mod::Module, code::String, filename::String)",
      "    @ Base .\\loading.jl:1428"
     ]
    }
   ],
   "source": [
    "println(test_play_game(\n",
    "    \"rnbqkbnr/pppppppp/8/8/4P3/8/PPPP1PPP/RNBQKBNR b KQkq -\",\n",
    "    [],\n",
    "    [Move(SQ_E2, SQ_E4)]\n",
    "))"
   ]
  },
  {
   "cell_type": "code",
   "execution_count": 15,
   "id": "a3d0aaea",
   "metadata": {},
   "outputs": [
    {
     "data": {
      "text/html": [
       "Board:<div class=\"chessboard\"><style soped=\"true\">.dark-square {\n",
       "    fill: #c3936a;\n",
       "    stroke-width: 0;\n",
       "}\n",
       ".light-square {\n",
       "    fill: #ffd7a6;\n",
       "    stroke-width: 0;\n",
       "}\n",
       ".highlight {\n",
       "    fill: #47d18b;\n",
       "}\n",
       "@media (prefers-color-scheme: dark) {\n",
       "    .dark-square {\n",
       "        fill: #00796b;\n",
       "    }\n",
       "    .light-square {\n",
       "        fill: #3ca59b;\n",
       "    }\n",
       "    .highlight {\n",
       "        fill: #d23600;\n",
       "    }\n",
       "}\n",
       "</style><svg style=\"float: left; margin-right: 20px\" viewBox=\"0 0 8 8\" height=\"280\" width=\"280\"><g><g><rect x=\"0\" y=\"0\" class=\"light-square\" height=\"1\" width=\"1\"></rect><image x=\"0\" xlink:href=\"https://raw.githubusercontent.com/romstad/Chess.jl/master/img/br.svg\" y=\"0\" height=\"1\" width=\"1\"></image></g><g><rect x=\"0\" y=\"1\" class=\"dark-square\" height=\"1\" width=\"1\"></rect><image x=\"0\" xlink:href=\"https://raw.githubusercontent.com/romstad/Chess.jl/master/img/bp.svg\" y=\"1\" height=\"1\" width=\"1\"></image></g><g><rect x=\"0\" y=\"2\" class=\"light-square\" height=\"1\" width=\"1\"></rect><g></g></g><g><rect x=\"0\" y=\"3\" class=\"dark-square\" height=\"1\" width=\"1\"></rect><g></g></g><g><rect x=\"0\" y=\"4\" class=\"light-square\" height=\"1\" width=\"1\"></rect><g></g></g><g><rect x=\"0\" y=\"5\" class=\"dark-square\" height=\"1\" width=\"1\"></rect><g></g></g><g><rect x=\"0\" y=\"6\" class=\"light-square\" height=\"1\" width=\"1\"></rect><image x=\"0\" xlink:href=\"https://raw.githubusercontent.com/romstad/Chess.jl/master/img/wp.svg\" y=\"6\" height=\"1\" width=\"1\"></image></g><g><rect x=\"0\" y=\"7\" class=\"dark-square\" height=\"1\" width=\"1\"></rect><image x=\"0\" xlink:href=\"https://raw.githubusercontent.com/romstad/Chess.jl/master/img/wr.svg\" y=\"7\" height=\"1\" width=\"1\"></image></g><g><rect x=\"1\" y=\"0\" class=\"dark-square\" height=\"1\" width=\"1\"></rect><image x=\"1\" xlink:href=\"https://raw.githubusercontent.com/romstad/Chess.jl/master/img/bn.svg\" y=\"0\" height=\"1\" width=\"1\"></image></g><g><rect x=\"1\" y=\"1\" class=\"light-square\" height=\"1\" width=\"1\"></rect><image x=\"1\" xlink:href=\"https://raw.githubusercontent.com/romstad/Chess.jl/master/img/bp.svg\" y=\"1\" height=\"1\" width=\"1\"></image></g><g><rect x=\"1\" y=\"2\" class=\"dark-square\" height=\"1\" width=\"1\"></rect><g></g></g><g><rect x=\"1\" y=\"3\" class=\"light-square\" height=\"1\" width=\"1\"></rect><g></g></g><g><rect x=\"1\" y=\"4\" class=\"dark-square\" height=\"1\" width=\"1\"></rect><g></g></g><g><rect x=\"1\" y=\"5\" class=\"light-square\" height=\"1\" width=\"1\"></rect><g></g></g><g><rect x=\"1\" y=\"6\" class=\"dark-square\" height=\"1\" width=\"1\"></rect><image x=\"1\" xlink:href=\"https://raw.githubusercontent.com/romstad/Chess.jl/master/img/wp.svg\" y=\"6\" height=\"1\" width=\"1\"></image></g><g><rect x=\"1\" y=\"7\" class=\"light-square\" height=\"1\" width=\"1\"></rect><image x=\"1\" xlink:href=\"https://raw.githubusercontent.com/romstad/Chess.jl/master/img/wn.svg\" y=\"7\" height=\"1\" width=\"1\"></image></g><g><rect x=\"2\" y=\"0\" class=\"light-square\" height=\"1\" width=\"1\"></rect><image x=\"2\" xlink:href=\"https://raw.githubusercontent.com/romstad/Chess.jl/master/img/bb.svg\" y=\"0\" height=\"1\" width=\"1\"></image></g><g><rect x=\"2\" y=\"1\" class=\"dark-square\" height=\"1\" width=\"1\"></rect><image x=\"2\" xlink:href=\"https://raw.githubusercontent.com/romstad/Chess.jl/master/img/bp.svg\" y=\"1\" height=\"1\" width=\"1\"></image></g><g><rect x=\"2\" y=\"2\" class=\"light-square\" height=\"1\" width=\"1\"></rect><g></g></g><g><rect x=\"2\" y=\"3\" class=\"dark-square\" height=\"1\" width=\"1\"></rect><g></g></g><g><rect x=\"2\" y=\"4\" class=\"light-square\" height=\"1\" width=\"1\"></rect><g></g></g><g><rect x=\"2\" y=\"5\" class=\"dark-square\" height=\"1\" width=\"1\"></rect><g></g></g><g><rect x=\"2\" y=\"6\" class=\"light-square\" height=\"1\" width=\"1\"></rect><image x=\"2\" xlink:href=\"https://raw.githubusercontent.com/romstad/Chess.jl/master/img/wp.svg\" y=\"6\" height=\"1\" width=\"1\"></image></g><g><rect x=\"2\" y=\"7\" class=\"dark-square\" height=\"1\" width=\"1\"></rect><image x=\"2\" xlink:href=\"https://raw.githubusercontent.com/romstad/Chess.jl/master/img/wb.svg\" y=\"7\" height=\"1\" width=\"1\"></image></g><g><rect x=\"3\" y=\"0\" class=\"dark-square\" height=\"1\" width=\"1\"></rect><image x=\"3\" xlink:href=\"https://raw.githubusercontent.com/romstad/Chess.jl/master/img/bq.svg\" y=\"0\" height=\"1\" width=\"1\"></image></g><g><rect x=\"3\" y=\"1\" class=\"light-square\" height=\"1\" width=\"1\"></rect><image x=\"3\" xlink:href=\"https://raw.githubusercontent.com/romstad/Chess.jl/master/img/bp.svg\" y=\"1\" height=\"1\" width=\"1\"></image></g><g><rect x=\"3\" y=\"2\" class=\"dark-square\" height=\"1\" width=\"1\"></rect><g></g></g><g><rect x=\"3\" y=\"3\" class=\"light-square\" height=\"1\" width=\"1\"></rect><g></g></g><g><rect x=\"3\" y=\"4\" class=\"dark-square\" height=\"1\" width=\"1\"></rect><g></g></g><g><rect x=\"3\" y=\"5\" class=\"light-square\" height=\"1\" width=\"1\"></rect><g></g></g><g><rect x=\"3\" y=\"6\" class=\"dark-square\" height=\"1\" width=\"1\"></rect><image x=\"3\" xlink:href=\"https://raw.githubusercontent.com/romstad/Chess.jl/master/img/wp.svg\" y=\"6\" height=\"1\" width=\"1\"></image></g><g><rect x=\"3\" y=\"7\" class=\"light-square\" height=\"1\" width=\"1\"></rect><image x=\"3\" xlink:href=\"https://raw.githubusercontent.com/romstad/Chess.jl/master/img/wq.svg\" y=\"7\" height=\"1\" width=\"1\"></image></g><g><rect x=\"4\" y=\"0\" class=\"light-square\" height=\"1\" width=\"1\"></rect><image x=\"4\" xlink:href=\"https://raw.githubusercontent.com/romstad/Chess.jl/master/img/bk.svg\" y=\"0\" height=\"1\" width=\"1\"></image></g><g><rect x=\"4\" y=\"1\" class=\"dark-square\" height=\"1\" width=\"1\"></rect><image x=\"4\" xlink:href=\"https://raw.githubusercontent.com/romstad/Chess.jl/master/img/bp.svg\" y=\"1\" height=\"1\" width=\"1\"></image></g><g><rect x=\"4\" y=\"2\" class=\"light-square\" height=\"1\" width=\"1\"></rect><g></g></g><g><rect x=\"4\" y=\"3\" class=\"dark-square\" height=\"1\" width=\"1\"></rect><g></g></g><g><rect x=\"4\" y=\"4\" class=\"light-square\" height=\"1\" width=\"1\"></rect><g></g></g><g><rect x=\"4\" y=\"5\" class=\"dark-square\" height=\"1\" width=\"1\"></rect><g></g></g><g><rect x=\"4\" y=\"6\" class=\"light-square\" height=\"1\" width=\"1\"></rect><image x=\"4\" xlink:href=\"https://raw.githubusercontent.com/romstad/Chess.jl/master/img/wp.svg\" y=\"6\" height=\"1\" width=\"1\"></image></g><g><rect x=\"4\" y=\"7\" class=\"dark-square\" height=\"1\" width=\"1\"></rect><image x=\"4\" xlink:href=\"https://raw.githubusercontent.com/romstad/Chess.jl/master/img/wk.svg\" y=\"7\" height=\"1\" width=\"1\"></image></g><g><rect x=\"5\" y=\"0\" class=\"dark-square\" height=\"1\" width=\"1\"></rect><image x=\"5\" xlink:href=\"https://raw.githubusercontent.com/romstad/Chess.jl/master/img/bb.svg\" y=\"0\" height=\"1\" width=\"1\"></image></g><g><rect x=\"5\" y=\"1\" class=\"light-square\" height=\"1\" width=\"1\"></rect><image x=\"5\" xlink:href=\"https://raw.githubusercontent.com/romstad/Chess.jl/master/img/bp.svg\" y=\"1\" height=\"1\" width=\"1\"></image></g><g><rect x=\"5\" y=\"2\" class=\"dark-square\" height=\"1\" width=\"1\"></rect><g></g></g><g><rect x=\"5\" y=\"3\" class=\"light-square\" height=\"1\" width=\"1\"></rect><g></g></g><g><rect x=\"5\" y=\"4\" class=\"dark-square\" height=\"1\" width=\"1\"></rect><g></g></g><g><rect x=\"5\" y=\"5\" class=\"light-square\" height=\"1\" width=\"1\"></rect><g></g></g><g><rect x=\"5\" y=\"6\" class=\"dark-square\" height=\"1\" width=\"1\"></rect><image x=\"5\" xlink:href=\"https://raw.githubusercontent.com/romstad/Chess.jl/master/img/wp.svg\" y=\"6\" height=\"1\" width=\"1\"></image></g><g><rect x=\"5\" y=\"7\" class=\"light-square\" height=\"1\" width=\"1\"></rect><image x=\"5\" xlink:href=\"https://raw.githubusercontent.com/romstad/Chess.jl/master/img/wb.svg\" y=\"7\" height=\"1\" width=\"1\"></image></g><g><rect x=\"6\" y=\"0\" class=\"light-square\" height=\"1\" width=\"1\"></rect><image x=\"6\" xlink:href=\"https://raw.githubusercontent.com/romstad/Chess.jl/master/img/bn.svg\" y=\"0\" height=\"1\" width=\"1\"></image></g><g><rect x=\"6\" y=\"1\" class=\"dark-square\" height=\"1\" width=\"1\"></rect><image x=\"6\" xlink:href=\"https://raw.githubusercontent.com/romstad/Chess.jl/master/img/bp.svg\" y=\"1\" height=\"1\" width=\"1\"></image></g><g><rect x=\"6\" y=\"2\" class=\"light-square\" height=\"1\" width=\"1\"></rect><g></g></g><g><rect x=\"6\" y=\"3\" class=\"dark-square\" height=\"1\" width=\"1\"></rect><g></g></g><g><rect x=\"6\" y=\"4\" class=\"light-square\" height=\"1\" width=\"1\"></rect><g></g></g><g><rect x=\"6\" y=\"5\" class=\"dark-square\" height=\"1\" width=\"1\"></rect><g></g></g><g><rect x=\"6\" y=\"6\" class=\"light-square\" height=\"1\" width=\"1\"></rect><image x=\"6\" xlink:href=\"https://raw.githubusercontent.com/romstad/Chess.jl/master/img/wp.svg\" y=\"6\" height=\"1\" width=\"1\"></image></g><g><rect x=\"6\" y=\"7\" class=\"dark-square\" height=\"1\" width=\"1\"></rect><image x=\"6\" xlink:href=\"https://raw.githubusercontent.com/romstad/Chess.jl/master/img/wn.svg\" y=\"7\" height=\"1\" width=\"1\"></image></g><g><rect x=\"7\" y=\"0\" class=\"dark-square\" height=\"1\" width=\"1\"></rect><image x=\"7\" xlink:href=\"https://raw.githubusercontent.com/romstad/Chess.jl/master/img/br.svg\" y=\"0\" height=\"1\" width=\"1\"></image></g><g><rect x=\"7\" y=\"1\" class=\"light-square\" height=\"1\" width=\"1\"></rect><image x=\"7\" xlink:href=\"https://raw.githubusercontent.com/romstad/Chess.jl/master/img/bp.svg\" y=\"1\" height=\"1\" width=\"1\"></image></g><g><rect x=\"7\" y=\"2\" class=\"dark-square\" height=\"1\" width=\"1\"></rect><g></g></g><g><rect x=\"7\" y=\"3\" class=\"light-square\" height=\"1\" width=\"1\"></rect><g></g></g><g><rect x=\"7\" y=\"4\" class=\"dark-square\" height=\"1\" width=\"1\"></rect><g></g></g><g><rect x=\"7\" y=\"5\" class=\"light-square\" height=\"1\" width=\"1\"></rect><g></g></g><g><rect x=\"7\" y=\"6\" class=\"dark-square\" height=\"1\" width=\"1\"></rect><image x=\"7\" xlink:href=\"https://raw.githubusercontent.com/romstad/Chess.jl/master/img/wp.svg\" y=\"6\" height=\"1\" width=\"1\"></image></g><g><rect x=\"7\" y=\"7\" class=\"light-square\" height=\"1\" width=\"1\"></rect><image x=\"7\" xlink:href=\"https://raw.githubusercontent.com/romstad/Chess.jl/master/img/wr.svg\" y=\"7\" height=\"1\" width=\"1\"></image></g></g><g></g></svg><div><p>White to move</p><p>Castle rights: KQkq</p><p><a href=\"https://lichess.org/editor/rnbqkbnr/pppppppp/8/8/8/8/PPPPPPPP/RNBQKBNR_w_KQkq_-\" target=\"_blank\">Open in lichess</a></p></div></div>"
      ],
      "text/plain": [
       "HTML{String}(\"Board:<div class=\\\"chessboard\\\"><style soped=\\\"true\\\">.dark-square {\\n    fill: #c3936a;\\n    stroke-width: 0;\\n}\\n.light-square {\\n    fill: #ffd7a6;\\n    stroke-width: 0;\\n}\\n.highlight {\\n    fill: #47d18b;\\n}\\n@media (prefers-color-scheme: dark) {\\n    .dark-square {\\n        fill: #00796b;\\n    }\\n    .light-square {\\n        fill: #3ca59b;\\n    }\\n    .highlight {\\n        fill: #d23600;\\n    }\\n}\\n</style><svg style=\\\"float: left; margin-right: 20px\\\" viewBox=\\\"0 0 8 8\\\" height=\\\"280\\\" width=\\\"280\\\"><g><g><rect x=\\\"0\\\" y=\\\"0\\\" class=\\\"light-square\\\" height=\\\"1\\\" width=\\\"1\\\"></rect><image x=\\\"0\\\" xlink:href=\\\"https://raw.githubusercontent.com/romstad/Chess.jl/master/img/br.svg\\\" y=\\\"0\\\" height=\\\"1\\\" width=\\\"1\\\"></image></g><g><rect x=\\\"0\\\" y=\\\"1\\\" class=\\\"dark-square\\\" height=\\\"1\\\" width=\\\"1\\\"></rect><image x=\\\"0\\\" xlink:href=\\\"https://raw.githubusercontent.com/romstad/Chess.jl/master/img/bp.svg\\\" y=\\\"1\\\" height=\\\"1\\\" width=\\\"1\\\"></image></g><g><rect x=\\\"0\\\" y=\\\"2\\\" class=\\\"light-square\\\" height=\\\"1\\\" width=\\\"1\\\"></rect><g></g></g><g><rect x=\\\"0\\\" y=\\\"3\\\" class=\\\"dark-square\\\" height=\\\"1\\\" width=\\\"1\\\"></rect><g></g></g><g><rect x=\\\"0\\\" y=\\\"4\\\" class=\\\"light-square\\\" height=\\\"1\\\" width=\\\"1\\\"></rect><g></g></g><g><rect x=\\\"0\\\" y=\\\"5\\\" class=\\\"dark-square\\\" height=\\\"1\\\" width=\\\"1\\\"></rect><g></g></g><g><rect x=\\\"0\\\" y=\\\"6\\\" class=\\\"light-square\\\" height=\\\"1\\\" width=\\\"1\\\"></rect><image x=\\\"0\\\" xlink:href=\\\"https://raw.githubusercontent.com/romstad/Chess.jl/master/img/wp.svg\\\" y=\\\"6\\\" height=\\\"1\\\" width=\\\"1\\\"></image></g><g><rect x=\\\"0\\\" y=\\\"7\\\" class=\\\"dark-square\\\" height=\\\"1\\\" width=\\\"1\\\"></rect><image x=\\\"0\\\" xlink:href=\\\"https://raw.githubusercontent.com/romstad/Chess.jl/master/img/wr.svg\\\" y=\\\"7\\\" height=\\\"1\\\" width=\\\"1\\\"></image></g><g><rect x=\\\"1\\\" y=\\\"0\\\" class=\\\"dark-square\\\" height=\\\"1\\\" width=\\\"1\\\"></rect><image x=\\\"1\\\" xlink:href=\\\"https://raw.githubusercontent.com/romstad/Chess.jl/master/img/bn.svg\\\" y=\\\"0\\\" height=\\\"1\\\" width=\\\"1\\\"></image></g><g><rect x=\\\"1\\\" y=\\\"1\\\" class=\\\"light-square\\\" height=\\\"1\\\" width=\\\"1\\\"></rect><image x=\\\"1\\\" xlink:href=\\\"https://raw.githubusercontent.com/romstad/Chess.jl/master/img/bp.svg\\\" y=\\\"1\\\" height=\\\"1\\\" width=\\\"1\\\"></image></g><g><rect x=\\\"1\\\" y=\\\"2\\\" class=\\\"dark-square\\\" height=\\\"1\\\" width=\\\"1\\\"></rect><g></g></g><g><rect x=\\\"1\\\" y=\\\"3\\\" class=\\\"light-square\\\" height=\\\"1\\\" width=\\\"1\\\"></rect><g></g></g><g><rect x=\\\"1\\\" y=\\\"4\\\" class=\\\"dark-square\\\" height=\\\"1\\\" width=\\\"1\\\"></rect><g></g></g><g><rect x=\\\"1\\\" y=\\\"5\\\" class=\\\"light-square\\\" height=\\\"1\\\" width=\\\"1\\\"></rect><g></g></g><g><rect x=\\\"1\\\" y=\\\"6\\\" class=\\\"dark-square\\\" height=\\\"1\\\" width=\\\"1\\\"></rect><image x=\\\"1\\\" xlink:href=\\\"https://raw.githubusercontent.com/romstad/Chess.jl/master/img/wp.svg\\\" y=\\\"6\\\" height=\\\"1\\\" width=\\\"1\\\"></image></g><g><rect x=\\\"1\\\" y=\\\"7\\\" class=\\\"light-square\\\" height=\\\"1\\\" width=\\\"1\\\"></rect><image x=\\\"1\\\" xlink:href=\\\"https://raw.githubusercontent.com/romstad/Chess.jl/master/img/wn.svg\\\" y=\\\"7\\\" height=\\\"1\\\" width=\\\"1\\\"></image></g><g><rect x=\\\"2\\\" y=\\\"0\\\" class=\\\"light-square\\\" height=\\\"1\\\" width=\\\"1\\\"></rect><image x=\\\"2\\\" xlink:href=\\\"https://raw.githubusercontent.com/romstad/Chess.jl/master/img/bb.svg\\\" y=\\\"0\\\" height=\\\"1\\\" width=\\\"1\\\"></image></g><g><rect x=\\\"2\\\" y=\\\"1\\\" class=\\\"dark-square\\\" height=\\\"1\\\" width=\\\"1\\\"></rect><image x=\\\"2\\\" xlink:href=\\\"https://raw.githubusercontent.com/romstad/Chess.jl/master/img/bp.svg\\\" y=\\\"1\\\" height=\\\"1\\\" width=\\\"1\\\"></image></g><g><rect x=\\\"2\\\" y=\\\"2\\\" class=\\\"light-square\\\" height=\\\"1\\\" width=\\\"1\\\"></rect><g></g></g><g><rect x=\\\"2\\\" y=\\\"3\\\" class=\\\"dark-square\\\" height=\\\"1\\\" width=\\\"1\\\"></rect><g></g></g><g><rect x=\\\"2\\\" y=\\\"4\\\" class=\\\"light-square\\\" height=\\\"1\\\" width=\\\"1\\\"></rect><g></g></g><g><rect x=\\\"2\\\" y=\\\"5\\\" class=\\\"dark-square\\\" height=\\\"1\\\" width=\\\"1\\\"></rect><g></g></g><g><rect x=\\\"2\\\" y=\\\"6\\\" class=\\\"light-square\\\" height=\\\"1\\\" width=\\\"1\\\"></rect><image x=\\\"2\\\" xlink:href=\\\"https://raw.githubusercontent.com/romstad/Chess.jl/master/img/wp.svg\\\" y=\\\"6\\\" height=\\\"1\\\" width=\\\"1\\\"></image></g><g><rect x=\\\"2\\\" y=\\\"7\\\" class=\\\"dark-square\\\" height=\\\"1\\\" width=\\\"1\\\"></rect><image x=\\\"2\\\" xlink:href=\\\"https://raw.githubusercontent.com/romstad/Chess.jl/master/img/wb.svg\\\" y=\\\"7\\\" height=\\\"1\\\" width=\\\"1\\\"></image></g><g><rect x=\\\"3\\\" y=\\\"0\\\" class=\\\"dark-square\\\" height=\\\"1\\\" width=\\\"1\\\"></rect><image x=\\\"3\\\" xlink:href=\\\"https://raw.githubusercontent.com/romstad/Chess.jl/master/img/bq.svg\\\" y=\\\"0\\\" height=\\\"1\\\" width=\\\"1\\\"></image></g><g><rect x=\\\"3\\\" y=\\\"1\\\" class=\\\"light-square\\\" height=\\\"1\\\" width=\\\"1\\\"></rect><image x=\\\"3\\\" xlink:href=\\\"https://raw.githubusercontent.com/romstad/Chess.jl/master/img/bp.svg\\\" y=\\\"1\\\" height=\\\"1\\\" width=\\\"1\\\"></image></g><g><rect x=\\\"3\\\" y=\\\"2\\\" class=\\\"dark-square\\\" height=\\\"1\\\" width=\\\"1\\\"></rect><g></g></g><g><rect x=\\\"3\\\" y=\\\"3\\\" class=\\\"light-square\\\" height=\\\"1\\\" width=\\\"1\\\"></rect><g></g></g><g><rect x=\\\"3\\\" y=\\\"4\\\" class=\\\"dark-square\\\" height=\\\"1\\\" width=\\\"1\\\"></rect><g></g></g><g><rect x=\\\"3\\\" y=\\\"5\\\" class=\\\"light-square\\\" height=\\\"1\\\" width=\\\"1\\\"></rect><g></g></g><g><rect x=\\\"3\\\" y=\\\"6\\\" class=\\\"dark-square\\\" height=\\\"1\\\" width=\\\"1\\\"></rect><image x=\\\"3\\\" xlink:href=\\\"https://raw.githubusercontent.com/romstad/Chess.jl/master/img/wp.svg\\\" y=\\\"6\\\" height=\\\"1\\\" width=\\\"1\\\"></image></g><g><rect x=\\\"3\\\" y=\\\"7\\\" class=\\\"light-square\\\" height=\\\"1\\\" width=\\\"1\\\"></rect><image x=\\\"3\\\" xlink:href=\\\"https://raw.githubusercontent.com/romstad/Chess.jl/master/img/wq.svg\\\" y=\\\"7\\\" height=\\\"1\\\" width=\\\"1\\\"></image></g><g><rect x=\\\"4\\\" y=\\\"0\\\" class=\\\"light-square\\\" height=\\\"1\\\" width=\\\"1\\\"></rect><image x=\\\"4\\\" xlink:href=\\\"https://raw.githubusercontent.com/romstad/Chess.jl/master/img/bk.svg\\\" y=\\\"0\\\" height=\\\"1\\\" width=\\\"1\\\"></image></g><g><rect x=\\\"4\\\" y=\\\"1\\\" class=\\\"dark-square\\\" height=\\\"1\\\" width=\\\"1\\\"></rect><image x=\\\"4\\\" xlink:href=\\\"https://raw.githubusercontent.com/romstad/Chess.jl/master/img/bp.svg\\\" y=\\\"1\\\" height=\\\"1\\\" width=\\\"1\\\"></image></g><g><rect x=\\\"4\\\" y=\\\"2\\\" class=\\\"light-square\\\" height=\\\"1\\\" width=\\\"1\\\"></rect><g></g></g><g><rect x=\\\"4\\\" y=\\\"3\\\" class=\\\"dark-square\\\" height=\\\"1\\\" width=\\\"1\\\"></rect><g></g></g><g><rect x=\\\"4\\\" y=\\\"4\\\" class=\\\"light-square\\\" height=\\\"1\\\" width=\\\"1\\\"></rect><g></g></g><g><rect x=\\\"4\\\" y=\\\"5\\\" class=\\\"dark-square\\\" height=\\\"1\\\" width=\\\"1\\\"></rect><g></g></g><g><rect x=\\\"4\\\" y=\\\"6\\\" class=\\\"light-square\\\" height=\\\"1\\\" width=\\\"1\\\"></rect><image x=\\\"4\\\" xlink:href=\\\"https://raw.githubusercontent.com/romstad/Chess.jl/master/img/wp.svg\\\" y=\\\"6\\\" height=\\\"1\\\" width=\\\"1\\\"></image></g><g><rect x=\\\"4\\\" y=\\\"7\\\" class=\\\"dark-square\\\" height=\\\"1\\\" width=\\\"1\\\"></rect><image x=\\\"4\\\" xlink:href=\\\"https://raw.githubusercontent.com/romstad/Chess.jl/master/img/wk.svg\\\" y=\\\"7\\\" height=\\\"1\\\" width=\\\"1\\\"></image></g><g><rect x=\\\"5\\\" y=\\\"0\\\" class=\\\"dark-square\\\" height=\\\"1\\\" width=\\\"1\\\"></rect><image x=\\\"5\\\" xlink:href=\\\"https://raw.githubusercontent.com/romstad/Chess.jl/master/img/bb.svg\\\" y=\\\"0\\\" height=\\\"1\\\" width=\\\"1\\\"></image></g><g><rect x=\\\"5\\\" y=\\\"1\\\" class=\\\"light-square\\\" height=\\\"1\\\" width=\\\"1\\\"></rect><image x=\\\"5\\\" xlink:href=\\\"https://raw.githubusercontent.com/romstad/Chess.jl/master/img/bp.svg\\\" y=\\\"1\\\" height=\\\"1\\\" width=\\\"1\\\"></image></g><g><rect x=\\\"5\\\" y=\\\"2\\\" class=\\\"dark-square\\\" height=\\\"1\\\" width=\\\"1\\\"></rect><g></g></g><g><rect x=\\\"5\\\" y=\\\"3\\\" class=\\\"light-square\\\" height=\\\"1\\\" width=\\\"1\\\"></rect><g></g></g><g><rect x=\\\"5\\\" y=\\\"4\\\" class=\\\"dark-square\\\" height=\\\"1\\\" width=\\\"1\\\"></rect><g></g></g><g><rect x=\\\"5\\\" y=\\\"5\\\" class=\\\"light-square\\\" height=\\\"1\\\" width=\\\"1\\\"></rect><g></g></g><g><rect x=\\\"5\\\" y=\\\"6\\\" class=\\\"dark-square\\\" height=\\\"1\\\" width=\\\"1\\\"></rect><image x=\\\"5\\\" xlink:href=\\\"https://raw.githubusercontent.com/romstad/Chess.jl/master/img/wp.svg\\\" y=\\\"6\\\" height=\\\"1\\\" width=\\\"1\\\"></image></g><g><rect x=\\\"5\\\" y=\\\"7\\\" class=\\\"light-square\\\" height=\\\"1\\\" width=\\\"1\\\"></rect><image x=\\\"5\\\" xlink:href=\\\"https://raw.githubusercontent.com/romstad/Chess.jl/master/img/wb.svg\\\" y=\\\"7\\\" height=\\\"1\\\" width=\\\"1\\\"></image></g><g><rect x=\\\"6\\\" y=\\\"0\\\" class=\\\"light-square\\\" height=\\\"1\\\" width=\\\"1\\\"></rect><image x=\\\"6\\\" xlink:href=\\\"https://raw.githubusercontent.com/romstad/Chess.jl/master/img/bn.svg\\\" y=\\\"0\\\" height=\\\"1\\\" width=\\\"1\\\"></image></g><g><rect x=\\\"6\\\" y=\\\"1\\\" class=\\\"dark-square\\\" height=\\\"1\\\" width=\\\"1\\\"></rect><image x=\\\"6\\\" xlink:href=\\\"https://raw.githubusercontent.com/romstad/Chess.jl/master/img/bp.svg\\\" y=\\\"1\\\" height=\\\"1\\\" width=\\\"1\\\"></image></g><g><rect x=\\\"6\\\" y=\\\"2\\\" class=\\\"light-square\\\" height=\\\"1\\\" width=\\\"1\\\"></rect><g></g></g><g><rect x=\\\"6\\\" y=\\\"3\\\" class=\\\"dark-square\\\" height=\\\"1\\\" width=\\\"1\\\"></rect><g></g></g><g><rect x=\\\"6\\\" y=\\\"4\\\" class=\\\"light-square\\\" height=\\\"1\\\" width=\\\"1\\\"></rect><g></g></g><g><rect x=\\\"6\\\" y=\\\"5\\\" class=\\\"dark-square\\\" height=\\\"1\\\" width=\\\"1\\\"></rect><g></g></g><g><rect x=\\\"6\\\" y=\\\"6\\\" class=\\\"light-square\\\" height=\\\"1\\\" width=\\\"1\\\"></rect><image x=\\\"6\\\" xlink:href=\\\"https://raw.githubusercontent.com/romstad/Chess.jl/master/img/wp.svg\\\" y=\\\"6\\\" height=\\\"1\\\" width=\\\"1\\\"></image></g><g><rect x=\\\"6\\\" y=\\\"7\\\" class=\\\"dark-square\\\" height=\\\"1\\\" width=\\\"1\\\"></rect><image x=\\\"6\\\" xlink:href=\\\"https://raw.githubusercontent.com/romstad/Chess.jl/master/img/wn.svg\\\" y=\\\"7\\\" height=\\\"1\\\" width=\\\"1\\\"></image></g><g><rect x=\\\"7\\\" y=\\\"0\\\" class=\\\"dark-square\\\" height=\\\"1\\\" width=\\\"1\\\"></rect><image x=\\\"7\\\" xlink:href=\\\"https://raw.githubusercontent.com/romstad/Chess.jl/master/img/br.svg\\\" y=\\\"0\\\" height=\\\"1\\\" width=\\\"1\\\"></image></g><g><rect x=\\\"7\\\" y=\\\"1\\\" class=\\\"light-square\\\" height=\\\"1\\\" width=\\\"1\\\"></rect><image x=\\\"7\\\" xlink:href=\\\"https://raw.githubusercontent.com/romstad/Chess.jl/master/img/bp.svg\\\" y=\\\"1\\\" height=\\\"1\\\" width=\\\"1\\\"></image></g><g><rect x=\\\"7\\\" y=\\\"2\\\" class=\\\"dark-square\\\" height=\\\"1\\\" width=\\\"1\\\"></rect><g></g></g><g><rect x=\\\"7\\\" y=\\\"3\\\" class=\\\"light-square\\\" height=\\\"1\\\" width=\\\"1\\\"></rect><g></g></g><g><rect x=\\\"7\\\" y=\\\"4\\\" class=\\\"dark-square\\\" height=\\\"1\\\" width=\\\"1\\\"></rect><g></g></g><g><rect x=\\\"7\\\" y=\\\"5\\\" class=\\\"light-square\\\" height=\\\"1\\\" width=\\\"1\\\"></rect><g></g></g><g><rect x=\\\"7\\\" y=\\\"6\\\" class=\\\"dark-square\\\" height=\\\"1\\\" width=\\\"1\\\"></rect><image x=\\\"7\\\" xlink:href=\\\"https://raw.githubusercontent.com/romstad/Chess.jl/master/img/wp.svg\\\" y=\\\"6\\\" height=\\\"1\\\" width=\\\"1\\\"></image></g><g><rect x=\\\"7\\\" y=\\\"7\\\" class=\\\"light-square\\\" height=\\\"1\\\" width=\\\"1\\\"></rect><image x=\\\"7\\\" xlink:href=\\\"https://raw.githubusercontent.com/romstad/Chess.jl/master/img/wr.svg\\\" y=\\\"7\\\" height=\\\"1\\\" width=\\\"1\\\"></image></g></g><g></g></svg><div><p>White to move</p><p>Castle rights: KQkq</p><p><a href=\\\"https://lichess.org/editor/rnbqkbnr/pppppppp/8/8/8/8/PPPPPPPP/RNBQKBNR_w_KQkq_-\\\" target=\\\"_blank\\\">Open in lichess</a></p></div></div>\")"
      ]
     },
     "metadata": {},
     "output_type": "display_data"
    },
    {
     "ename": "LoadError",
     "evalue": "MethodError: no method matching iterate(::Move)\n\u001b[0mClosest candidates are:\n\u001b[0m  iterate(\u001b[91m::Union{LinRange, StepRangeLen}\u001b[39m) at range.jl:872\n\u001b[0m  iterate(\u001b[91m::Union{LinRange, StepRangeLen}\u001b[39m, \u001b[91m::Integer\u001b[39m) at range.jl:872\n\u001b[0m  iterate(\u001b[91m::T\u001b[39m) where T<:Union{Base.KeySet{<:Any, <:Dict}, Base.ValueIterator{<:Dict}} at dict.jl:712\n\u001b[0m  ...",
     "output_type": "error",
     "traceback": [
      "MethodError: no method matching iterate(::Move)\n\u001b[0mClosest candidates are:\n\u001b[0m  iterate(\u001b[91m::Union{LinRange, StepRangeLen}\u001b[39m) at range.jl:872\n\u001b[0m  iterate(\u001b[91m::Union{LinRange, StepRangeLen}\u001b[39m, \u001b[91m::Integer\u001b[39m) at range.jl:872\n\u001b[0m  iterate(\u001b[91m::T\u001b[39m) where T<:Union{Base.KeySet{<:Any, <:Dict}, Base.ValueIterator{<:Dict}} at dict.jl:712\n\u001b[0m  ...",
      "",
      "Stacktrace:",
      "  [1] indexed_iterate(I::Move, i::Int64)",
      "    @ Base .\\tuple.jl:91",
      "  [2] macro expansion",
      "    @ C:\\Users\\luckb\\OneDrive\\Duales Studium Cyber-Security\\Theoriephasen\\Phase 5\\Studienarbeit\\Notebooks\\chess-ai\\1.2 BasicGame.ipynb:In[1]:6 [inlined]",
      "  [3] macro expansion",
      "    @ .\\timing.jl:382 [inlined]",
      "  [4] play_game(ai::TestPlayer, player::TestPlayer, game::SimpleGame, ai_turn::Bool)",
      "    @ Main C:\\Users\\luckb\\OneDrive\\Duales Studium Cyber-Security\\Theoriephasen\\Phase 5\\Studienarbeit\\Notebooks\\chess-ai\\1.2 BasicGame.ipynb:In[1]:5",
      "  [5] play_game",
      "    @ C:\\Users\\luckb\\OneDrive\\Duales Studium Cyber-Security\\Theoriephasen\\Phase 5\\Studienarbeit\\Notebooks\\chess-ai\\1.2 BasicGame.ipynb:In[1]:2 [inlined]",
      "  [6] test_play_game(expected::String, player1_moves::Vector{Move}, player2_moves::Vector{Move}, board::Board)",
      "    @ Main .\\In[12]:17",
      "  [7] test_play_game(expected::String, player1_moves::Vector{Move}, player2_moves::Vector{Move})",
      "    @ Main .\\In[12]:14",
      "  [8] top-level scope",
      "    @ In[15]:1",
      "  [9] eval",
      "    @ .\\boot.jl:368 [inlined]",
      " [10] include_string(mapexpr::typeof(REPL.softscope), mod::Module, code::String, filename::String)",
      "    @ Base .\\loading.jl:1428"
     ]
    }
   ],
   "source": [
    "println(test_play_game(\n",
    "    \"Checkmate! You win!\",\n",
    "    [Move(SQ_B7, SQ_B6), Move(SQ_G8, SQ_F6), Move(SQ_A7, SQ_A6)],\n",
    "    [Move(SQ_E2, SQ_E3), Move(SQ_F1, SQ_C4), Move(SQ_D1, SQ_H5), Move(SQ_H5, SQ_F7)]\n",
    "))"
   ]
  },
  {
   "cell_type": "code",
   "execution_count": 16,
   "id": "d30db36d",
   "metadata": {},
   "outputs": [
    {
     "data": {
      "text/html": [
       "Board:<div class=\"chessboard\"><style soped=\"true\">.dark-square {\n",
       "    fill: #c3936a;\n",
       "    stroke-width: 0;\n",
       "}\n",
       ".light-square {\n",
       "    fill: #ffd7a6;\n",
       "    stroke-width: 0;\n",
       "}\n",
       ".highlight {\n",
       "    fill: #47d18b;\n",
       "}\n",
       "@media (prefers-color-scheme: dark) {\n",
       "    .dark-square {\n",
       "        fill: #00796b;\n",
       "    }\n",
       "    .light-square {\n",
       "        fill: #3ca59b;\n",
       "    }\n",
       "    .highlight {\n",
       "        fill: #d23600;\n",
       "    }\n",
       "}\n",
       "</style><svg style=\"float: left; margin-right: 20px\" viewBox=\"0 0 8 8\" height=\"280\" width=\"280\"><g><g><rect x=\"0\" y=\"0\" class=\"light-square\" height=\"1\" width=\"1\"></rect><image x=\"0\" xlink:href=\"https://raw.githubusercontent.com/romstad/Chess.jl/master/img/br.svg\" y=\"0\" height=\"1\" width=\"1\"></image></g><g><rect x=\"0\" y=\"1\" class=\"dark-square\" height=\"1\" width=\"1\"></rect><image x=\"0\" xlink:href=\"https://raw.githubusercontent.com/romstad/Chess.jl/master/img/bp.svg\" y=\"1\" height=\"1\" width=\"1\"></image></g><g><rect x=\"0\" y=\"2\" class=\"light-square\" height=\"1\" width=\"1\"></rect><g></g></g><g><rect x=\"0\" y=\"3\" class=\"dark-square\" height=\"1\" width=\"1\"></rect><g></g></g><g><rect x=\"0\" y=\"4\" class=\"light-square\" height=\"1\" width=\"1\"></rect><g></g></g><g><rect x=\"0\" y=\"5\" class=\"dark-square\" height=\"1\" width=\"1\"></rect><g></g></g><g><rect x=\"0\" y=\"6\" class=\"light-square\" height=\"1\" width=\"1\"></rect><image x=\"0\" xlink:href=\"https://raw.githubusercontent.com/romstad/Chess.jl/master/img/wp.svg\" y=\"6\" height=\"1\" width=\"1\"></image></g><g><rect x=\"0\" y=\"7\" class=\"dark-square\" height=\"1\" width=\"1\"></rect><image x=\"0\" xlink:href=\"https://raw.githubusercontent.com/romstad/Chess.jl/master/img/wr.svg\" y=\"7\" height=\"1\" width=\"1\"></image></g><g><rect x=\"1\" y=\"0\" class=\"dark-square\" height=\"1\" width=\"1\"></rect><image x=\"1\" xlink:href=\"https://raw.githubusercontent.com/romstad/Chess.jl/master/img/bn.svg\" y=\"0\" height=\"1\" width=\"1\"></image></g><g><rect x=\"1\" y=\"1\" class=\"light-square\" height=\"1\" width=\"1\"></rect><image x=\"1\" xlink:href=\"https://raw.githubusercontent.com/romstad/Chess.jl/master/img/bp.svg\" y=\"1\" height=\"1\" width=\"1\"></image></g><g><rect x=\"1\" y=\"2\" class=\"dark-square\" height=\"1\" width=\"1\"></rect><g></g></g><g><rect x=\"1\" y=\"3\" class=\"light-square\" height=\"1\" width=\"1\"></rect><g></g></g><g><rect x=\"1\" y=\"4\" class=\"dark-square\" height=\"1\" width=\"1\"></rect><g></g></g><g><rect x=\"1\" y=\"5\" class=\"light-square\" height=\"1\" width=\"1\"></rect><g></g></g><g><rect x=\"1\" y=\"6\" class=\"dark-square\" height=\"1\" width=\"1\"></rect><image x=\"1\" xlink:href=\"https://raw.githubusercontent.com/romstad/Chess.jl/master/img/wp.svg\" y=\"6\" height=\"1\" width=\"1\"></image></g><g><rect x=\"1\" y=\"7\" class=\"light-square\" height=\"1\" width=\"1\"></rect><image x=\"1\" xlink:href=\"https://raw.githubusercontent.com/romstad/Chess.jl/master/img/wn.svg\" y=\"7\" height=\"1\" width=\"1\"></image></g><g><rect x=\"2\" y=\"0\" class=\"light-square\" height=\"1\" width=\"1\"></rect><image x=\"2\" xlink:href=\"https://raw.githubusercontent.com/romstad/Chess.jl/master/img/bb.svg\" y=\"0\" height=\"1\" width=\"1\"></image></g><g><rect x=\"2\" y=\"1\" class=\"dark-square\" height=\"1\" width=\"1\"></rect><image x=\"2\" xlink:href=\"https://raw.githubusercontent.com/romstad/Chess.jl/master/img/bp.svg\" y=\"1\" height=\"1\" width=\"1\"></image></g><g><rect x=\"2\" y=\"2\" class=\"light-square\" height=\"1\" width=\"1\"></rect><g></g></g><g><rect x=\"2\" y=\"3\" class=\"dark-square\" height=\"1\" width=\"1\"></rect><g></g></g><g><rect x=\"2\" y=\"4\" class=\"light-square\" height=\"1\" width=\"1\"></rect><g></g></g><g><rect x=\"2\" y=\"5\" class=\"dark-square\" height=\"1\" width=\"1\"></rect><g></g></g><g><rect x=\"2\" y=\"6\" class=\"light-square\" height=\"1\" width=\"1\"></rect><image x=\"2\" xlink:href=\"https://raw.githubusercontent.com/romstad/Chess.jl/master/img/wp.svg\" y=\"6\" height=\"1\" width=\"1\"></image></g><g><rect x=\"2\" y=\"7\" class=\"dark-square\" height=\"1\" width=\"1\"></rect><image x=\"2\" xlink:href=\"https://raw.githubusercontent.com/romstad/Chess.jl/master/img/wb.svg\" y=\"7\" height=\"1\" width=\"1\"></image></g><g><rect x=\"3\" y=\"0\" class=\"dark-square\" height=\"1\" width=\"1\"></rect><image x=\"3\" xlink:href=\"https://raw.githubusercontent.com/romstad/Chess.jl/master/img/bq.svg\" y=\"0\" height=\"1\" width=\"1\"></image></g><g><rect x=\"3\" y=\"1\" class=\"light-square\" height=\"1\" width=\"1\"></rect><image x=\"3\" xlink:href=\"https://raw.githubusercontent.com/romstad/Chess.jl/master/img/bp.svg\" y=\"1\" height=\"1\" width=\"1\"></image></g><g><rect x=\"3\" y=\"2\" class=\"dark-square\" height=\"1\" width=\"1\"></rect><g></g></g><g><rect x=\"3\" y=\"3\" class=\"light-square\" height=\"1\" width=\"1\"></rect><g></g></g><g><rect x=\"3\" y=\"4\" class=\"dark-square\" height=\"1\" width=\"1\"></rect><g></g></g><g><rect x=\"3\" y=\"5\" class=\"light-square\" height=\"1\" width=\"1\"></rect><g></g></g><g><rect x=\"3\" y=\"6\" class=\"dark-square\" height=\"1\" width=\"1\"></rect><image x=\"3\" xlink:href=\"https://raw.githubusercontent.com/romstad/Chess.jl/master/img/wp.svg\" y=\"6\" height=\"1\" width=\"1\"></image></g><g><rect x=\"3\" y=\"7\" class=\"light-square\" height=\"1\" width=\"1\"></rect><image x=\"3\" xlink:href=\"https://raw.githubusercontent.com/romstad/Chess.jl/master/img/wq.svg\" y=\"7\" height=\"1\" width=\"1\"></image></g><g><rect x=\"4\" y=\"0\" class=\"light-square\" height=\"1\" width=\"1\"></rect><image x=\"4\" xlink:href=\"https://raw.githubusercontent.com/romstad/Chess.jl/master/img/bk.svg\" y=\"0\" height=\"1\" width=\"1\"></image></g><g><rect x=\"4\" y=\"1\" class=\"dark-square\" height=\"1\" width=\"1\"></rect><image x=\"4\" xlink:href=\"https://raw.githubusercontent.com/romstad/Chess.jl/master/img/bp.svg\" y=\"1\" height=\"1\" width=\"1\"></image></g><g><rect x=\"4\" y=\"2\" class=\"light-square\" height=\"1\" width=\"1\"></rect><g></g></g><g><rect x=\"4\" y=\"3\" class=\"dark-square\" height=\"1\" width=\"1\"></rect><g></g></g><g><rect x=\"4\" y=\"4\" class=\"light-square\" height=\"1\" width=\"1\"></rect><g></g></g><g><rect x=\"4\" y=\"5\" class=\"dark-square\" height=\"1\" width=\"1\"></rect><g></g></g><g><rect x=\"4\" y=\"6\" class=\"light-square\" height=\"1\" width=\"1\"></rect><image x=\"4\" xlink:href=\"https://raw.githubusercontent.com/romstad/Chess.jl/master/img/wp.svg\" y=\"6\" height=\"1\" width=\"1\"></image></g><g><rect x=\"4\" y=\"7\" class=\"dark-square\" height=\"1\" width=\"1\"></rect><image x=\"4\" xlink:href=\"https://raw.githubusercontent.com/romstad/Chess.jl/master/img/wk.svg\" y=\"7\" height=\"1\" width=\"1\"></image></g><g><rect x=\"5\" y=\"0\" class=\"dark-square\" height=\"1\" width=\"1\"></rect><image x=\"5\" xlink:href=\"https://raw.githubusercontent.com/romstad/Chess.jl/master/img/bb.svg\" y=\"0\" height=\"1\" width=\"1\"></image></g><g><rect x=\"5\" y=\"1\" class=\"light-square\" height=\"1\" width=\"1\"></rect><image x=\"5\" xlink:href=\"https://raw.githubusercontent.com/romstad/Chess.jl/master/img/bp.svg\" y=\"1\" height=\"1\" width=\"1\"></image></g><g><rect x=\"5\" y=\"2\" class=\"dark-square\" height=\"1\" width=\"1\"></rect><g></g></g><g><rect x=\"5\" y=\"3\" class=\"light-square\" height=\"1\" width=\"1\"></rect><g></g></g><g><rect x=\"5\" y=\"4\" class=\"dark-square\" height=\"1\" width=\"1\"></rect><g></g></g><g><rect x=\"5\" y=\"5\" class=\"light-square\" height=\"1\" width=\"1\"></rect><g></g></g><g><rect x=\"5\" y=\"6\" class=\"dark-square\" height=\"1\" width=\"1\"></rect><image x=\"5\" xlink:href=\"https://raw.githubusercontent.com/romstad/Chess.jl/master/img/wp.svg\" y=\"6\" height=\"1\" width=\"1\"></image></g><g><rect x=\"5\" y=\"7\" class=\"light-square\" height=\"1\" width=\"1\"></rect><image x=\"5\" xlink:href=\"https://raw.githubusercontent.com/romstad/Chess.jl/master/img/wb.svg\" y=\"7\" height=\"1\" width=\"1\"></image></g><g><rect x=\"6\" y=\"0\" class=\"light-square\" height=\"1\" width=\"1\"></rect><image x=\"6\" xlink:href=\"https://raw.githubusercontent.com/romstad/Chess.jl/master/img/bn.svg\" y=\"0\" height=\"1\" width=\"1\"></image></g><g><rect x=\"6\" y=\"1\" class=\"dark-square\" height=\"1\" width=\"1\"></rect><image x=\"6\" xlink:href=\"https://raw.githubusercontent.com/romstad/Chess.jl/master/img/bp.svg\" y=\"1\" height=\"1\" width=\"1\"></image></g><g><rect x=\"6\" y=\"2\" class=\"light-square\" height=\"1\" width=\"1\"></rect><g></g></g><g><rect x=\"6\" y=\"3\" class=\"dark-square\" height=\"1\" width=\"1\"></rect><g></g></g><g><rect x=\"6\" y=\"4\" class=\"light-square\" height=\"1\" width=\"1\"></rect><g></g></g><g><rect x=\"6\" y=\"5\" class=\"dark-square\" height=\"1\" width=\"1\"></rect><g></g></g><g><rect x=\"6\" y=\"6\" class=\"light-square\" height=\"1\" width=\"1\"></rect><image x=\"6\" xlink:href=\"https://raw.githubusercontent.com/romstad/Chess.jl/master/img/wp.svg\" y=\"6\" height=\"1\" width=\"1\"></image></g><g><rect x=\"6\" y=\"7\" class=\"dark-square\" height=\"1\" width=\"1\"></rect><image x=\"6\" xlink:href=\"https://raw.githubusercontent.com/romstad/Chess.jl/master/img/wn.svg\" y=\"7\" height=\"1\" width=\"1\"></image></g><g><rect x=\"7\" y=\"0\" class=\"dark-square\" height=\"1\" width=\"1\"></rect><image x=\"7\" xlink:href=\"https://raw.githubusercontent.com/romstad/Chess.jl/master/img/br.svg\" y=\"0\" height=\"1\" width=\"1\"></image></g><g><rect x=\"7\" y=\"1\" class=\"light-square\" height=\"1\" width=\"1\"></rect><image x=\"7\" xlink:href=\"https://raw.githubusercontent.com/romstad/Chess.jl/master/img/bp.svg\" y=\"1\" height=\"1\" width=\"1\"></image></g><g><rect x=\"7\" y=\"2\" class=\"dark-square\" height=\"1\" width=\"1\"></rect><g></g></g><g><rect x=\"7\" y=\"3\" class=\"light-square\" height=\"1\" width=\"1\"></rect><g></g></g><g><rect x=\"7\" y=\"4\" class=\"dark-square\" height=\"1\" width=\"1\"></rect><g></g></g><g><rect x=\"7\" y=\"5\" class=\"light-square\" height=\"1\" width=\"1\"></rect><g></g></g><g><rect x=\"7\" y=\"6\" class=\"dark-square\" height=\"1\" width=\"1\"></rect><image x=\"7\" xlink:href=\"https://raw.githubusercontent.com/romstad/Chess.jl/master/img/wp.svg\" y=\"6\" height=\"1\" width=\"1\"></image></g><g><rect x=\"7\" y=\"7\" class=\"light-square\" height=\"1\" width=\"1\"></rect><image x=\"7\" xlink:href=\"https://raw.githubusercontent.com/romstad/Chess.jl/master/img/wr.svg\" y=\"7\" height=\"1\" width=\"1\"></image></g></g><g></g></svg><div><p>White to move</p><p>Castle rights: KQkq</p><p><a href=\"https://lichess.org/editor/rnbqkbnr/pppppppp/8/8/8/8/PPPPPPPP/RNBQKBNR_w_KQkq_-\" target=\"_blank\">Open in lichess</a></p></div></div>"
      ],
      "text/plain": [
       "HTML{String}(\"Board:<div class=\\\"chessboard\\\"><style soped=\\\"true\\\">.dark-square {\\n    fill: #c3936a;\\n    stroke-width: 0;\\n}\\n.light-square {\\n    fill: #ffd7a6;\\n    stroke-width: 0;\\n}\\n.highlight {\\n    fill: #47d18b;\\n}\\n@media (prefers-color-scheme: dark) {\\n    .dark-square {\\n        fill: #00796b;\\n    }\\n    .light-square {\\n        fill: #3ca59b;\\n    }\\n    .highlight {\\n        fill: #d23600;\\n    }\\n}\\n</style><svg style=\\\"float: left; margin-right: 20px\\\" viewBox=\\\"0 0 8 8\\\" height=\\\"280\\\" width=\\\"280\\\"><g><g><rect x=\\\"0\\\" y=\\\"0\\\" class=\\\"light-square\\\" height=\\\"1\\\" width=\\\"1\\\"></rect><image x=\\\"0\\\" xlink:href=\\\"https://raw.githubusercontent.com/romstad/Chess.jl/master/img/br.svg\\\" y=\\\"0\\\" height=\\\"1\\\" width=\\\"1\\\"></image></g><g><rect x=\\\"0\\\" y=\\\"1\\\" class=\\\"dark-square\\\" height=\\\"1\\\" width=\\\"1\\\"></rect><image x=\\\"0\\\" xlink:href=\\\"https://raw.githubusercontent.com/romstad/Chess.jl/master/img/bp.svg\\\" y=\\\"1\\\" height=\\\"1\\\" width=\\\"1\\\"></image></g><g><rect x=\\\"0\\\" y=\\\"2\\\" class=\\\"light-square\\\" height=\\\"1\\\" width=\\\"1\\\"></rect><g></g></g><g><rect x=\\\"0\\\" y=\\\"3\\\" class=\\\"dark-square\\\" height=\\\"1\\\" width=\\\"1\\\"></rect><g></g></g><g><rect x=\\\"0\\\" y=\\\"4\\\" class=\\\"light-square\\\" height=\\\"1\\\" width=\\\"1\\\"></rect><g></g></g><g><rect x=\\\"0\\\" y=\\\"5\\\" class=\\\"dark-square\\\" height=\\\"1\\\" width=\\\"1\\\"></rect><g></g></g><g><rect x=\\\"0\\\" y=\\\"6\\\" class=\\\"light-square\\\" height=\\\"1\\\" width=\\\"1\\\"></rect><image x=\\\"0\\\" xlink:href=\\\"https://raw.githubusercontent.com/romstad/Chess.jl/master/img/wp.svg\\\" y=\\\"6\\\" height=\\\"1\\\" width=\\\"1\\\"></image></g><g><rect x=\\\"0\\\" y=\\\"7\\\" class=\\\"dark-square\\\" height=\\\"1\\\" width=\\\"1\\\"></rect><image x=\\\"0\\\" xlink:href=\\\"https://raw.githubusercontent.com/romstad/Chess.jl/master/img/wr.svg\\\" y=\\\"7\\\" height=\\\"1\\\" width=\\\"1\\\"></image></g><g><rect x=\\\"1\\\" y=\\\"0\\\" class=\\\"dark-square\\\" height=\\\"1\\\" width=\\\"1\\\"></rect><image x=\\\"1\\\" xlink:href=\\\"https://raw.githubusercontent.com/romstad/Chess.jl/master/img/bn.svg\\\" y=\\\"0\\\" height=\\\"1\\\" width=\\\"1\\\"></image></g><g><rect x=\\\"1\\\" y=\\\"1\\\" class=\\\"light-square\\\" height=\\\"1\\\" width=\\\"1\\\"></rect><image x=\\\"1\\\" xlink:href=\\\"https://raw.githubusercontent.com/romstad/Chess.jl/master/img/bp.svg\\\" y=\\\"1\\\" height=\\\"1\\\" width=\\\"1\\\"></image></g><g><rect x=\\\"1\\\" y=\\\"2\\\" class=\\\"dark-square\\\" height=\\\"1\\\" width=\\\"1\\\"></rect><g></g></g><g><rect x=\\\"1\\\" y=\\\"3\\\" class=\\\"light-square\\\" height=\\\"1\\\" width=\\\"1\\\"></rect><g></g></g><g><rect x=\\\"1\\\" y=\\\"4\\\" class=\\\"dark-square\\\" height=\\\"1\\\" width=\\\"1\\\"></rect><g></g></g><g><rect x=\\\"1\\\" y=\\\"5\\\" class=\\\"light-square\\\" height=\\\"1\\\" width=\\\"1\\\"></rect><g></g></g><g><rect x=\\\"1\\\" y=\\\"6\\\" class=\\\"dark-square\\\" height=\\\"1\\\" width=\\\"1\\\"></rect><image x=\\\"1\\\" xlink:href=\\\"https://raw.githubusercontent.com/romstad/Chess.jl/master/img/wp.svg\\\" y=\\\"6\\\" height=\\\"1\\\" width=\\\"1\\\"></image></g><g><rect x=\\\"1\\\" y=\\\"7\\\" class=\\\"light-square\\\" height=\\\"1\\\" width=\\\"1\\\"></rect><image x=\\\"1\\\" xlink:href=\\\"https://raw.githubusercontent.com/romstad/Chess.jl/master/img/wn.svg\\\" y=\\\"7\\\" height=\\\"1\\\" width=\\\"1\\\"></image></g><g><rect x=\\\"2\\\" y=\\\"0\\\" class=\\\"light-square\\\" height=\\\"1\\\" width=\\\"1\\\"></rect><image x=\\\"2\\\" xlink:href=\\\"https://raw.githubusercontent.com/romstad/Chess.jl/master/img/bb.svg\\\" y=\\\"0\\\" height=\\\"1\\\" width=\\\"1\\\"></image></g><g><rect x=\\\"2\\\" y=\\\"1\\\" class=\\\"dark-square\\\" height=\\\"1\\\" width=\\\"1\\\"></rect><image x=\\\"2\\\" xlink:href=\\\"https://raw.githubusercontent.com/romstad/Chess.jl/master/img/bp.svg\\\" y=\\\"1\\\" height=\\\"1\\\" width=\\\"1\\\"></image></g><g><rect x=\\\"2\\\" y=\\\"2\\\" class=\\\"light-square\\\" height=\\\"1\\\" width=\\\"1\\\"></rect><g></g></g><g><rect x=\\\"2\\\" y=\\\"3\\\" class=\\\"dark-square\\\" height=\\\"1\\\" width=\\\"1\\\"></rect><g></g></g><g><rect x=\\\"2\\\" y=\\\"4\\\" class=\\\"light-square\\\" height=\\\"1\\\" width=\\\"1\\\"></rect><g></g></g><g><rect x=\\\"2\\\" y=\\\"5\\\" class=\\\"dark-square\\\" height=\\\"1\\\" width=\\\"1\\\"></rect><g></g></g><g><rect x=\\\"2\\\" y=\\\"6\\\" class=\\\"light-square\\\" height=\\\"1\\\" width=\\\"1\\\"></rect><image x=\\\"2\\\" xlink:href=\\\"https://raw.githubusercontent.com/romstad/Chess.jl/master/img/wp.svg\\\" y=\\\"6\\\" height=\\\"1\\\" width=\\\"1\\\"></image></g><g><rect x=\\\"2\\\" y=\\\"7\\\" class=\\\"dark-square\\\" height=\\\"1\\\" width=\\\"1\\\"></rect><image x=\\\"2\\\" xlink:href=\\\"https://raw.githubusercontent.com/romstad/Chess.jl/master/img/wb.svg\\\" y=\\\"7\\\" height=\\\"1\\\" width=\\\"1\\\"></image></g><g><rect x=\\\"3\\\" y=\\\"0\\\" class=\\\"dark-square\\\" height=\\\"1\\\" width=\\\"1\\\"></rect><image x=\\\"3\\\" xlink:href=\\\"https://raw.githubusercontent.com/romstad/Chess.jl/master/img/bq.svg\\\" y=\\\"0\\\" height=\\\"1\\\" width=\\\"1\\\"></image></g><g><rect x=\\\"3\\\" y=\\\"1\\\" class=\\\"light-square\\\" height=\\\"1\\\" width=\\\"1\\\"></rect><image x=\\\"3\\\" xlink:href=\\\"https://raw.githubusercontent.com/romstad/Chess.jl/master/img/bp.svg\\\" y=\\\"1\\\" height=\\\"1\\\" width=\\\"1\\\"></image></g><g><rect x=\\\"3\\\" y=\\\"2\\\" class=\\\"dark-square\\\" height=\\\"1\\\" width=\\\"1\\\"></rect><g></g></g><g><rect x=\\\"3\\\" y=\\\"3\\\" class=\\\"light-square\\\" height=\\\"1\\\" width=\\\"1\\\"></rect><g></g></g><g><rect x=\\\"3\\\" y=\\\"4\\\" class=\\\"dark-square\\\" height=\\\"1\\\" width=\\\"1\\\"></rect><g></g></g><g><rect x=\\\"3\\\" y=\\\"5\\\" class=\\\"light-square\\\" height=\\\"1\\\" width=\\\"1\\\"></rect><g></g></g><g><rect x=\\\"3\\\" y=\\\"6\\\" class=\\\"dark-square\\\" height=\\\"1\\\" width=\\\"1\\\"></rect><image x=\\\"3\\\" xlink:href=\\\"https://raw.githubusercontent.com/romstad/Chess.jl/master/img/wp.svg\\\" y=\\\"6\\\" height=\\\"1\\\" width=\\\"1\\\"></image></g><g><rect x=\\\"3\\\" y=\\\"7\\\" class=\\\"light-square\\\" height=\\\"1\\\" width=\\\"1\\\"></rect><image x=\\\"3\\\" xlink:href=\\\"https://raw.githubusercontent.com/romstad/Chess.jl/master/img/wq.svg\\\" y=\\\"7\\\" height=\\\"1\\\" width=\\\"1\\\"></image></g><g><rect x=\\\"4\\\" y=\\\"0\\\" class=\\\"light-square\\\" height=\\\"1\\\" width=\\\"1\\\"></rect><image x=\\\"4\\\" xlink:href=\\\"https://raw.githubusercontent.com/romstad/Chess.jl/master/img/bk.svg\\\" y=\\\"0\\\" height=\\\"1\\\" width=\\\"1\\\"></image></g><g><rect x=\\\"4\\\" y=\\\"1\\\" class=\\\"dark-square\\\" height=\\\"1\\\" width=\\\"1\\\"></rect><image x=\\\"4\\\" xlink:href=\\\"https://raw.githubusercontent.com/romstad/Chess.jl/master/img/bp.svg\\\" y=\\\"1\\\" height=\\\"1\\\" width=\\\"1\\\"></image></g><g><rect x=\\\"4\\\" y=\\\"2\\\" class=\\\"light-square\\\" height=\\\"1\\\" width=\\\"1\\\"></rect><g></g></g><g><rect x=\\\"4\\\" y=\\\"3\\\" class=\\\"dark-square\\\" height=\\\"1\\\" width=\\\"1\\\"></rect><g></g></g><g><rect x=\\\"4\\\" y=\\\"4\\\" class=\\\"light-square\\\" height=\\\"1\\\" width=\\\"1\\\"></rect><g></g></g><g><rect x=\\\"4\\\" y=\\\"5\\\" class=\\\"dark-square\\\" height=\\\"1\\\" width=\\\"1\\\"></rect><g></g></g><g><rect x=\\\"4\\\" y=\\\"6\\\" class=\\\"light-square\\\" height=\\\"1\\\" width=\\\"1\\\"></rect><image x=\\\"4\\\" xlink:href=\\\"https://raw.githubusercontent.com/romstad/Chess.jl/master/img/wp.svg\\\" y=\\\"6\\\" height=\\\"1\\\" width=\\\"1\\\"></image></g><g><rect x=\\\"4\\\" y=\\\"7\\\" class=\\\"dark-square\\\" height=\\\"1\\\" width=\\\"1\\\"></rect><image x=\\\"4\\\" xlink:href=\\\"https://raw.githubusercontent.com/romstad/Chess.jl/master/img/wk.svg\\\" y=\\\"7\\\" height=\\\"1\\\" width=\\\"1\\\"></image></g><g><rect x=\\\"5\\\" y=\\\"0\\\" class=\\\"dark-square\\\" height=\\\"1\\\" width=\\\"1\\\"></rect><image x=\\\"5\\\" xlink:href=\\\"https://raw.githubusercontent.com/romstad/Chess.jl/master/img/bb.svg\\\" y=\\\"0\\\" height=\\\"1\\\" width=\\\"1\\\"></image></g><g><rect x=\\\"5\\\" y=\\\"1\\\" class=\\\"light-square\\\" height=\\\"1\\\" width=\\\"1\\\"></rect><image x=\\\"5\\\" xlink:href=\\\"https://raw.githubusercontent.com/romstad/Chess.jl/master/img/bp.svg\\\" y=\\\"1\\\" height=\\\"1\\\" width=\\\"1\\\"></image></g><g><rect x=\\\"5\\\" y=\\\"2\\\" class=\\\"dark-square\\\" height=\\\"1\\\" width=\\\"1\\\"></rect><g></g></g><g><rect x=\\\"5\\\" y=\\\"3\\\" class=\\\"light-square\\\" height=\\\"1\\\" width=\\\"1\\\"></rect><g></g></g><g><rect x=\\\"5\\\" y=\\\"4\\\" class=\\\"dark-square\\\" height=\\\"1\\\" width=\\\"1\\\"></rect><g></g></g><g><rect x=\\\"5\\\" y=\\\"5\\\" class=\\\"light-square\\\" height=\\\"1\\\" width=\\\"1\\\"></rect><g></g></g><g><rect x=\\\"5\\\" y=\\\"6\\\" class=\\\"dark-square\\\" height=\\\"1\\\" width=\\\"1\\\"></rect><image x=\\\"5\\\" xlink:href=\\\"https://raw.githubusercontent.com/romstad/Chess.jl/master/img/wp.svg\\\" y=\\\"6\\\" height=\\\"1\\\" width=\\\"1\\\"></image></g><g><rect x=\\\"5\\\" y=\\\"7\\\" class=\\\"light-square\\\" height=\\\"1\\\" width=\\\"1\\\"></rect><image x=\\\"5\\\" xlink:href=\\\"https://raw.githubusercontent.com/romstad/Chess.jl/master/img/wb.svg\\\" y=\\\"7\\\" height=\\\"1\\\" width=\\\"1\\\"></image></g><g><rect x=\\\"6\\\" y=\\\"0\\\" class=\\\"light-square\\\" height=\\\"1\\\" width=\\\"1\\\"></rect><image x=\\\"6\\\" xlink:href=\\\"https://raw.githubusercontent.com/romstad/Chess.jl/master/img/bn.svg\\\" y=\\\"0\\\" height=\\\"1\\\" width=\\\"1\\\"></image></g><g><rect x=\\\"6\\\" y=\\\"1\\\" class=\\\"dark-square\\\" height=\\\"1\\\" width=\\\"1\\\"></rect><image x=\\\"6\\\" xlink:href=\\\"https://raw.githubusercontent.com/romstad/Chess.jl/master/img/bp.svg\\\" y=\\\"1\\\" height=\\\"1\\\" width=\\\"1\\\"></image></g><g><rect x=\\\"6\\\" y=\\\"2\\\" class=\\\"light-square\\\" height=\\\"1\\\" width=\\\"1\\\"></rect><g></g></g><g><rect x=\\\"6\\\" y=\\\"3\\\" class=\\\"dark-square\\\" height=\\\"1\\\" width=\\\"1\\\"></rect><g></g></g><g><rect x=\\\"6\\\" y=\\\"4\\\" class=\\\"light-square\\\" height=\\\"1\\\" width=\\\"1\\\"></rect><g></g></g><g><rect x=\\\"6\\\" y=\\\"5\\\" class=\\\"dark-square\\\" height=\\\"1\\\" width=\\\"1\\\"></rect><g></g></g><g><rect x=\\\"6\\\" y=\\\"6\\\" class=\\\"light-square\\\" height=\\\"1\\\" width=\\\"1\\\"></rect><image x=\\\"6\\\" xlink:href=\\\"https://raw.githubusercontent.com/romstad/Chess.jl/master/img/wp.svg\\\" y=\\\"6\\\" height=\\\"1\\\" width=\\\"1\\\"></image></g><g><rect x=\\\"6\\\" y=\\\"7\\\" class=\\\"dark-square\\\" height=\\\"1\\\" width=\\\"1\\\"></rect><image x=\\\"6\\\" xlink:href=\\\"https://raw.githubusercontent.com/romstad/Chess.jl/master/img/wn.svg\\\" y=\\\"7\\\" height=\\\"1\\\" width=\\\"1\\\"></image></g><g><rect x=\\\"7\\\" y=\\\"0\\\" class=\\\"dark-square\\\" height=\\\"1\\\" width=\\\"1\\\"></rect><image x=\\\"7\\\" xlink:href=\\\"https://raw.githubusercontent.com/romstad/Chess.jl/master/img/br.svg\\\" y=\\\"0\\\" height=\\\"1\\\" width=\\\"1\\\"></image></g><g><rect x=\\\"7\\\" y=\\\"1\\\" class=\\\"light-square\\\" height=\\\"1\\\" width=\\\"1\\\"></rect><image x=\\\"7\\\" xlink:href=\\\"https://raw.githubusercontent.com/romstad/Chess.jl/master/img/bp.svg\\\" y=\\\"1\\\" height=\\\"1\\\" width=\\\"1\\\"></image></g><g><rect x=\\\"7\\\" y=\\\"2\\\" class=\\\"dark-square\\\" height=\\\"1\\\" width=\\\"1\\\"></rect><g></g></g><g><rect x=\\\"7\\\" y=\\\"3\\\" class=\\\"light-square\\\" height=\\\"1\\\" width=\\\"1\\\"></rect><g></g></g><g><rect x=\\\"7\\\" y=\\\"4\\\" class=\\\"dark-square\\\" height=\\\"1\\\" width=\\\"1\\\"></rect><g></g></g><g><rect x=\\\"7\\\" y=\\\"5\\\" class=\\\"light-square\\\" height=\\\"1\\\" width=\\\"1\\\"></rect><g></g></g><g><rect x=\\\"7\\\" y=\\\"6\\\" class=\\\"dark-square\\\" height=\\\"1\\\" width=\\\"1\\\"></rect><image x=\\\"7\\\" xlink:href=\\\"https://raw.githubusercontent.com/romstad/Chess.jl/master/img/wp.svg\\\" y=\\\"6\\\" height=\\\"1\\\" width=\\\"1\\\"></image></g><g><rect x=\\\"7\\\" y=\\\"7\\\" class=\\\"light-square\\\" height=\\\"1\\\" width=\\\"1\\\"></rect><image x=\\\"7\\\" xlink:href=\\\"https://raw.githubusercontent.com/romstad/Chess.jl/master/img/wr.svg\\\" y=\\\"7\\\" height=\\\"1\\\" width=\\\"1\\\"></image></g></g><g></g></svg><div><p>White to move</p><p>Castle rights: KQkq</p><p><a href=\\\"https://lichess.org/editor/rnbqkbnr/pppppppp/8/8/8/8/PPPPPPPP/RNBQKBNR_w_KQkq_-\\\" target=\\\"_blank\\\">Open in lichess</a></p></div></div>\")"
      ]
     },
     "metadata": {},
     "output_type": "display_data"
    },
    {
     "ename": "LoadError",
     "evalue": "MethodError: no method matching iterate(::Move)\n\u001b[0mClosest candidates are:\n\u001b[0m  iterate(\u001b[91m::Union{LinRange, StepRangeLen}\u001b[39m) at range.jl:872\n\u001b[0m  iterate(\u001b[91m::Union{LinRange, StepRangeLen}\u001b[39m, \u001b[91m::Integer\u001b[39m) at range.jl:872\n\u001b[0m  iterate(\u001b[91m::T\u001b[39m) where T<:Union{Base.KeySet{<:Any, <:Dict}, Base.ValueIterator{<:Dict}} at dict.jl:712\n\u001b[0m  ...",
     "output_type": "error",
     "traceback": [
      "MethodError: no method matching iterate(::Move)\n\u001b[0mClosest candidates are:\n\u001b[0m  iterate(\u001b[91m::Union{LinRange, StepRangeLen}\u001b[39m) at range.jl:872\n\u001b[0m  iterate(\u001b[91m::Union{LinRange, StepRangeLen}\u001b[39m, \u001b[91m::Integer\u001b[39m) at range.jl:872\n\u001b[0m  iterate(\u001b[91m::T\u001b[39m) where T<:Union{Base.KeySet{<:Any, <:Dict}, Base.ValueIterator{<:Dict}} at dict.jl:712\n\u001b[0m  ...",
      "",
      "Stacktrace:",
      "  [1] indexed_iterate(I::Move, i::Int64)",
      "    @ Base .\\tuple.jl:91",
      "  [2] macro expansion",
      "    @ C:\\Users\\luckb\\OneDrive\\Duales Studium Cyber-Security\\Theoriephasen\\Phase 5\\Studienarbeit\\Notebooks\\chess-ai\\1.2 BasicGame.ipynb:In[1]:6 [inlined]",
      "  [3] macro expansion",
      "    @ .\\timing.jl:382 [inlined]",
      "  [4] play_game(ai::TestPlayer, player::TestPlayer, game::SimpleGame, ai_turn::Bool)",
      "    @ Main C:\\Users\\luckb\\OneDrive\\Duales Studium Cyber-Security\\Theoriephasen\\Phase 5\\Studienarbeit\\Notebooks\\chess-ai\\1.2 BasicGame.ipynb:In[1]:5",
      "  [5] play_game",
      "    @ C:\\Users\\luckb\\OneDrive\\Duales Studium Cyber-Security\\Theoriephasen\\Phase 5\\Studienarbeit\\Notebooks\\chess-ai\\1.2 BasicGame.ipynb:In[1]:2 [inlined]",
      "  [6] test_play_game(expected::String, player1_moves::Vector{Move}, player2_moves::Vector{Move}, board::Board)",
      "    @ Main .\\In[12]:17",
      "  [7] test_play_game(expected::String, player1_moves::Vector{Move}, player2_moves::Vector{Move})",
      "    @ Main .\\In[12]:14",
      "  [8] top-level scope",
      "    @ In[16]:1",
      "  [9] eval",
      "    @ .\\boot.jl:368 [inlined]",
      " [10] include_string(mapexpr::typeof(REPL.softscope), mod::Module, code::String, filename::String)",
      "    @ Base .\\loading.jl:1428"
     ]
    }
   ],
   "source": [
    "println(test_play_game(\n",
    "    \"Checkmate! You lost!\",\n",
    "    [Move(SQ_E7, SQ_E6), Move(SQ_F8, SQ_C5), Move(SQ_E8, SQ_F8), Move(SQ_D8, SQ_H4), Move(SQ_H4, SQ_F2)],\n",
    "    [Move(SQ_B1, SQ_A3), Move(SQ_A3, SQ_B5), Move(SQ_B5, SQ_C7), Move(SQ_C7, SQ_A8), Move(SQ_C2, SQ_C3)]\n",
    "))"
   ]
  },
  {
   "cell_type": "code",
   "execution_count": 17,
   "id": "fcc69018",
   "metadata": {
    "scrolled": true
   },
   "outputs": [
    {
     "data": {
      "text/html": [
       "Board:<div class=\"chessboard\"><style soped=\"true\">.dark-square {\n",
       "    fill: #c3936a;\n",
       "    stroke-width: 0;\n",
       "}\n",
       ".light-square {\n",
       "    fill: #ffd7a6;\n",
       "    stroke-width: 0;\n",
       "}\n",
       ".highlight {\n",
       "    fill: #47d18b;\n",
       "}\n",
       "@media (prefers-color-scheme: dark) {\n",
       "    .dark-square {\n",
       "        fill: #00796b;\n",
       "    }\n",
       "    .light-square {\n",
       "        fill: #3ca59b;\n",
       "    }\n",
       "    .highlight {\n",
       "        fill: #d23600;\n",
       "    }\n",
       "}\n",
       "</style><svg style=\"float: left; margin-right: 20px\" viewBox=\"0 0 8 8\" height=\"280\" width=\"280\"><g><g><rect x=\"0\" y=\"0\" class=\"light-square\" height=\"1\" width=\"1\"></rect><image x=\"0\" xlink:href=\"https://raw.githubusercontent.com/romstad/Chess.jl/master/img/bk.svg\" y=\"0\" height=\"1\" width=\"1\"></image></g><g><rect x=\"0\" y=\"1\" class=\"dark-square\" height=\"1\" width=\"1\"></rect><g></g></g><g><rect x=\"0\" y=\"2\" class=\"light-square\" height=\"1\" width=\"1\"></rect><g></g></g><g><rect x=\"0\" y=\"3\" class=\"dark-square\" height=\"1\" width=\"1\"></rect><g></g></g><g><rect x=\"0\" y=\"4\" class=\"light-square\" height=\"1\" width=\"1\"></rect><g></g></g><g><rect x=\"0\" y=\"5\" class=\"dark-square\" height=\"1\" width=\"1\"></rect><g></g></g><g><rect x=\"0\" y=\"6\" class=\"light-square\" height=\"1\" width=\"1\"></rect><g></g></g><g><rect x=\"0\" y=\"7\" class=\"dark-square\" height=\"1\" width=\"1\"></rect><g></g></g><g><rect x=\"1\" y=\"0\" class=\"dark-square\" height=\"1\" width=\"1\"></rect><g></g></g><g><rect x=\"1\" y=\"1\" class=\"light-square\" height=\"1\" width=\"1\"></rect><g></g></g><g><rect x=\"1\" y=\"2\" class=\"dark-square\" height=\"1\" width=\"1\"></rect><g></g></g><g><rect x=\"1\" y=\"3\" class=\"light-square\" height=\"1\" width=\"1\"></rect><g></g></g><g><rect x=\"1\" y=\"4\" class=\"dark-square\" height=\"1\" width=\"1\"></rect><g></g></g><g><rect x=\"1\" y=\"5\" class=\"light-square\" height=\"1\" width=\"1\"></rect><g></g></g><g><rect x=\"1\" y=\"6\" class=\"dark-square\" height=\"1\" width=\"1\"></rect><g></g></g><g><rect x=\"1\" y=\"7\" class=\"light-square\" height=\"1\" width=\"1\"></rect><g></g></g><g><rect x=\"2\" y=\"0\" class=\"light-square\" height=\"1\" width=\"1\"></rect><g></g></g><g><rect x=\"2\" y=\"1\" class=\"dark-square\" height=\"1\" width=\"1\"></rect><g></g></g><g><rect x=\"2\" y=\"2\" class=\"light-square\" height=\"1\" width=\"1\"></rect><g></g></g><g><rect x=\"2\" y=\"3\" class=\"dark-square\" height=\"1\" width=\"1\"></rect><g></g></g><g><rect x=\"2\" y=\"4\" class=\"light-square\" height=\"1\" width=\"1\"></rect><g></g></g><g><rect x=\"2\" y=\"5\" class=\"dark-square\" height=\"1\" width=\"1\"></rect><g></g></g><g><rect x=\"2\" y=\"6\" class=\"light-square\" height=\"1\" width=\"1\"></rect><g></g></g><g><rect x=\"2\" y=\"7\" class=\"dark-square\" height=\"1\" width=\"1\"></rect><g></g></g><g><rect x=\"3\" y=\"0\" class=\"dark-square\" height=\"1\" width=\"1\"></rect><g></g></g><g><rect x=\"3\" y=\"1\" class=\"light-square\" height=\"1\" width=\"1\"></rect><g></g></g><g><rect x=\"3\" y=\"2\" class=\"dark-square\" height=\"1\" width=\"1\"></rect><g></g></g><g><rect x=\"3\" y=\"3\" class=\"light-square\" height=\"1\" width=\"1\"></rect><g></g></g><g><rect x=\"3\" y=\"4\" class=\"dark-square\" height=\"1\" width=\"1\"></rect><g></g></g><g><rect x=\"3\" y=\"5\" class=\"light-square\" height=\"1\" width=\"1\"></rect><g></g></g><g><rect x=\"3\" y=\"6\" class=\"dark-square\" height=\"1\" width=\"1\"></rect><g></g></g><g><rect x=\"3\" y=\"7\" class=\"light-square\" height=\"1\" width=\"1\"></rect><g></g></g><g><rect x=\"4\" y=\"0\" class=\"light-square\" height=\"1\" width=\"1\"></rect><g></g></g><g><rect x=\"4\" y=\"1\" class=\"dark-square\" height=\"1\" width=\"1\"></rect><g></g></g><g><rect x=\"4\" y=\"2\" class=\"light-square\" height=\"1\" width=\"1\"></rect><g></g></g><g><rect x=\"4\" y=\"3\" class=\"dark-square\" height=\"1\" width=\"1\"></rect><g></g></g><g><rect x=\"4\" y=\"4\" class=\"light-square\" height=\"1\" width=\"1\"></rect><g></g></g><g><rect x=\"4\" y=\"5\" class=\"dark-square\" height=\"1\" width=\"1\"></rect><g></g></g><g><rect x=\"4\" y=\"6\" class=\"light-square\" height=\"1\" width=\"1\"></rect><g></g></g><g><rect x=\"4\" y=\"7\" class=\"dark-square\" height=\"1\" width=\"1\"></rect><g></g></g><g><rect x=\"5\" y=\"0\" class=\"dark-square\" height=\"1\" width=\"1\"></rect><g></g></g><g><rect x=\"5\" y=\"1\" class=\"light-square\" height=\"1\" width=\"1\"></rect><g></g></g><g><rect x=\"5\" y=\"2\" class=\"dark-square\" height=\"1\" width=\"1\"></rect><g></g></g><g><rect x=\"5\" y=\"3\" class=\"light-square\" height=\"1\" width=\"1\"></rect><g></g></g><g><rect x=\"5\" y=\"4\" class=\"dark-square\" height=\"1\" width=\"1\"></rect><g></g></g><g><rect x=\"5\" y=\"5\" class=\"light-square\" height=\"1\" width=\"1\"></rect><g></g></g><g><rect x=\"5\" y=\"6\" class=\"dark-square\" height=\"1\" width=\"1\"></rect><g></g></g><g><rect x=\"5\" y=\"7\" class=\"light-square\" height=\"1\" width=\"1\"></rect><g></g></g><g><rect x=\"6\" y=\"0\" class=\"light-square\" height=\"1\" width=\"1\"></rect><g></g></g><g><rect x=\"6\" y=\"1\" class=\"dark-square\" height=\"1\" width=\"1\"></rect><g></g></g><g><rect x=\"6\" y=\"2\" class=\"light-square\" height=\"1\" width=\"1\"></rect><g></g></g><g><rect x=\"6\" y=\"3\" class=\"dark-square\" height=\"1\" width=\"1\"></rect><g></g></g><g><rect x=\"6\" y=\"4\" class=\"light-square\" height=\"1\" width=\"1\"></rect><g></g></g><g><rect x=\"6\" y=\"5\" class=\"dark-square\" height=\"1\" width=\"1\"></rect><g></g></g><g><rect x=\"6\" y=\"6\" class=\"light-square\" height=\"1\" width=\"1\"></rect><image x=\"6\" xlink:href=\"https://raw.githubusercontent.com/romstad/Chess.jl/master/img/bq.svg\" y=\"6\" height=\"1\" width=\"1\"></image></g><g><rect x=\"6\" y=\"7\" class=\"dark-square\" height=\"1\" width=\"1\"></rect><g></g></g><g><rect x=\"7\" y=\"0\" class=\"dark-square\" height=\"1\" width=\"1\"></rect><g></g></g><g><rect x=\"7\" y=\"1\" class=\"light-square\" height=\"1\" width=\"1\"></rect><g></g></g><g><rect x=\"7\" y=\"2\" class=\"dark-square\" height=\"1\" width=\"1\"></rect><g></g></g><g><rect x=\"7\" y=\"3\" class=\"light-square\" height=\"1\" width=\"1\"></rect><g></g></g><g><rect x=\"7\" y=\"4\" class=\"dark-square\" height=\"1\" width=\"1\"></rect><g></g></g><g><rect x=\"7\" y=\"5\" class=\"light-square\" height=\"1\" width=\"1\"></rect><g></g></g><g><rect x=\"7\" y=\"6\" class=\"dark-square\" height=\"1\" width=\"1\"></rect><g></g></g><g><rect x=\"7\" y=\"7\" class=\"light-square\" height=\"1\" width=\"1\"></rect><image x=\"7\" xlink:href=\"https://raw.githubusercontent.com/romstad/Chess.jl/master/img/wk.svg\" y=\"7\" height=\"1\" width=\"1\"></image></g></g><g></g></svg><div><p>White to move</p><p><a href=\"https://lichess.org/editor/k7/8/8/8/8/8/6q1/7K_w_-_-\" target=\"_blank\">Open in lichess</a></p></div></div>"
      ],
      "text/plain": [
       "HTML{String}(\"Board:<div class=\\\"chessboard\\\"><style soped=\\\"true\\\">.dark-square {\\n    fill: #c3936a;\\n    stroke-width: 0;\\n}\\n.light-square {\\n    fill: #ffd7a6;\\n    stroke-width: 0;\\n}\\n.highlight {\\n    fill: #47d18b;\\n}\\n@media (prefers-color-scheme: dark) {\\n    .dark-square {\\n        fill: #00796b;\\n    }\\n    .light-square {\\n        fill: #3ca59b;\\n    }\\n    .highlight {\\n        fill: #d23600;\\n    }\\n}\\n</style><svg style=\\\"float: left; margin-right: 20px\\\" viewBox=\\\"0 0 8 8\\\" height=\\\"280\\\" width=\\\"280\\\"><g><g><rect x=\\\"0\\\" y=\\\"0\\\" class=\\\"light-square\\\" height=\\\"1\\\" width=\\\"1\\\"></rect><image x=\\\"0\\\" xlink:href=\\\"https://raw.githubusercontent.com/romstad/Chess.jl/master/img/bk.svg\\\" y=\\\"0\\\" height=\\\"1\\\" width=\\\"1\\\"></image></g><g><rect x=\\\"0\\\" y=\\\"1\\\" class=\\\"dark-square\\\" height=\\\"1\\\" width=\\\"1\\\"></rect><g></g></g><g><rect x=\\\"0\\\" y=\\\"2\\\" class=\\\"light-square\\\" height=\\\"1\\\" width=\\\"1\\\"></rect><g></g></g><g><rect x=\\\"0\\\" y=\\\"3\\\" class=\\\"dark-square\\\" height=\\\"1\\\" width=\\\"1\\\"></rect><g></g></g><g><rect x=\\\"0\\\" y=\\\"4\\\" class=\\\"light-square\\\" height=\\\"1\\\" width=\\\"1\\\"></rect><g></g></g><g><rect x=\\\"0\\\" y=\\\"5\\\" class=\\\"dark-square\\\" height=\\\"1\\\" width=\\\"1\\\"></rect><g></g></g><g><rect x=\\\"0\\\" y=\\\"6\\\" class=\\\"light-square\\\" height=\\\"1\\\" width=\\\"1\\\"></rect><g></g></g><g><rect x=\\\"0\\\" y=\\\"7\\\" class=\\\"dark-square\\\" height=\\\"1\\\" width=\\\"1\\\"></rect><g></g></g><g><rect x=\\\"1\\\" y=\\\"0\\\" class=\\\"dark-square\\\" height=\\\"1\\\" width=\\\"1\\\"></rect><g></g></g><g><rect x=\\\"1\\\" y=\\\"1\\\" class=\\\"light-square\\\" height=\\\"1\\\" width=\\\"1\\\"></rect><g></g></g><g><rect x=\\\"1\\\" y=\\\"2\\\" class=\\\"dark-square\\\" height=\\\"1\\\" width=\\\"1\\\"></rect><g></g></g><g><rect x=\\\"1\\\" y=\\\"3\\\" class=\\\"light-square\\\" height=\\\"1\\\" width=\\\"1\\\"></rect><g></g></g><g><rect x=\\\"1\\\" y=\\\"4\\\" class=\\\"dark-square\\\" height=\\\"1\\\" width=\\\"1\\\"></rect><g></g></g><g><rect x=\\\"1\\\" y=\\\"5\\\" class=\\\"light-square\\\" height=\\\"1\\\" width=\\\"1\\\"></rect><g></g></g><g><rect x=\\\"1\\\" y=\\\"6\\\" class=\\\"dark-square\\\" height=\\\"1\\\" width=\\\"1\\\"></rect><g></g></g><g><rect x=\\\"1\\\" y=\\\"7\\\" class=\\\"light-square\\\" height=\\\"1\\\" width=\\\"1\\\"></rect><g></g></g><g><rect x=\\\"2\\\" y=\\\"0\\\" class=\\\"light-square\\\" height=\\\"1\\\" width=\\\"1\\\"></rect><g></g></g><g><rect x=\\\"2\\\" y=\\\"1\\\" class=\\\"dark-square\\\" height=\\\"1\\\" width=\\\"1\\\"></rect><g></g></g><g><rect x=\\\"2\\\" y=\\\"2\\\" class=\\\"light-square\\\" height=\\\"1\\\" width=\\\"1\\\"></rect><g></g></g><g><rect x=\\\"2\\\" y=\\\"3\\\" class=\\\"dark-square\\\" height=\\\"1\\\" width=\\\"1\\\"></rect><g></g></g><g><rect x=\\\"2\\\" y=\\\"4\\\" class=\\\"light-square\\\" height=\\\"1\\\" width=\\\"1\\\"></rect><g></g></g><g><rect x=\\\"2\\\" y=\\\"5\\\" class=\\\"dark-square\\\" height=\\\"1\\\" width=\\\"1\\\"></rect><g></g></g><g><rect x=\\\"2\\\" y=\\\"6\\\" class=\\\"light-square\\\" height=\\\"1\\\" width=\\\"1\\\"></rect><g></g></g><g><rect x=\\\"2\\\" y=\\\"7\\\" class=\\\"dark-square\\\" height=\\\"1\\\" width=\\\"1\\\"></rect><g></g></g><g><rect x=\\\"3\\\" y=\\\"0\\\" class=\\\"dark-square\\\" height=\\\"1\\\" width=\\\"1\\\"></rect><g></g></g><g><rect x=\\\"3\\\" y=\\\"1\\\" class=\\\"light-square\\\" height=\\\"1\\\" width=\\\"1\\\"></rect><g></g></g><g><rect x=\\\"3\\\" y=\\\"2\\\" class=\\\"dark-square\\\" height=\\\"1\\\" width=\\\"1\\\"></rect><g></g></g><g><rect x=\\\"3\\\" y=\\\"3\\\" class=\\\"light-square\\\" height=\\\"1\\\" width=\\\"1\\\"></rect><g></g></g><g><rect x=\\\"3\\\" y=\\\"4\\\" class=\\\"dark-square\\\" height=\\\"1\\\" width=\\\"1\\\"></rect><g></g></g><g><rect x=\\\"3\\\" y=\\\"5\\\" class=\\\"light-square\\\" height=\\\"1\\\" width=\\\"1\\\"></rect><g></g></g><g><rect x=\\\"3\\\" y=\\\"6\\\" class=\\\"dark-square\\\" height=\\\"1\\\" width=\\\"1\\\"></rect><g></g></g><g><rect x=\\\"3\\\" y=\\\"7\\\" class=\\\"light-square\\\" height=\\\"1\\\" width=\\\"1\\\"></rect><g></g></g><g><rect x=\\\"4\\\" y=\\\"0\\\" class=\\\"light-square\\\" height=\\\"1\\\" width=\\\"1\\\"></rect><g></g></g><g><rect x=\\\"4\\\" y=\\\"1\\\" class=\\\"dark-square\\\" height=\\\"1\\\" width=\\\"1\\\"></rect><g></g></g><g><rect x=\\\"4\\\" y=\\\"2\\\" class=\\\"light-square\\\" height=\\\"1\\\" width=\\\"1\\\"></rect><g></g></g><g><rect x=\\\"4\\\" y=\\\"3\\\" class=\\\"dark-square\\\" height=\\\"1\\\" width=\\\"1\\\"></rect><g></g></g><g><rect x=\\\"4\\\" y=\\\"4\\\" class=\\\"light-square\\\" height=\\\"1\\\" width=\\\"1\\\"></rect><g></g></g><g><rect x=\\\"4\\\" y=\\\"5\\\" class=\\\"dark-square\\\" height=\\\"1\\\" width=\\\"1\\\"></rect><g></g></g><g><rect x=\\\"4\\\" y=\\\"6\\\" class=\\\"light-square\\\" height=\\\"1\\\" width=\\\"1\\\"></rect><g></g></g><g><rect x=\\\"4\\\" y=\\\"7\\\" class=\\\"dark-square\\\" height=\\\"1\\\" width=\\\"1\\\"></rect><g></g></g><g><rect x=\\\"5\\\" y=\\\"0\\\" class=\\\"dark-square\\\" height=\\\"1\\\" width=\\\"1\\\"></rect><g></g></g><g><rect x=\\\"5\\\" y=\\\"1\\\" class=\\\"light-square\\\" height=\\\"1\\\" width=\\\"1\\\"></rect><g></g></g><g><rect x=\\\"5\\\" y=\\\"2\\\" class=\\\"dark-square\\\" height=\\\"1\\\" width=\\\"1\\\"></rect><g></g></g><g><rect x=\\\"5\\\" y=\\\"3\\\" class=\\\"light-square\\\" height=\\\"1\\\" width=\\\"1\\\"></rect><g></g></g><g><rect x=\\\"5\\\" y=\\\"4\\\" class=\\\"dark-square\\\" height=\\\"1\\\" width=\\\"1\\\"></rect><g></g></g><g><rect x=\\\"5\\\" y=\\\"5\\\" class=\\\"light-square\\\" height=\\\"1\\\" width=\\\"1\\\"></rect><g></g></g><g><rect x=\\\"5\\\" y=\\\"6\\\" class=\\\"dark-square\\\" height=\\\"1\\\" width=\\\"1\\\"></rect><g></g></g><g><rect x=\\\"5\\\" y=\\\"7\\\" class=\\\"light-square\\\" height=\\\"1\\\" width=\\\"1\\\"></rect><g></g></g><g><rect x=\\\"6\\\" y=\\\"0\\\" class=\\\"light-square\\\" height=\\\"1\\\" width=\\\"1\\\"></rect><g></g></g><g><rect x=\\\"6\\\" y=\\\"1\\\" class=\\\"dark-square\\\" height=\\\"1\\\" width=\\\"1\\\"></rect><g></g></g><g><rect x=\\\"6\\\" y=\\\"2\\\" class=\\\"light-square\\\" height=\\\"1\\\" width=\\\"1\\\"></rect><g></g></g><g><rect x=\\\"6\\\" y=\\\"3\\\" class=\\\"dark-square\\\" height=\\\"1\\\" width=\\\"1\\\"></rect><g></g></g><g><rect x=\\\"6\\\" y=\\\"4\\\" class=\\\"light-square\\\" height=\\\"1\\\" width=\\\"1\\\"></rect><g></g></g><g><rect x=\\\"6\\\" y=\\\"5\\\" class=\\\"dark-square\\\" height=\\\"1\\\" width=\\\"1\\\"></rect><g></g></g><g><rect x=\\\"6\\\" y=\\\"6\\\" class=\\\"light-square\\\" height=\\\"1\\\" width=\\\"1\\\"></rect><image x=\\\"6\\\" xlink:href=\\\"https://raw.githubusercontent.com/romstad/Chess.jl/master/img/bq.svg\\\" y=\\\"6\\\" height=\\\"1\\\" width=\\\"1\\\"></image></g><g><rect x=\\\"6\\\" y=\\\"7\\\" class=\\\"dark-square\\\" height=\\\"1\\\" width=\\\"1\\\"></rect><g></g></g><g><rect x=\\\"7\\\" y=\\\"0\\\" class=\\\"dark-square\\\" height=\\\"1\\\" width=\\\"1\\\"></rect><g></g></g><g><rect x=\\\"7\\\" y=\\\"1\\\" class=\\\"light-square\\\" height=\\\"1\\\" width=\\\"1\\\"></rect><g></g></g><g><rect x=\\\"7\\\" y=\\\"2\\\" class=\\\"dark-square\\\" height=\\\"1\\\" width=\\\"1\\\"></rect><g></g></g><g><rect x=\\\"7\\\" y=\\\"3\\\" class=\\\"light-square\\\" height=\\\"1\\\" width=\\\"1\\\"></rect><g></g></g><g><rect x=\\\"7\\\" y=\\\"4\\\" class=\\\"dark-square\\\" height=\\\"1\\\" width=\\\"1\\\"></rect><g></g></g><g><rect x=\\\"7\\\" y=\\\"5\\\" class=\\\"light-square\\\" height=\\\"1\\\" width=\\\"1\\\"></rect><g></g></g><g><rect x=\\\"7\\\" y=\\\"6\\\" class=\\\"dark-square\\\" height=\\\"1\\\" width=\\\"1\\\"></rect><g></g></g><g><rect x=\\\"7\\\" y=\\\"7\\\" class=\\\"light-square\\\" height=\\\"1\\\" width=\\\"1\\\"></rect><image x=\\\"7\\\" xlink:href=\\\"https://raw.githubusercontent.com/romstad/Chess.jl/master/img/wk.svg\\\" y=\\\"7\\\" height=\\\"1\\\" width=\\\"1\\\"></image></g></g><g></g></svg><div><p>White to move</p><p><a href=\\\"https://lichess.org/editor/k7/8/8/8/8/8/6q1/7K_w_-_-\\\" target=\\\"_blank\\\">Open in lichess</a></p></div></div>\")"
      ]
     },
     "metadata": {},
     "output_type": "display_data"
    },
    {
     "ename": "LoadError",
     "evalue": "MethodError: no method matching iterate(::Move)\n\u001b[0mClosest candidates are:\n\u001b[0m  iterate(\u001b[91m::Union{LinRange, StepRangeLen}\u001b[39m) at range.jl:872\n\u001b[0m  iterate(\u001b[91m::Union{LinRange, StepRangeLen}\u001b[39m, \u001b[91m::Integer\u001b[39m) at range.jl:872\n\u001b[0m  iterate(\u001b[91m::T\u001b[39m) where T<:Union{Base.KeySet{<:Any, <:Dict}, Base.ValueIterator{<:Dict}} at dict.jl:712\n\u001b[0m  ...",
     "output_type": "error",
     "traceback": [
      "MethodError: no method matching iterate(::Move)\n\u001b[0mClosest candidates are:\n\u001b[0m  iterate(\u001b[91m::Union{LinRange, StepRangeLen}\u001b[39m) at range.jl:872\n\u001b[0m  iterate(\u001b[91m::Union{LinRange, StepRangeLen}\u001b[39m, \u001b[91m::Integer\u001b[39m) at range.jl:872\n\u001b[0m  iterate(\u001b[91m::T\u001b[39m) where T<:Union{Base.KeySet{<:Any, <:Dict}, Base.ValueIterator{<:Dict}} at dict.jl:712\n\u001b[0m  ...",
      "",
      "Stacktrace:",
      " [1] indexed_iterate(I::Move, i::Int64)",
      "   @ Base .\\tuple.jl:91",
      " [2] macro expansion",
      "   @ C:\\Users\\luckb\\OneDrive\\Duales Studium Cyber-Security\\Theoriephasen\\Phase 5\\Studienarbeit\\Notebooks\\chess-ai\\1.2 BasicGame.ipynb:In[1]:6 [inlined]",
      " [3] macro expansion",
      "   @ .\\timing.jl:382 [inlined]",
      " [4] play_game(ai::TestPlayer, player::TestPlayer, game::SimpleGame, ai_turn::Bool)",
      "   @ Main C:\\Users\\luckb\\OneDrive\\Duales Studium Cyber-Security\\Theoriephasen\\Phase 5\\Studienarbeit\\Notebooks\\chess-ai\\1.2 BasicGame.ipynb:In[1]:5",
      " [5] play_game",
      "   @ C:\\Users\\luckb\\OneDrive\\Duales Studium Cyber-Security\\Theoriephasen\\Phase 5\\Studienarbeit\\Notebooks\\chess-ai\\1.2 BasicGame.ipynb:In[1]:2 [inlined]",
      " [6] test_play_game(expected::String, player1_moves::Vector{Any}, player2_moves::Vector{Move}, board::Board)",
      "   @ Main .\\In[12]:17",
      " [7] top-level scope",
      "   @ In[17]:1",
      " [8] eval",
      "   @ .\\boot.jl:368 [inlined]",
      " [9] include_string(mapexpr::typeof(REPL.softscope), mod::Module, code::String, filename::String)",
      "   @ Base .\\loading.jl:1428"
     ]
    }
   ],
   "source": [
    "println(test_play_game(\n",
    "    \"Draw!\",\n",
    "    [],\n",
    "    [Move(SQ_H1, SQ_G2)],\n",
    "    fromfen(\"k7/8/8/8/8/8/6q1/7K w - -\")\n",
    "))"
   ]
  },
  {
   "cell_type": "code",
   "execution_count": 18,
   "id": "1819a9e4",
   "metadata": {},
   "outputs": [
    {
     "data": {
      "text/html": [
       "Board:<div class=\"chessboard\"><style soped=\"true\">.dark-square {\n",
       "    fill: #c3936a;\n",
       "    stroke-width: 0;\n",
       "}\n",
       ".light-square {\n",
       "    fill: #ffd7a6;\n",
       "    stroke-width: 0;\n",
       "}\n",
       ".highlight {\n",
       "    fill: #47d18b;\n",
       "}\n",
       "@media (prefers-color-scheme: dark) {\n",
       "    .dark-square {\n",
       "        fill: #00796b;\n",
       "    }\n",
       "    .light-square {\n",
       "        fill: #3ca59b;\n",
       "    }\n",
       "    .highlight {\n",
       "        fill: #d23600;\n",
       "    }\n",
       "}\n",
       "</style><svg style=\"float: left; margin-right: 20px\" viewBox=\"0 0 8 8\" height=\"280\" width=\"280\"><g><g><rect x=\"0\" y=\"0\" class=\"light-square\" height=\"1\" width=\"1\"></rect><image x=\"0\" xlink:href=\"https://raw.githubusercontent.com/romstad/Chess.jl/master/img/bk.svg\" y=\"0\" height=\"1\" width=\"1\"></image></g><g><rect x=\"0\" y=\"1\" class=\"dark-square\" height=\"1\" width=\"1\"></rect><g></g></g><g><rect x=\"0\" y=\"2\" class=\"light-square\" height=\"1\" width=\"1\"></rect><g></g></g><g><rect x=\"0\" y=\"3\" class=\"dark-square\" height=\"1\" width=\"1\"></rect><g></g></g><g><rect x=\"0\" y=\"4\" class=\"light-square\" height=\"1\" width=\"1\"></rect><g></g></g><g><rect x=\"0\" y=\"5\" class=\"dark-square\" height=\"1\" width=\"1\"></rect><g></g></g><g><rect x=\"0\" y=\"6\" class=\"light-square\" height=\"1\" width=\"1\"></rect><g></g></g><g><rect x=\"0\" y=\"7\" class=\"dark-square\" height=\"1\" width=\"1\"></rect><image x=\"0\" xlink:href=\"https://raw.githubusercontent.com/romstad/Chess.jl/master/img/wk.svg\" y=\"7\" height=\"1\" width=\"1\"></image></g><g><rect x=\"1\" y=\"0\" class=\"dark-square\" height=\"1\" width=\"1\"></rect><g></g></g><g><rect x=\"1\" y=\"1\" class=\"light-square\" height=\"1\" width=\"1\"></rect><g></g></g><g><rect x=\"1\" y=\"2\" class=\"dark-square\" height=\"1\" width=\"1\"></rect><g></g></g><g><rect x=\"1\" y=\"3\" class=\"light-square\" height=\"1\" width=\"1\"></rect><g></g></g><g><rect x=\"1\" y=\"4\" class=\"dark-square\" height=\"1\" width=\"1\"></rect><g></g></g><g><rect x=\"1\" y=\"5\" class=\"light-square\" height=\"1\" width=\"1\"></rect><g></g></g><g><rect x=\"1\" y=\"6\" class=\"dark-square\" height=\"1\" width=\"1\"></rect><g></g></g><g><rect x=\"1\" y=\"7\" class=\"light-square\" height=\"1\" width=\"1\"></rect><g></g></g><g><rect x=\"2\" y=\"0\" class=\"light-square\" height=\"1\" width=\"1\"></rect><g></g></g><g><rect x=\"2\" y=\"1\" class=\"dark-square\" height=\"1\" width=\"1\"></rect><g></g></g><g><rect x=\"2\" y=\"2\" class=\"light-square\" height=\"1\" width=\"1\"></rect><g></g></g><g><rect x=\"2\" y=\"3\" class=\"dark-square\" height=\"1\" width=\"1\"></rect><g></g></g><g><rect x=\"2\" y=\"4\" class=\"light-square\" height=\"1\" width=\"1\"></rect><g></g></g><g><rect x=\"2\" y=\"5\" class=\"dark-square\" height=\"1\" width=\"1\"></rect><g></g></g><g><rect x=\"2\" y=\"6\" class=\"light-square\" height=\"1\" width=\"1\"></rect><g></g></g><g><rect x=\"2\" y=\"7\" class=\"dark-square\" height=\"1\" width=\"1\"></rect><g></g></g><g><rect x=\"3\" y=\"0\" class=\"dark-square\" height=\"1\" width=\"1\"></rect><g></g></g><g><rect x=\"3\" y=\"1\" class=\"light-square\" height=\"1\" width=\"1\"></rect><g></g></g><g><rect x=\"3\" y=\"2\" class=\"dark-square\" height=\"1\" width=\"1\"></rect><g></g></g><g><rect x=\"3\" y=\"3\" class=\"light-square\" height=\"1\" width=\"1\"></rect><g></g></g><g><rect x=\"3\" y=\"4\" class=\"dark-square\" height=\"1\" width=\"1\"></rect><g></g></g><g><rect x=\"3\" y=\"5\" class=\"light-square\" height=\"1\" width=\"1\"></rect><g></g></g><g><rect x=\"3\" y=\"6\" class=\"dark-square\" height=\"1\" width=\"1\"></rect><image x=\"3\" xlink:href=\"https://raw.githubusercontent.com/romstad/Chess.jl/master/img/wp.svg\" y=\"6\" height=\"1\" width=\"1\"></image></g><g><rect x=\"3\" y=\"7\" class=\"light-square\" height=\"1\" width=\"1\"></rect><g></g></g><g><rect x=\"4\" y=\"0\" class=\"light-square\" height=\"1\" width=\"1\"></rect><g></g></g><g><rect x=\"4\" y=\"1\" class=\"dark-square\" height=\"1\" width=\"1\"></rect><g></g></g><g><rect x=\"4\" y=\"2\" class=\"light-square\" height=\"1\" width=\"1\"></rect><g></g></g><g><rect x=\"4\" y=\"3\" class=\"dark-square\" height=\"1\" width=\"1\"></rect><g></g></g><g><rect x=\"4\" y=\"4\" class=\"light-square\" height=\"1\" width=\"1\"></rect><image x=\"4\" xlink:href=\"https://raw.githubusercontent.com/romstad/Chess.jl/master/img/bp.svg\" y=\"4\" height=\"1\" width=\"1\"></image></g><g><rect x=\"4\" y=\"5\" class=\"dark-square\" height=\"1\" width=\"1\"></rect><g></g></g><g><rect x=\"4\" y=\"6\" class=\"light-square\" height=\"1\" width=\"1\"></rect><g></g></g><g><rect x=\"4\" y=\"7\" class=\"dark-square\" height=\"1\" width=\"1\"></rect><g></g></g><g><rect x=\"5\" y=\"0\" class=\"dark-square\" height=\"1\" width=\"1\"></rect><g></g></g><g><rect x=\"5\" y=\"1\" class=\"light-square\" height=\"1\" width=\"1\"></rect><g></g></g><g><rect x=\"5\" y=\"2\" class=\"dark-square\" height=\"1\" width=\"1\"></rect><g></g></g><g><rect x=\"5\" y=\"3\" class=\"light-square\" height=\"1\" width=\"1\"></rect><g></g></g><g><rect x=\"5\" y=\"4\" class=\"dark-square\" height=\"1\" width=\"1\"></rect><g></g></g><g><rect x=\"5\" y=\"5\" class=\"light-square\" height=\"1\" width=\"1\"></rect><g></g></g><g><rect x=\"5\" y=\"6\" class=\"dark-square\" height=\"1\" width=\"1\"></rect><g></g></g><g><rect x=\"5\" y=\"7\" class=\"light-square\" height=\"1\" width=\"1\"></rect><g></g></g><g><rect x=\"6\" y=\"0\" class=\"light-square\" height=\"1\" width=\"1\"></rect><g></g></g><g><rect x=\"6\" y=\"1\" class=\"dark-square\" height=\"1\" width=\"1\"></rect><g></g></g><g><rect x=\"6\" y=\"2\" class=\"light-square\" height=\"1\" width=\"1\"></rect><g></g></g><g><rect x=\"6\" y=\"3\" class=\"dark-square\" height=\"1\" width=\"1\"></rect><g></g></g><g><rect x=\"6\" y=\"4\" class=\"light-square\" height=\"1\" width=\"1\"></rect><g></g></g><g><rect x=\"6\" y=\"5\" class=\"dark-square\" height=\"1\" width=\"1\"></rect><g></g></g><g><rect x=\"6\" y=\"6\" class=\"light-square\" height=\"1\" width=\"1\"></rect><g></g></g><g><rect x=\"6\" y=\"7\" class=\"dark-square\" height=\"1\" width=\"1\"></rect><g></g></g><g><rect x=\"7\" y=\"0\" class=\"dark-square\" height=\"1\" width=\"1\"></rect><g></g></g><g><rect x=\"7\" y=\"1\" class=\"light-square\" height=\"1\" width=\"1\"></rect><g></g></g><g><rect x=\"7\" y=\"2\" class=\"dark-square\" height=\"1\" width=\"1\"></rect><g></g></g><g><rect x=\"7\" y=\"3\" class=\"light-square\" height=\"1\" width=\"1\"></rect><g></g></g><g><rect x=\"7\" y=\"4\" class=\"dark-square\" height=\"1\" width=\"1\"></rect><g></g></g><g><rect x=\"7\" y=\"5\" class=\"light-square\" height=\"1\" width=\"1\"></rect><g></g></g><g><rect x=\"7\" y=\"6\" class=\"dark-square\" height=\"1\" width=\"1\"></rect><g></g></g><g><rect x=\"7\" y=\"7\" class=\"light-square\" height=\"1\" width=\"1\"></rect><g></g></g></g><g></g></svg><div><p>White to move</p><p><a href=\"https://lichess.org/editor/k7/8/8/8/4p3/8/3P4/K7_w_-_-\" target=\"_blank\">Open in lichess</a></p></div></div>"
      ],
      "text/plain": [
       "HTML{String}(\"Board:<div class=\\\"chessboard\\\"><style soped=\\\"true\\\">.dark-square {\\n    fill: #c3936a;\\n    stroke-width: 0;\\n}\\n.light-square {\\n    fill: #ffd7a6;\\n    stroke-width: 0;\\n}\\n.highlight {\\n    fill: #47d18b;\\n}\\n@media (prefers-color-scheme: dark) {\\n    .dark-square {\\n        fill: #00796b;\\n    }\\n    .light-square {\\n        fill: #3ca59b;\\n    }\\n    .highlight {\\n        fill: #d23600;\\n    }\\n}\\n</style><svg style=\\\"float: left; margin-right: 20px\\\" viewBox=\\\"0 0 8 8\\\" height=\\\"280\\\" width=\\\"280\\\"><g><g><rect x=\\\"0\\\" y=\\\"0\\\" class=\\\"light-square\\\" height=\\\"1\\\" width=\\\"1\\\"></rect><image x=\\\"0\\\" xlink:href=\\\"https://raw.githubusercontent.com/romstad/Chess.jl/master/img/bk.svg\\\" y=\\\"0\\\" height=\\\"1\\\" width=\\\"1\\\"></image></g><g><rect x=\\\"0\\\" y=\\\"1\\\" class=\\\"dark-square\\\" height=\\\"1\\\" width=\\\"1\\\"></rect><g></g></g><g><rect x=\\\"0\\\" y=\\\"2\\\" class=\\\"light-square\\\" height=\\\"1\\\" width=\\\"1\\\"></rect><g></g></g><g><rect x=\\\"0\\\" y=\\\"3\\\" class=\\\"dark-square\\\" height=\\\"1\\\" width=\\\"1\\\"></rect><g></g></g><g><rect x=\\\"0\\\" y=\\\"4\\\" class=\\\"light-square\\\" height=\\\"1\\\" width=\\\"1\\\"></rect><g></g></g><g><rect x=\\\"0\\\" y=\\\"5\\\" class=\\\"dark-square\\\" height=\\\"1\\\" width=\\\"1\\\"></rect><g></g></g><g><rect x=\\\"0\\\" y=\\\"6\\\" class=\\\"light-square\\\" height=\\\"1\\\" width=\\\"1\\\"></rect><g></g></g><g><rect x=\\\"0\\\" y=\\\"7\\\" class=\\\"dark-square\\\" height=\\\"1\\\" width=\\\"1\\\"></rect><image x=\\\"0\\\" xlink:href=\\\"https://raw.githubusercontent.com/romstad/Chess.jl/master/img/wk.svg\\\" y=\\\"7\\\" height=\\\"1\\\" width=\\\"1\\\"></image></g><g><rect x=\\\"1\\\" y=\\\"0\\\" class=\\\"dark-square\\\" height=\\\"1\\\" width=\\\"1\\\"></rect><g></g></g><g><rect x=\\\"1\\\" y=\\\"1\\\" class=\\\"light-square\\\" height=\\\"1\\\" width=\\\"1\\\"></rect><g></g></g><g><rect x=\\\"1\\\" y=\\\"2\\\" class=\\\"dark-square\\\" height=\\\"1\\\" width=\\\"1\\\"></rect><g></g></g><g><rect x=\\\"1\\\" y=\\\"3\\\" class=\\\"light-square\\\" height=\\\"1\\\" width=\\\"1\\\"></rect><g></g></g><g><rect x=\\\"1\\\" y=\\\"4\\\" class=\\\"dark-square\\\" height=\\\"1\\\" width=\\\"1\\\"></rect><g></g></g><g><rect x=\\\"1\\\" y=\\\"5\\\" class=\\\"light-square\\\" height=\\\"1\\\" width=\\\"1\\\"></rect><g></g></g><g><rect x=\\\"1\\\" y=\\\"6\\\" class=\\\"dark-square\\\" height=\\\"1\\\" width=\\\"1\\\"></rect><g></g></g><g><rect x=\\\"1\\\" y=\\\"7\\\" class=\\\"light-square\\\" height=\\\"1\\\" width=\\\"1\\\"></rect><g></g></g><g><rect x=\\\"2\\\" y=\\\"0\\\" class=\\\"light-square\\\" height=\\\"1\\\" width=\\\"1\\\"></rect><g></g></g><g><rect x=\\\"2\\\" y=\\\"1\\\" class=\\\"dark-square\\\" height=\\\"1\\\" width=\\\"1\\\"></rect><g></g></g><g><rect x=\\\"2\\\" y=\\\"2\\\" class=\\\"light-square\\\" height=\\\"1\\\" width=\\\"1\\\"></rect><g></g></g><g><rect x=\\\"2\\\" y=\\\"3\\\" class=\\\"dark-square\\\" height=\\\"1\\\" width=\\\"1\\\"></rect><g></g></g><g><rect x=\\\"2\\\" y=\\\"4\\\" class=\\\"light-square\\\" height=\\\"1\\\" width=\\\"1\\\"></rect><g></g></g><g><rect x=\\\"2\\\" y=\\\"5\\\" class=\\\"dark-square\\\" height=\\\"1\\\" width=\\\"1\\\"></rect><g></g></g><g><rect x=\\\"2\\\" y=\\\"6\\\" class=\\\"light-square\\\" height=\\\"1\\\" width=\\\"1\\\"></rect><g></g></g><g><rect x=\\\"2\\\" y=\\\"7\\\" class=\\\"dark-square\\\" height=\\\"1\\\" width=\\\"1\\\"></rect><g></g></g><g><rect x=\\\"3\\\" y=\\\"0\\\" class=\\\"dark-square\\\" height=\\\"1\\\" width=\\\"1\\\"></rect><g></g></g><g><rect x=\\\"3\\\" y=\\\"1\\\" class=\\\"light-square\\\" height=\\\"1\\\" width=\\\"1\\\"></rect><g></g></g><g><rect x=\\\"3\\\" y=\\\"2\\\" class=\\\"dark-square\\\" height=\\\"1\\\" width=\\\"1\\\"></rect><g></g></g><g><rect x=\\\"3\\\" y=\\\"3\\\" class=\\\"light-square\\\" height=\\\"1\\\" width=\\\"1\\\"></rect><g></g></g><g><rect x=\\\"3\\\" y=\\\"4\\\" class=\\\"dark-square\\\" height=\\\"1\\\" width=\\\"1\\\"></rect><g></g></g><g><rect x=\\\"3\\\" y=\\\"5\\\" class=\\\"light-square\\\" height=\\\"1\\\" width=\\\"1\\\"></rect><g></g></g><g><rect x=\\\"3\\\" y=\\\"6\\\" class=\\\"dark-square\\\" height=\\\"1\\\" width=\\\"1\\\"></rect><image x=\\\"3\\\" xlink:href=\\\"https://raw.githubusercontent.com/romstad/Chess.jl/master/img/wp.svg\\\" y=\\\"6\\\" height=\\\"1\\\" width=\\\"1\\\"></image></g><g><rect x=\\\"3\\\" y=\\\"7\\\" class=\\\"light-square\\\" height=\\\"1\\\" width=\\\"1\\\"></rect><g></g></g><g><rect x=\\\"4\\\" y=\\\"0\\\" class=\\\"light-square\\\" height=\\\"1\\\" width=\\\"1\\\"></rect><g></g></g><g><rect x=\\\"4\\\" y=\\\"1\\\" class=\\\"dark-square\\\" height=\\\"1\\\" width=\\\"1\\\"></rect><g></g></g><g><rect x=\\\"4\\\" y=\\\"2\\\" class=\\\"light-square\\\" height=\\\"1\\\" width=\\\"1\\\"></rect><g></g></g><g><rect x=\\\"4\\\" y=\\\"3\\\" class=\\\"dark-square\\\" height=\\\"1\\\" width=\\\"1\\\"></rect><g></g></g><g><rect x=\\\"4\\\" y=\\\"4\\\" class=\\\"light-square\\\" height=\\\"1\\\" width=\\\"1\\\"></rect><image x=\\\"4\\\" xlink:href=\\\"https://raw.githubusercontent.com/romstad/Chess.jl/master/img/bp.svg\\\" y=\\\"4\\\" height=\\\"1\\\" width=\\\"1\\\"></image></g><g><rect x=\\\"4\\\" y=\\\"5\\\" class=\\\"dark-square\\\" height=\\\"1\\\" width=\\\"1\\\"></rect><g></g></g><g><rect x=\\\"4\\\" y=\\\"6\\\" class=\\\"light-square\\\" height=\\\"1\\\" width=\\\"1\\\"></rect><g></g></g><g><rect x=\\\"4\\\" y=\\\"7\\\" class=\\\"dark-square\\\" height=\\\"1\\\" width=\\\"1\\\"></rect><g></g></g><g><rect x=\\\"5\\\" y=\\\"0\\\" class=\\\"dark-square\\\" height=\\\"1\\\" width=\\\"1\\\"></rect><g></g></g><g><rect x=\\\"5\\\" y=\\\"1\\\" class=\\\"light-square\\\" height=\\\"1\\\" width=\\\"1\\\"></rect><g></g></g><g><rect x=\\\"5\\\" y=\\\"2\\\" class=\\\"dark-square\\\" height=\\\"1\\\" width=\\\"1\\\"></rect><g></g></g><g><rect x=\\\"5\\\" y=\\\"3\\\" class=\\\"light-square\\\" height=\\\"1\\\" width=\\\"1\\\"></rect><g></g></g><g><rect x=\\\"5\\\" y=\\\"4\\\" class=\\\"dark-square\\\" height=\\\"1\\\" width=\\\"1\\\"></rect><g></g></g><g><rect x=\\\"5\\\" y=\\\"5\\\" class=\\\"light-square\\\" height=\\\"1\\\" width=\\\"1\\\"></rect><g></g></g><g><rect x=\\\"5\\\" y=\\\"6\\\" class=\\\"dark-square\\\" height=\\\"1\\\" width=\\\"1\\\"></rect><g></g></g><g><rect x=\\\"5\\\" y=\\\"7\\\" class=\\\"light-square\\\" height=\\\"1\\\" width=\\\"1\\\"></rect><g></g></g><g><rect x=\\\"6\\\" y=\\\"0\\\" class=\\\"light-square\\\" height=\\\"1\\\" width=\\\"1\\\"></rect><g></g></g><g><rect x=\\\"6\\\" y=\\\"1\\\" class=\\\"dark-square\\\" height=\\\"1\\\" width=\\\"1\\\"></rect><g></g></g><g><rect x=\\\"6\\\" y=\\\"2\\\" class=\\\"light-square\\\" height=\\\"1\\\" width=\\\"1\\\"></rect><g></g></g><g><rect x=\\\"6\\\" y=\\\"3\\\" class=\\\"dark-square\\\" height=\\\"1\\\" width=\\\"1\\\"></rect><g></g></g><g><rect x=\\\"6\\\" y=\\\"4\\\" class=\\\"light-square\\\" height=\\\"1\\\" width=\\\"1\\\"></rect><g></g></g><g><rect x=\\\"6\\\" y=\\\"5\\\" class=\\\"dark-square\\\" height=\\\"1\\\" width=\\\"1\\\"></rect><g></g></g><g><rect x=\\\"6\\\" y=\\\"6\\\" class=\\\"light-square\\\" height=\\\"1\\\" width=\\\"1\\\"></rect><g></g></g><g><rect x=\\\"6\\\" y=\\\"7\\\" class=\\\"dark-square\\\" height=\\\"1\\\" width=\\\"1\\\"></rect><g></g></g><g><rect x=\\\"7\\\" y=\\\"0\\\" class=\\\"dark-square\\\" height=\\\"1\\\" width=\\\"1\\\"></rect><g></g></g><g><rect x=\\\"7\\\" y=\\\"1\\\" class=\\\"light-square\\\" height=\\\"1\\\" width=\\\"1\\\"></rect><g></g></g><g><rect x=\\\"7\\\" y=\\\"2\\\" class=\\\"dark-square\\\" height=\\\"1\\\" width=\\\"1\\\"></rect><g></g></g><g><rect x=\\\"7\\\" y=\\\"3\\\" class=\\\"light-square\\\" height=\\\"1\\\" width=\\\"1\\\"></rect><g></g></g><g><rect x=\\\"7\\\" y=\\\"4\\\" class=\\\"dark-square\\\" height=\\\"1\\\" width=\\\"1\\\"></rect><g></g></g><g><rect x=\\\"7\\\" y=\\\"5\\\" class=\\\"light-square\\\" height=\\\"1\\\" width=\\\"1\\\"></rect><g></g></g><g><rect x=\\\"7\\\" y=\\\"6\\\" class=\\\"dark-square\\\" height=\\\"1\\\" width=\\\"1\\\"></rect><g></g></g><g><rect x=\\\"7\\\" y=\\\"7\\\" class=\\\"light-square\\\" height=\\\"1\\\" width=\\\"1\\\"></rect><g></g></g></g><g></g></svg><div><p>White to move</p><p><a href=\\\"https://lichess.org/editor/k7/8/8/8/4p3/8/3P4/K7_w_-_-\\\" target=\\\"_blank\\\">Open in lichess</a></p></div></div>\")"
      ]
     },
     "metadata": {},
     "output_type": "display_data"
    },
    {
     "ename": "LoadError",
     "evalue": "MethodError: no method matching iterate(::Move)\n\u001b[0mClosest candidates are:\n\u001b[0m  iterate(\u001b[91m::Union{LinRange, StepRangeLen}\u001b[39m) at range.jl:872\n\u001b[0m  iterate(\u001b[91m::Union{LinRange, StepRangeLen}\u001b[39m, \u001b[91m::Integer\u001b[39m) at range.jl:872\n\u001b[0m  iterate(\u001b[91m::T\u001b[39m) where T<:Union{Base.KeySet{<:Any, <:Dict}, Base.ValueIterator{<:Dict}} at dict.jl:712\n\u001b[0m  ...",
     "output_type": "error",
     "traceback": [
      "MethodError: no method matching iterate(::Move)\n\u001b[0mClosest candidates are:\n\u001b[0m  iterate(\u001b[91m::Union{LinRange, StepRangeLen}\u001b[39m) at range.jl:872\n\u001b[0m  iterate(\u001b[91m::Union{LinRange, StepRangeLen}\u001b[39m, \u001b[91m::Integer\u001b[39m) at range.jl:872\n\u001b[0m  iterate(\u001b[91m::T\u001b[39m) where T<:Union{Base.KeySet{<:Any, <:Dict}, Base.ValueIterator{<:Dict}} at dict.jl:712\n\u001b[0m  ...",
      "",
      "Stacktrace:",
      " [1] indexed_iterate(I::Move, i::Int64)",
      "   @ Base .\\tuple.jl:91",
      " [2] macro expansion",
      "   @ C:\\Users\\luckb\\OneDrive\\Duales Studium Cyber-Security\\Theoriephasen\\Phase 5\\Studienarbeit\\Notebooks\\chess-ai\\1.2 BasicGame.ipynb:In[1]:6 [inlined]",
      " [3] macro expansion",
      "   @ .\\timing.jl:382 [inlined]",
      " [4] play_game(ai::TestPlayer, player::TestPlayer, game::SimpleGame, ai_turn::Bool)",
      "   @ Main C:\\Users\\luckb\\OneDrive\\Duales Studium Cyber-Security\\Theoriephasen\\Phase 5\\Studienarbeit\\Notebooks\\chess-ai\\1.2 BasicGame.ipynb:In[1]:5",
      " [5] play_game",
      "   @ C:\\Users\\luckb\\OneDrive\\Duales Studium Cyber-Security\\Theoriephasen\\Phase 5\\Studienarbeit\\Notebooks\\chess-ai\\1.2 BasicGame.ipynb:In[1]:2 [inlined]",
      " [6] test_play_game(expected::String, player1_moves::Vector{Move}, player2_moves::Vector{Move}, board::Board)",
      "   @ Main .\\In[12]:17",
      " [7] top-level scope",
      "   @ In[18]:1",
      " [8] eval",
      "   @ .\\boot.jl:368 [inlined]",
      " [9] include_string(mapexpr::typeof(REPL.softscope), mod::Module, code::String, filename::String)",
      "   @ Base .\\loading.jl:1428"
     ]
    }
   ],
   "source": [
    "println(test_play_game(\n",
    "    \"k7/8/8/8/8/3p4/8/K7 w - -\",\n",
    "    [Move(SQ_E4, SQ_D3)],\n",
    "    [Move(SQ_D2, SQ_D4)],\n",
    "    fromfen(\"k7/8/8/8/4p3/8/3P4/K7 w - -\")\n",
    "))"
   ]
  },
  {
   "cell_type": "code",
   "execution_count": 19,
   "id": "9c025900",
   "metadata": {},
   "outputs": [
    {
     "data": {
      "text/html": [
       "Board:<div class=\"chessboard\"><style soped=\"true\">.dark-square {\n",
       "    fill: #c3936a;\n",
       "    stroke-width: 0;\n",
       "}\n",
       ".light-square {\n",
       "    fill: #ffd7a6;\n",
       "    stroke-width: 0;\n",
       "}\n",
       ".highlight {\n",
       "    fill: #47d18b;\n",
       "}\n",
       "@media (prefers-color-scheme: dark) {\n",
       "    .dark-square {\n",
       "        fill: #00796b;\n",
       "    }\n",
       "    .light-square {\n",
       "        fill: #3ca59b;\n",
       "    }\n",
       "    .highlight {\n",
       "        fill: #d23600;\n",
       "    }\n",
       "}\n",
       "</style><svg style=\"float: left; margin-right: 20px\" viewBox=\"0 0 8 8\" height=\"280\" width=\"280\"><g><g><rect x=\"0\" y=\"0\" class=\"light-square\" height=\"1\" width=\"1\"></rect><image x=\"0\" xlink:href=\"https://raw.githubusercontent.com/romstad/Chess.jl/master/img/bk.svg\" y=\"0\" height=\"1\" width=\"1\"></image></g><g><rect x=\"0\" y=\"1\" class=\"dark-square\" height=\"1\" width=\"1\"></rect><g></g></g><g><rect x=\"0\" y=\"2\" class=\"light-square\" height=\"1\" width=\"1\"></rect><g></g></g><g><rect x=\"0\" y=\"3\" class=\"dark-square\" height=\"1\" width=\"1\"></rect><g></g></g><g><rect x=\"0\" y=\"4\" class=\"light-square\" height=\"1\" width=\"1\"></rect><g></g></g><g><rect x=\"0\" y=\"5\" class=\"dark-square\" height=\"1\" width=\"1\"></rect><g></g></g><g><rect x=\"0\" y=\"6\" class=\"light-square\" height=\"1\" width=\"1\"></rect><image x=\"0\" xlink:href=\"https://raw.githubusercontent.com/romstad/Chess.jl/master/img/wp.svg\" y=\"6\" height=\"1\" width=\"1\"></image></g><g><rect x=\"0\" y=\"7\" class=\"dark-square\" height=\"1\" width=\"1\"></rect><image x=\"0\" xlink:href=\"https://raw.githubusercontent.com/romstad/Chess.jl/master/img/wr.svg\" y=\"7\" height=\"1\" width=\"1\"></image></g><g><rect x=\"1\" y=\"0\" class=\"dark-square\" height=\"1\" width=\"1\"></rect><g></g></g><g><rect x=\"1\" y=\"1\" class=\"light-square\" height=\"1\" width=\"1\"></rect><g></g></g><g><rect x=\"1\" y=\"2\" class=\"dark-square\" height=\"1\" width=\"1\"></rect><g></g></g><g><rect x=\"1\" y=\"3\" class=\"light-square\" height=\"1\" width=\"1\"></rect><g></g></g><g><rect x=\"1\" y=\"4\" class=\"dark-square\" height=\"1\" width=\"1\"></rect><g></g></g><g><rect x=\"1\" y=\"5\" class=\"light-square\" height=\"1\" width=\"1\"></rect><g></g></g><g><rect x=\"1\" y=\"6\" class=\"dark-square\" height=\"1\" width=\"1\"></rect><image x=\"1\" xlink:href=\"https://raw.githubusercontent.com/romstad/Chess.jl/master/img/wp.svg\" y=\"6\" height=\"1\" width=\"1\"></image></g><g><rect x=\"1\" y=\"7\" class=\"light-square\" height=\"1\" width=\"1\"></rect><g></g></g><g><rect x=\"2\" y=\"0\" class=\"light-square\" height=\"1\" width=\"1\"></rect><g></g></g><g><rect x=\"2\" y=\"1\" class=\"dark-square\" height=\"1\" width=\"1\"></rect><g></g></g><g><rect x=\"2\" y=\"2\" class=\"light-square\" height=\"1\" width=\"1\"></rect><g></g></g><g><rect x=\"2\" y=\"3\" class=\"dark-square\" height=\"1\" width=\"1\"></rect><g></g></g><g><rect x=\"2\" y=\"4\" class=\"light-square\" height=\"1\" width=\"1\"></rect><g></g></g><g><rect x=\"2\" y=\"5\" class=\"dark-square\" height=\"1\" width=\"1\"></rect><g></g></g><g><rect x=\"2\" y=\"6\" class=\"light-square\" height=\"1\" width=\"1\"></rect><image x=\"2\" xlink:href=\"https://raw.githubusercontent.com/romstad/Chess.jl/master/img/wp.svg\" y=\"6\" height=\"1\" width=\"1\"></image></g><g><rect x=\"2\" y=\"7\" class=\"dark-square\" height=\"1\" width=\"1\"></rect><g></g></g><g><rect x=\"3\" y=\"0\" class=\"dark-square\" height=\"1\" width=\"1\"></rect><g></g></g><g><rect x=\"3\" y=\"1\" class=\"light-square\" height=\"1\" width=\"1\"></rect><g></g></g><g><rect x=\"3\" y=\"2\" class=\"dark-square\" height=\"1\" width=\"1\"></rect><g></g></g><g><rect x=\"3\" y=\"3\" class=\"light-square\" height=\"1\" width=\"1\"></rect><g></g></g><g><rect x=\"3\" y=\"4\" class=\"dark-square\" height=\"1\" width=\"1\"></rect><g></g></g><g><rect x=\"3\" y=\"5\" class=\"light-square\" height=\"1\" width=\"1\"></rect><g></g></g><g><rect x=\"3\" y=\"6\" class=\"dark-square\" height=\"1\" width=\"1\"></rect><image x=\"3\" xlink:href=\"https://raw.githubusercontent.com/romstad/Chess.jl/master/img/wp.svg\" y=\"6\" height=\"1\" width=\"1\"></image></g><g><rect x=\"3\" y=\"7\" class=\"light-square\" height=\"1\" width=\"1\"></rect><g></g></g><g><rect x=\"4\" y=\"0\" class=\"light-square\" height=\"1\" width=\"1\"></rect><g></g></g><g><rect x=\"4\" y=\"1\" class=\"dark-square\" height=\"1\" width=\"1\"></rect><g></g></g><g><rect x=\"4\" y=\"2\" class=\"light-square\" height=\"1\" width=\"1\"></rect><g></g></g><g><rect x=\"4\" y=\"3\" class=\"dark-square\" height=\"1\" width=\"1\"></rect><g></g></g><g><rect x=\"4\" y=\"4\" class=\"light-square\" height=\"1\" width=\"1\"></rect><g></g></g><g><rect x=\"4\" y=\"5\" class=\"dark-square\" height=\"1\" width=\"1\"></rect><g></g></g><g><rect x=\"4\" y=\"6\" class=\"light-square\" height=\"1\" width=\"1\"></rect><image x=\"4\" xlink:href=\"https://raw.githubusercontent.com/romstad/Chess.jl/master/img/wp.svg\" y=\"6\" height=\"1\" width=\"1\"></image></g><g><rect x=\"4\" y=\"7\" class=\"dark-square\" height=\"1\" width=\"1\"></rect><image x=\"4\" xlink:href=\"https://raw.githubusercontent.com/romstad/Chess.jl/master/img/wk.svg\" y=\"7\" height=\"1\" width=\"1\"></image></g><g><rect x=\"5\" y=\"0\" class=\"dark-square\" height=\"1\" width=\"1\"></rect><g></g></g><g><rect x=\"5\" y=\"1\" class=\"light-square\" height=\"1\" width=\"1\"></rect><g></g></g><g><rect x=\"5\" y=\"2\" class=\"dark-square\" height=\"1\" width=\"1\"></rect><g></g></g><g><rect x=\"5\" y=\"3\" class=\"light-square\" height=\"1\" width=\"1\"></rect><g></g></g><g><rect x=\"5\" y=\"4\" class=\"dark-square\" height=\"1\" width=\"1\"></rect><g></g></g><g><rect x=\"5\" y=\"5\" class=\"light-square\" height=\"1\" width=\"1\"></rect><g></g></g><g><rect x=\"5\" y=\"6\" class=\"dark-square\" height=\"1\" width=\"1\"></rect><image x=\"5\" xlink:href=\"https://raw.githubusercontent.com/romstad/Chess.jl/master/img/wp.svg\" y=\"6\" height=\"1\" width=\"1\"></image></g><g><rect x=\"5\" y=\"7\" class=\"light-square\" height=\"1\" width=\"1\"></rect><g></g></g><g><rect x=\"6\" y=\"0\" class=\"light-square\" height=\"1\" width=\"1\"></rect><g></g></g><g><rect x=\"6\" y=\"1\" class=\"dark-square\" height=\"1\" width=\"1\"></rect><g></g></g><g><rect x=\"6\" y=\"2\" class=\"light-square\" height=\"1\" width=\"1\"></rect><g></g></g><g><rect x=\"6\" y=\"3\" class=\"dark-square\" height=\"1\" width=\"1\"></rect><g></g></g><g><rect x=\"6\" y=\"4\" class=\"light-square\" height=\"1\" width=\"1\"></rect><g></g></g><g><rect x=\"6\" y=\"5\" class=\"dark-square\" height=\"1\" width=\"1\"></rect><g></g></g><g><rect x=\"6\" y=\"6\" class=\"light-square\" height=\"1\" width=\"1\"></rect><image x=\"6\" xlink:href=\"https://raw.githubusercontent.com/romstad/Chess.jl/master/img/wp.svg\" y=\"6\" height=\"1\" width=\"1\"></image></g><g><rect x=\"6\" y=\"7\" class=\"dark-square\" height=\"1\" width=\"1\"></rect><g></g></g><g><rect x=\"7\" y=\"0\" class=\"dark-square\" height=\"1\" width=\"1\"></rect><g></g></g><g><rect x=\"7\" y=\"1\" class=\"light-square\" height=\"1\" width=\"1\"></rect><g></g></g><g><rect x=\"7\" y=\"2\" class=\"dark-square\" height=\"1\" width=\"1\"></rect><g></g></g><g><rect x=\"7\" y=\"3\" class=\"light-square\" height=\"1\" width=\"1\"></rect><g></g></g><g><rect x=\"7\" y=\"4\" class=\"dark-square\" height=\"1\" width=\"1\"></rect><g></g></g><g><rect x=\"7\" y=\"5\" class=\"light-square\" height=\"1\" width=\"1\"></rect><g></g></g><g><rect x=\"7\" y=\"6\" class=\"dark-square\" height=\"1\" width=\"1\"></rect><image x=\"7\" xlink:href=\"https://raw.githubusercontent.com/romstad/Chess.jl/master/img/wp.svg\" y=\"6\" height=\"1\" width=\"1\"></image></g><g><rect x=\"7\" y=\"7\" class=\"light-square\" height=\"1\" width=\"1\"></rect><image x=\"7\" xlink:href=\"https://raw.githubusercontent.com/romstad/Chess.jl/master/img/wr.svg\" y=\"7\" height=\"1\" width=\"1\"></image></g></g><g></g></svg><div><p>White to move</p><p><a href=\"https://lichess.org/editor/k7/8/8/8/8/8/PPPPPPPP/R3K2R_w_-_-\" target=\"_blank\">Open in lichess</a></p></div></div>"
      ],
      "text/plain": [
       "HTML{String}(\"Board:<div class=\\\"chessboard\\\"><style soped=\\\"true\\\">.dark-square {\\n    fill: #c3936a;\\n    stroke-width: 0;\\n}\\n.light-square {\\n    fill: #ffd7a6;\\n    stroke-width: 0;\\n}\\n.highlight {\\n    fill: #47d18b;\\n}\\n@media (prefers-color-scheme: dark) {\\n    .dark-square {\\n        fill: #00796b;\\n    }\\n    .light-square {\\n        fill: #3ca59b;\\n    }\\n    .highlight {\\n        fill: #d23600;\\n    }\\n}\\n</style><svg style=\\\"float: left; margin-right: 20px\\\" viewBox=\\\"0 0 8 8\\\" height=\\\"280\\\" width=\\\"280\\\"><g><g><rect x=\\\"0\\\" y=\\\"0\\\" class=\\\"light-square\\\" height=\\\"1\\\" width=\\\"1\\\"></rect><image x=\\\"0\\\" xlink:href=\\\"https://raw.githubusercontent.com/romstad/Chess.jl/master/img/bk.svg\\\" y=\\\"0\\\" height=\\\"1\\\" width=\\\"1\\\"></image></g><g><rect x=\\\"0\\\" y=\\\"1\\\" class=\\\"dark-square\\\" height=\\\"1\\\" width=\\\"1\\\"></rect><g></g></g><g><rect x=\\\"0\\\" y=\\\"2\\\" class=\\\"light-square\\\" height=\\\"1\\\" width=\\\"1\\\"></rect><g></g></g><g><rect x=\\\"0\\\" y=\\\"3\\\" class=\\\"dark-square\\\" height=\\\"1\\\" width=\\\"1\\\"></rect><g></g></g><g><rect x=\\\"0\\\" y=\\\"4\\\" class=\\\"light-square\\\" height=\\\"1\\\" width=\\\"1\\\"></rect><g></g></g><g><rect x=\\\"0\\\" y=\\\"5\\\" class=\\\"dark-square\\\" height=\\\"1\\\" width=\\\"1\\\"></rect><g></g></g><g><rect x=\\\"0\\\" y=\\\"6\\\" class=\\\"light-square\\\" height=\\\"1\\\" width=\\\"1\\\"></rect><image x=\\\"0\\\" xlink:href=\\\"https://raw.githubusercontent.com/romstad/Chess.jl/master/img/wp.svg\\\" y=\\\"6\\\" height=\\\"1\\\" width=\\\"1\\\"></image></g><g><rect x=\\\"0\\\" y=\\\"7\\\" class=\\\"dark-square\\\" height=\\\"1\\\" width=\\\"1\\\"></rect><image x=\\\"0\\\" xlink:href=\\\"https://raw.githubusercontent.com/romstad/Chess.jl/master/img/wr.svg\\\" y=\\\"7\\\" height=\\\"1\\\" width=\\\"1\\\"></image></g><g><rect x=\\\"1\\\" y=\\\"0\\\" class=\\\"dark-square\\\" height=\\\"1\\\" width=\\\"1\\\"></rect><g></g></g><g><rect x=\\\"1\\\" y=\\\"1\\\" class=\\\"light-square\\\" height=\\\"1\\\" width=\\\"1\\\"></rect><g></g></g><g><rect x=\\\"1\\\" y=\\\"2\\\" class=\\\"dark-square\\\" height=\\\"1\\\" width=\\\"1\\\"></rect><g></g></g><g><rect x=\\\"1\\\" y=\\\"3\\\" class=\\\"light-square\\\" height=\\\"1\\\" width=\\\"1\\\"></rect><g></g></g><g><rect x=\\\"1\\\" y=\\\"4\\\" class=\\\"dark-square\\\" height=\\\"1\\\" width=\\\"1\\\"></rect><g></g></g><g><rect x=\\\"1\\\" y=\\\"5\\\" class=\\\"light-square\\\" height=\\\"1\\\" width=\\\"1\\\"></rect><g></g></g><g><rect x=\\\"1\\\" y=\\\"6\\\" class=\\\"dark-square\\\" height=\\\"1\\\" width=\\\"1\\\"></rect><image x=\\\"1\\\" xlink:href=\\\"https://raw.githubusercontent.com/romstad/Chess.jl/master/img/wp.svg\\\" y=\\\"6\\\" height=\\\"1\\\" width=\\\"1\\\"></image></g><g><rect x=\\\"1\\\" y=\\\"7\\\" class=\\\"light-square\\\" height=\\\"1\\\" width=\\\"1\\\"></rect><g></g></g><g><rect x=\\\"2\\\" y=\\\"0\\\" class=\\\"light-square\\\" height=\\\"1\\\" width=\\\"1\\\"></rect><g></g></g><g><rect x=\\\"2\\\" y=\\\"1\\\" class=\\\"dark-square\\\" height=\\\"1\\\" width=\\\"1\\\"></rect><g></g></g><g><rect x=\\\"2\\\" y=\\\"2\\\" class=\\\"light-square\\\" height=\\\"1\\\" width=\\\"1\\\"></rect><g></g></g><g><rect x=\\\"2\\\" y=\\\"3\\\" class=\\\"dark-square\\\" height=\\\"1\\\" width=\\\"1\\\"></rect><g></g></g><g><rect x=\\\"2\\\" y=\\\"4\\\" class=\\\"light-square\\\" height=\\\"1\\\" width=\\\"1\\\"></rect><g></g></g><g><rect x=\\\"2\\\" y=\\\"5\\\" class=\\\"dark-square\\\" height=\\\"1\\\" width=\\\"1\\\"></rect><g></g></g><g><rect x=\\\"2\\\" y=\\\"6\\\" class=\\\"light-square\\\" height=\\\"1\\\" width=\\\"1\\\"></rect><image x=\\\"2\\\" xlink:href=\\\"https://raw.githubusercontent.com/romstad/Chess.jl/master/img/wp.svg\\\" y=\\\"6\\\" height=\\\"1\\\" width=\\\"1\\\"></image></g><g><rect x=\\\"2\\\" y=\\\"7\\\" class=\\\"dark-square\\\" height=\\\"1\\\" width=\\\"1\\\"></rect><g></g></g><g><rect x=\\\"3\\\" y=\\\"0\\\" class=\\\"dark-square\\\" height=\\\"1\\\" width=\\\"1\\\"></rect><g></g></g><g><rect x=\\\"3\\\" y=\\\"1\\\" class=\\\"light-square\\\" height=\\\"1\\\" width=\\\"1\\\"></rect><g></g></g><g><rect x=\\\"3\\\" y=\\\"2\\\" class=\\\"dark-square\\\" height=\\\"1\\\" width=\\\"1\\\"></rect><g></g></g><g><rect x=\\\"3\\\" y=\\\"3\\\" class=\\\"light-square\\\" height=\\\"1\\\" width=\\\"1\\\"></rect><g></g></g><g><rect x=\\\"3\\\" y=\\\"4\\\" class=\\\"dark-square\\\" height=\\\"1\\\" width=\\\"1\\\"></rect><g></g></g><g><rect x=\\\"3\\\" y=\\\"5\\\" class=\\\"light-square\\\" height=\\\"1\\\" width=\\\"1\\\"></rect><g></g></g><g><rect x=\\\"3\\\" y=\\\"6\\\" class=\\\"dark-square\\\" height=\\\"1\\\" width=\\\"1\\\"></rect><image x=\\\"3\\\" xlink:href=\\\"https://raw.githubusercontent.com/romstad/Chess.jl/master/img/wp.svg\\\" y=\\\"6\\\" height=\\\"1\\\" width=\\\"1\\\"></image></g><g><rect x=\\\"3\\\" y=\\\"7\\\" class=\\\"light-square\\\" height=\\\"1\\\" width=\\\"1\\\"></rect><g></g></g><g><rect x=\\\"4\\\" y=\\\"0\\\" class=\\\"light-square\\\" height=\\\"1\\\" width=\\\"1\\\"></rect><g></g></g><g><rect x=\\\"4\\\" y=\\\"1\\\" class=\\\"dark-square\\\" height=\\\"1\\\" width=\\\"1\\\"></rect><g></g></g><g><rect x=\\\"4\\\" y=\\\"2\\\" class=\\\"light-square\\\" height=\\\"1\\\" width=\\\"1\\\"></rect><g></g></g><g><rect x=\\\"4\\\" y=\\\"3\\\" class=\\\"dark-square\\\" height=\\\"1\\\" width=\\\"1\\\"></rect><g></g></g><g><rect x=\\\"4\\\" y=\\\"4\\\" class=\\\"light-square\\\" height=\\\"1\\\" width=\\\"1\\\"></rect><g></g></g><g><rect x=\\\"4\\\" y=\\\"5\\\" class=\\\"dark-square\\\" height=\\\"1\\\" width=\\\"1\\\"></rect><g></g></g><g><rect x=\\\"4\\\" y=\\\"6\\\" class=\\\"light-square\\\" height=\\\"1\\\" width=\\\"1\\\"></rect><image x=\\\"4\\\" xlink:href=\\\"https://raw.githubusercontent.com/romstad/Chess.jl/master/img/wp.svg\\\" y=\\\"6\\\" height=\\\"1\\\" width=\\\"1\\\"></image></g><g><rect x=\\\"4\\\" y=\\\"7\\\" class=\\\"dark-square\\\" height=\\\"1\\\" width=\\\"1\\\"></rect><image x=\\\"4\\\" xlink:href=\\\"https://raw.githubusercontent.com/romstad/Chess.jl/master/img/wk.svg\\\" y=\\\"7\\\" height=\\\"1\\\" width=\\\"1\\\"></image></g><g><rect x=\\\"5\\\" y=\\\"0\\\" class=\\\"dark-square\\\" height=\\\"1\\\" width=\\\"1\\\"></rect><g></g></g><g><rect x=\\\"5\\\" y=\\\"1\\\" class=\\\"light-square\\\" height=\\\"1\\\" width=\\\"1\\\"></rect><g></g></g><g><rect x=\\\"5\\\" y=\\\"2\\\" class=\\\"dark-square\\\" height=\\\"1\\\" width=\\\"1\\\"></rect><g></g></g><g><rect x=\\\"5\\\" y=\\\"3\\\" class=\\\"light-square\\\" height=\\\"1\\\" width=\\\"1\\\"></rect><g></g></g><g><rect x=\\\"5\\\" y=\\\"4\\\" class=\\\"dark-square\\\" height=\\\"1\\\" width=\\\"1\\\"></rect><g></g></g><g><rect x=\\\"5\\\" y=\\\"5\\\" class=\\\"light-square\\\" height=\\\"1\\\" width=\\\"1\\\"></rect><g></g></g><g><rect x=\\\"5\\\" y=\\\"6\\\" class=\\\"dark-square\\\" height=\\\"1\\\" width=\\\"1\\\"></rect><image x=\\\"5\\\" xlink:href=\\\"https://raw.githubusercontent.com/romstad/Chess.jl/master/img/wp.svg\\\" y=\\\"6\\\" height=\\\"1\\\" width=\\\"1\\\"></image></g><g><rect x=\\\"5\\\" y=\\\"7\\\" class=\\\"light-square\\\" height=\\\"1\\\" width=\\\"1\\\"></rect><g></g></g><g><rect x=\\\"6\\\" y=\\\"0\\\" class=\\\"light-square\\\" height=\\\"1\\\" width=\\\"1\\\"></rect><g></g></g><g><rect x=\\\"6\\\" y=\\\"1\\\" class=\\\"dark-square\\\" height=\\\"1\\\" width=\\\"1\\\"></rect><g></g></g><g><rect x=\\\"6\\\" y=\\\"2\\\" class=\\\"light-square\\\" height=\\\"1\\\" width=\\\"1\\\"></rect><g></g></g><g><rect x=\\\"6\\\" y=\\\"3\\\" class=\\\"dark-square\\\" height=\\\"1\\\" width=\\\"1\\\"></rect><g></g></g><g><rect x=\\\"6\\\" y=\\\"4\\\" class=\\\"light-square\\\" height=\\\"1\\\" width=\\\"1\\\"></rect><g></g></g><g><rect x=\\\"6\\\" y=\\\"5\\\" class=\\\"dark-square\\\" height=\\\"1\\\" width=\\\"1\\\"></rect><g></g></g><g><rect x=\\\"6\\\" y=\\\"6\\\" class=\\\"light-square\\\" height=\\\"1\\\" width=\\\"1\\\"></rect><image x=\\\"6\\\" xlink:href=\\\"https://raw.githubusercontent.com/romstad/Chess.jl/master/img/wp.svg\\\" y=\\\"6\\\" height=\\\"1\\\" width=\\\"1\\\"></image></g><g><rect x=\\\"6\\\" y=\\\"7\\\" class=\\\"dark-square\\\" height=\\\"1\\\" width=\\\"1\\\"></rect><g></g></g><g><rect x=\\\"7\\\" y=\\\"0\\\" class=\\\"dark-square\\\" height=\\\"1\\\" width=\\\"1\\\"></rect><g></g></g><g><rect x=\\\"7\\\" y=\\\"1\\\" class=\\\"light-square\\\" height=\\\"1\\\" width=\\\"1\\\"></rect><g></g></g><g><rect x=\\\"7\\\" y=\\\"2\\\" class=\\\"dark-square\\\" height=\\\"1\\\" width=\\\"1\\\"></rect><g></g></g><g><rect x=\\\"7\\\" y=\\\"3\\\" class=\\\"light-square\\\" height=\\\"1\\\" width=\\\"1\\\"></rect><g></g></g><g><rect x=\\\"7\\\" y=\\\"4\\\" class=\\\"dark-square\\\" height=\\\"1\\\" width=\\\"1\\\"></rect><g></g></g><g><rect x=\\\"7\\\" y=\\\"5\\\" class=\\\"light-square\\\" height=\\\"1\\\" width=\\\"1\\\"></rect><g></g></g><g><rect x=\\\"7\\\" y=\\\"6\\\" class=\\\"dark-square\\\" height=\\\"1\\\" width=\\\"1\\\"></rect><image x=\\\"7\\\" xlink:href=\\\"https://raw.githubusercontent.com/romstad/Chess.jl/master/img/wp.svg\\\" y=\\\"6\\\" height=\\\"1\\\" width=\\\"1\\\"></image></g><g><rect x=\\\"7\\\" y=\\\"7\\\" class=\\\"light-square\\\" height=\\\"1\\\" width=\\\"1\\\"></rect><image x=\\\"7\\\" xlink:href=\\\"https://raw.githubusercontent.com/romstad/Chess.jl/master/img/wr.svg\\\" y=\\\"7\\\" height=\\\"1\\\" width=\\\"1\\\"></image></g></g><g></g></svg><div><p>White to move</p><p><a href=\\\"https://lichess.org/editor/k7/8/8/8/8/8/PPPPPPPP/R3K2R_w_-_-\\\" target=\\\"_blank\\\">Open in lichess</a></p></div></div>\")"
      ]
     },
     "metadata": {},
     "output_type": "display_data"
    },
    {
     "ename": "LoadError",
     "evalue": "MethodError: no method matching iterate(::Move)\n\u001b[0mClosest candidates are:\n\u001b[0m  iterate(\u001b[91m::Union{LinRange, StepRangeLen}\u001b[39m) at range.jl:872\n\u001b[0m  iterate(\u001b[91m::Union{LinRange, StepRangeLen}\u001b[39m, \u001b[91m::Integer\u001b[39m) at range.jl:872\n\u001b[0m  iterate(\u001b[91m::T\u001b[39m) where T<:Union{Base.KeySet{<:Any, <:Dict}, Base.ValueIterator{<:Dict}} at dict.jl:712\n\u001b[0m  ...",
     "output_type": "error",
     "traceback": [
      "MethodError: no method matching iterate(::Move)\n\u001b[0mClosest candidates are:\n\u001b[0m  iterate(\u001b[91m::Union{LinRange, StepRangeLen}\u001b[39m) at range.jl:872\n\u001b[0m  iterate(\u001b[91m::Union{LinRange, StepRangeLen}\u001b[39m, \u001b[91m::Integer\u001b[39m) at range.jl:872\n\u001b[0m  iterate(\u001b[91m::T\u001b[39m) where T<:Union{Base.KeySet{<:Any, <:Dict}, Base.ValueIterator{<:Dict}} at dict.jl:712\n\u001b[0m  ...",
      "",
      "Stacktrace:",
      " [1] indexed_iterate(I::Move, i::Int64)",
      "   @ Base .\\tuple.jl:91",
      " [2] macro expansion",
      "   @ C:\\Users\\luckb\\OneDrive\\Duales Studium Cyber-Security\\Theoriephasen\\Phase 5\\Studienarbeit\\Notebooks\\chess-ai\\1.2 BasicGame.ipynb:In[1]:6 [inlined]",
      " [3] macro expansion",
      "   @ .\\timing.jl:382 [inlined]",
      " [4] play_game(ai::TestPlayer, player::TestPlayer, game::SimpleGame, ai_turn::Bool)",
      "   @ Main C:\\Users\\luckb\\OneDrive\\Duales Studium Cyber-Security\\Theoriephasen\\Phase 5\\Studienarbeit\\Notebooks\\chess-ai\\1.2 BasicGame.ipynb:In[1]:5",
      " [5] play_game",
      "   @ C:\\Users\\luckb\\OneDrive\\Duales Studium Cyber-Security\\Theoriephasen\\Phase 5\\Studienarbeit\\Notebooks\\chess-ai\\1.2 BasicGame.ipynb:In[1]:2 [inlined]",
      " [6] test_play_game(expected::String, player1_moves::Vector{Any}, player2_moves::Vector{Move}, board::Board)",
      "   @ Main .\\In[12]:17",
      " [7] top-level scope",
      "   @ In[19]:1",
      " [8] eval",
      "   @ .\\boot.jl:368 [inlined]",
      " [9] include_string(mapexpr::typeof(REPL.softscope), mod::Module, code::String, filename::String)",
      "   @ Base .\\loading.jl:1428"
     ]
    }
   ],
   "source": [
    "println(test_play_game(\n",
    "    \"k7/8/8/8/8/8/PPPPPPPP/R4RK1 b - -\",\n",
    "    [],\n",
    "    [Move(SQ_E1, SQ_G1)],\n",
    "    fromfen(\"k7/8/8/8/8/8/PPPPPPPP/R3K2R w - -\")\n",
    "))"
   ]
  },
  {
   "cell_type": "code",
   "execution_count": 20,
   "id": "85544975",
   "metadata": {},
   "outputs": [
    {
     "data": {
      "text/html": [
       "Board:<div class=\"chessboard\"><style soped=\"true\">.dark-square {\n",
       "    fill: #c3936a;\n",
       "    stroke-width: 0;\n",
       "}\n",
       ".light-square {\n",
       "    fill: #ffd7a6;\n",
       "    stroke-width: 0;\n",
       "}\n",
       ".highlight {\n",
       "    fill: #47d18b;\n",
       "}\n",
       "@media (prefers-color-scheme: dark) {\n",
       "    .dark-square {\n",
       "        fill: #00796b;\n",
       "    }\n",
       "    .light-square {\n",
       "        fill: #3ca59b;\n",
       "    }\n",
       "    .highlight {\n",
       "        fill: #d23600;\n",
       "    }\n",
       "}\n",
       "</style><svg style=\"float: left; margin-right: 20px\" viewBox=\"0 0 8 8\" height=\"280\" width=\"280\"><g><g><rect x=\"0\" y=\"0\" class=\"light-square\" height=\"1\" width=\"1\"></rect><image x=\"0\" xlink:href=\"https://raw.githubusercontent.com/romstad/Chess.jl/master/img/bk.svg\" y=\"0\" height=\"1\" width=\"1\"></image></g><g><rect x=\"0\" y=\"1\" class=\"dark-square\" height=\"1\" width=\"1\"></rect><g></g></g><g><rect x=\"0\" y=\"2\" class=\"light-square\" height=\"1\" width=\"1\"></rect><g></g></g><g><rect x=\"0\" y=\"3\" class=\"dark-square\" height=\"1\" width=\"1\"></rect><g></g></g><g><rect x=\"0\" y=\"4\" class=\"light-square\" height=\"1\" width=\"1\"></rect><g></g></g><g><rect x=\"0\" y=\"5\" class=\"dark-square\" height=\"1\" width=\"1\"></rect><g></g></g><g><rect x=\"0\" y=\"6\" class=\"light-square\" height=\"1\" width=\"1\"></rect><image x=\"0\" xlink:href=\"https://raw.githubusercontent.com/romstad/Chess.jl/master/img/wp.svg\" y=\"6\" height=\"1\" width=\"1\"></image></g><g><rect x=\"0\" y=\"7\" class=\"dark-square\" height=\"1\" width=\"1\"></rect><image x=\"0\" xlink:href=\"https://raw.githubusercontent.com/romstad/Chess.jl/master/img/wr.svg\" y=\"7\" height=\"1\" width=\"1\"></image></g><g><rect x=\"1\" y=\"0\" class=\"dark-square\" height=\"1\" width=\"1\"></rect><g></g></g><g><rect x=\"1\" y=\"1\" class=\"light-square\" height=\"1\" width=\"1\"></rect><g></g></g><g><rect x=\"1\" y=\"2\" class=\"dark-square\" height=\"1\" width=\"1\"></rect><g></g></g><g><rect x=\"1\" y=\"3\" class=\"light-square\" height=\"1\" width=\"1\"></rect><g></g></g><g><rect x=\"1\" y=\"4\" class=\"dark-square\" height=\"1\" width=\"1\"></rect><g></g></g><g><rect x=\"1\" y=\"5\" class=\"light-square\" height=\"1\" width=\"1\"></rect><g></g></g><g><rect x=\"1\" y=\"6\" class=\"dark-square\" height=\"1\" width=\"1\"></rect><image x=\"1\" xlink:href=\"https://raw.githubusercontent.com/romstad/Chess.jl/master/img/wp.svg\" y=\"6\" height=\"1\" width=\"1\"></image></g><g><rect x=\"1\" y=\"7\" class=\"light-square\" height=\"1\" width=\"1\"></rect><g></g></g><g><rect x=\"2\" y=\"0\" class=\"light-square\" height=\"1\" width=\"1\"></rect><g></g></g><g><rect x=\"2\" y=\"1\" class=\"dark-square\" height=\"1\" width=\"1\"></rect><g></g></g><g><rect x=\"2\" y=\"2\" class=\"light-square\" height=\"1\" width=\"1\"></rect><g></g></g><g><rect x=\"2\" y=\"3\" class=\"dark-square\" height=\"1\" width=\"1\"></rect><g></g></g><g><rect x=\"2\" y=\"4\" class=\"light-square\" height=\"1\" width=\"1\"></rect><g></g></g><g><rect x=\"2\" y=\"5\" class=\"dark-square\" height=\"1\" width=\"1\"></rect><g></g></g><g><rect x=\"2\" y=\"6\" class=\"light-square\" height=\"1\" width=\"1\"></rect><image x=\"2\" xlink:href=\"https://raw.githubusercontent.com/romstad/Chess.jl/master/img/wp.svg\" y=\"6\" height=\"1\" width=\"1\"></image></g><g><rect x=\"2\" y=\"7\" class=\"dark-square\" height=\"1\" width=\"1\"></rect><g></g></g><g><rect x=\"3\" y=\"0\" class=\"dark-square\" height=\"1\" width=\"1\"></rect><g></g></g><g><rect x=\"3\" y=\"1\" class=\"light-square\" height=\"1\" width=\"1\"></rect><g></g></g><g><rect x=\"3\" y=\"2\" class=\"dark-square\" height=\"1\" width=\"1\"></rect><g></g></g><g><rect x=\"3\" y=\"3\" class=\"light-square\" height=\"1\" width=\"1\"></rect><g></g></g><g><rect x=\"3\" y=\"4\" class=\"dark-square\" height=\"1\" width=\"1\"></rect><g></g></g><g><rect x=\"3\" y=\"5\" class=\"light-square\" height=\"1\" width=\"1\"></rect><g></g></g><g><rect x=\"3\" y=\"6\" class=\"dark-square\" height=\"1\" width=\"1\"></rect><image x=\"3\" xlink:href=\"https://raw.githubusercontent.com/romstad/Chess.jl/master/img/wp.svg\" y=\"6\" height=\"1\" width=\"1\"></image></g><g><rect x=\"3\" y=\"7\" class=\"light-square\" height=\"1\" width=\"1\"></rect><g></g></g><g><rect x=\"4\" y=\"0\" class=\"light-square\" height=\"1\" width=\"1\"></rect><g></g></g><g><rect x=\"4\" y=\"1\" class=\"dark-square\" height=\"1\" width=\"1\"></rect><g></g></g><g><rect x=\"4\" y=\"2\" class=\"light-square\" height=\"1\" width=\"1\"></rect><g></g></g><g><rect x=\"4\" y=\"3\" class=\"dark-square\" height=\"1\" width=\"1\"></rect><g></g></g><g><rect x=\"4\" y=\"4\" class=\"light-square\" height=\"1\" width=\"1\"></rect><g></g></g><g><rect x=\"4\" y=\"5\" class=\"dark-square\" height=\"1\" width=\"1\"></rect><g></g></g><g><rect x=\"4\" y=\"6\" class=\"light-square\" height=\"1\" width=\"1\"></rect><image x=\"4\" xlink:href=\"https://raw.githubusercontent.com/romstad/Chess.jl/master/img/wp.svg\" y=\"6\" height=\"1\" width=\"1\"></image></g><g><rect x=\"4\" y=\"7\" class=\"dark-square\" height=\"1\" width=\"1\"></rect><image x=\"4\" xlink:href=\"https://raw.githubusercontent.com/romstad/Chess.jl/master/img/wk.svg\" y=\"7\" height=\"1\" width=\"1\"></image></g><g><rect x=\"5\" y=\"0\" class=\"dark-square\" height=\"1\" width=\"1\"></rect><g></g></g><g><rect x=\"5\" y=\"1\" class=\"light-square\" height=\"1\" width=\"1\"></rect><g></g></g><g><rect x=\"5\" y=\"2\" class=\"dark-square\" height=\"1\" width=\"1\"></rect><g></g></g><g><rect x=\"5\" y=\"3\" class=\"light-square\" height=\"1\" width=\"1\"></rect><g></g></g><g><rect x=\"5\" y=\"4\" class=\"dark-square\" height=\"1\" width=\"1\"></rect><g></g></g><g><rect x=\"5\" y=\"5\" class=\"light-square\" height=\"1\" width=\"1\"></rect><g></g></g><g><rect x=\"5\" y=\"6\" class=\"dark-square\" height=\"1\" width=\"1\"></rect><image x=\"5\" xlink:href=\"https://raw.githubusercontent.com/romstad/Chess.jl/master/img/wp.svg\" y=\"6\" height=\"1\" width=\"1\"></image></g><g><rect x=\"5\" y=\"7\" class=\"light-square\" height=\"1\" width=\"1\"></rect><g></g></g><g><rect x=\"6\" y=\"0\" class=\"light-square\" height=\"1\" width=\"1\"></rect><g></g></g><g><rect x=\"6\" y=\"1\" class=\"dark-square\" height=\"1\" width=\"1\"></rect><g></g></g><g><rect x=\"6\" y=\"2\" class=\"light-square\" height=\"1\" width=\"1\"></rect><g></g></g><g><rect x=\"6\" y=\"3\" class=\"dark-square\" height=\"1\" width=\"1\"></rect><g></g></g><g><rect x=\"6\" y=\"4\" class=\"light-square\" height=\"1\" width=\"1\"></rect><g></g></g><g><rect x=\"6\" y=\"5\" class=\"dark-square\" height=\"1\" width=\"1\"></rect><g></g></g><g><rect x=\"6\" y=\"6\" class=\"light-square\" height=\"1\" width=\"1\"></rect><image x=\"6\" xlink:href=\"https://raw.githubusercontent.com/romstad/Chess.jl/master/img/wp.svg\" y=\"6\" height=\"1\" width=\"1\"></image></g><g><rect x=\"6\" y=\"7\" class=\"dark-square\" height=\"1\" width=\"1\"></rect><g></g></g><g><rect x=\"7\" y=\"0\" class=\"dark-square\" height=\"1\" width=\"1\"></rect><g></g></g><g><rect x=\"7\" y=\"1\" class=\"light-square\" height=\"1\" width=\"1\"></rect><g></g></g><g><rect x=\"7\" y=\"2\" class=\"dark-square\" height=\"1\" width=\"1\"></rect><g></g></g><g><rect x=\"7\" y=\"3\" class=\"light-square\" height=\"1\" width=\"1\"></rect><g></g></g><g><rect x=\"7\" y=\"4\" class=\"dark-square\" height=\"1\" width=\"1\"></rect><g></g></g><g><rect x=\"7\" y=\"5\" class=\"light-square\" height=\"1\" width=\"1\"></rect><g></g></g><g><rect x=\"7\" y=\"6\" class=\"dark-square\" height=\"1\" width=\"1\"></rect><image x=\"7\" xlink:href=\"https://raw.githubusercontent.com/romstad/Chess.jl/master/img/wp.svg\" y=\"6\" height=\"1\" width=\"1\"></image></g><g><rect x=\"7\" y=\"7\" class=\"light-square\" height=\"1\" width=\"1\"></rect><image x=\"7\" xlink:href=\"https://raw.githubusercontent.com/romstad/Chess.jl/master/img/wr.svg\" y=\"7\" height=\"1\" width=\"1\"></image></g></g><g></g></svg><div><p>White to move</p><p><a href=\"https://lichess.org/editor/k7/8/8/8/8/8/PPPPPPPP/R3K2R_w_-_-\" target=\"_blank\">Open in lichess</a></p></div></div>"
      ],
      "text/plain": [
       "HTML{String}(\"Board:<div class=\\\"chessboard\\\"><style soped=\\\"true\\\">.dark-square {\\n    fill: #c3936a;\\n    stroke-width: 0;\\n}\\n.light-square {\\n    fill: #ffd7a6;\\n    stroke-width: 0;\\n}\\n.highlight {\\n    fill: #47d18b;\\n}\\n@media (prefers-color-scheme: dark) {\\n    .dark-square {\\n        fill: #00796b;\\n    }\\n    .light-square {\\n        fill: #3ca59b;\\n    }\\n    .highlight {\\n        fill: #d23600;\\n    }\\n}\\n</style><svg style=\\\"float: left; margin-right: 20px\\\" viewBox=\\\"0 0 8 8\\\" height=\\\"280\\\" width=\\\"280\\\"><g><g><rect x=\\\"0\\\" y=\\\"0\\\" class=\\\"light-square\\\" height=\\\"1\\\" width=\\\"1\\\"></rect><image x=\\\"0\\\" xlink:href=\\\"https://raw.githubusercontent.com/romstad/Chess.jl/master/img/bk.svg\\\" y=\\\"0\\\" height=\\\"1\\\" width=\\\"1\\\"></image></g><g><rect x=\\\"0\\\" y=\\\"1\\\" class=\\\"dark-square\\\" height=\\\"1\\\" width=\\\"1\\\"></rect><g></g></g><g><rect x=\\\"0\\\" y=\\\"2\\\" class=\\\"light-square\\\" height=\\\"1\\\" width=\\\"1\\\"></rect><g></g></g><g><rect x=\\\"0\\\" y=\\\"3\\\" class=\\\"dark-square\\\" height=\\\"1\\\" width=\\\"1\\\"></rect><g></g></g><g><rect x=\\\"0\\\" y=\\\"4\\\" class=\\\"light-square\\\" height=\\\"1\\\" width=\\\"1\\\"></rect><g></g></g><g><rect x=\\\"0\\\" y=\\\"5\\\" class=\\\"dark-square\\\" height=\\\"1\\\" width=\\\"1\\\"></rect><g></g></g><g><rect x=\\\"0\\\" y=\\\"6\\\" class=\\\"light-square\\\" height=\\\"1\\\" width=\\\"1\\\"></rect><image x=\\\"0\\\" xlink:href=\\\"https://raw.githubusercontent.com/romstad/Chess.jl/master/img/wp.svg\\\" y=\\\"6\\\" height=\\\"1\\\" width=\\\"1\\\"></image></g><g><rect x=\\\"0\\\" y=\\\"7\\\" class=\\\"dark-square\\\" height=\\\"1\\\" width=\\\"1\\\"></rect><image x=\\\"0\\\" xlink:href=\\\"https://raw.githubusercontent.com/romstad/Chess.jl/master/img/wr.svg\\\" y=\\\"7\\\" height=\\\"1\\\" width=\\\"1\\\"></image></g><g><rect x=\\\"1\\\" y=\\\"0\\\" class=\\\"dark-square\\\" height=\\\"1\\\" width=\\\"1\\\"></rect><g></g></g><g><rect x=\\\"1\\\" y=\\\"1\\\" class=\\\"light-square\\\" height=\\\"1\\\" width=\\\"1\\\"></rect><g></g></g><g><rect x=\\\"1\\\" y=\\\"2\\\" class=\\\"dark-square\\\" height=\\\"1\\\" width=\\\"1\\\"></rect><g></g></g><g><rect x=\\\"1\\\" y=\\\"3\\\" class=\\\"light-square\\\" height=\\\"1\\\" width=\\\"1\\\"></rect><g></g></g><g><rect x=\\\"1\\\" y=\\\"4\\\" class=\\\"dark-square\\\" height=\\\"1\\\" width=\\\"1\\\"></rect><g></g></g><g><rect x=\\\"1\\\" y=\\\"5\\\" class=\\\"light-square\\\" height=\\\"1\\\" width=\\\"1\\\"></rect><g></g></g><g><rect x=\\\"1\\\" y=\\\"6\\\" class=\\\"dark-square\\\" height=\\\"1\\\" width=\\\"1\\\"></rect><image x=\\\"1\\\" xlink:href=\\\"https://raw.githubusercontent.com/romstad/Chess.jl/master/img/wp.svg\\\" y=\\\"6\\\" height=\\\"1\\\" width=\\\"1\\\"></image></g><g><rect x=\\\"1\\\" y=\\\"7\\\" class=\\\"light-square\\\" height=\\\"1\\\" width=\\\"1\\\"></rect><g></g></g><g><rect x=\\\"2\\\" y=\\\"0\\\" class=\\\"light-square\\\" height=\\\"1\\\" width=\\\"1\\\"></rect><g></g></g><g><rect x=\\\"2\\\" y=\\\"1\\\" class=\\\"dark-square\\\" height=\\\"1\\\" width=\\\"1\\\"></rect><g></g></g><g><rect x=\\\"2\\\" y=\\\"2\\\" class=\\\"light-square\\\" height=\\\"1\\\" width=\\\"1\\\"></rect><g></g></g><g><rect x=\\\"2\\\" y=\\\"3\\\" class=\\\"dark-square\\\" height=\\\"1\\\" width=\\\"1\\\"></rect><g></g></g><g><rect x=\\\"2\\\" y=\\\"4\\\" class=\\\"light-square\\\" height=\\\"1\\\" width=\\\"1\\\"></rect><g></g></g><g><rect x=\\\"2\\\" y=\\\"5\\\" class=\\\"dark-square\\\" height=\\\"1\\\" width=\\\"1\\\"></rect><g></g></g><g><rect x=\\\"2\\\" y=\\\"6\\\" class=\\\"light-square\\\" height=\\\"1\\\" width=\\\"1\\\"></rect><image x=\\\"2\\\" xlink:href=\\\"https://raw.githubusercontent.com/romstad/Chess.jl/master/img/wp.svg\\\" y=\\\"6\\\" height=\\\"1\\\" width=\\\"1\\\"></image></g><g><rect x=\\\"2\\\" y=\\\"7\\\" class=\\\"dark-square\\\" height=\\\"1\\\" width=\\\"1\\\"></rect><g></g></g><g><rect x=\\\"3\\\" y=\\\"0\\\" class=\\\"dark-square\\\" height=\\\"1\\\" width=\\\"1\\\"></rect><g></g></g><g><rect x=\\\"3\\\" y=\\\"1\\\" class=\\\"light-square\\\" height=\\\"1\\\" width=\\\"1\\\"></rect><g></g></g><g><rect x=\\\"3\\\" y=\\\"2\\\" class=\\\"dark-square\\\" height=\\\"1\\\" width=\\\"1\\\"></rect><g></g></g><g><rect x=\\\"3\\\" y=\\\"3\\\" class=\\\"light-square\\\" height=\\\"1\\\" width=\\\"1\\\"></rect><g></g></g><g><rect x=\\\"3\\\" y=\\\"4\\\" class=\\\"dark-square\\\" height=\\\"1\\\" width=\\\"1\\\"></rect><g></g></g><g><rect x=\\\"3\\\" y=\\\"5\\\" class=\\\"light-square\\\" height=\\\"1\\\" width=\\\"1\\\"></rect><g></g></g><g><rect x=\\\"3\\\" y=\\\"6\\\" class=\\\"dark-square\\\" height=\\\"1\\\" width=\\\"1\\\"></rect><image x=\\\"3\\\" xlink:href=\\\"https://raw.githubusercontent.com/romstad/Chess.jl/master/img/wp.svg\\\" y=\\\"6\\\" height=\\\"1\\\" width=\\\"1\\\"></image></g><g><rect x=\\\"3\\\" y=\\\"7\\\" class=\\\"light-square\\\" height=\\\"1\\\" width=\\\"1\\\"></rect><g></g></g><g><rect x=\\\"4\\\" y=\\\"0\\\" class=\\\"light-square\\\" height=\\\"1\\\" width=\\\"1\\\"></rect><g></g></g><g><rect x=\\\"4\\\" y=\\\"1\\\" class=\\\"dark-square\\\" height=\\\"1\\\" width=\\\"1\\\"></rect><g></g></g><g><rect x=\\\"4\\\" y=\\\"2\\\" class=\\\"light-square\\\" height=\\\"1\\\" width=\\\"1\\\"></rect><g></g></g><g><rect x=\\\"4\\\" y=\\\"3\\\" class=\\\"dark-square\\\" height=\\\"1\\\" width=\\\"1\\\"></rect><g></g></g><g><rect x=\\\"4\\\" y=\\\"4\\\" class=\\\"light-square\\\" height=\\\"1\\\" width=\\\"1\\\"></rect><g></g></g><g><rect x=\\\"4\\\" y=\\\"5\\\" class=\\\"dark-square\\\" height=\\\"1\\\" width=\\\"1\\\"></rect><g></g></g><g><rect x=\\\"4\\\" y=\\\"6\\\" class=\\\"light-square\\\" height=\\\"1\\\" width=\\\"1\\\"></rect><image x=\\\"4\\\" xlink:href=\\\"https://raw.githubusercontent.com/romstad/Chess.jl/master/img/wp.svg\\\" y=\\\"6\\\" height=\\\"1\\\" width=\\\"1\\\"></image></g><g><rect x=\\\"4\\\" y=\\\"7\\\" class=\\\"dark-square\\\" height=\\\"1\\\" width=\\\"1\\\"></rect><image x=\\\"4\\\" xlink:href=\\\"https://raw.githubusercontent.com/romstad/Chess.jl/master/img/wk.svg\\\" y=\\\"7\\\" height=\\\"1\\\" width=\\\"1\\\"></image></g><g><rect x=\\\"5\\\" y=\\\"0\\\" class=\\\"dark-square\\\" height=\\\"1\\\" width=\\\"1\\\"></rect><g></g></g><g><rect x=\\\"5\\\" y=\\\"1\\\" class=\\\"light-square\\\" height=\\\"1\\\" width=\\\"1\\\"></rect><g></g></g><g><rect x=\\\"5\\\" y=\\\"2\\\" class=\\\"dark-square\\\" height=\\\"1\\\" width=\\\"1\\\"></rect><g></g></g><g><rect x=\\\"5\\\" y=\\\"3\\\" class=\\\"light-square\\\" height=\\\"1\\\" width=\\\"1\\\"></rect><g></g></g><g><rect x=\\\"5\\\" y=\\\"4\\\" class=\\\"dark-square\\\" height=\\\"1\\\" width=\\\"1\\\"></rect><g></g></g><g><rect x=\\\"5\\\" y=\\\"5\\\" class=\\\"light-square\\\" height=\\\"1\\\" width=\\\"1\\\"></rect><g></g></g><g><rect x=\\\"5\\\" y=\\\"6\\\" class=\\\"dark-square\\\" height=\\\"1\\\" width=\\\"1\\\"></rect><image x=\\\"5\\\" xlink:href=\\\"https://raw.githubusercontent.com/romstad/Chess.jl/master/img/wp.svg\\\" y=\\\"6\\\" height=\\\"1\\\" width=\\\"1\\\"></image></g><g><rect x=\\\"5\\\" y=\\\"7\\\" class=\\\"light-square\\\" height=\\\"1\\\" width=\\\"1\\\"></rect><g></g></g><g><rect x=\\\"6\\\" y=\\\"0\\\" class=\\\"light-square\\\" height=\\\"1\\\" width=\\\"1\\\"></rect><g></g></g><g><rect x=\\\"6\\\" y=\\\"1\\\" class=\\\"dark-square\\\" height=\\\"1\\\" width=\\\"1\\\"></rect><g></g></g><g><rect x=\\\"6\\\" y=\\\"2\\\" class=\\\"light-square\\\" height=\\\"1\\\" width=\\\"1\\\"></rect><g></g></g><g><rect x=\\\"6\\\" y=\\\"3\\\" class=\\\"dark-square\\\" height=\\\"1\\\" width=\\\"1\\\"></rect><g></g></g><g><rect x=\\\"6\\\" y=\\\"4\\\" class=\\\"light-square\\\" height=\\\"1\\\" width=\\\"1\\\"></rect><g></g></g><g><rect x=\\\"6\\\" y=\\\"5\\\" class=\\\"dark-square\\\" height=\\\"1\\\" width=\\\"1\\\"></rect><g></g></g><g><rect x=\\\"6\\\" y=\\\"6\\\" class=\\\"light-square\\\" height=\\\"1\\\" width=\\\"1\\\"></rect><image x=\\\"6\\\" xlink:href=\\\"https://raw.githubusercontent.com/romstad/Chess.jl/master/img/wp.svg\\\" y=\\\"6\\\" height=\\\"1\\\" width=\\\"1\\\"></image></g><g><rect x=\\\"6\\\" y=\\\"7\\\" class=\\\"dark-square\\\" height=\\\"1\\\" width=\\\"1\\\"></rect><g></g></g><g><rect x=\\\"7\\\" y=\\\"0\\\" class=\\\"dark-square\\\" height=\\\"1\\\" width=\\\"1\\\"></rect><g></g></g><g><rect x=\\\"7\\\" y=\\\"1\\\" class=\\\"light-square\\\" height=\\\"1\\\" width=\\\"1\\\"></rect><g></g></g><g><rect x=\\\"7\\\" y=\\\"2\\\" class=\\\"dark-square\\\" height=\\\"1\\\" width=\\\"1\\\"></rect><g></g></g><g><rect x=\\\"7\\\" y=\\\"3\\\" class=\\\"light-square\\\" height=\\\"1\\\" width=\\\"1\\\"></rect><g></g></g><g><rect x=\\\"7\\\" y=\\\"4\\\" class=\\\"dark-square\\\" height=\\\"1\\\" width=\\\"1\\\"></rect><g></g></g><g><rect x=\\\"7\\\" y=\\\"5\\\" class=\\\"light-square\\\" height=\\\"1\\\" width=\\\"1\\\"></rect><g></g></g><g><rect x=\\\"7\\\" y=\\\"6\\\" class=\\\"dark-square\\\" height=\\\"1\\\" width=\\\"1\\\"></rect><image x=\\\"7\\\" xlink:href=\\\"https://raw.githubusercontent.com/romstad/Chess.jl/master/img/wp.svg\\\" y=\\\"6\\\" height=\\\"1\\\" width=\\\"1\\\"></image></g><g><rect x=\\\"7\\\" y=\\\"7\\\" class=\\\"light-square\\\" height=\\\"1\\\" width=\\\"1\\\"></rect><image x=\\\"7\\\" xlink:href=\\\"https://raw.githubusercontent.com/romstad/Chess.jl/master/img/wr.svg\\\" y=\\\"7\\\" height=\\\"1\\\" width=\\\"1\\\"></image></g></g><g></g></svg><div><p>White to move</p><p><a href=\\\"https://lichess.org/editor/k7/8/8/8/8/8/PPPPPPPP/R3K2R_w_-_-\\\" target=\\\"_blank\\\">Open in lichess</a></p></div></div>\")"
      ]
     },
     "metadata": {},
     "output_type": "display_data"
    },
    {
     "ename": "LoadError",
     "evalue": "MethodError: no method matching iterate(::Move)\n\u001b[0mClosest candidates are:\n\u001b[0m  iterate(\u001b[91m::Union{LinRange, StepRangeLen}\u001b[39m) at range.jl:872\n\u001b[0m  iterate(\u001b[91m::Union{LinRange, StepRangeLen}\u001b[39m, \u001b[91m::Integer\u001b[39m) at range.jl:872\n\u001b[0m  iterate(\u001b[91m::T\u001b[39m) where T<:Union{Base.KeySet{<:Any, <:Dict}, Base.ValueIterator{<:Dict}} at dict.jl:712\n\u001b[0m  ...",
     "output_type": "error",
     "traceback": [
      "MethodError: no method matching iterate(::Move)\n\u001b[0mClosest candidates are:\n\u001b[0m  iterate(\u001b[91m::Union{LinRange, StepRangeLen}\u001b[39m) at range.jl:872\n\u001b[0m  iterate(\u001b[91m::Union{LinRange, StepRangeLen}\u001b[39m, \u001b[91m::Integer\u001b[39m) at range.jl:872\n\u001b[0m  iterate(\u001b[91m::T\u001b[39m) where T<:Union{Base.KeySet{<:Any, <:Dict}, Base.ValueIterator{<:Dict}} at dict.jl:712\n\u001b[0m  ...",
      "",
      "Stacktrace:",
      " [1] indexed_iterate(I::Move, i::Int64)",
      "   @ Base .\\tuple.jl:91",
      " [2] macro expansion",
      "   @ C:\\Users\\luckb\\OneDrive\\Duales Studium Cyber-Security\\Theoriephasen\\Phase 5\\Studienarbeit\\Notebooks\\chess-ai\\1.2 BasicGame.ipynb:In[1]:6 [inlined]",
      " [3] macro expansion",
      "   @ .\\timing.jl:382 [inlined]",
      " [4] play_game(ai::TestPlayer, player::TestPlayer, game::SimpleGame, ai_turn::Bool)",
      "   @ Main C:\\Users\\luckb\\OneDrive\\Duales Studium Cyber-Security\\Theoriephasen\\Phase 5\\Studienarbeit\\Notebooks\\chess-ai\\1.2 BasicGame.ipynb:In[1]:5",
      " [5] play_game",
      "   @ C:\\Users\\luckb\\OneDrive\\Duales Studium Cyber-Security\\Theoriephasen\\Phase 5\\Studienarbeit\\Notebooks\\chess-ai\\1.2 BasicGame.ipynb:In[1]:2 [inlined]",
      " [6] test_play_game(expected::String, player1_moves::Vector{Any}, player2_moves::Vector{Move}, board::Board)",
      "   @ Main .\\In[12]:17",
      " [7] top-level scope",
      "   @ In[20]:1",
      " [8] eval",
      "   @ .\\boot.jl:368 [inlined]",
      " [9] include_string(mapexpr::typeof(REPL.softscope), mod::Module, code::String, filename::String)",
      "   @ Base .\\loading.jl:1428"
     ]
    }
   ],
   "source": [
    "println(test_play_game(\n",
    "    \"k7/8/8/8/8/8/PPPPPPPP/2KR3R b - -\",\n",
    "    [],\n",
    "    [Move(SQ_E1, SQ_C1)],\n",
    "    fromfen(\"k7/8/8/8/8/8/PPPPPPPP/R3K2R w - -\")\n",
    "))"
   ]
  },
  {
   "cell_type": "markdown",
   "id": "68d68f0f",
   "metadata": {},
   "source": [
    "***"
   ]
  },
  {
   "cell_type": "markdown",
   "id": "67c09512",
   "metadata": {},
   "source": [
    "by Florian Stach and Luc Kaiser"
   ]
  },
  {
   "cell_type": "markdown",
   "id": "e88e0578",
   "metadata": {},
   "source": [
    "Last updated: 30/11/2022"
   ]
  },
  {
   "cell_type": "markdown",
   "id": "94066c1b",
   "metadata": {},
   "source": [
    "***"
   ]
  }
 ],
 "metadata": {
  "kernelspec": {
   "display_name": "Julia 1.8.2",
   "language": "julia",
   "name": "julia-1.8"
  },
  "language_info": {
   "file_extension": ".jl",
   "mimetype": "application/julia",
   "name": "julia",
   "version": "1.8.2"
  }
 },
 "nbformat": 4,
 "nbformat_minor": 5
}
