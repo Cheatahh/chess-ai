{
 "cells": [
  {
   "cell_type": "code",
   "execution_count": 1,
   "id": "0c6eb234",
   "metadata": {},
   "outputs": [
    {
     "data": {
      "text/html": [
       "<link href='http://fonts.googleapis.com/css?family=Alegreya+Sans:100,300,400,500,700,800,900,100italic,300italic,400italic,500italic,700italic,800italic,900italic' rel='stylesheet' type='text/css'>\r\n",
       "<link href='http://fonts.googleapis.com/css?family=Arvo:400,700,400italic' rel='stylesheet' type='text/css'>\r\n",
       "<link href='http://fonts.googleapis.com/css?family=PT+Mono' rel='stylesheet' type='text/css'>\r\n",
       "<link href='http://fonts.googleapis.com/css?family=Shadows+Into+Light' rel='stylesheet' type='text/css'>\r\n",
       "<link href='http://fonts.googleapis.com/css?family=Philosopher:400,700,400italic,700italic' rel='stylesheet' type='text/css'>\r\n",
       "\r\n",
       "<style>\r\n",
       "\r\n",
       "@font-face {\r\n",
       "    font-family: \"Computer Modern\";\r\n",
       "    src: url('http://mirrors.ctan.org/fonts/cm-unicode/fonts/otf/cmunss.otf');\r\n",
       "}\r\n",
       "\r\n",
       ".container { width: 100% }\r\n",
       "\r\n",
       "/* Formatting for header cells */\r\n",
       ".text_cell_render h1 {\r\n",
       "    font-family: 'Philosopher', sans-serif;\r\n",
       "    font-weight: 400;\r\n",
       "    font-size: 2.2em;\r\n",
       "    line-height: 100%;\r\n",
       "    color: rgb(0, 80, 120);\r\n",
       "    margin-bottom: 0.1em;\r\n",
       "    margin-top: 0.1em;\r\n",
       "    display: block;\r\n",
       "}\t\r\n",
       ".text_cell_render h2 {\r\n",
       "    font-family: 'Philosopher', serif;\r\n",
       "    font-weight: 400;\r\n",
       "    font-size: 1.9em;\r\n",
       "    line-height: 100%;\r\n",
       "    color: rgb(200,100,0);\r\n",
       "    margin-bottom: 0.1em;\r\n",
       "    margin-top: 0.1em;\r\n",
       "    display: block;\r\n",
       "}\t\r\n",
       "\r\n",
       ".text_cell_render h3 {\r\n",
       "    font-family: 'Philosopher', serif;\r\n",
       "    margin-top:12px;\r\n",
       "    margin-bottom: 3px;\r\n",
       "    font-style: italic;\r\n",
       "    color: rgb(94,127,192);\r\n",
       "}\r\n",
       "\r\n",
       ".text_cell_render h4 {\r\n",
       "    font-family: 'Philosopher', serif;\r\n",
       "}\r\n",
       "\r\n",
       ".text_cell_render h5 {\r\n",
       "    font-family: 'Alegreya Sans', sans-serif;\r\n",
       "    font-weight: 300;\r\n",
       "    font-size: 16pt;\r\n",
       "    color: grey;\r\n",
       "    font-style: italic;\r\n",
       "    margin-bottom: .1em;\r\n",
       "    margin-top: 0.1em;\r\n",
       "    display: block;\r\n",
       "}\r\n",
       "\r\n",
       ".text_cell_render h6 {\r\n",
       "    font-family: 'PT Mono', sans-serif;\r\n",
       "    font-weight: 300;\r\n",
       "    font-size: 10pt;\r\n",
       "    color: grey;\r\n",
       "    margin-bottom: 1px;\r\n",
       "    margin-top: 1px;\r\n",
       "}\r\n",
       "\r\n",
       ".text_cell_render em {\r\n",
       "    font-family: 'Philosopher', sans-serif;\r\n",
       "    color:        blue;\r\n",
       "    background-color: rgb(255,220,180);\r\n",
       "    font-size:    110%;\r\n",
       "    margin-left:   2px;\r\n",
       "    margin-right:  2px;\r\n",
       "    font-weight:   100;\r\n",
       "}\r\n",
       "\r\n",
       ".text_cell_render b {\r\n",
       "    color:            rgb(255,195,195);\r\n",
       "    background-color: rgb(0,0,0);\r\n",
       "    font-size:    110%;\r\n",
       "    margin-left:   2px;\r\n",
       "    margin-right:  2px;\r\n",
       "    font-weight:   650;\r\n",
       "}\r\n",
       "\r\n",
       ".text_cell_render tt {\r\n",
       "    font-size:    120%;\r\n",
       "    margin-left:   2px;\r\n",
       "    margin-right:  2px;\r\n",
       "    font-weight:   150;\r\n",
       "}\r\n",
       "\r\n",
       ".Codemirror {\r\n",
       "    font-family: \"PT Mono\";\r\n",
       "    font-size: 100%;\r\n",
       "}\r\n",
       "\r\n",
       "</style>"
      ],
      "text/plain": [
       "HTML{String}(\"<link href='http://fonts.googleapis.com/css?family=Alegreya+Sans:100,300,400,500,700,800,900,100italic,300italic,400italic,500italic,700italic,800italic,900italic' rel='stylesheet' type='text/css'>\\r\\n<link href='http://fonts.googleapis.com/css?family=Arvo:400,700,400italic' rel='stylesheet' type='text/css'>\\r\\n<link href='http://fonts.googleapis.com/css?family=PT+Mono' rel='stylesheet' type='text/css'>\\r\\n<link href='http://fonts.googleapis.com/css?family=Shadows+Into+Light' rel='stylesheet' type='text/css'>\\r\\n<link href='http://fonts.googleapis.com/css?family=Philosopher:400,700,400italic,700italic' rel='stylesheet' type='text/css'>\\r\\n\\r\\n<style>\\r\\n\\r\\n@font-face {\\r\\n    font-family: \\\"Computer Modern\\\";\\r\\n    src: url('http://mirrors.ctan.org/fonts/cm-unicode/fonts/otf/cmunss.otf');\\r\\n}\\r\\n\\r\\n.container { width: 100% }\\r\\n\\r\\n/* Formatting for header cells */\\r\\n.text_cell_render h1 {\\r\\n    font-family: 'Philosopher', sans-serif;\\r\\n    font-weight: 400;\\r\\n    font-size: 2.2em;\\r\\n    line-height: 100%;\\r\\n    color: rgb(0, 80, 120);\\r\\n    margin-bottom: 0.1em;\\r\\n    margin-top: 0.1em;\\r\\n    display: block;\\r\\n}\\t\\r\\n.text_cell_render h2 {\\r\\n    font-family: 'Philosopher', serif;\\r\\n    font-weight: 400;\\r\\n    font-size: 1.9em;\\r\\n    line-height: 100%;\\r\\n    color: rgb(200,100,0);\\r\\n    margin-bottom: 0.1em;\\r\\n    margin-top: 0.1em;\\r\\n    display: block;\\r\\n}\\t\\r\\n\\r\\n.text_cell_render h3 {\\r\\n    font-family: 'Philosopher', serif;\\r\\n    margin-top:12px;\\r\\n    margin-bottom: 3px;\\r\\n    font-style: italic;\\r\\n    color: rgb(94,127,192);\\r\\n}\\r\\n\\r\\n.text_cell_render h4 {\\r\\n    font-family: 'Philosopher', serif;\\r\\n}\\r\\n\\r\\n.text_cell_render h5 {\\r\\n    font-family: 'Alegreya Sans', sans-serif;\\r\\n    font-weight: 300;\\r\\n    font-size: 16pt;\\r\\n    color: grey;\\r\\n    font-style: italic;\\r\\n    margin-bottom: .1em;\\r\\n    margin-top: 0.1em;\\r\\n    display: block;\\r\\n}\\r\\n\\r\\n.text_cell_render h6 {\\r\\n    font-family: 'PT Mono', sans-serif;\\r\\n    font-weight: 300;\\r\\n    font-size: 10pt;\\r\\n    color: grey;\\r\\n    margin-bottom: 1px;\\r\\n    margin-top: 1px;\\r\\n}\\r\\n\\r\\n.text_cell_render em {\\r\\n    font-family: 'Philosopher', sans-serif;\\r\\n    color:        blue;\\r\\n    background-color: rgb(255,220,180);\\r\\n    font-size:    110%;\\r\\n    margin-left:   2px;\\r\\n    margin-right:  2px;\\r\\n    font-weight:   100;\\r\\n}\\r\\n\\r\\n.text_cell_render b {\\r\\n    color:            rgb(255,195,195);\\r\\n    background-color: rgb(0,0,0);\\r\\n    font-size:    110%;\\r\\n    margin-left:   2px;\\r\\n    margin-right:  2px;\\r\\n    font-weight:   650;\\r\\n}\\r\\n\\r\\n.text_cell_render tt {\\r\\n    font-size:    120%;\\r\\n    margin-left:   2px;\\r\\n    margin-right:  2px;\\r\\n    font-weight:   150;\\r\\n}\\r\\n\\r\\n.Codemirror {\\r\\n    font-family: \\\"PT Mono\\\";\\r\\n    font-size: 100%;\\r\\n}\\r\\n\\r\\n</style>\")"
      ]
     },
     "execution_count": 1,
     "metadata": {},
     "output_type": "execute_result"
    }
   ],
   "source": [
    "HTML(read(open(\"style.html\"), String))"
   ]
  },
  {
   "cell_type": "markdown",
   "id": "d8d681a6",
   "metadata": {},
   "source": [
    "Dieses Notebook präsentiert die durchgeführten Tests der MiniMax-Funktion."
   ]
  },
  {
   "cell_type": "code",
   "execution_count": 2,
   "id": "06e25b7b",
   "metadata": {},
   "outputs": [
    {
     "name": "stderr",
     "output_type": "stream",
     "text": [
      "\u001b[32m\u001b[1m    Updating\u001b[22m\u001b[39m registry at `C:\\Users\\luckb\\.julia\\registries\\General.toml`\n",
      "\u001b[32m\u001b[1m   Resolving\u001b[22m\u001b[39m package versions...\n",
      "\u001b[32m\u001b[1m  No Changes\u001b[22m\u001b[39m to `C:\\Users\\luckb\\.julia\\environments\\v1.8\\Project.toml`\n",
      "\u001b[32m\u001b[1m  No Changes\u001b[22m\u001b[39m to `C:\\Users\\luckb\\.julia\\environments\\v1.8\\Manifest.toml`\n"
     ]
    }
   ],
   "source": [
    "using Pkg\n",
    "Pkg.add(\"NBInclude\")"
   ]
  },
  {
   "cell_type": "code",
   "execution_count": 1,
   "id": "f8168276",
   "metadata": {},
   "outputs": [
    {
     "name": "stderr",
     "output_type": "stream",
     "text": [
      "\u001b[32m\u001b[1m    Updating\u001b[22m\u001b[39m registry at `C:\\Users\\flori\\.julia\\registries\\General.toml`\n",
      "\u001b[32m\u001b[1m   Resolving\u001b[22m\u001b[39m package versions...\n",
      "\u001b[32m\u001b[1m  No Changes\u001b[22m\u001b[39m to `C:\\Users\\flori\\.julia\\environments\\v1.8\\Project.toml`\n",
      "\u001b[32m\u001b[1m  No Changes\u001b[22m\u001b[39m to `C:\\Users\\flori\\.julia\\environments\\v1.8\\Manifest.toml`\n",
      "\u001b[32m\u001b[1m   Resolving\u001b[22m\u001b[39m package versions...\n",
      "\u001b[32m\u001b[1m  No Changes\u001b[22m\u001b[39m to `C:\\Users\\flori\\.julia\\environments\\v1.8\\Project.toml`\n",
      "\u001b[32m\u001b[1m  No Changes\u001b[22m\u001b[39m to `C:\\Users\\flori\\.julia\\environments\\v1.8\\Manifest.toml`\n",
      "\u001b[32m\u001b[1m   Resolving\u001b[22m\u001b[39m package versions...\n",
      "\u001b[32m\u001b[1m  No Changes\u001b[22m\u001b[39m to `C:\\Users\\flori\\.julia\\environments\\v1.8\\Project.toml`\n",
      "\u001b[32m\u001b[1m  No Changes\u001b[22m\u001b[39m to `C:\\Users\\flori\\.julia\\environments\\v1.8\\Manifest.toml`\n",
      "\u001b[32m\u001b[1m   Resolving\u001b[22m\u001b[39m package versions...\n",
      "\u001b[32m\u001b[1m  No Changes\u001b[22m\u001b[39m to `C:\\Users\\flori\\.julia\\environments\\v1.8\\Project.toml`\n",
      "\u001b[32m\u001b[1m  No Changes\u001b[22m\u001b[39m to `C:\\Users\\flori\\.julia\\environments\\v1.8\\Manifest.toml`\n"
     ]
    },
    {
     "data": {
      "text/plain": [
       "minimax_incremental (generic function with 1 method)"
      ]
     },
     "execution_count": 1,
     "metadata": {},
     "output_type": "execute_result"
    }
   ],
   "source": [
    "using NBInclude\n",
    "@nbinclude(\"3.2 MiniMax-Implementierung.ipynb\")"
   ]
  },
  {
   "cell_type": "markdown",
   "id": "1de2af75",
   "metadata": {},
   "source": [
    "***"
   ]
  },
  {
   "cell_type": "markdown",
   "id": "5b7c4f5b",
   "metadata": {},
   "source": [
    "Dieses Notebook dient dazu die erarbeiteten \"MiniMax functions\" zu testen. Dazu werden sowohl Unittests als auch Funktionstests durchgeführt. Die Unittests selbst dienen zur spezifischen Überprüfung verschiedener Szenarien, wohingegen die Funktionstests dazu dienen zu überprüfen, ob der erarbeitete Algorithmus innerhalb eines Schachmatches funktioniert."
   ]
  },
  {
   "cell_type": "markdown",
   "id": "902d9cae",
   "metadata": {},
   "source": [
    "Zusätzlich werden in diesem Notebook veraltete und fehlerhafte Versionen von Funktionscode erfasst. Die zugrunde liegenden Probleme sowie anschließende Lösungen werden kurz erörtert. Dies dient dazu, dass die normalen Notebooks nicht zu lang werden und der richtige, funktionierende Code direkt erkenntlich ist."
   ]
  },
  {
   "cell_type": "markdown",
   "id": "476ebeb0",
   "metadata": {},
   "source": [
    "***"
   ]
  },
  {
   "cell_type": "markdown",
   "id": "1341123c",
   "metadata": {},
   "source": [
    "# OUTDATED CODE"
   ]
  },
  {
   "cell_type": "markdown",
   "id": "610b9e58",
   "metadata": {},
   "source": [
    "Nothing here yet."
   ]
  },
  {
   "cell_type": "markdown",
   "id": "44e2ee54",
   "metadata": {},
   "source": [
    "***"
   ]
  },
  {
   "cell_type": "markdown",
   "id": "3b5958fd",
   "metadata": {},
   "source": [
    "## Generelle Tests"
   ]
  },
  {
   "cell_type": "markdown",
   "id": "b2889fcd",
   "metadata": {},
   "source": [
    "Zuerst wurden einige generelle Tests durchgeführt, um zu testen, ob die Funktion im Ganzen funktioniert."
   ]
  },
  {
   "cell_type": "code",
   "execution_count": 4,
   "id": "ab9c110a",
   "metadata": {},
   "outputs": [
    {
     "ename": "LoadError",
     "evalue": "UndefVarError: startboard not defined",
     "output_type": "error",
     "traceback": [
      "UndefVarError: startboard not defined",
      "",
      "Stacktrace:",
      " [1] top-level scope",
      "   @ In[4]:1",
      " [2] eval",
      "   @ .\\boot.jl:368 [inlined]",
      " [3] include_string(mapexpr::typeof(REPL.softscope), mod::Module, code::String, filename::String)",
      "   @ Base .\\loading.jl:1428"
     ]
    }
   ],
   "source": [
    "doMiniMax(startboard(), 4)"
   ]
  },
  {
   "cell_type": "code",
   "execution_count": 5,
   "id": "42bf79f1",
   "metadata": {},
   "outputs": [
    {
     "ename": "LoadError",
     "evalue": "UndefVarError: fromfen not defined",
     "output_type": "error",
     "traceback": [
      "UndefVarError: fromfen not defined",
      "",
      "Stacktrace:",
      " [1] top-level scope",
      "   @ In[5]:1",
      " [2] eval",
      "   @ .\\boot.jl:368 [inlined]",
      " [3] include_string(mapexpr::typeof(REPL.softscope), mod::Module, code::String, filename::String)",
      "   @ Base .\\loading.jl:1428"
     ]
    }
   ],
   "source": [
    "fromfen(\"rnbqkbnr/pppppppp/8/8/8/2N5/PPPPPPPP/R1BQKBNR b KQkq - 1 1\")"
   ]
  },
  {
   "cell_type": "code",
   "execution_count": 6,
   "id": "8f7352b6",
   "metadata": {},
   "outputs": [
    {
     "ename": "LoadError",
     "evalue": "UndefVarError: fromfen not defined",
     "output_type": "error",
     "traceback": [
      "UndefVarError: fromfen not defined",
      "",
      "Stacktrace:",
      " [1] top-level scope",
      "   @ In[6]:1",
      " [2] eval",
      "   @ .\\boot.jl:368 [inlined]",
      " [3] include_string(mapexpr::typeof(REPL.softscope), mod::Module, code::String, filename::String)",
      "   @ Base .\\loading.jl:1428"
     ]
    }
   ],
   "source": [
    "doMiniMax(fromfen(\"rnbqkbnr/pppppppp/8/8/8/2N5/PPPPPPPP/R1BQKBNR b KQkq - 1 1\"), 4)"
   ]
  },
  {
   "cell_type": "code",
   "execution_count": 7,
   "id": "d9c5365f",
   "metadata": {},
   "outputs": [
    {
     "ename": "LoadError",
     "evalue": "UndefVarError: fromfen not defined",
     "output_type": "error",
     "traceback": [
      "UndefVarError: fromfen not defined",
      "",
      "Stacktrace:",
      " [1] top-level scope",
      "   @ In[7]:1",
      " [2] eval",
      "   @ .\\boot.jl:368 [inlined]",
      " [3] include_string(mapexpr::typeof(REPL.softscope), mod::Module, code::String, filename::String)",
      "   @ Base .\\loading.jl:1428"
     ]
    }
   ],
   "source": [
    "fromfen(\"rnbqk2r/ppp1ppbp/5n2/3p2p1/3PP3/2N2P2/PPP3PP/R1BQKBNR w KQkq - 0 1\")"
   ]
  },
  {
   "cell_type": "code",
   "execution_count": 8,
   "id": "3234fe26",
   "metadata": {},
   "outputs": [
    {
     "ename": "LoadError",
     "evalue": "UndefVarError: fromfen not defined",
     "output_type": "error",
     "traceback": [
      "UndefVarError: fromfen not defined",
      "",
      "Stacktrace:",
      " [1] top-level scope",
      "   @ In[8]:1",
      " [2] eval",
      "   @ .\\boot.jl:368 [inlined]",
      " [3] include_string(mapexpr::typeof(REPL.softscope), mod::Module, code::String, filename::String)",
      "   @ Base .\\loading.jl:1428"
     ]
    }
   ],
   "source": [
    "doMiniMax(fromfen(\"rnbqk2r/ppp1ppbp/5n2/3p2p1/3PP3/2N2P2/PPP3PP/R1BQKBNR w KQkq - 0 1\"), 4)"
   ]
  },
  {
   "cell_type": "markdown",
   "id": "b9924f88",
   "metadata": {},
   "source": [
    "Ein Unittest wird durchgeführt, um sicherzustellen, dass eine Tiefe von 0 die Funktion nicht aufhängt."
   ]
  },
  {
   "cell_type": "code",
   "execution_count": 9,
   "id": "24bee002",
   "metadata": {},
   "outputs": [
    {
     "ename": "LoadError",
     "evalue": "UndefVarError: startboard not defined",
     "output_type": "error",
     "traceback": [
      "UndefVarError: startboard not defined",
      "",
      "Stacktrace:",
      " [1] top-level scope",
      "   @ In[9]:1",
      " [2] eval",
      "   @ .\\boot.jl:368 [inlined]",
      " [3] include_string(mapexpr::typeof(REPL.softscope), mod::Module, code::String, filename::String)",
      "   @ Base .\\loading.jl:1428"
     ]
    }
   ],
   "source": [
    "startboard()"
   ]
  },
  {
   "cell_type": "code",
   "execution_count": 10,
   "id": "abf7b504",
   "metadata": {},
   "outputs": [
    {
     "ename": "LoadError",
     "evalue": "UndefVarError: startboard not defined",
     "output_type": "error",
     "traceback": [
      "UndefVarError: startboard not defined",
      "",
      "Stacktrace:",
      " [1] top-level scope",
      "   @ In[10]:1",
      " [2] eval",
      "   @ .\\boot.jl:368 [inlined]",
      " [3] include_string(mapexpr::typeof(REPL.softscope), mod::Module, code::String, filename::String)",
      "   @ Base .\\loading.jl:1428"
     ]
    }
   ],
   "source": [
    "doMiniMax(startboard(), 0) === nothing"
   ]
  },
  {
   "cell_type": "markdown",
   "id": "1ebf6d9c",
   "metadata": {},
   "source": [
    "## Spezifische Unittests"
   ]
  },
  {
   "cell_type": "markdown",
   "id": "2e58bc6e",
   "metadata": {},
   "source": [
    "Nachfolgend werden die durchgeführten Unittests präsentiert, beginnend mit der nötigen Testfunktion."
   ]
  },
  {
   "cell_type": "code",
   "execution_count": 11,
   "id": "5c4b8a9b",
   "metadata": {},
   "outputs": [
    {
     "data": {
      "text/plain": [
       "test_doMiniMax (generic function with 1 method)"
      ]
     },
     "execution_count": 11,
     "metadata": {},
     "output_type": "execute_result"
    }
   ],
   "source": [
    "function test_doMiniMax(fen::String, requiredDepth, ex_move::String, ex_result::Bool)\n",
    "    board = fromfen(fen)\n",
    "    result = doMiniMax(board, requiredDepth)\n",
    "    return (string(result) == ex_move) == ex_result\n",
    "end  "
   ]
  },
  {
   "cell_type": "markdown",
   "id": "6e507673",
   "metadata": {},
   "source": [
    "In den nächsten Tests werden spezifische Situationen überprüft. Beispielsweise ob die KI uns Matt setzt, ob sie Spielfiguren schlägt und dabei ihre Figuren opfert oder die Situation \"intelligent\" einschätzen kann."
   ]
  },
  {
   "cell_type": "code",
   "execution_count": 12,
   "id": "b66974fb",
   "metadata": {},
   "outputs": [
    {
     "ename": "LoadError",
     "evalue": "UndefVarError: fromfen not defined",
     "output_type": "error",
     "traceback": [
      "UndefVarError: fromfen not defined",
      "",
      "Stacktrace:",
      " [1] top-level scope",
      "   @ In[12]:1",
      " [2] eval",
      "   @ .\\boot.jl:368 [inlined]",
      " [3] include_string(mapexpr::typeof(REPL.softscope), mod::Module, code::String, filename::String)",
      "   @ Base .\\loading.jl:1428"
     ]
    }
   ],
   "source": [
    "fromfen(\"2k5/8/1q6/8/8/8/5PPP/6K1 b - - 0 1\")"
   ]
  },
  {
   "cell_type": "code",
   "execution_count": 13,
   "id": "238595c4",
   "metadata": {},
   "outputs": [
    {
     "ename": "LoadError",
     "evalue": "UndefVarError: fromfen not defined",
     "output_type": "error",
     "traceback": [
      "UndefVarError: fromfen not defined",
      "",
      "Stacktrace:",
      " [1] test_doMiniMax(fen::String, requiredDepth::Int64, ex_move::String, ex_result::Bool)",
      "   @ Main .\\In[11]:2",
      " [2] top-level scope",
      "   @ In[13]:1",
      " [3] eval",
      "   @ .\\boot.jl:368 [inlined]",
      " [4] include_string(mapexpr::typeof(REPL.softscope), mod::Module, code::String, filename::String)",
      "   @ Base .\\loading.jl:1428"
     ]
    }
   ],
   "source": [
    "println(test_doMiniMax(\n",
    "    \"2k5/8/1q6/8/8/8/5PPP/6K1 b - - 0 1\",\n",
    "    4, \n",
    "    \"Move(b6b1)\", \n",
    "    true\n",
    "))"
   ]
  },
  {
   "cell_type": "code",
   "execution_count": 14,
   "id": "59ba791b",
   "metadata": {
    "scrolled": true
   },
   "outputs": [
    {
     "ename": "LoadError",
     "evalue": "UndefVarError: fromfen not defined",
     "output_type": "error",
     "traceback": [
      "UndefVarError: fromfen not defined",
      "",
      "Stacktrace:",
      " [1] top-level scope",
      "   @ In[14]:1",
      " [2] eval",
      "   @ .\\boot.jl:368 [inlined]",
      " [3] include_string(mapexpr::typeof(REPL.softscope), mod::Module, code::String, filename::String)",
      "   @ Base .\\loading.jl:1428"
     ]
    }
   ],
   "source": [
    "doMiniMax(fromfen(\"2k5/8/1q6/8/8/8/5PPP/6K1 b - - 0 1\"), 4)"
   ]
  },
  {
   "cell_type": "markdown",
   "id": "9e4beb30",
   "metadata": {},
   "source": [
    "Dieser Test zeigt ein Problem auf. Eigentlich sollte die KI uns mit dem Move(b6b1) Matt setzen. Jedoch zieht die KI mit Move(b6c7) die Queen zurück. Eine erste Überlegung ist, dass die KI nicht das Ziel \"Schachmatt\" fokussiert. Ein Blick auf den Source-Code der Funktion \"evaluate2\" liefert das Ergebnis, dass genau dies das Problem ist. Das Ziel ist es einen Punktegewinn zu erzielen. In der momentanen Situation liefert ein Beenden des Spiels 0 Punkte. Das Schlagen eines Pawns hingegen liefert 100 Punkte. Die KI wartet darauf, dass der weiße Spieler einen Zug tätigt, in der Erwartung, dass eine Möglichkeit zum Schlagen erzeugt wird. Die nächsten Tests bestätigen dies. Ist beispielsweise ein Pawn ungeschützt so wird dieser direkt von Schwarz geschlagen. Gleichzeitig wird bewiesen, dass die KI ihre Spielfiguren nicht einfach opfert. Wird der gleiche Test mit einer Tiefe = 1 durchgeführt so schlägt Schwarz ohne Rücksicht auf Verluste."
   ]
  },
  {
   "cell_type": "code",
   "execution_count": 15,
   "id": "d44c797c",
   "metadata": {},
   "outputs": [
    {
     "ename": "LoadError",
     "evalue": "UndefVarError: fromfen not defined",
     "output_type": "error",
     "traceback": [
      "UndefVarError: fromfen not defined",
      "",
      "Stacktrace:",
      " [1] top-level scope",
      "   @ In[15]:1",
      " [2] eval",
      "   @ .\\boot.jl:368 [inlined]",
      " [3] include_string(mapexpr::typeof(REPL.softscope), mod::Module, code::String, filename::String)",
      "   @ Base .\\loading.jl:1428"
     ]
    }
   ],
   "source": [
    "doMiniMax(fromfen(\"2k5/8/1q6/8/8/8/5PPP/6K1 b - - 0 1\"), 1)"
   ]
  },
  {
   "cell_type": "code",
   "execution_count": 16,
   "id": "4f56b194",
   "metadata": {},
   "outputs": [
    {
     "ename": "LoadError",
     "evalue": "UndefVarError: fromfen not defined",
     "output_type": "error",
     "traceback": [
      "UndefVarError: fromfen not defined",
      "",
      "Stacktrace:",
      " [1] top-level scope",
      "   @ In[16]:1",
      " [2] eval",
      "   @ .\\boot.jl:368 [inlined]",
      " [3] include_string(mapexpr::typeof(REPL.softscope), mod::Module, code::String, filename::String)",
      "   @ Base .\\loading.jl:1428"
     ]
    }
   ],
   "source": [
    "fromfen(\"2k5/8/1q6/8/8/8/5PPP/61K b - - 0 1\")"
   ]
  },
  {
   "cell_type": "code",
   "execution_count": 17,
   "id": "d5108497",
   "metadata": {},
   "outputs": [
    {
     "ename": "LoadError",
     "evalue": "UndefVarError: fromfen not defined",
     "output_type": "error",
     "traceback": [
      "UndefVarError: fromfen not defined",
      "",
      "Stacktrace:",
      " [1] top-level scope",
      "   @ In[17]:1",
      " [2] eval",
      "   @ .\\boot.jl:368 [inlined]",
      " [3] include_string(mapexpr::typeof(REPL.softscope), mod::Module, code::String, filename::String)",
      "   @ Base .\\loading.jl:1428"
     ]
    }
   ],
   "source": [
    "doMiniMax(fromfen(\"2k5/8/1q6/8/8/8/5PPP/61K b - - 0 1\"), 4)"
   ]
  },
  {
   "cell_type": "markdown",
   "id": "a138080b",
   "metadata": {},
   "source": [
    "***"
   ]
  },
  {
   "cell_type": "markdown",
   "id": "e024670d",
   "metadata": {},
   "source": [
    "Obwohl es bereits durch den vorherigen Test bewiesen wurde, wird in den nachfolgenden Tests überprüft, ob die KI den Unterschied zwischen \"Schlagen\" und \"intelligentem Schlagen\" kennt. Der Unterschied ist, das beim \"intelligenten Schlagen\" die KI ihre eigenen Spielfiguren nicht opfert. Dies wird durch einen langfristigen negativen Score simuliert."
   ]
  },
  {
   "cell_type": "code",
   "execution_count": 18,
   "id": "027e3084",
   "metadata": {},
   "outputs": [
    {
     "ename": "LoadError",
     "evalue": "UndefVarError: fromfen not defined",
     "output_type": "error",
     "traceback": [
      "UndefVarError: fromfen not defined",
      "",
      "Stacktrace:",
      " [1] top-level scope",
      "   @ In[18]:1",
      " [2] eval",
      "   @ .\\boot.jl:368 [inlined]",
      " [3] include_string(mapexpr::typeof(REPL.softscope), mod::Module, code::String, filename::String)",
      "   @ Base .\\loading.jl:1428"
     ]
    }
   ],
   "source": [
    "fromfen(\"4k3/3p1ppp/4p3/1p1n4/8/2N5/3PPPPP/4K3 w - - 0 1\")"
   ]
  },
  {
   "cell_type": "code",
   "execution_count": 19,
   "id": "6bb2d7e6",
   "metadata": {},
   "outputs": [
    {
     "ename": "LoadError",
     "evalue": "UndefVarError: fromfen not defined",
     "output_type": "error",
     "traceback": [
      "UndefVarError: fromfen not defined",
      "",
      "Stacktrace:",
      " [1] test_doMiniMax(fen::String, requiredDepth::Int64, ex_move::String, ex_result::Bool)",
      "   @ Main .\\In[11]:2",
      " [2] top-level scope",
      "   @ In[19]:1",
      " [3] eval",
      "   @ .\\boot.jl:368 [inlined]",
      " [4] include_string(mapexpr::typeof(REPL.softscope), mod::Module, code::String, filename::String)",
      "   @ Base .\\loading.jl:1428"
     ]
    }
   ],
   "source": [
    "println(test_doMiniMax(\n",
    "    \"4k3/3p1ppp/4p3/1p1n4/8/2N5/3PPPPP/4K3 w - - 0 1\",\n",
    "    4, \n",
    "    \"Move(c3b5)\", \n",
    "    true\n",
    "))"
   ]
  },
  {
   "cell_type": "code",
   "execution_count": 20,
   "id": "ec7ea35f",
   "metadata": {},
   "outputs": [
    {
     "ename": "LoadError",
     "evalue": "UndefVarError: fromfen not defined",
     "output_type": "error",
     "traceback": [
      "UndefVarError: fromfen not defined",
      "",
      "Stacktrace:",
      " [1] top-level scope",
      "   @ In[20]:1",
      " [2] eval",
      "   @ .\\boot.jl:368 [inlined]",
      " [3] include_string(mapexpr::typeof(REPL.softscope), mod::Module, code::String, filename::String)",
      "   @ Base .\\loading.jl:1428"
     ]
    }
   ],
   "source": [
    "fromfen(\"4k3/3p1ppp/4p3/1p1n4/8/2N5/3PPPPP/4K3 w - - 0 1\")\n"
   ]
  },
  {
   "cell_type": "code",
   "execution_count": 21,
   "id": "7de29b5d",
   "metadata": {},
   "outputs": [
    {
     "ename": "LoadError",
     "evalue": "UndefVarError: fromfen not defined",
     "output_type": "error",
     "traceback": [
      "UndefVarError: fromfen not defined",
      "",
      "Stacktrace:",
      " [1] test_doMiniMax(fen::String, requiredDepth::Int64, ex_move::String, ex_result::Bool)",
      "   @ Main .\\In[11]:2",
      " [2] top-level scope",
      "   @ In[21]:1",
      " [3] eval",
      "   @ .\\boot.jl:368 [inlined]",
      " [4] include_string(mapexpr::typeof(REPL.softscope), mod::Module, code::String, filename::String)",
      "   @ Base .\\loading.jl:1428"
     ]
    }
   ],
   "source": [
    "println(test_doMiniMax(\n",
    "    \"4k3/3p1ppp/4p3/1p1n4/8/2N5/3PPPPP/4K3 w - - 0 1\",\n",
    "    1, \n",
    "    \"Move(c3b5)\", \n",
    "    true\n",
    "))"
   ]
  },
  {
   "cell_type": "code",
   "execution_count": 22,
   "id": "18a856b4",
   "metadata": {},
   "outputs": [
    {
     "ename": "LoadError",
     "evalue": "UndefVarError: fromfen not defined",
     "output_type": "error",
     "traceback": [
      "UndefVarError: fromfen not defined",
      "",
      "Stacktrace:",
      " [1] top-level scope",
      "   @ In[22]:1",
      " [2] eval",
      "   @ .\\boot.jl:368 [inlined]",
      " [3] include_string(mapexpr::typeof(REPL.softscope), mod::Module, code::String, filename::String)",
      "   @ Base .\\loading.jl:1428"
     ]
    }
   ],
   "source": [
    "string(doMiniMax(fromfen(\"4k3/3p1ppp/4p3/1p1n4/8/2N5/3PPPPP/4K3 w - - 0 1\"), 1))"
   ]
  },
  {
   "cell_type": "markdown",
   "id": "57a7da33",
   "metadata": {},
   "source": [
    "Diese beiden Tests zeigen die Bedeutung der Tiefe auf. So schlägt eine KI mit der Tiefe = 1 den schwarzen Knight, nur um anschließend den eigenen zu verlieren. Der Score ist hier Null. Bei einer Mindesttiefe von 2 schlägt die KI den schwarten Pawn. Dieser ist zwar nur 100 Punkte wert, jedoch verliert weiß nicht den eigenen Knight. Je größer der Wert der Tiefe, desto besser. Jedoch ist zu beachten, dass je größer die Tiefe, desto länger dauert die Berechnung. Zur Veranschaulichung dienen die nächsten 4 Tests."
   ]
  },
  {
   "cell_type": "markdown",
   "id": "6a527bfa",
   "metadata": {},
   "source": [
    "# Durchlauf-Tests"
   ]
  },
  {
   "cell_type": "markdown",
   "id": "4a9a44a8",
   "metadata": {},
   "source": [
    "Diese Tests wurden durchgeführt um zu ermitteln, wie effektiv der Algorithms ist."
   ]
  },
  {
   "cell_type": "code",
   "execution_count": 23,
   "id": "1980bf90",
   "metadata": {},
   "outputs": [
    {
     "ename": "LoadError",
     "evalue": "UndefVarError: fromfen not defined",
     "output_type": "error",
     "traceback": [
      "UndefVarError: fromfen not defined",
      "",
      "Stacktrace:",
      " [1] test_doMiniMax(fen::String, requiredDepth::Int64, ex_move::String, ex_result::Bool)",
      "   @ Main .\\In[11]:2",
      " [2] macro expansion",
      "   @ .\\In[23]:3 [inlined]",
      " [3] top-level scope",
      "   @ .\\timing.jl:262 [inlined]",
      " [4] top-level scope",
      "   @ .\\In[23]:0",
      " [5] eval",
      "   @ .\\boot.jl:368 [inlined]",
      " [6] include_string(mapexpr::typeof(REPL.softscope), mod::Module, code::String, filename::String)",
      "   @ Base .\\loading.jl:1428"
     ]
    }
   ],
   "source": [
    "#no problems running this. Duration around 0.0006 seconds\n",
    "@time begin\n",
    "    println(test_doMiniMax(\n",
    "    \"4k3/3p1ppp/4p3/1p1n4/8/2N5/3PPPPP/4K3 w - - 0 1\",\n",
    "    1, \n",
    "    \"Move(c3b5)\", \n",
    "    true\n",
    "))\n",
    "end"
   ]
  },
  {
   "cell_type": "code",
   "execution_count": 24,
   "id": "b41146f9",
   "metadata": {},
   "outputs": [
    {
     "ename": "LoadError",
     "evalue": "UndefVarError: fromfen not defined",
     "output_type": "error",
     "traceback": [
      "UndefVarError: fromfen not defined",
      "",
      "Stacktrace:",
      " [1] test_doMiniMax(fen::String, requiredDepth::Int64, ex_move::String, ex_result::Bool)",
      "   @ Main .\\In[11]:2",
      " [2] macro expansion",
      "   @ .\\In[24]:3 [inlined]",
      " [3] top-level scope",
      "   @ .\\timing.jl:262 [inlined]",
      " [4] top-level scope",
      "   @ .\\In[24]:0",
      " [5] eval",
      "   @ .\\boot.jl:368 [inlined]",
      " [6] include_string(mapexpr::typeof(REPL.softscope), mod::Module, code::String, filename::String)",
      "   @ Base .\\loading.jl:1428"
     ]
    }
   ],
   "source": [
    "# no problems running this. Duration around 0.42 seconds\n",
    "@time begin\n",
    "    println(test_doMiniMax(\n",
    "    \"4k3/3p1ppp/4p3/1p1n4/8/2N5/3PPPPP/4K3 w - - 0 1\",\n",
    "    4, \n",
    "    \"Move(c3b5)\", \n",
    "    true\n",
    "))\n",
    "end"
   ]
  },
  {
   "cell_type": "code",
   "execution_count": 25,
   "id": "fa777807",
   "metadata": {},
   "outputs": [
    {
     "ename": "LoadError",
     "evalue": "UndefVarError: fromfen not defined",
     "output_type": "error",
     "traceback": [
      "UndefVarError: fromfen not defined",
      "",
      "Stacktrace:",
      " [1] test_doMiniMax(fen::String, requiredDepth::Int64, ex_move::String, ex_result::Bool)",
      "   @ Main .\\In[11]:2",
      " [2] macro expansion",
      "   @ .\\In[25]:3 [inlined]",
      " [3] top-level scope",
      "   @ .\\timing.jl:262 [inlined]",
      " [4] top-level scope",
      "   @ .\\In[25]:0",
      " [5] eval",
      "   @ .\\boot.jl:368 [inlined]",
      " [6] include_string(mapexpr::typeof(REPL.softscope), mod::Module, code::String, filename::String)",
      "   @ Base .\\loading.jl:1428"
     ]
    }
   ],
   "source": [
    "# Takes a bit to run, but still fine. Duration around 7.2 seconds\n",
    "@time begin\n",
    "    println(test_doMiniMax(\n",
    "    \"4k3/3p1ppp/4p3/1p1n4/8/2N5/3PPPPP/4K3 w - - 0 1\",\n",
    "    5, \n",
    "    \"Move(c3b5)\", \n",
    "    true\n",
    "))\n",
    "end"
   ]
  },
  {
   "cell_type": "code",
   "execution_count": 26,
   "id": "15d9b4c1",
   "metadata": {},
   "outputs": [],
   "source": [
    "# DO NOT RUN THIS. I ran it at home. Duration around 132.7 seconds = 2 min 12.7 seconds\n",
    "#@time begin\n",
    "#    println(test_doMiniMax(\n",
    "#    \"4k3/3p1ppp/4p3/1p1n4/8/2N5/3PPPPP/4K3 w - - 0 1\",\n",
    "#    6, \n",
    "#    \"Move(c3b5)\", \n",
    "#    true\n",
    "#))\n",
    "#end"
   ]
  },
  {
   "cell_type": "markdown",
   "id": "fd62cb84",
   "metadata": {},
   "source": [
    "Von einer Tiefe = 4 zur Tiefe = 5 wird ca. das 17-fache an Zeit benötigt. Von Tiefe = 5 zu Tiefe = 6 das ca. 18-fache. Somit sollte ein Benchmarking-Test der Tiefe 7 ca. 40 Minuten dauern. Dieser Fall wird nicht in diesem Notebook berechnet. Bei Bedarf kann dies privat getestet werden."
   ]
  },
  {
   "cell_type": "markdown",
   "id": "70debe86",
   "metadata": {},
   "source": [
    "Das Problem der benötigten Zeit zur Berechnung wird im Notebook \"Alpha-Beta-Pruning\" behandelt und verbessert. Dort werden weitere Benchmarking-Tests durchgeführt."
   ]
  },
  {
   "cell_type": "markdown",
   "id": "823c1e38",
   "metadata": {},
   "source": [
    "***"
   ]
  },
  {
   "cell_type": "markdown",
   "id": "5c3613d5",
   "metadata": {},
   "source": [
    "Es folgen weitere Tests zum \"intelligenten\" Schlagen."
   ]
  },
  {
   "cell_type": "code",
   "execution_count": 27,
   "id": "ab8a1281",
   "metadata": {},
   "outputs": [
    {
     "ename": "LoadError",
     "evalue": "UndefVarError: fromfen not defined",
     "output_type": "error",
     "traceback": [
      "UndefVarError: fromfen not defined",
      "",
      "Stacktrace:",
      " [1] top-level scope",
      "   @ In[27]:1",
      " [2] eval",
      "   @ .\\boot.jl:368 [inlined]",
      " [3] include_string(mapexpr::typeof(REPL.softscope), mod::Module, code::String, filename::String)",
      "   @ Base .\\loading.jl:1428"
     ]
    }
   ],
   "source": [
    "fromfen(\"6rk/2b1q1pp/8/3N4/8/2r5/6PP/6RK w - - 0 1\")"
   ]
  },
  {
   "cell_type": "code",
   "execution_count": 28,
   "id": "0936bfe2",
   "metadata": {},
   "outputs": [
    {
     "ename": "LoadError",
     "evalue": "UndefVarError: fromfen not defined",
     "output_type": "error",
     "traceback": [
      "UndefVarError: fromfen not defined",
      "",
      "Stacktrace:",
      " [1] test_doMiniMax(fen::String, requiredDepth::Int64, ex_move::String, ex_result::Bool)",
      "   @ Main .\\In[11]:2",
      " [2] top-level scope",
      "   @ In[28]:1",
      " [3] eval",
      "   @ .\\boot.jl:368 [inlined]",
      " [4] include_string(mapexpr::typeof(REPL.softscope), mod::Module, code::String, filename::String)",
      "   @ Base .\\loading.jl:1428"
     ]
    }
   ],
   "source": [
    "println(test_doMiniMax(\n",
    "    \"6rk/2b1q1pp/8/3N4/8/2r5/6PP/6RK w - - 0 1\",\n",
    "    4, \n",
    "    \"Move(d5e7)\", \n",
    "    true\n",
    "))"
   ]
  },
  {
   "cell_type": "code",
   "execution_count": 29,
   "id": "ef8fe7fa",
   "metadata": {},
   "outputs": [
    {
     "ename": "LoadError",
     "evalue": "UndefVarError: fromfen not defined",
     "output_type": "error",
     "traceback": [
      "UndefVarError: fromfen not defined",
      "",
      "Stacktrace:",
      " [1] test_doMiniMax(fen::String, requiredDepth::Int64, ex_move::String, ex_result::Bool)",
      "   @ Main .\\In[11]:2",
      " [2] top-level scope",
      "   @ In[29]:1",
      " [3] eval",
      "   @ .\\boot.jl:368 [inlined]",
      " [4] include_string(mapexpr::typeof(REPL.softscope), mod::Module, code::String, filename::String)",
      "   @ Base .\\loading.jl:1428"
     ]
    }
   ],
   "source": [
    "println(test_doMiniMax(\n",
    "    \"6rk/2b1q1pp/8/3N4/8/2r5/6PP/6RK w - - 0 1\",\n",
    "    4, \n",
    "    \"Move(d5c7)\", \n",
    "    false\n",
    "))"
   ]
  },
  {
   "cell_type": "code",
   "execution_count": 30,
   "id": "87889279",
   "metadata": {},
   "outputs": [
    {
     "ename": "LoadError",
     "evalue": "UndefVarError: fromfen not defined",
     "output_type": "error",
     "traceback": [
      "UndefVarError: fromfen not defined",
      "",
      "Stacktrace:",
      " [1] top-level scope",
      "   @ In[30]:1",
      " [2] eval",
      "   @ .\\boot.jl:368 [inlined]",
      " [3] include_string(mapexpr::typeof(REPL.softscope), mod::Module, code::String, filename::String)",
      "   @ Base .\\loading.jl:1428"
     ]
    }
   ],
   "source": [
    "fromfen(\"2r3k1/8/8/3N4/8/8/6PP/6RK w - - 0 1\")"
   ]
  },
  {
   "cell_type": "code",
   "execution_count": 31,
   "id": "97734d2e",
   "metadata": {},
   "outputs": [
    {
     "ename": "LoadError",
     "evalue": "UndefVarError: fromfen not defined",
     "output_type": "error",
     "traceback": [
      "UndefVarError: fromfen not defined",
      "",
      "Stacktrace:",
      " [1] test_doMiniMax(fen::String, requiredDepth::Int64, ex_move::String, ex_result::Bool)",
      "   @ Main .\\In[11]:2",
      " [2] top-level scope",
      "   @ In[31]:1",
      " [3] eval",
      "   @ .\\boot.jl:368 [inlined]",
      " [4] include_string(mapexpr::typeof(REPL.softscope), mod::Module, code::String, filename::String)",
      "   @ Base .\\loading.jl:1428"
     ]
    }
   ],
   "source": [
    "println(test_doMiniMax(\n",
    "    \"2r3k1/8/8/3N4/8/8/6PP/6RK w - - 0 1\",\n",
    "    4, \n",
    "    \"Move(d5e7)\", \n",
    "    true\n",
    "))"
   ]
  },
  {
   "cell_type": "markdown",
   "id": "f79d850f",
   "metadata": {},
   "source": [
    "# Test \"En-Passant\""
   ]
  },
  {
   "cell_type": "markdown",
   "id": "254a8a22",
   "metadata": {},
   "source": [
    "Hier wird getestet, ob die KI einen \"En Passant\" Zug durchführt. Es steht jedoch zur Debatte, ob die Voraussetzung, dass der Zug Move(d7d5) direkt vor dem \"En Passant\" durchgeführt wird, erfüllt ist."
   ]
  },
  {
   "cell_type": "code",
   "execution_count": 32,
   "id": "303eb155",
   "metadata": {
    "scrolled": true
   },
   "outputs": [
    {
     "ename": "LoadError",
     "evalue": "UndefVarError: fromfen not defined",
     "output_type": "error",
     "traceback": [
      "UndefVarError: fromfen not defined",
      "",
      "Stacktrace:",
      " [1] top-level scope",
      "   @ In[32]:1",
      " [2] eval",
      "   @ .\\boot.jl:368 [inlined]",
      " [3] include_string(mapexpr::typeof(REPL.softscope), mod::Module, code::String, filename::String)",
      "   @ Base .\\loading.jl:1428"
     ]
    }
   ],
   "source": [
    "fromfen(\"7k/5p2/8/3pP3/8/8/2PP4/7K w - - 0 1\")"
   ]
  },
  {
   "cell_type": "code",
   "execution_count": 33,
   "id": "722079ba",
   "metadata": {},
   "outputs": [
    {
     "ename": "LoadError",
     "evalue": "UndefVarError: fromfen not defined",
     "output_type": "error",
     "traceback": [
      "UndefVarError: fromfen not defined",
      "",
      "Stacktrace:",
      " [1] test_doMiniMax(fen::String, requiredDepth::Int64, ex_move::String, ex_result::Bool)",
      "   @ Main .\\In[11]:2",
      " [2] top-level scope",
      "   @ In[33]:1",
      " [3] eval",
      "   @ .\\boot.jl:368 [inlined]",
      " [4] include_string(mapexpr::typeof(REPL.softscope), mod::Module, code::String, filename::String)",
      "   @ Base .\\loading.jl:1428"
     ]
    }
   ],
   "source": [
    "println(test_doMiniMax(\n",
    "    \"7k/5p2/8/3pP3/8/8/2PP4/7K w - - 0 1\",\n",
    "    4, \n",
    "    \"Move(e5d6)\", \n",
    "    true\n",
    "))"
   ]
  },
  {
   "cell_type": "code",
   "execution_count": 34,
   "id": "0e0cc37d",
   "metadata": {},
   "outputs": [
    {
     "ename": "LoadError",
     "evalue": "UndefVarError: fromfen not defined",
     "output_type": "error",
     "traceback": [
      "UndefVarError: fromfen not defined",
      "",
      "Stacktrace:",
      " [1] top-level scope",
      "   @ In[34]:1",
      " [2] eval",
      "   @ .\\boot.jl:368 [inlined]",
      " [3] include_string(mapexpr::typeof(REPL.softscope), mod::Module, code::String, filename::String)",
      "   @ Base .\\loading.jl:1428"
     ]
    }
   ],
   "source": [
    "doMiniMax(fromfen(\"7k/5p2/8/3pP3/8/8/2PP4/7K w - - 0 1\"), 4)"
   ]
  },
  {
   "cell_type": "markdown",
   "id": "e9f6252e",
   "metadata": {},
   "source": [
    "Wie wir hier sehen ist die vorherige Annahme bestätigt worden. Nach der Problembehandlung wurde ersichtlich, dass die Vorbedingung nicht mithilfe eines fromfen() weitergegeben werden kann."
   ]
  },
  {
   "cell_type": "markdown",
   "id": "f096a4da",
   "metadata": {},
   "source": [
    "***"
   ]
  },
  {
   "cell_type": "markdown",
   "id": "b4eb2b63",
   "metadata": {},
   "source": [
    "by Florian Stach and Luc Kaiser"
   ]
  },
  {
   "cell_type": "markdown",
   "id": "7432df53",
   "metadata": {},
   "source": [
    "Last updated: 30/11/2022"
   ]
  },
  {
   "cell_type": "markdown",
   "id": "ca25ee79",
   "metadata": {},
   "source": [
    "***"
   ]
  }
 ],
 "metadata": {
  "kernelspec": {
   "display_name": "Julia 1.8.1",
   "language": "julia",
   "name": "julia-1.8"
  },
  "language_info": {
   "file_extension": ".jl",
   "mimetype": "application/julia",
   "name": "julia",
   "version": "1.8.1"
  }
 },
 "nbformat": 4,
 "nbformat_minor": 5
}
