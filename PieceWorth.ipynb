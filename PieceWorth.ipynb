{
 "cells": [
  {
   "cell_type": "markdown",
   "id": "78a3ba23",
   "metadata": {},
   "source": [
    "In diesem Notebook werden den verschiedenen Spielfiguren ihre Werte zugeordnet. Dies ist für die Implemtierung des MiniMax-Algorithmus wichtig."
   ]
  },
  {
   "cell_type": "markdown",
   "id": "d913d778",
   "metadata": {},
   "source": [
    "Mit Hilfe von dictionaries die Werte festlegen"
   ]
  },
  {
   "cell_type": "code",
   "execution_count": 2,
   "id": "c3103d2d",
   "metadata": {},
   "outputs": [
    {
     "data": {
      "text/plain": [
       "0"
      ]
     },
     "execution_count": 2,
     "metadata": {},
     "output_type": "execute_result"
    }
   ],
   "source": [
    "PIECE_WP = 0"
   ]
  },
  {
   "cell_type": "code",
   "execution_count": 4,
   "id": "ed1657fe",
   "metadata": {
    "scrolled": true
   },
   "outputs": [
    {
     "data": {
      "text/plain": [
       "Dict{String, Int64} with 12 entries:\n",
       "  \"PIECE_WQ\" => 90\n",
       "  \"PIECE_WN\" => 30\n",
       "  \"PIECE_WK\" => 900\n",
       "  \"PIECE_BN\" => 30\n",
       "  \"PIECE_BQ\" => 90\n",
       "  \"PIECE_WB\" => 30\n",
       "  \"PIECE_BP\" => 10\n",
       "  \"PIECE_BR\" => 50\n",
       "  \"PIECE_WP\" => 10\n",
       "  \"PIECE_BK\" => 900\n",
       "  \"PIECE_BB\" => 30\n",
       "  \"PIECE_WR\" => 50"
      ]
     },
     "execution_count": 4,
     "metadata": {},
     "output_type": "execute_result"
    }
   ],
   "source": [
    "PieceWorth = Dict(\"PIECE_WP\" => 10, \"PIECE_WN\" => 30, \"PIECE_WB\" => 30, \"PIECE_WR\" => 50, \"PIECE_WQ\" => 90, \"PIECE_WK\" => 900, \"PIECE_BP\" => 10, \"PIECE_BN\" => 30, \"PIECE_BB\" => 30, \"PIECE_BR\" => 50, \"PIECE_BQ\" => 90, \"PIECE_BK\" => 900)"
   ]
  },
  {
   "cell_type": "code",
   "execution_count": 22,
   "id": "c4f4e675",
   "metadata": {},
   "outputs": [
    {
     "data": {
      "text/plain": [
       "(900, \"PIECE_WK\")"
      ]
     },
     "execution_count": 22,
     "metadata": {},
     "output_type": "execute_result"
    }
   ],
   "source": [
    "findmax(PieceWorth)"
   ]
  },
  {
   "cell_type": "code",
   "execution_count": 20,
   "id": "16c7b578",
   "metadata": {},
   "outputs": [
    {
     "data": {
      "text/plain": [
       "12-element Vector{Pair{String, Int64}}:\n",
       " \"PIECE_WK\" => 900\n",
       " \"PIECE_BK\" => 900\n",
       " \"PIECE_WQ\" => 90\n",
       " \"PIECE_BQ\" => 90\n",
       " \"PIECE_BR\" => 50\n",
       " \"PIECE_WR\" => 50\n",
       " \"PIECE_WN\" => 30\n",
       " \"PIECE_BN\" => 30\n",
       " \"PIECE_WB\" => 30\n",
       " \"PIECE_BB\" => 30\n",
       " \"PIECE_BP\" => 10\n",
       " \"PIECE_WP\" => 10"
      ]
     },
     "execution_count": 20,
     "metadata": {},
     "output_type": "execute_result"
    }
   ],
   "source": [
    "sort(collect(PieceWorth), by= x->x[2], rev = true)"
   ]
  },
  {
   "cell_type": "code",
   "execution_count": 21,
   "id": "1c42c2c5",
   "metadata": {},
   "outputs": [
    {
     "data": {
      "text/plain": [
       "(900, \"PIECE_WK\")"
      ]
     },
     "execution_count": 21,
     "metadata": {},
     "output_type": "execute_result"
    }
   ],
   "source": [
    "findmax(PieceWorth)"
   ]
  },
  {
   "cell_type": "code",
   "execution_count": 26,
   "id": "ce685fc1",
   "metadata": {},
   "outputs": [
    {
     "name": "stdout",
     "output_type": "stream",
     "text": [
      "PIECE_WK\n"
     ]
    }
   ],
   "source": [
    "best_move = findmax(PieceWorth)\n",
    "println(best_move[2])"
   ]
  },
  {
   "cell_type": "code",
   "execution_count": 6,
   "id": "615c51f0",
   "metadata": {},
   "outputs": [
    {
     "data": {
      "text/plain": [
       "1290"
      ]
     },
     "execution_count": 6,
     "metadata": {},
     "output_type": "execute_result"
    }
   ],
   "source": [
    "blackScore = 1290"
   ]
  },
  {
   "cell_type": "code",
   "execution_count": 7,
   "id": "115cbeba",
   "metadata": {},
   "outputs": [
    {
     "data": {
      "text/plain": [
       "1290"
      ]
     },
     "execution_count": 7,
     "metadata": {},
     "output_type": "execute_result"
    }
   ],
   "source": [
    "whiteScore = 1290"
   ]
  },
  {
   "cell_type": "markdown",
   "id": "3c3e0f6f",
   "metadata": {},
   "source": [
    "Funktionsweise PieceWorth:\n",
    "    - Gesamtwert berechnen und Vergleich mit festem Wert"
   ]
  },
  {
   "cell_type": "code",
   "execution_count": null,
   "id": "80b76c0c",
   "metadata": {},
   "outputs": [],
   "source": []
  }
 ],
 "metadata": {
  "kernelspec": {
   "display_name": "Julia 1.8.2",
   "language": "julia",
   "name": "julia-1.8"
  },
  "language_info": {
   "file_extension": ".jl",
   "mimetype": "application/julia",
   "name": "julia",
   "version": "1.8.2"
  }
 },
 "nbformat": 4,
 "nbformat_minor": 5
}
