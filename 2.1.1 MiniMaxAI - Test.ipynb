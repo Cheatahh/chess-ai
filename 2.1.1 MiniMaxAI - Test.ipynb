{
 "cells": [
  {
   "cell_type": "code",
   "execution_count": 1,
   "id": "3bc2a18d",
   "metadata": {},
   "outputs": [
    {
     "data": {
      "text/html": [
       "<link href='http://fonts.googleapis.com/css?family=Alegreya+Sans:100,300,400,500,700,800,900,100italic,300italic,400italic,500italic,700italic,800italic,900italic' rel='stylesheet' type='text/css'>\r\n",
       "<link href='http://fonts.googleapis.com/css?family=Arvo:400,700,400italic' rel='stylesheet' type='text/css'>\r\n",
       "<link href='http://fonts.googleapis.com/css?family=PT+Mono' rel='stylesheet' type='text/css'>\r\n",
       "<link href='http://fonts.googleapis.com/css?family=Shadows+Into+Light' rel='stylesheet' type='text/css'>\r\n",
       "<link href='http://fonts.googleapis.com/css?family=Philosopher:400,700,400italic,700italic' rel='stylesheet' type='text/css'>\r\n",
       "\r\n",
       "<style>\r\n",
       "\r\n",
       "@font-face {\r\n",
       "    font-family: \"Computer Modern\";\r\n",
       "    src: url('http://mirrors.ctan.org/fonts/cm-unicode/fonts/otf/cmunss.otf');\r\n",
       "}\r\n",
       "\r\n",
       ".container { width: 100% }\r\n",
       "\r\n",
       "/* Formatting for header cells */\r\n",
       ".text_cell_render h1 {\r\n",
       "    font-family: 'Philosopher', sans-serif;\r\n",
       "    font-weight: 400;\r\n",
       "    font-size: 2.2em;\r\n",
       "    line-height: 100%;\r\n",
       "    color: rgb(0, 80, 120);\r\n",
       "    margin-bottom: 0.1em;\r\n",
       "    margin-top: 0.1em;\r\n",
       "    display: block;\r\n",
       "}\t\r\n",
       ".text_cell_render h2 {\r\n",
       "    font-family: 'Philosopher', serif;\r\n",
       "    font-weight: 400;\r\n",
       "    font-size: 1.9em;\r\n",
       "    line-height: 100%;\r\n",
       "    color: rgb(200,100,0);\r\n",
       "    margin-bottom: 0.1em;\r\n",
       "    margin-top: 0.1em;\r\n",
       "    display: block;\r\n",
       "}\t\r\n",
       "\r\n",
       ".text_cell_render h3 {\r\n",
       "    font-family: 'Philosopher', serif;\r\n",
       "    margin-top:12px;\r\n",
       "    margin-bottom: 3px;\r\n",
       "    font-style: italic;\r\n",
       "    color: rgb(94,127,192);\r\n",
       "}\r\n",
       "\r\n",
       ".text_cell_render h4 {\r\n",
       "    font-family: 'Philosopher', serif;\r\n",
       "}\r\n",
       "\r\n",
       ".text_cell_render h5 {\r\n",
       "    font-family: 'Alegreya Sans', sans-serif;\r\n",
       "    font-weight: 300;\r\n",
       "    font-size: 16pt;\r\n",
       "    color: grey;\r\n",
       "    font-style: italic;\r\n",
       "    margin-bottom: .1em;\r\n",
       "    margin-top: 0.1em;\r\n",
       "    display: block;\r\n",
       "}\r\n",
       "\r\n",
       ".text_cell_render h6 {\r\n",
       "    font-family: 'PT Mono', sans-serif;\r\n",
       "    font-weight: 300;\r\n",
       "    font-size: 10pt;\r\n",
       "    color: grey;\r\n",
       "    margin-bottom: 1px;\r\n",
       "    margin-top: 1px;\r\n",
       "}\r\n",
       "\r\n",
       ".text_cell_render em {\r\n",
       "    font-family: 'Philosopher', sans-serif;\r\n",
       "    color:        blue;\r\n",
       "    background-color: rgb(255,220,180);\r\n",
       "    font-size:    110%;\r\n",
       "    margin-left:   2px;\r\n",
       "    margin-right:  2px;\r\n",
       "    font-weight:   100;\r\n",
       "}\r\n",
       "\r\n",
       ".text_cell_render b {\r\n",
       "    color:            rgb(255,195,195);\r\n",
       "    background-color: rgb(0,0,0);\r\n",
       "    font-size:    110%;\r\n",
       "    margin-left:   2px;\r\n",
       "    margin-right:  2px;\r\n",
       "    font-weight:   650;\r\n",
       "}\r\n",
       "\r\n",
       ".text_cell_render tt {\r\n",
       "    font-size:    120%;\r\n",
       "    margin-left:   2px;\r\n",
       "    margin-right:  2px;\r\n",
       "    font-weight:   150;\r\n",
       "}\r\n",
       "\r\n",
       ".Codemirror {\r\n",
       "    font-family: \"PT Mono\";\r\n",
       "    font-size: 100%;\r\n",
       "}\r\n",
       "\r\n",
       "</style>"
      ],
      "text/plain": [
       "HTML{String}(\"<link href='http://fonts.googleapis.com/css?family=Alegreya+Sans:100,300,400,500,700,800,900,100italic,300italic,400italic,500italic,700italic,800italic,900italic' rel='stylesheet' type='text/css'>\\r\\n<link href='http://fonts.googleapis.com/css?family=Arvo:400,700,400italic' rel='stylesheet' type='text/css'>\\r\\n<link href='http://fonts.googleapis.com/css?family=PT+Mono' rel='stylesheet' type='text/css'>\\r\\n<link href='http://fonts.googleapis.com/css?family=Shadows+Into+Light' rel='stylesheet' type='text/css'>\\r\\n<link href='http://fonts.googleapis.com/css?family=Philosopher:400,700,400italic,700italic' rel='stylesheet' type='text/css'>\\r\\n\\r\\n<style>\\r\\n\\r\\n@font-face {\\r\\n    font-family: \\\"Computer Modern\\\";\\r\\n    src: url('http://mirrors.ctan.org/fonts/cm-unicode/fonts/otf/cmunss.otf');\\r\\n}\\r\\n\\r\\n.container { width: 100% }\\r\\n\\r\\n/* Formatting for header cells */\\r\\n.text_cell_render h1 {\\r\\n    font-family: 'Philosopher', sans-serif;\\r\\n    font-weight: 400;\\r\\n    font-size: 2.2em;\\r\\n    line-height: 100%;\\r\\n    color: rgb(0, 80, 120);\\r\\n    margin-bottom: 0.1em;\\r\\n    margin-top: 0.1em;\\r\\n    display: block;\\r\\n}\\t\\r\\n.text_cell_render h2 {\\r\\n    font-family: 'Philosopher', serif;\\r\\n    font-weight: 400;\\r\\n    font-size: 1.9em;\\r\\n    line-height: 100%;\\r\\n    color: rgb(200,100,0);\\r\\n    margin-bottom: 0.1em;\\r\\n    margin-top: 0.1em;\\r\\n    display: block;\\r\\n}\\t\\r\\n\\r\\n.text_cell_render h3 {\\r\\n    font-family: 'Philosopher', serif;\\r\\n    margin-top:12px;\\r\\n    margin-bottom: 3px;\\r\\n    font-style: italic;\\r\\n    color: rgb(94,127,192);\\r\\n}\\r\\n\\r\\n.text_cell_render h4 {\\r\\n    font-family: 'Philosopher', serif;\\r\\n}\\r\\n\\r\\n.text_cell_render h5 {\\r\\n    font-family: 'Alegreya Sans', sans-serif;\\r\\n    font-weight: 300;\\r\\n    font-size: 16pt;\\r\\n    color: grey;\\r\\n    font-style: italic;\\r\\n    margin-bottom: .1em;\\r\\n    margin-top: 0.1em;\\r\\n    display: block;\\r\\n}\\r\\n\\r\\n.text_cell_render h6 {\\r\\n    font-family: 'PT Mono', sans-serif;\\r\\n    font-weight: 300;\\r\\n    font-size: 10pt;\\r\\n    color: grey;\\r\\n    margin-bottom: 1px;\\r\\n    margin-top: 1px;\\r\\n}\\r\\n\\r\\n.text_cell_render em {\\r\\n    font-family: 'Philosopher', sans-serif;\\r\\n    color:        blue;\\r\\n    background-color: rgb(255,220,180);\\r\\n    font-size:    110%;\\r\\n    margin-left:   2px;\\r\\n    margin-right:  2px;\\r\\n    font-weight:   100;\\r\\n}\\r\\n\\r\\n.text_cell_render b {\\r\\n    color:            rgb(255,195,195);\\r\\n    background-color: rgb(0,0,0);\\r\\n    font-size:    110%;\\r\\n    margin-left:   2px;\\r\\n    margin-right:  2px;\\r\\n    font-weight:   650;\\r\\n}\\r\\n\\r\\n.text_cell_render tt {\\r\\n    font-size:    120%;\\r\\n    margin-left:   2px;\\r\\n    margin-right:  2px;\\r\\n    font-weight:   150;\\r\\n}\\r\\n\\r\\n.Codemirror {\\r\\n    font-family: \\\"PT Mono\\\";\\r\\n    font-size: 100%;\\r\\n}\\r\\n\\r\\n</style>\")"
      ]
     },
     "execution_count": 1,
     "metadata": {},
     "output_type": "execute_result"
    }
   ],
   "source": [
    "HTML(read(open(\"style.html\"), String))"
   ]
  },
  {
   "cell_type": "code",
   "execution_count": 2,
   "id": "00fdbfea",
   "metadata": {},
   "outputs": [
    {
     "name": "stderr",
     "output_type": "stream",
     "text": [
      "\u001b[32m\u001b[1m    Updating\u001b[22m\u001b[39m registry at `C:\\Users\\luckb\\.julia\\registries\\General.toml`\n",
      "\u001b[32m\u001b[1m   Resolving\u001b[22m\u001b[39m package versions...\n",
      "\u001b[32m\u001b[1m  No Changes\u001b[22m\u001b[39m to `C:\\Users\\luckb\\.julia\\environments\\v1.8\\Project.toml`\n",
      "\u001b[32m\u001b[1m  No Changes\u001b[22m\u001b[39m to `C:\\Users\\luckb\\.julia\\environments\\v1.8\\Manifest.toml`\n"
     ]
    }
   ],
   "source": [
    "using Pkg\n",
    "Pkg.add(\"NBInclude\")"
   ]
  },
  {
   "cell_type": "code",
   "execution_count": 3,
   "id": "3f947087",
   "metadata": {},
   "outputs": [
    {
     "name": "stderr",
     "output_type": "stream",
     "text": [
      "\u001b[32m\u001b[1m   Resolving\u001b[22m\u001b[39m package versions...\n",
      "\u001b[32m\u001b[1m  No Changes\u001b[22m\u001b[39m to `C:\\Users\\luckb\\.julia\\environments\\v1.8\\Project.toml`\n",
      "\u001b[32m\u001b[1m  No Changes\u001b[22m\u001b[39m to `C:\\Users\\luckb\\.julia\\environments\\v1.8\\Manifest.toml`\n"
     ]
    },
    {
     "data": {
      "text/plain": [
       "print_game (generic function with 1 method)"
      ]
     },
     "execution_count": 3,
     "metadata": {},
     "output_type": "execute_result"
    }
   ],
   "source": [
    "using NBInclude\n",
    "@nbinclude(\"1.2 BasicGame.ipynb\")\n",
    "@nbinclude(\"2.1 MiniMaxAI.ipynb\")"
   ]
  },
  {
   "cell_type": "markdown",
   "id": "5542dff8",
   "metadata": {},
   "source": [
    "***"
   ]
  },
  {
   "cell_type": "markdown",
   "id": "77a5b4ee",
   "metadata": {},
   "source": [
    "In diesem Notebook kann gegen die \"MiniMaxAI\" gespielt werden. Dieses Spiel gilt gleichzeitig als Test der AI."
   ]
  },
  {
   "cell_type": "code",
   "execution_count": 5,
   "id": "b9dcf55f",
   "metadata": {},
   "outputs": [
    {
     "data": {
      "text/html": [
       "Board:<div class=\"chessboard\"><style soped=\"true\">.dark-square {\n",
       "    fill: #c3936a;\n",
       "    stroke-width: 0;\n",
       "}\n",
       ".light-square {\n",
       "    fill: #ffd7a6;\n",
       "    stroke-width: 0;\n",
       "}\n",
       ".highlight {\n",
       "    fill: #47d18b;\n",
       "}\n",
       "@media (prefers-color-scheme: dark) {\n",
       "    .dark-square {\n",
       "        fill: #00796b;\n",
       "    }\n",
       "    .light-square {\n",
       "        fill: #3ca59b;\n",
       "    }\n",
       "    .highlight {\n",
       "        fill: #d23600;\n",
       "    }\n",
       "}\n",
       "</style><svg style=\"float: left; margin-right: 20px\" viewBox=\"0 0 8 8\" height=\"280\" width=\"280\"><g><g><rect x=\"0\" y=\"0\" class=\"light-square\" height=\"1\" width=\"1\"></rect><image x=\"0\" xlink:href=\"https://raw.githubusercontent.com/romstad/Chess.jl/master/img/br.svg\" y=\"0\" height=\"1\" width=\"1\"></image></g><g><rect x=\"0\" y=\"1\" class=\"dark-square\" height=\"1\" width=\"1\"></rect><image x=\"0\" xlink:href=\"https://raw.githubusercontent.com/romstad/Chess.jl/master/img/bp.svg\" y=\"1\" height=\"1\" width=\"1\"></image></g><g><rect x=\"0\" y=\"2\" class=\"light-square\" height=\"1\" width=\"1\"></rect><g></g></g><g><rect x=\"0\" y=\"3\" class=\"dark-square\" height=\"1\" width=\"1\"></rect><g></g></g><g><rect x=\"0\" y=\"4\" class=\"light-square\" height=\"1\" width=\"1\"></rect><g></g></g><g><rect x=\"0\" y=\"5\" class=\"dark-square\" height=\"1\" width=\"1\"></rect><g></g></g><g><rect x=\"0\" y=\"6\" class=\"light-square\" height=\"1\" width=\"1\"></rect><image x=\"0\" xlink:href=\"https://raw.githubusercontent.com/romstad/Chess.jl/master/img/wp.svg\" y=\"6\" height=\"1\" width=\"1\"></image></g><g><rect x=\"0\" y=\"7\" class=\"dark-square\" height=\"1\" width=\"1\"></rect><image x=\"0\" xlink:href=\"https://raw.githubusercontent.com/romstad/Chess.jl/master/img/wr.svg\" y=\"7\" height=\"1\" width=\"1\"></image></g><g><rect x=\"1\" y=\"0\" class=\"dark-square\" height=\"1\" width=\"1\"></rect><g></g></g><g><rect x=\"1\" y=\"1\" class=\"light-square\" height=\"1\" width=\"1\"></rect><image x=\"1\" xlink:href=\"https://raw.githubusercontent.com/romstad/Chess.jl/master/img/bp.svg\" y=\"1\" height=\"1\" width=\"1\"></image></g><g><rect x=\"1\" y=\"2\" class=\"dark-square\" height=\"1\" width=\"1\"></rect><g></g></g><g><rect x=\"1\" y=\"3\" class=\"light-square\" height=\"1\" width=\"1\"></rect><g></g></g><g><rect x=\"1\" y=\"4\" class=\"dark-square\" height=\"1\" width=\"1\"></rect><g></g></g><g><rect x=\"1\" y=\"5\" class=\"light-square\" height=\"1\" width=\"1\"></rect><g></g></g><g><rect x=\"1\" y=\"6\" class=\"dark-square\" height=\"1\" width=\"1\"></rect><image x=\"1\" xlink:href=\"https://raw.githubusercontent.com/romstad/Chess.jl/master/img/wp.svg\" y=\"6\" height=\"1\" width=\"1\"></image></g><g><rect x=\"1\" y=\"7\" class=\"light-square\" height=\"1\" width=\"1\"></rect><image x=\"1\" xlink:href=\"https://raw.githubusercontent.com/romstad/Chess.jl/master/img/wn.svg\" y=\"7\" height=\"1\" width=\"1\"></image></g><g><rect x=\"2\" y=\"0\" class=\"light-square\" height=\"1\" width=\"1\"></rect><image x=\"2\" xlink:href=\"https://raw.githubusercontent.com/romstad/Chess.jl/master/img/bb.svg\" y=\"0\" height=\"1\" width=\"1\"></image></g><g><rect x=\"2\" y=\"1\" class=\"dark-square\" height=\"1\" width=\"1\"></rect><image x=\"2\" xlink:href=\"https://raw.githubusercontent.com/romstad/Chess.jl/master/img/bp.svg\" y=\"1\" height=\"1\" width=\"1\"></image></g><g><rect x=\"2\" y=\"2\" class=\"light-square\" height=\"1\" width=\"1\"></rect><g></g></g><g><rect x=\"2\" y=\"3\" class=\"dark-square\" height=\"1\" width=\"1\"></rect><g></g></g><g><rect x=\"2\" y=\"4\" class=\"light-square\" height=\"1\" width=\"1\"></rect><image x=\"2\" xlink:href=\"https://raw.githubusercontent.com/romstad/Chess.jl/master/img/wb.svg\" y=\"4\" height=\"1\" width=\"1\"></image></g><g><rect x=\"2\" y=\"5\" class=\"dark-square\" height=\"1\" width=\"1\"></rect><g></g></g><g><rect x=\"2\" y=\"6\" class=\"light-square\" height=\"1\" width=\"1\"></rect><image x=\"2\" xlink:href=\"https://raw.githubusercontent.com/romstad/Chess.jl/master/img/wp.svg\" y=\"6\" height=\"1\" width=\"1\"></image></g><g><rect x=\"2\" y=\"7\" class=\"dark-square\" height=\"1\" width=\"1\"></rect><image x=\"2\" xlink:href=\"https://raw.githubusercontent.com/romstad/Chess.jl/master/img/wb.svg\" y=\"7\" height=\"1\" width=\"1\"></image></g><g><rect x=\"3\" y=\"0\" class=\"dark-square\" height=\"1\" width=\"1\"></rect><image x=\"3\" xlink:href=\"https://raw.githubusercontent.com/romstad/Chess.jl/master/img/bq.svg\" y=\"0\" height=\"1\" width=\"1\"></image></g><g><rect x=\"3\" y=\"1\" class=\"light-square\" height=\"1\" width=\"1\"></rect><image x=\"3\" xlink:href=\"https://raw.githubusercontent.com/romstad/Chess.jl/master/img/bp.svg\" y=\"1\" height=\"1\" width=\"1\"></image></g><g><rect x=\"3\" y=\"2\" class=\"dark-square\" height=\"1\" width=\"1\"></rect><g></g></g><g><rect x=\"3\" y=\"3\" class=\"light-square\" height=\"1\" width=\"1\"></rect><g></g></g><g><rect x=\"3\" y=\"4\" class=\"dark-square\" height=\"1\" width=\"1\"></rect><g></g></g><g><rect x=\"3\" y=\"5\" class=\"light-square\" height=\"1\" width=\"1\"></rect><g></g></g><g><rect x=\"3\" y=\"6\" class=\"dark-square\" height=\"1\" width=\"1\"></rect><image x=\"3\" xlink:href=\"https://raw.githubusercontent.com/romstad/Chess.jl/master/img/wp.svg\" y=\"6\" height=\"1\" width=\"1\"></image></g><g><rect x=\"3\" y=\"7\" class=\"light-square\" height=\"1\" width=\"1\"></rect><image x=\"3\" xlink:href=\"https://raw.githubusercontent.com/romstad/Chess.jl/master/img/wq.svg\" y=\"7\" height=\"1\" width=\"1\"></image></g><g><rect x=\"4\" y=\"0\" class=\"light-square\" height=\"1\" width=\"1\"></rect><image x=\"4\" xlink:href=\"https://raw.githubusercontent.com/romstad/Chess.jl/master/img/bk.svg\" y=\"0\" height=\"1\" width=\"1\"></image></g><g><rect x=\"4\" y=\"1\" class=\"dark-square\" height=\"1\" width=\"1\"></rect><image x=\"4\" xlink:href=\"https://raw.githubusercontent.com/romstad/Chess.jl/master/img/bp.svg\" y=\"1\" height=\"1\" width=\"1\"></image></g><g><rect x=\"4\" y=\"2\" class=\"light-square\" height=\"1\" width=\"1\"></rect><g></g></g><g><rect x=\"4\" y=\"3\" class=\"dark-square\" height=\"1\" width=\"1\"></rect><image x=\"4\" xlink:href=\"https://raw.githubusercontent.com/romstad/Chess.jl/master/img/bn.svg\" y=\"3\" height=\"1\" width=\"1\"></image></g><g><rect x=\"4\" y=\"4\" class=\"light-square\" height=\"1\" width=\"1\"></rect><image x=\"4\" xlink:href=\"https://raw.githubusercontent.com/romstad/Chess.jl/master/img/wp.svg\" y=\"4\" height=\"1\" width=\"1\"></image></g><g><rect x=\"4\" y=\"5\" class=\"dark-square\" height=\"1\" width=\"1\"></rect><g></g></g><g><rect x=\"4\" y=\"6\" class=\"light-square\" height=\"1\" width=\"1\"></rect><g></g></g><g><rect x=\"4\" y=\"7\" class=\"dark-square\" height=\"1\" width=\"1\"></rect><image x=\"4\" xlink:href=\"https://raw.githubusercontent.com/romstad/Chess.jl/master/img/wk.svg\" y=\"7\" height=\"1\" width=\"1\"></image></g><g><rect x=\"5\" y=\"0\" class=\"dark-square\" height=\"1\" width=\"1\"></rect><image x=\"5\" xlink:href=\"https://raw.githubusercontent.com/romstad/Chess.jl/master/img/bb.svg\" y=\"0\" height=\"1\" width=\"1\"></image></g><g><rect x=\"5\" y=\"1\" class=\"light-square\" height=\"1\" width=\"1\"></rect><image x=\"5\" xlink:href=\"https://raw.githubusercontent.com/romstad/Chess.jl/master/img/bp.svg\" y=\"1\" height=\"1\" width=\"1\"></image></g><g><rect x=\"5\" y=\"2\" class=\"dark-square\" height=\"1\" width=\"1\"></rect><g></g></g><g><rect x=\"5\" y=\"3\" class=\"light-square\" height=\"1\" width=\"1\"></rect><g></g></g><g><rect x=\"5\" y=\"4\" class=\"dark-square\" height=\"1\" width=\"1\"></rect><g></g></g><g><rect x=\"5\" y=\"5\" class=\"light-square\" height=\"1\" width=\"1\"></rect><g></g></g><g><rect x=\"5\" y=\"6\" class=\"dark-square\" height=\"1\" width=\"1\"></rect><image x=\"5\" xlink:href=\"https://raw.githubusercontent.com/romstad/Chess.jl/master/img/wp.svg\" y=\"6\" height=\"1\" width=\"1\"></image></g><g><rect x=\"5\" y=\"7\" class=\"light-square\" height=\"1\" width=\"1\"></rect><g></g></g><g><rect x=\"6\" y=\"0\" class=\"light-square\" height=\"1\" width=\"1\"></rect><image x=\"6\" xlink:href=\"https://raw.githubusercontent.com/romstad/Chess.jl/master/img/bn.svg\" y=\"0\" height=\"1\" width=\"1\"></image></g><g><rect x=\"6\" y=\"1\" class=\"dark-square\" height=\"1\" width=\"1\"></rect><image x=\"6\" xlink:href=\"https://raw.githubusercontent.com/romstad/Chess.jl/master/img/bp.svg\" y=\"1\" height=\"1\" width=\"1\"></image></g><g><rect x=\"6\" y=\"2\" class=\"light-square\" height=\"1\" width=\"1\"></rect><g></g></g><g><rect x=\"6\" y=\"3\" class=\"dark-square\" height=\"1\" width=\"1\"></rect><g></g></g><g><rect x=\"6\" y=\"4\" class=\"light-square\" height=\"1\" width=\"1\"></rect><g></g></g><g><rect x=\"6\" y=\"5\" class=\"dark-square\" height=\"1\" width=\"1\"></rect><g></g></g><g><rect x=\"6\" y=\"6\" class=\"light-square\" height=\"1\" width=\"1\"></rect><image x=\"6\" xlink:href=\"https://raw.githubusercontent.com/romstad/Chess.jl/master/img/wp.svg\" y=\"6\" height=\"1\" width=\"1\"></image></g><g><rect x=\"6\" y=\"7\" class=\"dark-square\" height=\"1\" width=\"1\"></rect><image x=\"6\" xlink:href=\"https://raw.githubusercontent.com/romstad/Chess.jl/master/img/wn.svg\" y=\"7\" height=\"1\" width=\"1\"></image></g><g><rect x=\"7\" y=\"0\" class=\"dark-square\" height=\"1\" width=\"1\"></rect><image x=\"7\" xlink:href=\"https://raw.githubusercontent.com/romstad/Chess.jl/master/img/br.svg\" y=\"0\" height=\"1\" width=\"1\"></image></g><g><rect x=\"7\" y=\"1\" class=\"light-square\" height=\"1\" width=\"1\"></rect><image x=\"7\" xlink:href=\"https://raw.githubusercontent.com/romstad/Chess.jl/master/img/bp.svg\" y=\"1\" height=\"1\" width=\"1\"></image></g><g><rect x=\"7\" y=\"2\" class=\"dark-square\" height=\"1\" width=\"1\"></rect><g></g></g><g><rect x=\"7\" y=\"3\" class=\"light-square\" height=\"1\" width=\"1\"></rect><g></g></g><g><rect x=\"7\" y=\"4\" class=\"dark-square\" height=\"1\" width=\"1\"></rect><g></g></g><g><rect x=\"7\" y=\"5\" class=\"light-square\" height=\"1\" width=\"1\"></rect><g></g></g><g><rect x=\"7\" y=\"6\" class=\"dark-square\" height=\"1\" width=\"1\"></rect><image x=\"7\" xlink:href=\"https://raw.githubusercontent.com/romstad/Chess.jl/master/img/wp.svg\" y=\"6\" height=\"1\" width=\"1\"></image></g><g><rect x=\"7\" y=\"7\" class=\"light-square\" height=\"1\" width=\"1\"></rect><image x=\"7\" xlink:href=\"https://raw.githubusercontent.com/romstad/Chess.jl/master/img/wr.svg\" y=\"7\" height=\"1\" width=\"1\"></image></g></g><g></g></svg><div><p>White to move</p><p>Castle rights: KQkq</p><p><a href=\"https://lichess.org/editor/r1bqkbnr/pppppppp/8/4n3/2B1P3/8/PPPP1PPP/RNBQK1NR_w_KQkq_-\" target=\"_blank\">Open in lichess</a></p></div></div>"
      ],
      "text/plain": [
       "Board (r1bqkbnr/pppppppp/8/4n3/2B1P3/8/PPPP1PPP/RNBQK1NR w KQkq -):\n",
       " r  -  b  q  k  b  n  r \n",
       " p  p  p  p  p  p  p  p \n",
       " -  -  -  -  -  -  -  - \n",
       " -  -  -  -  n  -  -  - \n",
       " -  -  B  -  P  -  -  - \n",
       " -  -  -  -  -  -  -  - \n",
       " P  P  P  P  -  P  P  P \n",
       " R  N  B  Q  K  -  N  R "
      ]
     },
     "execution_count": 5,
     "metadata": {},
     "output_type": "execute_result"
    }
   ],
   "source": [
    "play_game(MiniMaxAI(4))"
   ]
  },
  {
   "cell_type": "markdown",
   "id": "5f627b20",
   "metadata": {},
   "source": [
    "Während des Testens der AI durch einen Spieler ist erkenntlich geworden, dass die KI, hier Schwarz, nur die unten gezeigte Stellung aufbaut und anschließend den linken Turm mit den Moves \"(a8b8)\" und \"(b8a8)\" bewegt. Spielt der Spieler selbst nicht aggressiv so entsteht nach den Regeln ein Remis."
   ]
  },
  {
   "cell_type": "code",
   "execution_count": 6,
   "id": "e2bb538b",
   "metadata": {},
   "outputs": [
    {
     "data": {
      "text/html": [
       "Board:<div class=\"chessboard\"><style soped=\"true\">.dark-square {\n",
       "    fill: #c3936a;\n",
       "    stroke-width: 0;\n",
       "}\n",
       ".light-square {\n",
       "    fill: #ffd7a6;\n",
       "    stroke-width: 0;\n",
       "}\n",
       ".highlight {\n",
       "    fill: #47d18b;\n",
       "}\n",
       "@media (prefers-color-scheme: dark) {\n",
       "    .dark-square {\n",
       "        fill: #00796b;\n",
       "    }\n",
       "    .light-square {\n",
       "        fill: #3ca59b;\n",
       "    }\n",
       "    .highlight {\n",
       "        fill: #d23600;\n",
       "    }\n",
       "}\n",
       "</style><svg style=\"float: left; margin-right: 20px\" viewBox=\"0 0 8 8\" height=\"280\" width=\"280\"><g><g><rect x=\"0\" y=\"0\" class=\"light-square\" height=\"1\" width=\"1\"></rect><g></g></g><g><rect x=\"0\" y=\"1\" class=\"dark-square\" height=\"1\" width=\"1\"></rect><image x=\"0\" xlink:href=\"https://raw.githubusercontent.com/romstad/Chess.jl/master/img/bp.svg\" y=\"1\" height=\"1\" width=\"1\"></image></g><g><rect x=\"0\" y=\"2\" class=\"light-square\" height=\"1\" width=\"1\"></rect><g></g></g><g><rect x=\"0\" y=\"3\" class=\"dark-square\" height=\"1\" width=\"1\"></rect><g></g></g><g><rect x=\"0\" y=\"4\" class=\"light-square\" height=\"1\" width=\"1\"></rect><g></g></g><g><rect x=\"0\" y=\"5\" class=\"dark-square\" height=\"1\" width=\"1\"></rect><g></g></g><g><rect x=\"0\" y=\"6\" class=\"light-square\" height=\"1\" width=\"1\"></rect><image x=\"0\" xlink:href=\"https://raw.githubusercontent.com/romstad/Chess.jl/master/img/wp.svg\" y=\"6\" height=\"1\" width=\"1\"></image></g><g><rect x=\"0\" y=\"7\" class=\"dark-square\" height=\"1\" width=\"1\"></rect><image x=\"0\" xlink:href=\"https://raw.githubusercontent.com/romstad/Chess.jl/master/img/wr.svg\" y=\"7\" height=\"1\" width=\"1\"></image></g><g><rect x=\"1\" y=\"0\" class=\"dark-square\" height=\"1\" width=\"1\"></rect><image x=\"1\" xlink:href=\"https://raw.githubusercontent.com/romstad/Chess.jl/master/img/br.svg\" y=\"0\" height=\"1\" width=\"1\"></image></g><g><rect x=\"1\" y=\"1\" class=\"light-square\" height=\"1\" width=\"1\"></rect><image x=\"1\" xlink:href=\"https://raw.githubusercontent.com/romstad/Chess.jl/master/img/bp.svg\" y=\"1\" height=\"1\" width=\"1\"></image></g><g><rect x=\"1\" y=\"2\" class=\"dark-square\" height=\"1\" width=\"1\"></rect><g></g></g><g><rect x=\"1\" y=\"3\" class=\"light-square\" height=\"1\" width=\"1\"></rect><g></g></g><g><rect x=\"1\" y=\"4\" class=\"dark-square\" height=\"1\" width=\"1\"></rect><g></g></g><g><rect x=\"1\" y=\"5\" class=\"light-square\" height=\"1\" width=\"1\"></rect><g></g></g><g><rect x=\"1\" y=\"6\" class=\"dark-square\" height=\"1\" width=\"1\"></rect><image x=\"1\" xlink:href=\"https://raw.githubusercontent.com/romstad/Chess.jl/master/img/wp.svg\" y=\"6\" height=\"1\" width=\"1\"></image></g><g><rect x=\"1\" y=\"7\" class=\"light-square\" height=\"1\" width=\"1\"></rect><g></g></g><g><rect x=\"2\" y=\"0\" class=\"light-square\" height=\"1\" width=\"1\"></rect><g></g></g><g><rect x=\"2\" y=\"1\" class=\"dark-square\" height=\"1\" width=\"1\"></rect><image x=\"2\" xlink:href=\"https://raw.githubusercontent.com/romstad/Chess.jl/master/img/bp.svg\" y=\"1\" height=\"1\" width=\"1\"></image></g><g><rect x=\"2\" y=\"2\" class=\"light-square\" height=\"1\" width=\"1\"></rect><image x=\"2\" xlink:href=\"https://raw.githubusercontent.com/romstad/Chess.jl/master/img/bn.svg\" y=\"2\" height=\"1\" width=\"1\"></image></g><g><rect x=\"2\" y=\"3\" class=\"dark-square\" height=\"1\" width=\"1\"></rect><g></g></g><g><rect x=\"2\" y=\"4\" class=\"light-square\" height=\"1\" width=\"1\"></rect><g></g></g><g><rect x=\"2\" y=\"5\" class=\"dark-square\" height=\"1\" width=\"1\"></rect><image x=\"2\" xlink:href=\"https://raw.githubusercontent.com/romstad/Chess.jl/master/img/wn.svg\" y=\"5\" height=\"1\" width=\"1\"></image></g><g><rect x=\"2\" y=\"6\" class=\"light-square\" height=\"1\" width=\"1\"></rect><image x=\"2\" xlink:href=\"https://raw.githubusercontent.com/romstad/Chess.jl/master/img/wp.svg\" y=\"6\" height=\"1\" width=\"1\"></image></g><g><rect x=\"2\" y=\"7\" class=\"dark-square\" height=\"1\" width=\"1\"></rect><g></g></g><g><rect x=\"3\" y=\"0\" class=\"dark-square\" height=\"1\" width=\"1\"></rect><image x=\"3\" xlink:href=\"https://raw.githubusercontent.com/romstad/Chess.jl/master/img/bq.svg\" y=\"0\" height=\"1\" width=\"1\"></image></g><g><rect x=\"3\" y=\"1\" class=\"light-square\" height=\"1\" width=\"1\"></rect><image x=\"3\" xlink:href=\"https://raw.githubusercontent.com/romstad/Chess.jl/master/img/bb.svg\" y=\"1\" height=\"1\" width=\"1\"></image></g><g><rect x=\"3\" y=\"2\" class=\"dark-square\" height=\"1\" width=\"1\"></rect><image x=\"3\" xlink:href=\"https://raw.githubusercontent.com/romstad/Chess.jl/master/img/bp.svg\" y=\"2\" height=\"1\" width=\"1\"></image></g><g><rect x=\"3\" y=\"3\" class=\"light-square\" height=\"1\" width=\"1\"></rect><g></g></g><g><rect x=\"3\" y=\"4\" class=\"dark-square\" height=\"1\" width=\"1\"></rect><image x=\"3\" xlink:href=\"https://raw.githubusercontent.com/romstad/Chess.jl/master/img/wp.svg\" y=\"4\" height=\"1\" width=\"1\"></image></g><g><rect x=\"3\" y=\"5\" class=\"light-square\" height=\"1\" width=\"1\"></rect><image x=\"3\" xlink:href=\"https://raw.githubusercontent.com/romstad/Chess.jl/master/img/wb.svg\" y=\"5\" height=\"1\" width=\"1\"></image></g><g><rect x=\"3\" y=\"6\" class=\"dark-square\" height=\"1\" width=\"1\"></rect><g></g></g><g><rect x=\"3\" y=\"7\" class=\"light-square\" height=\"1\" width=\"1\"></rect><image x=\"3\" xlink:href=\"https://raw.githubusercontent.com/romstad/Chess.jl/master/img/wq.svg\" y=\"7\" height=\"1\" width=\"1\"></image></g><g><rect x=\"4\" y=\"0\" class=\"light-square\" height=\"1\" width=\"1\"></rect><image x=\"4\" xlink:href=\"https://raw.githubusercontent.com/romstad/Chess.jl/master/img/br.svg\" y=\"0\" height=\"1\" width=\"1\"></image></g><g><rect x=\"4\" y=\"1\" class=\"dark-square\" height=\"1\" width=\"1\"></rect><image x=\"4\" xlink:href=\"https://raw.githubusercontent.com/romstad/Chess.jl/master/img/bb.svg\" y=\"1\" height=\"1\" width=\"1\"></image></g><g><rect x=\"4\" y=\"2\" class=\"light-square\" height=\"1\" width=\"1\"></rect><image x=\"4\" xlink:href=\"https://raw.githubusercontent.com/romstad/Chess.jl/master/img/bp.svg\" y=\"2\" height=\"1\" width=\"1\"></image></g><g><rect x=\"4\" y=\"3\" class=\"dark-square\" height=\"1\" width=\"1\"></rect><g></g></g><g><rect x=\"4\" y=\"4\" class=\"light-square\" height=\"1\" width=\"1\"></rect><image x=\"4\" xlink:href=\"https://raw.githubusercontent.com/romstad/Chess.jl/master/img/wp.svg\" y=\"4\" height=\"1\" width=\"1\"></image></g><g><rect x=\"4\" y=\"5\" class=\"dark-square\" height=\"1\" width=\"1\"></rect><image x=\"4\" xlink:href=\"https://raw.githubusercontent.com/romstad/Chess.jl/master/img/wb.svg\" y=\"5\" height=\"1\" width=\"1\"></image></g><g><rect x=\"4\" y=\"6\" class=\"light-square\" height=\"1\" width=\"1\"></rect><g></g></g><g><rect x=\"4\" y=\"7\" class=\"dark-square\" height=\"1\" width=\"1\"></rect><image x=\"4\" xlink:href=\"https://raw.githubusercontent.com/romstad/Chess.jl/master/img/wr.svg\" y=\"7\" height=\"1\" width=\"1\"></image></g><g><rect x=\"5\" y=\"0\" class=\"dark-square\" height=\"1\" width=\"1\"></rect><g></g></g><g><rect x=\"5\" y=\"1\" class=\"light-square\" height=\"1\" width=\"1\"></rect><image x=\"5\" xlink:href=\"https://raw.githubusercontent.com/romstad/Chess.jl/master/img/bp.svg\" y=\"1\" height=\"1\" width=\"1\"></image></g><g><rect x=\"5\" y=\"2\" class=\"dark-square\" height=\"1\" width=\"1\"></rect><image x=\"5\" xlink:href=\"https://raw.githubusercontent.com/romstad/Chess.jl/master/img/bn.svg\" y=\"2\" height=\"1\" width=\"1\"></image></g><g><rect x=\"5\" y=\"3\" class=\"light-square\" height=\"1\" width=\"1\"></rect><g></g></g><g><rect x=\"5\" y=\"4\" class=\"dark-square\" height=\"1\" width=\"1\"></rect><g></g></g><g><rect x=\"5\" y=\"5\" class=\"light-square\" height=\"1\" width=\"1\"></rect><image x=\"5\" xlink:href=\"https://raw.githubusercontent.com/romstad/Chess.jl/master/img/wn.svg\" y=\"5\" height=\"1\" width=\"1\"></image></g><g><rect x=\"5\" y=\"6\" class=\"dark-square\" height=\"1\" width=\"1\"></rect><image x=\"5\" xlink:href=\"https://raw.githubusercontent.com/romstad/Chess.jl/master/img/wp.svg\" y=\"6\" height=\"1\" width=\"1\"></image></g><g><rect x=\"5\" y=\"7\" class=\"light-square\" height=\"1\" width=\"1\"></rect><g></g></g><g><rect x=\"6\" y=\"0\" class=\"light-square\" height=\"1\" width=\"1\"></rect><image x=\"6\" xlink:href=\"https://raw.githubusercontent.com/romstad/Chess.jl/master/img/bk.svg\" y=\"0\" height=\"1\" width=\"1\"></image></g><g><rect x=\"6\" y=\"1\" class=\"dark-square\" height=\"1\" width=\"1\"></rect><image x=\"6\" xlink:href=\"https://raw.githubusercontent.com/romstad/Chess.jl/master/img/bp.svg\" y=\"1\" height=\"1\" width=\"1\"></image></g><g><rect x=\"6\" y=\"2\" class=\"light-square\" height=\"1\" width=\"1\"></rect><g></g></g><g><rect x=\"6\" y=\"3\" class=\"dark-square\" height=\"1\" width=\"1\"></rect><g></g></g><g><rect x=\"6\" y=\"4\" class=\"light-square\" height=\"1\" width=\"1\"></rect><g></g></g><g><rect x=\"6\" y=\"5\" class=\"dark-square\" height=\"1\" width=\"1\"></rect><g></g></g><g><rect x=\"6\" y=\"6\" class=\"light-square\" height=\"1\" width=\"1\"></rect><image x=\"6\" xlink:href=\"https://raw.githubusercontent.com/romstad/Chess.jl/master/img/wp.svg\" y=\"6\" height=\"1\" width=\"1\"></image></g><g><rect x=\"6\" y=\"7\" class=\"dark-square\" height=\"1\" width=\"1\"></rect><image x=\"6\" xlink:href=\"https://raw.githubusercontent.com/romstad/Chess.jl/master/img/wk.svg\" y=\"7\" height=\"1\" width=\"1\"></image></g><g><rect x=\"7\" y=\"0\" class=\"dark-square\" height=\"1\" width=\"1\"></rect><g></g></g><g><rect x=\"7\" y=\"1\" class=\"light-square\" height=\"1\" width=\"1\"></rect><image x=\"7\" xlink:href=\"https://raw.githubusercontent.com/romstad/Chess.jl/master/img/bp.svg\" y=\"1\" height=\"1\" width=\"1\"></image></g><g><rect x=\"7\" y=\"2\" class=\"dark-square\" height=\"1\" width=\"1\"></rect><g></g></g><g><rect x=\"7\" y=\"3\" class=\"light-square\" height=\"1\" width=\"1\"></rect><g></g></g><g><rect x=\"7\" y=\"4\" class=\"dark-square\" height=\"1\" width=\"1\"></rect><g></g></g><g><rect x=\"7\" y=\"5\" class=\"light-square\" height=\"1\" width=\"1\"></rect><g></g></g><g><rect x=\"7\" y=\"6\" class=\"dark-square\" height=\"1\" width=\"1\"></rect><image x=\"7\" xlink:href=\"https://raw.githubusercontent.com/romstad/Chess.jl/master/img/wp.svg\" y=\"6\" height=\"1\" width=\"1\"></image></g><g><rect x=\"7\" y=\"7\" class=\"light-square\" height=\"1\" width=\"1\"></rect><g></g></g></g><g></g></svg><div><p>Black to move</p><p><a href=\"https://lichess.org/editor/1r1qr1k1/pppbbppp/2nppn2/8/3PP3/2NBBN2/PPP2PPP/R2QR1K1_b_-_-\" target=\"_blank\">Open in lichess</a></p></div></div>"
      ],
      "text/plain": [
       "Board (1r1qr1k1/pppbbppp/2nppn2/8/3PP3/2NBBN2/PPP2PPP/R2QR1K1 b - -):\n",
       " -  r  -  q  r  -  k  - \n",
       " p  p  p  b  b  p  p  p \n",
       " -  -  n  p  p  n  -  - \n",
       " -  -  -  -  -  -  -  - \n",
       " -  -  -  P  P  -  -  - \n",
       " -  -  N  B  B  N  -  - \n",
       " P  P  P  -  -  P  P  P \n",
       " R  -  -  Q  R  -  K  - "
      ]
     },
     "execution_count": 6,
     "metadata": {},
     "output_type": "execute_result"
    }
   ],
   "source": [
    "fromfen(\"1r1qr1k1/pppbbppp/2nppn2/8/3PP3/2NBBN2/PPP2PPP/R2QR1K1 b - - 0 1\")"
   ]
  },
  {
   "cell_type": "markdown",
   "id": "82156eaf",
   "metadata": {},
   "source": [
    "Dieses Verhalten muss in der nächsten Iteration der KI behandelt werden."
   ]
  },
  {
   "cell_type": "markdown",
   "id": "2f728284",
   "metadata": {},
   "source": [
    "***"
   ]
  },
  {
   "cell_type": "markdown",
   "id": "3fa3ddb4",
   "metadata": {},
   "source": [
    "by Florian Stach and Luc Kaiser"
   ]
  },
  {
   "cell_type": "markdown",
   "id": "e04a78f4",
   "metadata": {},
   "source": [
    "Last updated: 30/11/2022"
   ]
  },
  {
   "cell_type": "markdown",
   "id": "f07f9759",
   "metadata": {},
   "source": [
    "***"
   ]
  }
 ],
 "metadata": {
  "kernelspec": {
   "display_name": "Julia 1.8.2",
   "language": "julia",
   "name": "julia-1.8"
  },
  "language_info": {
   "file_extension": ".jl",
   "mimetype": "application/julia",
   "name": "julia",
   "version": "1.8.2"
  }
 },
 "nbformat": 4,
 "nbformat_minor": 5
}
