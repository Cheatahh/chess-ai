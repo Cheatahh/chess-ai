{
 "cells": [
  {
   "cell_type": "code",
   "execution_count": 4,
   "id": "104f63f5",
   "metadata": {},
   "outputs": [
    {
     "data": {
      "text/html": [
       "<link href='http://fonts.googleapis.com/css?family=Alegreya+Sans:100,300,400,500,700,800,900,100italic,300italic,400italic,500italic,700italic,800italic,900italic' rel='stylesheet' type='text/css'>\r\n",
       "<link href='http://fonts.googleapis.com/css?family=Arvo:400,700,400italic' rel='stylesheet' type='text/css'>\r\n",
       "<link href='http://fonts.googleapis.com/css?family=PT+Mono' rel='stylesheet' type='text/css'>\r\n",
       "<link href='http://fonts.googleapis.com/css?family=Shadows+Into+Light' rel='stylesheet' type='text/css'>\r\n",
       "<link href='http://fonts.googleapis.com/css?family=Philosopher:400,700,400italic,700italic' rel='stylesheet' type='text/css'>\r\n",
       "\r\n",
       "<style>\r\n",
       "\r\n",
       "@font-face {\r\n",
       "    font-family: \"Computer Modern\";\r\n",
       "    src: url('http://mirrors.ctan.org/fonts/cm-unicode/fonts/otf/cmunss.otf');\r\n",
       "}\r\n",
       "\r\n",
       ".container { width: 100% }\r\n",
       "\r\n",
       "/* Formatting for header cells */\r\n",
       ".text_cell_render h1 {\r\n",
       "    font-family: 'Philosopher', sans-serif;\r\n",
       "    font-weight: 400;\r\n",
       "    font-size: 2.2em;\r\n",
       "    line-height: 100%;\r\n",
       "    color: rgb(0, 80, 120);\r\n",
       "    margin-bottom: 0.1em;\r\n",
       "    margin-top: 0.1em;\r\n",
       "    display: block;\r\n",
       "}\t\r\n",
       ".text_cell_render h2 {\r\n",
       "    font-family: 'Philosopher', serif;\r\n",
       "    font-weight: 400;\r\n",
       "    font-size: 1.9em;\r\n",
       "    line-height: 100%;\r\n",
       "    color: rgb(200,100,0);\r\n",
       "    margin-bottom: 0.1em;\r\n",
       "    margin-top: 0.1em;\r\n",
       "    display: block;\r\n",
       "}\t\r\n",
       "\r\n",
       ".text_cell_render h3 {\r\n",
       "    font-family: 'Philosopher', serif;\r\n",
       "    margin-top:12px;\r\n",
       "    margin-bottom: 3px;\r\n",
       "    font-style: italic;\r\n",
       "    color: rgb(94,127,192);\r\n",
       "}\r\n",
       "\r\n",
       ".text_cell_render h4 {\r\n",
       "    font-family: 'Philosopher', serif;\r\n",
       "}\r\n",
       "\r\n",
       ".text_cell_render h5 {\r\n",
       "    font-family: 'Alegreya Sans', sans-serif;\r\n",
       "    font-weight: 300;\r\n",
       "    font-size: 16pt;\r\n",
       "    color: grey;\r\n",
       "    font-style: italic;\r\n",
       "    margin-bottom: .1em;\r\n",
       "    margin-top: 0.1em;\r\n",
       "    display: block;\r\n",
       "}\r\n",
       "\r\n",
       ".text_cell_render h6 {\r\n",
       "    font-family: 'PT Mono', sans-serif;\r\n",
       "    font-weight: 300;\r\n",
       "    font-size: 10pt;\r\n",
       "    color: grey;\r\n",
       "    margin-bottom: 1px;\r\n",
       "    margin-top: 1px;\r\n",
       "}\r\n",
       "\r\n",
       ".text_cell_render em {\r\n",
       "    font-family: 'Philosopher', sans-serif;\r\n",
       "    color:        blue;\r\n",
       "    background-color: rgb(255,220,180);\r\n",
       "    font-size:    110%;\r\n",
       "    margin-left:   2px;\r\n",
       "    margin-right:  2px;\r\n",
       "    font-weight:   100;\r\n",
       "}\r\n",
       "\r\n",
       ".text_cell_render b {\r\n",
       "    color:            rgb(255,195,195);\r\n",
       "    background-color: rgb(0,0,0);\r\n",
       "    font-size:    110%;\r\n",
       "    margin-left:   2px;\r\n",
       "    margin-right:  2px;\r\n",
       "    font-weight:   650;\r\n",
       "}\r\n",
       "\r\n",
       ".text_cell_render tt {\r\n",
       "    font-size:    120%;\r\n",
       "    margin-left:   2px;\r\n",
       "    margin-right:  2px;\r\n",
       "    font-weight:   150;\r\n",
       "}\r\n",
       "\r\n",
       ".Codemirror {\r\n",
       "    font-family: \"PT Mono\";\r\n",
       "    font-size: 100%;\r\n",
       "}\r\n",
       "\r\n",
       "</style>"
      ],
      "text/plain": [
       "HTML{String}(\"<link href='http://fonts.googleapis.com/css?family=Alegreya+Sans:100,300,400,500,700,800,900,100italic,300italic,400italic,500italic,700italic,800italic,900italic' rel='stylesheet' type='text/css'>\\r\\n<link href='http://fonts.googleapis.com/css?family=Arvo:400,700,400italic' rel='stylesheet' type='text/css'>\\r\\n<link href='http://fonts.googleapis.com/css?family=PT+Mono' rel='stylesheet' type='text/css'>\\r\\n<link href='http://fonts.googleapis.com/css?family=Shadows+Into+Light' rel='stylesheet' type='text/css'>\\r\\n<link href='http://fonts.googleapis.com/css?family=Philosopher:400,700,400italic,700italic' rel='stylesheet' type='text/css'>\\r\\n\\r\\n<style>\\r\\n\\r\\n@font-face {\\r\\n    font-family: \\\"Computer Modern\\\";\\r\\n    src: url('http://mirrors.ctan.org/fonts/cm-unicode/fonts/otf/cmunss.otf');\\r\\n}\\r\\n\\r\\n.container { width: 100% }\\r\\n\\r\\n/* Formatting for header cells */\\r\\n.text_cell_render h1 {\\r\\n    font-family: 'Philosopher', sans-serif;\\r\\n    font-weight: 400;\\r\\n    font-size: 2.2em;\\r\\n    line-height: 100%;\\r\\n    color: rgb(0, 80, 120);\\r\\n    margin-bottom: 0.1em;\\r\\n    margin-top: 0.1em;\\r\\n    display: block;\\r\\n}\\t\\r\\n.text_cell_render h2 {\\r\\n    font-family: 'Philosopher', serif;\\r\\n    font-weight: 400;\\r\\n    font-size: 1.9em;\\r\\n    line-height: 100%;\\r\\n    color: rgb(200,100,0);\\r\\n    margin-bottom: 0.1em;\\r\\n    margin-top: 0.1em;\\r\\n    display: block;\\r\\n}\\t\\r\\n\\r\\n.text_cell_render h3 {\\r\\n    font-family: 'Philosopher', serif;\\r\\n    margin-top:12px;\\r\\n    margin-bottom: 3px;\\r\\n    font-style: italic;\\r\\n    color: rgb(94,127,192);\\r\\n}\\r\\n\\r\\n.text_cell_render h4 {\\r\\n    font-family: 'Philosopher', serif;\\r\\n}\\r\\n\\r\\n.text_cell_render h5 {\\r\\n    font-family: 'Alegreya Sans', sans-serif;\\r\\n    font-weight: 300;\\r\\n    font-size: 16pt;\\r\\n    color: grey;\\r\\n    font-style: italic;\\r\\n    margin-bottom: .1em;\\r\\n    margin-top: 0.1em;\\r\\n    display: block;\\r\\n}\\r\\n\\r\\n.text_cell_render h6 {\\r\\n    font-family: 'PT Mono', sans-serif;\\r\\n    font-weight: 300;\\r\\n    font-size: 10pt;\\r\\n    color: grey;\\r\\n    margin-bottom: 1px;\\r\\n    margin-top: 1px;\\r\\n}\\r\\n\\r\\n.text_cell_render em {\\r\\n    font-family: 'Philosopher', sans-serif;\\r\\n    color:        blue;\\r\\n    background-color: rgb(255,220,180);\\r\\n    font-size:    110%;\\r\\n    margin-left:   2px;\\r\\n    margin-right:  2px;\\r\\n    font-weight:   100;\\r\\n}\\r\\n\\r\\n.text_cell_render b {\\r\\n    color:            rgb(255,195,195);\\r\\n    background-color: rgb(0,0,0);\\r\\n    font-size:    110%;\\r\\n    margin-left:   2px;\\r\\n    margin-right:  2px;\\r\\n    font-weight:   650;\\r\\n}\\r\\n\\r\\n.text_cell_render tt {\\r\\n    font-size:    120%;\\r\\n    margin-left:   2px;\\r\\n    margin-right:  2px;\\r\\n    font-weight:   150;\\r\\n}\\r\\n\\r\\n.Codemirror {\\r\\n    font-family: \\\"PT Mono\\\";\\r\\n    font-size: 100%;\\r\\n}\\r\\n\\r\\n</style>\")"
      ]
     },
     "execution_count": 4,
     "metadata": {},
     "output_type": "execute_result"
    }
   ],
   "source": [
    "HTML(read(open(\"style.html\"), String))"
   ]
  },
  {
   "cell_type": "markdown",
   "id": "cc1079c5",
   "metadata": {},
   "source": [
    "## Basic Game\n",
    "\n",
    "Das Modul `Chess.jl` stellt eine Implementation des Schachspiels für die Sprache Julia bereit. Dieses kann gegebenenfalls über den Package Manager `Pkg` installiert werden."
   ]
  },
  {
   "cell_type": "code",
   "execution_count": null,
   "id": "7977e043",
   "metadata": {},
   "outputs": [],
   "source": [
    "using Pkg\n",
    "Pkg.add(\"Chess\")"
   ]
  },
  {
   "cell_type": "code",
   "execution_count": 1,
   "id": "7d763a90",
   "metadata": {},
   "outputs": [],
   "source": [
    "using Chess"
   ]
  },
  {
   "cell_type": "markdown",
   "id": "e5fc7a4a",
   "metadata": {},
   "source": [
    "Ein Schachspiel besteht aus einem abwechselnden Durchführen jeweils genau eines Zuges. Besondere Konventionen wie zum Beispiel Rochaden zählen hierbei als ein Zug."
   ]
  },
  {
   "cell_type": "markdown",
   "id": "62ee2e18",
   "metadata": {},
   "source": [
    "Hierbei folgt das Spielen eines Schachspiels stets der folgenden Logik:"
   ]
  },
  {
   "cell_type": "markdown",
   "id": "1d358f45",
   "metadata": {},
   "source": [
    "ai_turn = false\n",
    "\n",
    "while !isterminal(game)\n",
    "\n",
    "    move = next_move(game, ai_turn ? ai : player)\n",
    "    domove!(game, move)\n",
    "    ai_turn = !ai_turn\n",
    "    \n",
    "end     "
   ]
  },
  {
   "cell_type": "markdown",
   "id": "5d48120c",
   "metadata": {},
   "source": [
    "Die Funktion `next_move(board, entity) -> move, info` bildet auf den nächsten durchzuführenden Zug und einen kontextabhängigen Informationstext ab. Hierbei wird die tatsächliche Implementation der Funktion über Multiple-Dispatch mit dem `entity` Attribut bestimmt. Dieses wechselt mit der Partei am Zug.\n",
    "\n",
    "Diese Herangehensweise ermöglicht es uns, dynamisch mehrere AI Generationen hinzuzufügen, ohne die Hauptfunktion der Spieldurchführung zu ändern. Eine Spielseite (Schwarz oder Weiß) ist somit nicht an eine Spielerpartei (AI oder \"echter\" Spieler) gebunden. Falls gewünscht, können zwei AIs ohne jegliche Interaktion gegeneinander getestet werden.\n",
    "\n",
    "Jede Spielerpartei definiert folgende Komponenten:\n",
    "\n",
    "- Ein Struct als eigener Datentyp\n",
    "- Die Funktion `next_move` mit der Signatur `next_move(Board, <TYPE>) -> Move, String`"
   ]
  },
  {
   "cell_type": "markdown",
   "id": "b480b427",
   "metadata": {},
   "source": [
    "### Entity Player"
   ]
  },
  {
   "cell_type": "markdown",
   "id": "8eda1b8e",
   "metadata": {},
   "source": [
    "Um die Implementation der Spieler-`next_move` Funktion mit Multiple-Dispatch zuordnen zu können, definieren wir das folgende leere Struct:"
   ]
  },
  {
   "cell_type": "code",
   "execution_count": 1,
   "id": "acf38d97",
   "metadata": {},
   "outputs": [],
   "source": [
    "struct Player end"
   ]
  },
  {
   "cell_type": "markdown",
   "id": "b14c417b",
   "metadata": {},
   "source": [
    "Sollten entprechende Spielerparteien zusätzliche Argumente, wie zum Beispiel eine Suchtiefe benötigen, können diese als Instanz-Attrib dem entsprechenden Struct hinzugefügt werden."
   ]
  },
  {
   "cell_type": "markdown",
   "id": "895db1f8",
   "metadata": {},
   "source": [
    "Die Bestimmung des nächsten Zuges setzt eine Benutzer-Eingabe voraus, welche in Julia mithilfe der `readline`(`stream`) Funktion erreicht werden kann.\n",
    "\n",
    "Während die Zug-Eingaben einer AI stets als vertrauenswürdig zu betrachten sind, kann eine benutzerdefinierte Eingabe Fehler enthalten, welche das Programm an der Ausführung behindern kann. Um diese mögliche Fehlerquelle zu beheben, benutzen wir Chess.jl's `movefromstring` Funktion, welche einen Eingabe-String zu einem Move Objekt konvertiert und bei einem Felher `nothing` zurückgibt. Ist letzteres der Fall, geben wir eine Fehlermeldung aus und wiederholen die Abfrage.\n",
    "\n",
    "Eine weitere Fehlermöglichkeit ist die Eingabe eines syntaktisch validen Zuges, welcher mit der aktuellen Brettposition illegal ist. Diese beheben wir mit der Auflistung aller legalen Züge (`moves(board)`) und einer `∉`-Überprüfung (\"ist nicht element von\").\n",
    "\n",
    "Um dem Benutzerwunsch, das aktuelle Spiel abzubrechen, bzw. zurückzusetzten gerecht zu werden, überprüfen wir zunächst die Eingabe nach den Texten `exit` und `reset` und geben diese als Rückgabewert zurück. Die Hauptfunktion der Spieldurchführung handelt dementsprechend."
   ]
  },
  {
   "cell_type": "code",
   "execution_count": 18,
   "id": "132fd2af",
   "metadata": {},
   "outputs": [
    {
     "data": {
      "text/plain": [
       "next_move (generic function with 1 method)"
      ]
     },
     "execution_count": 18,
     "metadata": {},
     "output_type": "execute_result"
    }
   ],
   "source": [
    "function next_move(board, _::Player)\n",
    "    move = nothing\n",
    "    while true\n",
    "        userinput = readline(stdin)\n",
    "        if userinput == \"exit\" || userinput == \"reset\"\n",
    "            return userinput, \"\"\n",
    "        end\n",
    "        move = movefromstring(userinput)\n",
    "        if move === nothing\n",
    "            println(\"Invalid input '$(userinput)'\")\n",
    "            continue\n",
    "        end\n",
    "        all_legal_moves = moves(board)\n",
    "        if move ∉ all_legal_moves\n",
    "            println(\"Illegal move '$(move)'\")\n",
    "            continue\n",
    "        end\n",
    "        break\n",
    "    end\n",
    "    return move, \"\"\n",
    "end"
   ]
  },
  {
   "cell_type": "markdown",
   "id": "73ceb476",
   "metadata": {},
   "source": [
    "## Game Implementation / Main Function\n",
    "\n",
    "Mit allen bereits implementieren Komponenten lässt sich eine erste, lauffähige Durchführung eines Schachspiels implementieren:"
   ]
  },
  {
   "cell_type": "code",
   "execution_count": 1,
   "id": "3534513c",
   "metadata": {},
   "outputs": [
    {
     "data": {
      "text/plain": [
       "play_game (generic function with 4 methods)"
      ]
     },
     "execution_count": 1,
     "metadata": {},
     "output_type": "execute_result"
    }
   ],
   "source": [
    "function play_game(ai, player = Player(), game = SimpleGame(), ai_turn = false)\n",
    "    print_game(game, nothing)\n",
    "    \n",
    "    while !isterminal(game)\n",
    "        answer_time = @elapsed begin\n",
    "            move, info = next_move(board(game), ai_turn ? ai : player)\n",
    "        end\n",
    "        if move == \"exit\"\n",
    "            IJulia.clear_output()\n",
    "            return board(game)\n",
    "        end\n",
    "        if move == \"reset\"\n",
    "            return play_game(ai)\n",
    "        end\n",
    "        if move === nothing\n",
    "            println(\"next_move returned nothing\")\n",
    "            return board(game)\n",
    "        end\n",
    "        domove!(game, move)\n",
    "        print_game(game, \"Time: \" * string(answer_time) * \"\\n\" * info)\n",
    "        ai_turn = !ai_turn\n",
    "    end\n",
    "    \n",
    "    return isdraw(game) ? \"Draw!\" : ai_turn ? \"Checkmate! You win!\" : \"Checkmate! You lost!\"\n",
    "end"
   ]
  },
  {
   "cell_type": "markdown",
   "id": "af66160d",
   "metadata": {},
   "source": [
    "Nachdem ein Spiel beendet wurde, gibt die Funktion das Ergebnis des Spiels zurück."
   ]
  },
  {
   "cell_type": "markdown",
   "id": "ce8a4da1",
   "metadata": {},
   "source": [
    "Um die Ausgabe während des Spiels zu vereinfachen, definieren wir die folgende Funktion, welche die aktuelle Ausgabezelle löscht und das Spielbrett erneut ausgibt. Konvertiert man ein `Chess.jl`- Schachbrett zu HTML, so wird dieses in einer anschaulichen Form gerendert."
   ]
  },
  {
   "cell_type": "code",
   "execution_count": 7,
   "id": "9a6a7a28",
   "metadata": {},
   "outputs": [
    {
     "data": {
      "text/plain": [
       "print_game (generic function with 1 method)"
      ]
     },
     "execution_count": 7,
     "metadata": {},
     "output_type": "execute_result"
    }
   ],
   "source": [
    "function print_game(game, info)\n",
    "    IJulia.clear_output()\n",
    "    html = HTML(IJulia.html(board(game)))\n",
    "    IJulia.display(html)\n",
    "    if info !== nothing\n",
    "        println(info)\n",
    "    end\n",
    "end"
   ]
  },
  {
   "cell_type": "markdown",
   "id": "f30e8bd6",
   "metadata": {},
   "source": [
    "Als letzte Komponente für ein vollständiges Schachspiel fehlt ein KI-Gegner. Hierzu importieren wir die `RandomAI`."
   ]
  },
  {
   "cell_type": "markdown",
   "id": "89a2dc42",
   "metadata": {},
   "source": [
    "***"
   ]
  },
  {
   "cell_type": "markdown",
   "id": "dbefc14a",
   "metadata": {},
   "source": [
    "by Florian Stach and Luc Kaiser"
   ]
  },
  {
   "cell_type": "markdown",
   "id": "30a5b8b0",
   "metadata": {},
   "source": [
    "Last updated: 30/11/2022"
   ]
  },
  {
   "cell_type": "markdown",
   "id": "7c991cac",
   "metadata": {},
   "source": [
    "***"
   ]
  }
 ],
 "metadata": {
  "kernelspec": {
   "display_name": "Julia 1.8.1",
   "language": "julia",
   "name": "julia-1.8"
  },
  "language_info": {
   "file_extension": ".jl",
   "mimetype": "application/julia",
   "name": "julia",
   "version": "1.8.1"
  }
 },
 "nbformat": 4,
 "nbformat_minor": 5
}
