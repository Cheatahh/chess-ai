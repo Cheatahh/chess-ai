{
 "cells": [
  {
   "cell_type": "code",
   "execution_count": null,
   "id": "8cc8b4a0",
   "metadata": {},
   "outputs": [],
   "source": [
    "HTML(read(open(\"style.html\"), String))"
   ]
  },
  {
   "cell_type": "code",
   "execution_count": null,
   "id": "00fdbfea",
   "metadata": {},
   "outputs": [],
   "source": [
    "using Pkg\n",
    "Pkg.add(\"NBInclude\")"
   ]
  },
  {
   "cell_type": "code",
   "execution_count": null,
   "id": "36c5adf2",
   "metadata": {},
   "outputs": [],
   "source": []
  },
  {
   "cell_type": "code",
   "execution_count": null,
   "id": "b9dcf55f",
   "metadata": {},
   "outputs": [],
   "source": [
    "play_game(MiniMaxAI())"
   ]
  },
  {
   "cell_type": "code",
   "execution_count": null,
   "id": "fc38b6e0",
   "metadata": {},
   "outputs": [],
   "source": []
  },
  {
   "cell_type": "code",
   "execution_count": null,
   "id": "f573f0c1",
   "metadata": {},
   "outputs": [],
   "source": []
  },
  {
   "cell_type": "code",
   "execution_count": null,
   "id": "e2bb538b",
   "metadata": {},
   "outputs": [],
   "source": []
  },
  {
   "cell_type": "code",
   "execution_count": null,
   "id": "891d0741",
   "metadata": {},
   "outputs": [],
   "source": []
  }
 ],
 "metadata": {
  "kernelspec": {
   "display_name": "Julia 1.8.2",
   "language": "julia",
   "name": "julia-1.8"
  },
  "language_info": {
   "file_extension": ".jl",
   "mimetype": "application/julia",
   "name": "julia",
   "version": "1.8.2"
  }
 },
 "nbformat": 4,
 "nbformat_minor": 5
}
