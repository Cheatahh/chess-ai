{
 "cells": [
  {
   "cell_type": "code",
   "execution_count": 1,
   "id": "2dc1c339",
   "metadata": {},
   "outputs": [
    {
     "data": {
      "text/html": [
       "<link href='http://fonts.googleapis.com/css?family=Alegreya+Sans:100,300,400,500,700,800,900,100italic,300italic,400italic,500italic,700italic,800italic,900italic' rel='stylesheet' type='text/css'>\r\n",
       "<link href='http://fonts.googleapis.com/css?family=Arvo:400,700,400italic' rel='stylesheet' type='text/css'>\r\n",
       "<link href='http://fonts.googleapis.com/css?family=PT+Mono' rel='stylesheet' type='text/css'>\r\n",
       "<link href='http://fonts.googleapis.com/css?family=Shadows+Into+Light' rel='stylesheet' type='text/css'>\r\n",
       "<link href='http://fonts.googleapis.com/css?family=Philosopher:400,700,400italic,700italic' rel='stylesheet' type='text/css'>\r\n",
       "\r\n",
       "<style>\r\n",
       "\r\n",
       "@font-face {\r\n",
       "    font-family: \"Computer Modern\";\r\n",
       "    src: url('http://mirrors.ctan.org/fonts/cm-unicode/fonts/otf/cmunss.otf');\r\n",
       "}\r\n",
       "\r\n",
       ".container { width: 100% }\r\n",
       "\r\n",
       "/* Formatting for header cells */\r\n",
       ".text_cell_render h1 {\r\n",
       "    font-family: 'Philosopher', sans-serif;\r\n",
       "    font-weight: 400;\r\n",
       "    font-size: 2.2em;\r\n",
       "    line-height: 100%;\r\n",
       "    color: rgb(0, 80, 120);\r\n",
       "    margin-bottom: 0.1em;\r\n",
       "    margin-top: 0.1em;\r\n",
       "    display: block;\r\n",
       "}\t\r\n",
       ".text_cell_render h2 {\r\n",
       "    font-family: 'Philosopher', serif;\r\n",
       "    font-weight: 400;\r\n",
       "    font-size: 1.9em;\r\n",
       "    line-height: 100%;\r\n",
       "    color: rgb(200,100,0);\r\n",
       "    margin-bottom: 0.1em;\r\n",
       "    margin-top: 0.1em;\r\n",
       "    display: block;\r\n",
       "}\t\r\n",
       "\r\n",
       ".text_cell_render h3 {\r\n",
       "    font-family: 'Philosopher', serif;\r\n",
       "    margin-top:12px;\r\n",
       "    margin-bottom: 3px;\r\n",
       "    font-style: italic;\r\n",
       "    color: rgb(94,127,192);\r\n",
       "}\r\n",
       "\r\n",
       ".text_cell_render h4 {\r\n",
       "    font-family: 'Philosopher', serif;\r\n",
       "}\r\n",
       "\r\n",
       ".text_cell_render h5 {\r\n",
       "    font-family: 'Alegreya Sans', sans-serif;\r\n",
       "    font-weight: 300;\r\n",
       "    font-size: 16pt;\r\n",
       "    color: grey;\r\n",
       "    font-style: italic;\r\n",
       "    margin-bottom: .1em;\r\n",
       "    margin-top: 0.1em;\r\n",
       "    display: block;\r\n",
       "}\r\n",
       "\r\n",
       ".text_cell_render h6 {\r\n",
       "    font-family: 'PT Mono', sans-serif;\r\n",
       "    font-weight: 300;\r\n",
       "    font-size: 10pt;\r\n",
       "    color: grey;\r\n",
       "    margin-bottom: 1px;\r\n",
       "    margin-top: 1px;\r\n",
       "}\r\n",
       "\r\n",
       ".text_cell_render em {\r\n",
       "    font-family: 'Philosopher', sans-serif;\r\n",
       "    color:        blue;\r\n",
       "    background-color: rgb(255,220,180);\r\n",
       "    font-size:    110%;\r\n",
       "    margin-left:   2px;\r\n",
       "    margin-right:  2px;\r\n",
       "    font-weight:   100;\r\n",
       "}\r\n",
       "\r\n",
       ".text_cell_render b {\r\n",
       "    color:            rgb(255,195,195);\r\n",
       "    background-color: rgb(0,0,0);\r\n",
       "    font-size:    110%;\r\n",
       "    margin-left:   2px;\r\n",
       "    margin-right:  2px;\r\n",
       "    font-weight:   650;\r\n",
       "}\r\n",
       "\r\n",
       ".text_cell_render tt {\r\n",
       "    font-size:    120%;\r\n",
       "    margin-left:   2px;\r\n",
       "    margin-right:  2px;\r\n",
       "    font-weight:   150;\r\n",
       "}\r\n",
       "\r\n",
       ".Codemirror {\r\n",
       "    font-family: \"PT Mono\";\r\n",
       "    font-size: 100%;\r\n",
       "}\r\n",
       "\r\n",
       "</style>"
      ],
      "text/plain": [
       "HTML{String}(\"<link href='http://fonts.googleapis.com/css?family=Alegreya+Sans:100,300,400,500,700,800,900,100italic,300italic,400italic,500italic,700italic,800italic,900italic' rel='stylesheet' type='text/css'>\\r\\n<link href='http://fonts.googleapis.com/css?family=Arvo:400,700,400italic' rel='stylesheet' type='text/css'>\\r\\n<link href='http://fonts.googleapis.com/css?family=PT+Mono' rel='stylesheet' type='text/css'>\\r\\n<link href='http://fonts.googleapis.com/css?family=Shadows+Into+Light' rel='stylesheet' type='text/css'>\\r\\n<link href='http://fonts.googleapis.com/css?family=Philosopher:400,700,400italic,700italic' rel='stylesheet' type='text/css'>\\r\\n\\r\\n<style>\\r\\n\\r\\n@font-face {\\r\\n    font-family: \\\"Computer Modern\\\";\\r\\n    src: url('http://mirrors.ctan.org/fonts/cm-unicode/fonts/otf/cmunss.otf');\\r\\n}\\r\\n\\r\\n.container { width: 100% }\\r\\n\\r\\n/* Formatting for header cells */\\r\\n.text_cell_render h1 {\\r\\n    font-family: 'Philosopher', sans-serif;\\r\\n    font-weight: 400;\\r\\n    font-size: 2.2em;\\r\\n    line-height: 100%;\\r\\n    color: rgb(0, 80, 120);\\r\\n    margin-bottom: 0.1em;\\r\\n    margin-top: 0.1em;\\r\\n    display: block;\\r\\n}\\t\\r\\n.text_cell_render h2 {\\r\\n    font-family: 'Philosopher', serif;\\r\\n    font-weight: 400;\\r\\n    font-size: 1.9em;\\r\\n    line-height: 100%;\\r\\n    color: rgb(200,100,0);\\r\\n    margin-bottom: 0.1em;\\r\\n    margin-top: 0.1em;\\r\\n    display: block;\\r\\n}\\t\\r\\n\\r\\n.text_cell_render h3 {\\r\\n    font-family: 'Philosopher', serif;\\r\\n    margin-top:12px;\\r\\n    margin-bottom: 3px;\\r\\n    font-style: italic;\\r\\n    color: rgb(94,127,192);\\r\\n}\\r\\n\\r\\n.text_cell_render h4 {\\r\\n    font-family: 'Philosopher', serif;\\r\\n}\\r\\n\\r\\n.text_cell_render h5 {\\r\\n    font-family: 'Alegreya Sans', sans-serif;\\r\\n    font-weight: 300;\\r\\n    font-size: 16pt;\\r\\n    color: grey;\\r\\n    font-style: italic;\\r\\n    margin-bottom: .1em;\\r\\n    margin-top: 0.1em;\\r\\n    display: block;\\r\\n}\\r\\n\\r\\n.text_cell_render h6 {\\r\\n    font-family: 'PT Mono', sans-serif;\\r\\n    font-weight: 300;\\r\\n    font-size: 10pt;\\r\\n    color: grey;\\r\\n    margin-bottom: 1px;\\r\\n    margin-top: 1px;\\r\\n}\\r\\n\\r\\n.text_cell_render em {\\r\\n    font-family: 'Philosopher', sans-serif;\\r\\n    color:        blue;\\r\\n    background-color: rgb(255,220,180);\\r\\n    font-size:    110%;\\r\\n    margin-left:   2px;\\r\\n    margin-right:  2px;\\r\\n    font-weight:   100;\\r\\n}\\r\\n\\r\\n.text_cell_render b {\\r\\n    color:            rgb(255,195,195);\\r\\n    background-color: rgb(0,0,0);\\r\\n    font-size:    110%;\\r\\n    margin-left:   2px;\\r\\n    margin-right:  2px;\\r\\n    font-weight:   650;\\r\\n}\\r\\n\\r\\n.text_cell_render tt {\\r\\n    font-size:    120%;\\r\\n    margin-left:   2px;\\r\\n    margin-right:  2px;\\r\\n    font-weight:   150;\\r\\n}\\r\\n\\r\\n.Codemirror {\\r\\n    font-family: \\\"PT Mono\\\";\\r\\n    font-size: 100%;\\r\\n}\\r\\n\\r\\n</style>\")"
      ]
     },
     "execution_count": 1,
     "metadata": {},
     "output_type": "execute_result"
    }
   ],
   "source": [
    "HTML(read(open(\"style.html\"), String))"
   ]
  },
  {
   "cell_type": "code",
   "execution_count": 2,
   "id": "3468fefe",
   "metadata": {},
   "outputs": [
    {
     "name": "stderr",
     "output_type": "stream",
     "text": [
      "\u001b[32m\u001b[1m    Updating\u001b[22m\u001b[39m registry at `C:\\Users\\luckb\\.julia\\registries\\General.toml`\n",
      "\u001b[32m\u001b[1m   Resolving\u001b[22m\u001b[39m package versions...\n",
      "\u001b[32m\u001b[1m  No Changes\u001b[22m\u001b[39m to `C:\\Users\\luckb\\.julia\\environments\\v1.8\\Project.toml`\n",
      "\u001b[32m\u001b[1m  No Changes\u001b[22m\u001b[39m to `C:\\Users\\luckb\\.julia\\environments\\v1.8\\Manifest.toml`\n"
     ]
    }
   ],
   "source": [
    "using Pkg\n",
    "Pkg.add(\"Chess\")"
   ]
  },
  {
   "cell_type": "code",
   "execution_count": 3,
   "id": "493667b9",
   "metadata": {},
   "outputs": [],
   "source": [
    "using Chess"
   ]
  },
  {
   "cell_type": "markdown",
   "id": "8a8c7aaf",
   "metadata": {},
   "source": [
    "***"
   ]
  },
  {
   "cell_type": "markdown",
   "id": "53b2543d",
   "metadata": {},
   "source": [
    "In diesem Notebook werden den verschiedenen Spielfiguren ihre Werte zugeordnet. Dies ist für die Implementierung der [Simple Evaluation Function](<3.1 Simple Evaluation Function.ipynb>) und des [MiniMax-Algorithmus](<3.2 MiniMax-Implementierung.ipynb>) wichtig."
   ]
  },
  {
   "cell_type": "markdown",
   "id": "6e58e034",
   "metadata": {},
   "source": [
    "***"
   ]
  },
  {
   "cell_type": "markdown",
   "id": "6ab28afa",
   "metadata": {},
   "source": [
    "Zuerst werden in einem Dictionary die verschiedenen Gewichte ihren Spielfiguren zugeorndet."
   ]
  },
  {
   "cell_type": "code",
   "execution_count": 4,
   "id": "4b22cc77",
   "metadata": {
    "scrolled": false
   },
   "outputs": [
    {
     "data": {
      "text/plain": [
       "Dict{Piece, Int64} with 12 entries:\n",
       "  PIECE_WQ => 900\n",
       "  PIECE_BQ => 900\n",
       "  PIECE_WN => 320\n",
       "  PIECE_BK => 20000\n",
       "  PIECE_WP => 100\n",
       "  PIECE_WB => 330\n",
       "  PIECE_BB => 330\n",
       "  PIECE_BP => 100\n",
       "  PIECE_BN => 320\n",
       "  PIECE_WR => 500\n",
       "  PIECE_WK => 20000\n",
       "  PIECE_BR => 500"
      ]
     },
     "execution_count": 4,
     "metadata": {},
     "output_type": "execute_result"
    }
   ],
   "source": [
    "piece_weight = Dict(PIECE_WP => 100, PIECE_WN => 320, PIECE_WB => 330, PIECE_WR => 500, PIECE_WQ => 900, PIECE_WK => 20000, PIECE_BP => 100, PIECE_BN => 320, PIECE_BB => 330, PIECE_BR => 500, PIECE_BQ => 900, PIECE_BK => 20000)"
   ]
  },
  {
   "cell_type": "markdown",
   "id": "edaf3b3d",
   "metadata": {},
   "source": [
    "***"
   ]
  },
  {
   "cell_type": "markdown",
   "id": "0dac2b83",
   "metadata": {},
   "source": [
    "## Piece-Square-Table"
   ]
  },
  {
   "cell_type": "markdown",
   "id": "9a7a82da",
   "metadata": {},
   "source": [
    "Nachfolgend werden die [Piece-Square-Tables](https://www.chessprogramming.org/Simplified_Evaluation_Function) eingeführt. Zuerst für die weißen Spielfiguren:"
   ]
  },
  {
   "cell_type": "markdown",
   "id": "f2933496",
   "metadata": {},
   "source": [
    "White Pawn:"
   ]
  },
  {
   "cell_type": "code",
   "execution_count": 5,
   "id": "beb1d8d1",
   "metadata": {},
   "outputs": [
    {
     "data": {
      "text/plain": [
       "8-element Vector{Vector{Int64}}:\n",
       " [0, 0, 0, 0, 0, 0, 0, 0]\n",
       " [50, 50, 50, 50, 50, 50, 50, 50]\n",
       " [10, 10, 20, 30, 30, 20, 10, 10]\n",
       " [5, 5, 10, 25, 25, 10, 5, 5]\n",
       " [0, 0, 0, 20, 20, 0, 0, 0]\n",
       " [5, -5, -10, 0, 0, -10, -5, 5]\n",
       " [5, 10, 10, -20, -20, 10, 10, 5]\n",
       " [0, 0, 0, 0, 0, 0, 0, 0]"
      ]
     },
     "execution_count": 5,
     "metadata": {},
     "output_type": "execute_result"
    }
   ],
   "source": [
    "matrix_wp =\n",
    "[ \n",
    "\n",
    "[0,  0,  0,  0,  0,  0,  0,  0],\n",
    "[50, 50, 50, 50, 50, 50, 50, 50],\n",
    "[10, 10, 20, 30, 30, 20, 10, 10],\n",
    "[5,  5, 10, 25, 25, 10,  5,  5],\n",
    "[0,  0,  0, 20, 20,  0,  0,  0],\n",
    "[5, -5,-10,  0,  0,-10, -5,  5],\n",
    "[5, 10, 10,-20,-20, 10, 10,  5],\n",
    "[0,  0,  0,  0,  0,  0,  0,  0]\n",
    "    \n",
    "]\n"
   ]
  },
  {
   "cell_type": "markdown",
   "id": "25d19c08",
   "metadata": {},
   "source": [
    "White Knight:"
   ]
  },
  {
   "cell_type": "code",
   "execution_count": 6,
   "id": "1681460c",
   "metadata": {},
   "outputs": [
    {
     "data": {
      "text/plain": [
       "8-element Vector{Vector{Int64}}:\n",
       " [-50, -40, -30, -30, -30, -30, -40, -50]\n",
       " [-40, -20, 0, 0, 0, 0, -20, -40]\n",
       " [-30, 0, 10, 15, 15, 10, 0, -30]\n",
       " [-30, 5, 15, 20, 20, 15, 5, -30]\n",
       " [-30, 0, 15, 20, 20, 15, 0, -30]\n",
       " [-30, 5, 10, 15, 15, 10, 5, -30]\n",
       " [-40, -20, 0, 5, 5, 0, -20, -40]\n",
       " [-50, -40, -30, -30, -30, -30, -40, -50]"
      ]
     },
     "execution_count": 6,
     "metadata": {},
     "output_type": "execute_result"
    }
   ],
   "source": [
    "matrix_wn =\n",
    "[\n",
    "\n",
    "[-50,-40,-30,-30,-30,-30,-40,-50],\n",
    "[-40,-20,  0,  0,  0,  0,-20,-40],\n",
    "[-30,  0, 10, 15, 15, 10,  0,-30],\n",
    "[-30,  5, 15, 20, 20, 15,  5,-30],\n",
    "[-30,  0, 15, 20, 20, 15,  0,-30],\n",
    "[-30,  5, 10, 15, 15, 10,  5,-30],\n",
    "[-40,-20,  0,  5,  5,  0,-20,-40],\n",
    "[-50,-40,-30,-30,-30,-30,-40,-50]\n",
    "    \n",
    "]"
   ]
  },
  {
   "cell_type": "markdown",
   "id": "e8188d60",
   "metadata": {},
   "source": [
    "White Bishop:"
   ]
  },
  {
   "cell_type": "code",
   "execution_count": 7,
   "id": "0745cf45",
   "metadata": {},
   "outputs": [
    {
     "data": {
      "text/plain": [
       "8-element Vector{Vector{Int64}}:\n",
       " [-20, -10, -10, -10, -10, -10, -10, -20]\n",
       " [-10, 0, 0, 0, 0, 0, 0, -10]\n",
       " [-10, 0, 5, 10, 10, 5, 0, -10]\n",
       " [-10, 5, 5, 10, 10, 5, 5, -10]\n",
       " [-10, 0, 10, 10, 10, 10, 0, -10]\n",
       " [-10, 10, 10, 10, 10, 10, 10, -10]\n",
       " [-10, 5, 0, 0, 0, 0, 5, -10]\n",
       " [-20, -10, -10, -10, -10, -10, -10, -20]"
      ]
     },
     "execution_count": 7,
     "metadata": {},
     "output_type": "execute_result"
    }
   ],
   "source": [
    "matrix_wb =\n",
    "[\n",
    "\n",
    "[-20,-10,-10,-10,-10,-10,-10,-20],\n",
    "[-10,  0,  0,  0,  0,  0,  0,-10],\n",
    "[-10,  0,  5, 10, 10,  5,  0,-10],\n",
    "[-10,  5,  5, 10, 10,  5,  5,-10],\n",
    "[-10,  0, 10, 10, 10, 10,  0,-10],\n",
    "[-10, 10, 10, 10, 10, 10, 10,-10],\n",
    "[-10,  5,  0,  0,  0,  0,  5,-10],\n",
    "[-20,-10,-10,-10,-10,-10,-10,-20],\n",
    "                                    \n",
    "]"
   ]
  },
  {
   "cell_type": "markdown",
   "id": "a10df931",
   "metadata": {},
   "source": [
    "White Rook:"
   ]
  },
  {
   "cell_type": "code",
   "execution_count": 8,
   "id": "f12d9d5c",
   "metadata": {},
   "outputs": [
    {
     "data": {
      "text/plain": [
       "8-element Vector{Vector{Int64}}:\n",
       " [0, 0, 0, 0, 0, 0, 0, 0]\n",
       " [5, 10, 10, 10, 10, 10, 10, 5]\n",
       " [-5, 0, 0, 0, 0, 0, 0, -5]\n",
       " [-5, 0, 0, 0, 0, 0, 0, -5]\n",
       " [-5, 0, 0, 0, 0, 0, 0, -5]\n",
       " [-5, 0, 0, 0, 0, 0, 0, -5]\n",
       " [-5, 0, 0, 0, 0, 0, 0, -5]\n",
       " [0, 0, 0, 5, 5, 0, 0, 0]"
      ]
     },
     "execution_count": 8,
     "metadata": {},
     "output_type": "execute_result"
    }
   ],
   "source": [
    "matrix_wr =\n",
    "[\n",
    "\n",
    "[  0,  0,  0,  0,  0,  0,  0,  0],\n",
    "[  5, 10, 10, 10, 10, 10, 10,  5],\n",
    "[ -5,  0,  0,  0,  0,  0,  0, -5],\n",
    "[ -5,  0,  0,  0,  0,  0,  0, -5],\n",
    "[ -5,  0,  0,  0,  0,  0,  0, -5],\n",
    "[ -5,  0,  0,  0,  0,  0,  0, -5],\n",
    "[ -5,  0,  0,  0,  0,  0,  0, -5],\n",
    "[  0,  0,  0,  5,  5,  0,  0,  0]\n",
    "                                \n",
    "]"
   ]
  },
  {
   "cell_type": "markdown",
   "id": "19687ed1",
   "metadata": {},
   "source": [
    "White Queen:"
   ]
  },
  {
   "cell_type": "code",
   "execution_count": 9,
   "id": "46f0b662",
   "metadata": {},
   "outputs": [
    {
     "data": {
      "text/plain": [
       "8-element Vector{Vector{Int64}}:\n",
       " [-20, -10, -10, -5, -5, -10, -10, -20]\n",
       " [-10, 0, 0, 0, 0, 0, 0, -10]\n",
       " [-10, 0, 5, 5, 5, 5, 0, -10]\n",
       " [-5, 0, 5, 5, 5, 5, 0, -5]\n",
       " [0, 0, 5, 5, 5, 5, 0, -5]\n",
       " [-10, 5, 5, 5, 5, 5, 0, -10]\n",
       " [-10, 0, 5, 0, 0, 0, 0, -10]\n",
       " [-20, -10, -10, -5, -5, -10, -10, -20]"
      ]
     },
     "execution_count": 9,
     "metadata": {},
     "output_type": "execute_result"
    }
   ],
   "source": [
    "matrix_wq = \n",
    "[\n",
    "    \n",
    "[-20,-10,-10, -5, -5,-10,-10,-20],\n",
    "[-10,  0,  0,  0,  0,  0,  0,-10],\n",
    "[-10,  0,  5,  5,  5,  5,  0,-10],\n",
    "[ -5,  0,  5,  5,  5,  5,  0, -5],\n",
    "[  0,  0,  5,  5,  5,  5,  0, -5],\n",
    "[-10,  5,  5,  5,  5,  5,  0,-10],\n",
    "[-10,  0,  5,  0,  0,  0,  0,-10],\n",
    "[-20,-10,-10, -5, -5,-10,-10,-20]\n",
    "                                    \n",
    "]"
   ]
  },
  {
   "cell_type": "markdown",
   "id": "e7f61ee0",
   "metadata": {},
   "source": [
    "White King:"
   ]
  },
  {
   "cell_type": "code",
   "execution_count": 10,
   "id": "1194fede",
   "metadata": {},
   "outputs": [
    {
     "data": {
      "text/plain": [
       "8-element Vector{Vector{Int64}}:\n",
       " [-30, -40, -40, -50, -50, -40, -40, -30]\n",
       " [-30, -40, -40, -50, -50, -40, -40, -30]\n",
       " [-30, -40, -40, -50, -50, -40, -40, -30]\n",
       " [-30, -40, -40, -50, -50, -40, -40, -30]\n",
       " [-20, -30, -30, -40, -40, -30, -30, -20]\n",
       " [-10, -20, -20, -20, -20, -20, -20, -10]\n",
       " [20, 20, 0, 0, 0, 0, 20, 20]\n",
       " [20, 30, 10, 0, 0, 10, 30, 20]"
      ]
     },
     "execution_count": 10,
     "metadata": {},
     "output_type": "execute_result"
    }
   ],
   "source": [
    "matrix_wk_mg = \n",
    "[\n",
    "    \n",
    "[-30,-40,-40,-50,-50,-40,-40,-30],\n",
    "[-30,-40,-40,-50,-50,-40,-40,-30],\n",
    "[-30,-40,-40,-50,-50,-40,-40,-30],\n",
    "[-30,-40,-40,-50,-50,-40,-40,-30],\n",
    "[-20,-30,-30,-40,-40,-30,-30,-20],\n",
    "[-10,-20,-20,-20,-20,-20,-20,-10],\n",
    "[ 20, 20,  0,  0,  0,  0, 20, 20],\n",
    "[ 20, 30, 10,  0,  0, 10, 30, 20]\n",
    "\n",
    "]\n",
    "\n"
   ]
  },
  {
   "cell_type": "code",
   "execution_count": 11,
   "id": "cf5eb0e1",
   "metadata": {},
   "outputs": [
    {
     "data": {
      "text/plain": [
       "8-element Vector{Vector{Int64}}:\n",
       " [-50, -40, -30, -20, -20, -30, -40, -50]\n",
       " [-30, -20, -10, 0, 0, -10, -20, -30]\n",
       " [-30, -10, 20, 30, 30, 20, -10, -30]\n",
       " [-30, -10, 30, 40, 40, 30, -10, -30]\n",
       " [-30, -10, 30, 40, 40, 30, -10, -30]\n",
       " [-30, -10, 20, 30, 30, 20, -10, -30]\n",
       " [-30, -30, 0, 0, 0, 0, -30, -30]\n",
       " [-50, -30, -30, -30, -30, -30, -30, -50]"
      ]
     },
     "execution_count": 11,
     "metadata": {},
     "output_type": "execute_result"
    }
   ],
   "source": [
    "matrix_wk_eg =\n",
    "[\n",
    "    \n",
    "[-50,-40,-30,-20,-20,-30,-40,-50],\n",
    "[-30,-20,-10,  0,  0,-10,-20,-30],\n",
    "[-30,-10, 20, 30, 30, 20,-10,-30],\n",
    "[-30,-10, 30, 40, 40, 30,-10,-30],\n",
    "[-30,-10, 30, 40, 40, 30,-10,-30],\n",
    "[-30,-10, 20, 30, 30, 20,-10,-30],\n",
    "[-30,-30,  0,  0,  0,  0,-30,-30],\n",
    "[-50,-30,-30,-30,-30,-30,-30,-50]\n",
    "                                    \n",
    "]"
   ]
  },
  {
   "cell_type": "markdown",
   "id": "c60cd8f7",
   "metadata": {},
   "source": [
    "***"
   ]
  },
  {
   "cell_type": "markdown",
   "id": "222c45cf",
   "metadata": {},
   "source": [
    "Für die schwarzen Spielfiguren wird lediglich die Matrix des weißen Gegenparts an der x-Achse gespiegelt."
   ]
  },
  {
   "cell_type": "markdown",
   "id": "52f2f267",
   "metadata": {},
   "source": [
    "Black Pawn:"
   ]
  },
  {
   "cell_type": "code",
   "execution_count": 12,
   "id": "11ad6be9",
   "metadata": {},
   "outputs": [
    {
     "data": {
      "text/plain": [
       "8-element Vector{Vector{Int64}}:\n",
       " [0, 0, 0, 0, 0, 0, 0, 0]\n",
       " [5, 10, 10, -20, -20, 10, 10, 5]\n",
       " [5, -5, -10, 0, 0, -10, -5, 5]\n",
       " [0, 0, 0, 20, 20, 0, 0, 0]\n",
       " [5, 5, 10, 25, 25, 10, 5, 5]\n",
       " [10, 10, 20, 30, 30, 20, 10, 10]\n",
       " [50, 50, 50, 50, 50, 50, 50, 50]\n",
       " [0, 0, 0, 0, 0, 0, 0, 0]"
      ]
     },
     "execution_count": 12,
     "metadata": {},
     "output_type": "execute_result"
    }
   ],
   "source": [
    "matrix_bp = reverse(matrix_wp, dims = 1)"
   ]
  },
  {
   "cell_type": "markdown",
   "id": "7c3a8bb8",
   "metadata": {},
   "source": [
    "Black Knight:"
   ]
  },
  {
   "cell_type": "code",
   "execution_count": 13,
   "id": "b72fefb6",
   "metadata": {},
   "outputs": [
    {
     "data": {
      "text/plain": [
       "8-element Vector{Vector{Int64}}:\n",
       " [-50, -40, -30, -30, -30, -30, -40, -50]\n",
       " [-40, -20, 0, 5, 5, 0, -20, -40]\n",
       " [-30, 5, 10, 15, 15, 10, 5, -30]\n",
       " [-30, 0, 15, 20, 20, 15, 0, -30]\n",
       " [-30, 5, 15, 20, 20, 15, 5, -30]\n",
       " [-30, 0, 10, 15, 15, 10, 0, -30]\n",
       " [-40, -20, 0, 0, 0, 0, -20, -40]\n",
       " [-50, -40, -30, -30, -30, -30, -40, -50]"
      ]
     },
     "execution_count": 13,
     "metadata": {},
     "output_type": "execute_result"
    }
   ],
   "source": [
    "matrix_bn = reverse(matrix_wn, dims = 1)"
   ]
  },
  {
   "cell_type": "markdown",
   "id": "de58842b",
   "metadata": {},
   "source": [
    "Black Bishop:"
   ]
  },
  {
   "cell_type": "code",
   "execution_count": 14,
   "id": "c3170594",
   "metadata": {},
   "outputs": [
    {
     "data": {
      "text/plain": [
       "8-element Vector{Vector{Int64}}:\n",
       " [-20, -10, -10, -10, -10, -10, -10, -20]\n",
       " [-10, 5, 0, 0, 0, 0, 5, -10]\n",
       " [-10, 10, 10, 10, 10, 10, 10, -10]\n",
       " [-10, 0, 10, 10, 10, 10, 0, -10]\n",
       " [-10, 5, 5, 10, 10, 5, 5, -10]\n",
       " [-10, 0, 5, 10, 10, 5, 0, -10]\n",
       " [-10, 0, 0, 0, 0, 0, 0, -10]\n",
       " [-20, -10, -10, -10, -10, -10, -10, -20]"
      ]
     },
     "execution_count": 14,
     "metadata": {},
     "output_type": "execute_result"
    }
   ],
   "source": [
    "matrix_bb = reverse(matrix_wb, dims = 1)"
   ]
  },
  {
   "cell_type": "markdown",
   "id": "bf1ddaf4",
   "metadata": {},
   "source": [
    "Black Rook:"
   ]
  },
  {
   "cell_type": "code",
   "execution_count": 15,
   "id": "76d4eab9",
   "metadata": {},
   "outputs": [
    {
     "data": {
      "text/plain": [
       "8-element Vector{Vector{Int64}}:\n",
       " [0, 0, 0, 5, 5, 0, 0, 0]\n",
       " [-5, 0, 0, 0, 0, 0, 0, -5]\n",
       " [-5, 0, 0, 0, 0, 0, 0, -5]\n",
       " [-5, 0, 0, 0, 0, 0, 0, -5]\n",
       " [-5, 0, 0, 0, 0, 0, 0, -5]\n",
       " [-5, 0, 0, 0, 0, 0, 0, -5]\n",
       " [5, 10, 10, 10, 10, 10, 10, 5]\n",
       " [0, 0, 0, 0, 0, 0, 0, 0]"
      ]
     },
     "execution_count": 15,
     "metadata": {},
     "output_type": "execute_result"
    }
   ],
   "source": [
    "matrix_br = reverse(matrix_wr, dims = 1)"
   ]
  },
  {
   "cell_type": "markdown",
   "id": "21df3a44",
   "metadata": {},
   "source": [
    "Black Queen:"
   ]
  },
  {
   "cell_type": "code",
   "execution_count": 16,
   "id": "32bcc9e0",
   "metadata": {},
   "outputs": [
    {
     "data": {
      "text/plain": [
       "8-element Vector{Vector{Int64}}:\n",
       " [-20, -10, -10, -5, -5, -10, -10, -20]\n",
       " [-10, 0, 5, 0, 0, 0, 0, -10]\n",
       " [-10, 5, 5, 5, 5, 5, 0, -10]\n",
       " [0, 0, 5, 5, 5, 5, 0, -5]\n",
       " [-5, 0, 5, 5, 5, 5, 0, -5]\n",
       " [-10, 0, 5, 5, 5, 5, 0, -10]\n",
       " [-10, 0, 0, 0, 0, 0, 0, -10]\n",
       " [-20, -10, -10, -5, -5, -10, -10, -20]"
      ]
     },
     "execution_count": 16,
     "metadata": {},
     "output_type": "execute_result"
    }
   ],
   "source": [
    "matrix_bq = reverse(matrix_wq, dims = 1)"
   ]
  },
  {
   "cell_type": "markdown",
   "id": "768dc26d",
   "metadata": {},
   "source": [
    "Black King:"
   ]
  },
  {
   "cell_type": "code",
   "execution_count": 17,
   "id": "8cd29df3",
   "metadata": {},
   "outputs": [
    {
     "data": {
      "text/plain": [
       "8-element Vector{Vector{Int64}}:\n",
       " [20, 30, 10, 0, 0, 10, 30, 20]\n",
       " [20, 20, 0, 0, 0, 0, 20, 20]\n",
       " [-10, -20, -20, -20, -20, -20, -20, -10]\n",
       " [-20, -30, -30, -40, -40, -30, -30, -20]\n",
       " [-30, -40, -40, -50, -50, -40, -40, -30]\n",
       " [-30, -40, -40, -50, -50, -40, -40, -30]\n",
       " [-30, -40, -40, -50, -50, -40, -40, -30]\n",
       " [-30, -40, -40, -50, -50, -40, -40, -30]"
      ]
     },
     "execution_count": 17,
     "metadata": {},
     "output_type": "execute_result"
    }
   ],
   "source": [
    "matrix_bk_mg = reverse(matrix_wk_mg, dims = 1)"
   ]
  },
  {
   "cell_type": "code",
   "execution_count": 18,
   "id": "0933e978",
   "metadata": {},
   "outputs": [
    {
     "data": {
      "text/plain": [
       "8-element Vector{Vector{Int64}}:\n",
       " [-50, -30, -30, -30, -30, -30, -30, -50]\n",
       " [-30, -30, 0, 0, 0, 0, -30, -30]\n",
       " [-30, -10, 20, 30, 30, 20, -10, -30]\n",
       " [-30, -10, 30, 40, 40, 30, -10, -30]\n",
       " [-30, -10, 30, 40, 40, 30, -10, -30]\n",
       " [-30, -10, 20, 30, 30, 20, -10, -30]\n",
       " [-30, -20, -10, 0, 0, -10, -20, -30]\n",
       " [-50, -40, -30, -20, -20, -30, -40, -50]"
      ]
     },
     "execution_count": 18,
     "metadata": {},
     "output_type": "execute_result"
    }
   ],
   "source": [
    "matrix_bk_eg = reverse(matrix_wk_eg, dims = 1)"
   ]
  },
  {
   "cell_type": "markdown",
   "id": "bb79ae6a",
   "metadata": {},
   "source": [
    "***"
   ]
  },
  {
   "cell_type": "markdown",
   "id": "79caf7fc",
   "metadata": {},
   "source": [
    "Zuletzt werden die verschiedenen Matrixen in einem Dictionary zusammengefast. Dies ist für ein schnelles und einfaches Mapping zwischen den Figuren und ihrer Matrix nötig."
   ]
  },
  {
   "cell_type": "code",
   "execution_count": 19,
   "id": "ebdbb407",
   "metadata": {
    "scrolled": true
   },
   "outputs": [
    {
     "data": {
      "text/plain": [
       "Dict{Piece, Vector{Vector{Int64}}} with 12 entries:\n",
       "  PIECE_WQ => [[-20, -10, -10, -5, -5, -10, -10, -20], [-10, 0, 0, 0, 0, 0, 0, …\n",
       "  PIECE_BQ => [[-20, -10, -10, -5, -5, -10, -10, -20], [-10, 0, 5, 0, 0, 0, 0, …\n",
       "  PIECE_WN => [[-50, -40, -30, -30, -30, -30, -40, -50], [-40, -20, 0, 0, 0, 0,…\n",
       "  PIECE_BK => [[20, 30, 10, 0, 0, 10, 30, 20], [20, 20, 0, 0, 0, 0, 20, 20], [-…\n",
       "  PIECE_WP => [[0, 0, 0, 0, 0, 0, 0, 0], [50, 50, 50, 50, 50, 50, 50, 50], [10,…\n",
       "  PIECE_WB => [[-20, -10, -10, -10, -10, -10, -10, -20], [-10, 0, 0, 0, 0, 0, 0…\n",
       "  PIECE_BB => [[-20, -10, -10, -10, -10, -10, -10, -20], [-10, 5, 0, 0, 0, 0, 5…\n",
       "  PIECE_BP => [[0, 0, 0, 0, 0, 0, 0, 0], [5, 10, 10, -20, -20, 10, 10, 5], [5, …\n",
       "  PIECE_BN => [[-50, -40, -30, -30, -30, -30, -40, -50], [-40, -20, 0, 5, 5, 0,…\n",
       "  PIECE_WR => [[0, 0, 0, 0, 0, 0, 0, 0], [5, 10, 10, 10, 10, 10, 10, 5], [-5, 0…\n",
       "  PIECE_WK => [[-30, -40, -40, -50, -50, -40, -40, -30], [-30, -40, -40, -50, -…\n",
       "  PIECE_BR => [[0, 0, 0, 5, 5, 0, 0, 0], [-5, 0, 0, 0, 0, 0, 0, -5], [-5, 0, 0,…"
      ]
     },
     "execution_count": 19,
     "metadata": {},
     "output_type": "execute_result"
    }
   ],
   "source": [
    "piece_dict = Dict(PIECE_WP => matrix_wp, PIECE_WN => matrix_wn, PIECE_WB => matrix_wb, PIECE_WR => matrix_wr, PIECE_WQ => matrix_wq, PIECE_WK => matrix_wk_mg, PIECE_BP => matrix_bp, PIECE_BN => matrix_bn, PIECE_BB => matrix_bb, PIECE_BR => matrix_br, PIECE_BQ => matrix_bq, PIECE_BK => matrix_bk_mg)"
   ]
  },
  {
   "cell_type": "markdown",
   "id": "c92cb249",
   "metadata": {},
   "source": [
    "***"
   ]
  },
  {
   "cell_type": "markdown",
   "id": "9fc4ab44",
   "metadata": {},
   "source": [
    "Anschließend werden drei Hilfsfunktionen definiert, die im Notebook [Simple Evaluation Function](<3.1 Simple Evaluation Function.ipynb>) verwendet werden."
   ]
  },
  {
   "cell_type": "code",
   "execution_count": 20,
   "id": "2e610a30",
   "metadata": {},
   "outputs": [
    {
     "data": {
      "text/plain": [
       "get_matrix_from_piece (generic function with 1 method)"
      ]
     },
     "execution_count": 20,
     "metadata": {},
     "output_type": "execute_result"
    }
   ],
   "source": [
    "#dictionary lookup to get the matrix of the found piece\n",
    "\n",
    "function get_matrix_from_piece(piece, piece_dict)\n",
    "    if haskey(piece_dict, piece) == true\n",
    "        matrix = get(piece_dict, piece, \"Error\")\n",
    "        return matrix\n",
    "    else\n",
    "        return \"Error: Key is not in piece_dict\" \n",
    "    end\n",
    "end"
   ]
  },
  {
   "cell_type": "code",
   "execution_count": 21,
   "id": "51576de4",
   "metadata": {},
   "outputs": [
    {
     "data": {
      "text/plain": [
       "get_weight_from_piece (generic function with 1 method)"
      ]
     },
     "execution_count": 21,
     "metadata": {},
     "output_type": "execute_result"
    }
   ],
   "source": [
    "# dictionary lookup to get the weight of the found piece\n",
    "\n",
    "function get_weight_from_piece(piece, piece_weight)\n",
    "    if haskey(piece_weight, piece) == true\n",
    "        weight = get(piece_weight, piece, \"Error\")\n",
    "        return weight\n",
    "    else\n",
    "        return \"Error: Key is not in piece_weight\" \n",
    "    end\n",
    "end"
   ]
  },
  {
   "cell_type": "code",
   "execution_count": 22,
   "id": "43ab4f35",
   "metadata": {},
   "outputs": [
    {
     "data": {
      "text/plain": [
       "valueOf (generic function with 1 method)"
      ]
     },
     "execution_count": 22,
     "metadata": {},
     "output_type": "execute_result"
    }
   ],
   "source": [
    "# function to calculate the value of a specific piece on a specifc square\n",
    "\n",
    "function valueOf(piece, square)\n",
    "    if piece === EMPTY\n",
    "        return 0\n",
    "    end\n",
    "    matrix = get_matrix_from_piece(piece, piece_dict)\n",
    "    weight = get_weight_from_piece(piece, piece_weight)\n",
    "    piece_value = matrix[rank(square).val][file(square).val] + weight\n",
    "    return piece_value\n",
    "end"
   ]
  },
  {
   "cell_type": "markdown",
   "id": "edd85a58",
   "metadata": {},
   "source": [
    "***"
   ]
  },
  {
   "cell_type": "markdown",
   "id": "126b8b65",
   "metadata": {},
   "source": [
    "by Florian Stach and Luc Kaiser"
   ]
  },
  {
   "cell_type": "markdown",
   "id": "8996491b",
   "metadata": {},
   "source": [
    "Last updated: 30/11/2022"
   ]
  },
  {
   "cell_type": "markdown",
   "id": "c4a280d4",
   "metadata": {},
   "source": [
    "***"
   ]
  }
 ],
 "metadata": {
  "kernelspec": {
   "display_name": "Julia 1.8.2",
   "language": "julia",
   "name": "julia-1.8"
  },
  "language_info": {
   "file_extension": ".jl",
   "mimetype": "application/julia",
   "name": "julia",
   "version": "1.8.2"
  }
 },
 "nbformat": 4,
 "nbformat_minor": 5
}
