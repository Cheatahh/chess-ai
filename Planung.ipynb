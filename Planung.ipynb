{
 "cells": [
  {
   "cell_type": "markdown",
   "id": "ea00f44f",
   "metadata": {},
   "source": [
    "Dieses Dokument ist Eigentum von Luc Kaiser und Florian Stach und dient der Plannungsübersicht."
   ]
  },
  {
   "cell_type": "markdown",
   "id": "ba262945",
   "metadata": {},
   "source": [
    "***"
   ]
  },
  {
   "cell_type": "markdown",
   "id": "aeaab2f1",
   "metadata": {},
   "source": [
    "Dieses Dokument wird sporatisch, nicht planmäßig upgedatet. Es wird jedoch spätestens eine Woche vor dem nächsten Meeting überarbeitet"
   ]
  },
  {
   "cell_type": "markdown",
   "id": "be5b8200",
   "metadata": {},
   "source": [
    "Dieses Dokument basiert auf dem folgenden [OneNote-Notizbuch](https://1drv.ms/u/s!Ase-cP-dTx7Pj9h_fN4P1BWSHu0Apg?e=jXsrMb)"
   ]
  },
  {
   "cell_type": "markdown",
   "id": "a9828d59",
   "metadata": {},
   "source": [
    "Letztes Update: 02/11/2022"
   ]
  },
  {
   "cell_type": "markdown",
   "id": "1594c2ab",
   "metadata": {},
   "source": [
    "***"
   ]
  },
  {
   "cell_type": "markdown",
   "id": "2dc12f1d",
   "metadata": {},
   "source": [
    "Vorgehen Dokumentation: Gesamt ca. 70-80 Seiten\n",
    "\n",
    "Grundlagen: ca. 30 Seiten\n",
    "\n",
    "\t[ ] 1. Einarbeitung Python\n",
    "\t\t[ ] 1.1. Was das?\n",
    "\t\t[ ] 1.2. Wofür benutzt man es? (allgemein)\n",
    "\t\t[ ] 1.3. Warum benutzen WIR es?\n",
    "\t\t[ ] 1.4. Wie funktioniert es?\n",
    "\t\t[ ] 1.5. WENIGE BIS KEINE Funktionen erklären\n",
    "\t[ ] 2. Einarbeitung Jupyter Notebook\n",
    "\t\t[ ] 2.1. Was das?\n",
    "\t\t[ ] 2.2. Wofür benutzt man es? (allgemein)\n",
    "\t\t[ ] 2.3. Warum benutzen WIR es?\n",
    "\t\t[ ] 2.4. Wie funktioniert es?\n",
    "\t\t[ ] 2.5. WENIGE BIS KEINE Funktionen erklären\n",
    "\t\t[ ] 2.6. LaTex\n",
    "\t[ ] 3. Einarbeitung Julia\n",
    "\t\t[ ] 3.1. Was das?\n",
    "\t\t[ ] 3.2. Wofür benutzt man es? (allgemein)\n",
    "\t\t[ ] 3.3. Warum benutzen WIR es?\n",
    "\t\t[ ] 3.4. Wie funktioniert es?\n",
    "\t\t[ ] 3.5. WENIGE BIS KEINE Funktionen erklären\n",
    "\t\t[ ] 3.6. Refactoring\n",
    "\t[ ] 4. Einarbeitung Chess.jl\n",
    "\t\t[ ] 4.1. Was das?\n",
    "\t\t[ ] 4.2. Kurze Erklärung Schach\n",
    "\t\t[ ] 4.3. Komplexität Schach im Programmieren\n",
    "\t\t[ ] 4.4. Erklärung warum wir Chess.jl nutzen (nicht unsere Aufgabe Schach zu programmieren)\n",
    "\t[ ] 5. Tests (ca. 3-5 Seiten)\n",
    "\t\t[ ] 5.1. Warum Tests?\n",
    "\t\t[ ] 5.2. Welche Tests gibt es?\n",
    "\t\t[ ] 5.3. Welche Tests nutzen wir und warum?\n",
    "\t[ ] 6. Projektmanagement ( ca. 2-3 Seiten)\n",
    "\t\t[ ] 6.1. Verwendetes Modell\n",
    "\t\t[ ] 6.2. Sowohl interne Orga als auch externe (mit Prof)\n",
    "\t\t[ ] 6.3. Wer ist Shareholder etc.\n",
    "\t\t[ ] 6.4. Agil / Klassisch?\n",
    "\t\t\t[ ] 6.4.1. Vorteile / Nachteile\n",
    "\t\t\t[ ] 6.4.2. Alternativen"
   ]
  },
  {
   "cell_type": "markdown",
   "id": "9f355a2f",
   "metadata": {},
   "source": [
    "***"
   ]
  },
  {
   "cell_type": "markdown",
   "id": "731146bd",
   "metadata": {},
   "source": [
    "Phase 1: \n",
    "Durchführung von Einarbeiten Julia + Chess.jl, \n",
    "Programm mit Random Zügen erstellen, \n",
    "Verifikation indem gegen Programm gespielt wird + Unit / Funktionstests\n",
    "\n",
    "\t[ ] 1. Durchführung\n",
    "\t\t[ ] 1.1. Probleme\n",
    "\t\t[ ] 1.2. Lösung\n",
    "\t[ ] 2. Tests --> Unit / Funktionstest\n",
    "\t\t[ ] 2.1. Probleme\n",
    "\t\t[ ] 2.2. Lösung\n",
    "\t[ ] 3. Ergebnis ( Verifikation indem gegen Programm gespielt wird)\n",
    "\t[ ] 4. Kurze Diskussion des Ergebnis"
   ]
  },
  {
   "cell_type": "markdown",
   "id": "0f6fad5a",
   "metadata": {},
   "source": [
    "Phase 2:\n",
    "\n",
    "\t[ ] 1. Alpha-beta-Pruning\n",
    "\t\t[ ] 1.1. Tests\n",
    "\t\t\t[ ] 1.1.1. Problemen\n",
    "\t\t\t[ ] 1.1.2. Lösung\n",
    "\t[ ] 2. Transposition\n",
    "\t\t[ ] 2.1 Tests\n",
    "\t\t\t[ ] 2.1.1. Problemen\n",
    "\t\t\t[ ] 2.1.2 Lösung\n",
    "\t[ ] 3. Simplified Evaluation Funtion\n",
    "\t\t[ ] 3.1. Tests\n",
    "\t\t\t[ ] 3.1.1. Problemen\n",
    "\t\t\t[ ] 3.1.2. Lösung\n",
    "\t[ ] 4. Quiescene Search\n",
    "\t\t[ ] 4.1. Tests\n",
    "\t\t\t[ ] 4.1.1. Problemen\n",
    "\t\t\t[ ] 4.1.2. Lösung\n",
    "\t[ ] 5. Testen Gegen \"Stockfish\""
   ]
  },
  {
   "cell_type": "markdown",
   "id": "ba262945",
   "metadata": {},
   "source": [
    "***"
   ]
  },
  {
   "cell_type": "markdown",
   "id": "b469ed07",
   "metadata": {},
   "source": [
    "Änderungen des Dokumentes vorbehalten."
   ]
  }
 ],
 "metadata": {
  "kernelspec": {
   "display_name": "Julia 1.8.2",
   "language": "julia",
   "name": "julia-1.8"
  },
  "language_info": {
   "file_extension": ".jl",
   "mimetype": "application/julia",
   "name": "julia",
   "version": "1.8.2"
  }
 },
 "nbformat": 4,
 "nbformat_minor": 5
}
