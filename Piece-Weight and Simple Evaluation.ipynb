{
 "cells": [
  {
   "cell_type": "code",
   "execution_count": 1,
   "id": "493667b9",
   "metadata": {},
   "outputs": [],
   "source": [
    "using Chess"
   ]
  },
  {
   "cell_type": "markdown",
   "id": "53b2543d",
   "metadata": {},
   "source": [
    "In diesem Notebook werden den verschiedenen Spielfiguren ihre Werte zugeordnet. Dies ist für die Implemtierung des MiniMax-Algorithmus wichtig."
   ]
  },
  {
   "cell_type": "markdown",
   "id": "6ab28afa",
   "metadata": {},
   "source": [
    "Mit Hilfe von dictionaries die Werte festlegen"
   ]
  },
  {
   "cell_type": "code",
   "execution_count": 2,
   "id": "4b22cc77",
   "metadata": {
    "scrolled": false
   },
   "outputs": [
    {
     "data": {
      "text/plain": [
       "Dict{Piece, Int64} with 12 entries:\n",
       "  PIECE_WP => 100\n",
       "  PIECE_WR => 500\n",
       "  PIECE_WN => 320\n",
       "  PIECE_BN => 320\n",
       "  PIECE_BQ => 900\n",
       "  PIECE_WQ => 900\n",
       "  PIECE_BR => 500\n",
       "  PIECE_BP => 100\n",
       "  PIECE_BK => 20000\n",
       "  PIECE_WK => 20000\n",
       "  PIECE_WB => 330\n",
       "  PIECE_BB => 330"
      ]
     },
     "execution_count": 2,
     "metadata": {},
     "output_type": "execute_result"
    }
   ],
   "source": [
    "piece_weight = Dict(PIECE_WP => 100, PIECE_WN => 320, PIECE_WB => 330, PIECE_WR => 500, PIECE_WQ => 900, PIECE_WK => 20000, PIECE_BP => 100, PIECE_BN => 320, PIECE_BB => 330, PIECE_BR => 500, PIECE_BQ => 900, PIECE_BK => 20000)"
   ]
  },
  {
   "cell_type": "markdown",
   "id": "edaf3b3d",
   "metadata": {},
   "source": [
    "***"
   ]
  },
  {
   "cell_type": "markdown",
   "id": "9a7a82da",
   "metadata": {},
   "source": [
    "Nachfolgend werden die [Piece-Square Tables](https://www.chessprogramming.org/Simplified_Evaluation_Function) eingeführt. Zuerst für die weißen Spielfiguren:"
   ]
  },
  {
   "cell_type": "markdown",
   "id": "f2933496",
   "metadata": {},
   "source": [
    "White Pawn:"
   ]
  },
  {
   "cell_type": "code",
   "execution_count": 3,
   "id": "beb1d8d1",
   "metadata": {},
   "outputs": [
    {
     "data": {
      "text/plain": [
       "8-element Vector{Vector{Int64}}:\n",
       " [0, 0, 0, 0, 0, 0, 0, 0]\n",
       " [50, 50, 50, 50, 50, 50, 50, 50]\n",
       " [10, 10, 20, 30, 30, 20, 10, 10]\n",
       " [5, 5, 10, 25, 25, 10, 5, 5]\n",
       " [0, 0, 0, 20, 20, 0, 0, 0]\n",
       " [5, -5, -10, 0, 0, -10, -5, 5]\n",
       " [5, 10, 10, -20, -20, 10, 10, 5]\n",
       " [0, 0, 0, 0, 0, 0, 0, 0]"
      ]
     },
     "execution_count": 3,
     "metadata": {},
     "output_type": "execute_result"
    }
   ],
   "source": [
    "matrix_wp =\n",
    "[ \n",
    "\n",
    "[0,  0,  0,  0,  0,  0,  0,  0],\n",
    "[50, 50, 50, 50, 50, 50, 50, 50],\n",
    "[10, 10, 20, 30, 30, 20, 10, 10],\n",
    "[5,  5, 10, 25, 25, 10,  5,  5],\n",
    "[0,  0,  0, 20, 20,  0,  0,  0],\n",
    "[5, -5,-10,  0,  0,-10, -5,  5],\n",
    "[5, 10, 10,-20,-20, 10, 10,  5],\n",
    "[0,  0,  0,  0,  0,  0,  0,  0]\n",
    "    \n",
    "]\n"
   ]
  },
  {
   "cell_type": "markdown",
   "id": "25d19c08",
   "metadata": {},
   "source": [
    "White Knight:"
   ]
  },
  {
   "cell_type": "code",
   "execution_count": 4,
   "id": "1681460c",
   "metadata": {},
   "outputs": [
    {
     "data": {
      "text/plain": [
       "8-element Vector{Vector{Int64}}:\n",
       " [-50, -40, -30, -30, -30, -30, -40, -50]\n",
       " [-40, -20, 0, 0, 0, 0, -20, -40]\n",
       " [-30, 0, 10, 15, 15, 10, 0, -30]\n",
       " [-30, 5, 15, 20, 20, 15, 5, -30]\n",
       " [-30, 0, 15, 20, 20, 15, 0, -30]\n",
       " [-30, 5, 10, 15, 15, 10, 5, -30]\n",
       " [-40, -20, 0, 5, 5, 0, -20, -40]\n",
       " [-50, -40, -30, -30, -30, -30, -40, -50]"
      ]
     },
     "execution_count": 4,
     "metadata": {},
     "output_type": "execute_result"
    }
   ],
   "source": [
    "matrix_wn =\n",
    "[\n",
    "\n",
    "[-50,-40,-30,-30,-30,-30,-40,-50],\n",
    "[-40,-20,  0,  0,  0,  0,-20,-40],\n",
    "[-30,  0, 10, 15, 15, 10,  0,-30],\n",
    "[-30,  5, 15, 20, 20, 15,  5,-30],\n",
    "[-30,  0, 15, 20, 20, 15,  0,-30],\n",
    "[-30,  5, 10, 15, 15, 10,  5,-30],\n",
    "[-40,-20,  0,  5,  5,  0,-20,-40],\n",
    "[-50,-40,-30,-30,-30,-30,-40,-50]\n",
    "    \n",
    "]"
   ]
  },
  {
   "cell_type": "markdown",
   "id": "e8188d60",
   "metadata": {},
   "source": [
    "White Bishop:"
   ]
  },
  {
   "cell_type": "code",
   "execution_count": 5,
   "id": "0745cf45",
   "metadata": {},
   "outputs": [
    {
     "data": {
      "text/plain": [
       "8-element Vector{Vector{Int64}}:\n",
       " [-20, -10, -10, -10, -10, -10, -10, -20]\n",
       " [-10, 0, 0, 0, 0, 0, 0, -10]\n",
       " [-10, 0, 5, 10, 10, 5, 0, -10]\n",
       " [-10, 5, 5, 10, 10, 5, 5, -10]\n",
       " [-10, 0, 10, 10, 10, 10, 0, -10]\n",
       " [-10, 10, 10, 10, 10, 10, 10, -10]\n",
       " [-10, 5, 0, 0, 0, 0, 5, -10]\n",
       " [-20, -10, -10, -10, -10, -10, -10, -20]"
      ]
     },
     "execution_count": 5,
     "metadata": {},
     "output_type": "execute_result"
    }
   ],
   "source": [
    "matrix_wb =\n",
    "[\n",
    "\n",
    "[-20,-10,-10,-10,-10,-10,-10,-20],\n",
    "[-10,  0,  0,  0,  0,  0,  0,-10],\n",
    "[-10,  0,  5, 10, 10,  5,  0,-10],\n",
    "[-10,  5,  5, 10, 10,  5,  5,-10],\n",
    "[-10,  0, 10, 10, 10, 10,  0,-10],\n",
    "[-10, 10, 10, 10, 10, 10, 10,-10],\n",
    "[-10,  5,  0,  0,  0,  0,  5,-10],\n",
    "[-20,-10,-10,-10,-10,-10,-10,-20],\n",
    "                                    \n",
    "]"
   ]
  },
  {
   "cell_type": "markdown",
   "id": "a10df931",
   "metadata": {},
   "source": [
    "White Rook:"
   ]
  },
  {
   "cell_type": "code",
   "execution_count": 6,
   "id": "f12d9d5c",
   "metadata": {},
   "outputs": [
    {
     "data": {
      "text/plain": [
       "8-element Vector{Vector{Int64}}:\n",
       " [0, 0, 0, 0, 0, 0, 0, 0]\n",
       " [5, 10, 10, 10, 10, 10, 10, 5]\n",
       " [-5, 0, 0, 0, 0, 0, 0, -5]\n",
       " [-5, 0, 0, 0, 0, 0, 0, -5]\n",
       " [-5, 0, 0, 0, 0, 0, 0, -5]\n",
       " [-5, 0, 0, 0, 0, 0, 0, -5]\n",
       " [-5, 0, 0, 0, 0, 0, 0, -5]\n",
       " [0, 0, 0, 5, 5, 0, 0, 0]"
      ]
     },
     "execution_count": 6,
     "metadata": {},
     "output_type": "execute_result"
    }
   ],
   "source": [
    "matrix_wr =\n",
    "[\n",
    "\n",
    "[  0,  0,  0,  0,  0,  0,  0,  0],\n",
    "[  5, 10, 10, 10, 10, 10, 10,  5],\n",
    "[ -5,  0,  0,  0,  0,  0,  0, -5],\n",
    "[ -5,  0,  0,  0,  0,  0,  0, -5],\n",
    "[ -5,  0,  0,  0,  0,  0,  0, -5],\n",
    "[ -5,  0,  0,  0,  0,  0,  0, -5],\n",
    "[ -5,  0,  0,  0,  0,  0,  0, -5],\n",
    "[  0,  0,  0,  5,  5,  0,  0,  0]\n",
    "                                \n",
    "]"
   ]
  },
  {
   "cell_type": "markdown",
   "id": "19687ed1",
   "metadata": {},
   "source": [
    "White Queen:"
   ]
  },
  {
   "cell_type": "code",
   "execution_count": 7,
   "id": "46f0b662",
   "metadata": {},
   "outputs": [
    {
     "data": {
      "text/plain": [
       "8-element Vector{Vector{Int64}}:\n",
       " [-20, -10, -10, -5, -5, -10, -10, -20]\n",
       " [-10, 0, 0, 0, 0, 0, 0, -10]\n",
       " [-10, 0, 5, 5, 5, 5, 0, -10]\n",
       " [-5, 0, 5, 5, 5, 5, 0, -5]\n",
       " [0, 0, 5, 5, 5, 5, 0, -5]\n",
       " [-10, 5, 5, 5, 5, 5, 0, -10]\n",
       " [-10, 0, 5, 0, 0, 0, 0, -10]\n",
       " [-20, -10, -10, -5, -5, -10, -10, -20]"
      ]
     },
     "execution_count": 7,
     "metadata": {},
     "output_type": "execute_result"
    }
   ],
   "source": [
    "matrix_wq = \n",
    "[\n",
    "    \n",
    "[-20,-10,-10, -5, -5,-10,-10,-20],\n",
    "[-10,  0,  0,  0,  0,  0,  0,-10],\n",
    "[-10,  0,  5,  5,  5,  5,  0,-10],\n",
    "[ -5,  0,  5,  5,  5,  5,  0, -5],\n",
    "[  0,  0,  5,  5,  5,  5,  0, -5],\n",
    "[-10,  5,  5,  5,  5,  5,  0,-10],\n",
    "[-10,  0,  5,  0,  0,  0,  0,-10],\n",
    "[-20,-10,-10, -5, -5,-10,-10,-20]\n",
    "                                    \n",
    "]"
   ]
  },
  {
   "cell_type": "markdown",
   "id": "e7f61ee0",
   "metadata": {},
   "source": [
    "White King:"
   ]
  },
  {
   "cell_type": "code",
   "execution_count": 8,
   "id": "1194fede",
   "metadata": {},
   "outputs": [
    {
     "data": {
      "text/plain": [
       "8-element Vector{Vector{Int64}}:\n",
       " [-30, -40, -40, -50, -50, -40, -40, -30]\n",
       " [-30, -40, -40, -50, -50, -40, -40, -30]\n",
       " [-30, -40, -40, -50, -50, -40, -40, -30]\n",
       " [-30, -40, -40, -50, -50, -40, -40, -30]\n",
       " [-20, -30, -30, -40, -40, -30, -30, -20]\n",
       " [-10, -20, -20, -20, -20, -20, -20, -10]\n",
       " [20, 20, 0, 0, 0, 0, 20, 20]\n",
       " [20, 30, 10, 0, 0, 10, 30, 20]"
      ]
     },
     "execution_count": 8,
     "metadata": {},
     "output_type": "execute_result"
    }
   ],
   "source": [
    "matrix_wk_mg = \n",
    "[\n",
    "    \n",
    "[-30,-40,-40,-50,-50,-40,-40,-30],\n",
    "[-30,-40,-40,-50,-50,-40,-40,-30],\n",
    "[-30,-40,-40,-50,-50,-40,-40,-30],\n",
    "[-30,-40,-40,-50,-50,-40,-40,-30],\n",
    "[-20,-30,-30,-40,-40,-30,-30,-20],\n",
    "[-10,-20,-20,-20,-20,-20,-20,-10],\n",
    "[ 20, 20,  0,  0,  0,  0, 20, 20],\n",
    "[ 20, 30, 10,  0,  0, 10, 30, 20]\n",
    "\n",
    "]\n",
    "\n"
   ]
  },
  {
   "cell_type": "code",
   "execution_count": 9,
   "id": "cf5eb0e1",
   "metadata": {},
   "outputs": [
    {
     "data": {
      "text/plain": [
       "8-element Vector{Vector{Int64}}:\n",
       " [-50, -40, -30, -20, -20, -30, -40, -50]\n",
       " [-30, -20, -10, 0, 0, -10, -20, -30]\n",
       " [-30, -10, 20, 30, 30, 20, -10, -30]\n",
       " [-30, -10, 30, 40, 40, 30, -10, -30]\n",
       " [-30, -10, 30, 40, 40, 30, -10, -30]\n",
       " [-30, -10, 20, 30, 30, 20, -10, -30]\n",
       " [-30, -30, 0, 0, 0, 0, -30, -30]\n",
       " [-50, -30, -30, -30, -30, -30, -30, -50]"
      ]
     },
     "execution_count": 9,
     "metadata": {},
     "output_type": "execute_result"
    }
   ],
   "source": [
    "matrix_wk_eg =\n",
    "[\n",
    "    \n",
    "[-50,-40,-30,-20,-20,-30,-40,-50],\n",
    "[-30,-20,-10,  0,  0,-10,-20,-30],\n",
    "[-30,-10, 20, 30, 30, 20,-10,-30],\n",
    "[-30,-10, 30, 40, 40, 30,-10,-30],\n",
    "[-30,-10, 30, 40, 40, 30,-10,-30],\n",
    "[-30,-10, 20, 30, 30, 20,-10,-30],\n",
    "[-30,-30,  0,  0,  0,  0,-30,-30],\n",
    "[-50,-30,-30,-30,-30,-30,-30,-50]\n",
    "                                    \n",
    "]"
   ]
  },
  {
   "cell_type": "markdown",
   "id": "c60cd8f7",
   "metadata": {},
   "source": [
    "***"
   ]
  },
  {
   "cell_type": "markdown",
   "id": "222c45cf",
   "metadata": {},
   "source": [
    "Für die schwarzen Spielfiguren wird lediglich die Matrix des weißen Gegenparts an der x-Achse gespiegelt."
   ]
  },
  {
   "cell_type": "markdown",
   "id": "52f2f267",
   "metadata": {},
   "source": [
    "Black Pawn:"
   ]
  },
  {
   "cell_type": "code",
   "execution_count": 10,
   "id": "11ad6be9",
   "metadata": {},
   "outputs": [
    {
     "data": {
      "text/plain": [
       "8-element Vector{Vector{Int64}}:\n",
       " [0, 0, 0, 0, 0, 0, 0, 0]\n",
       " [5, 10, 10, -20, -20, 10, 10, 5]\n",
       " [5, -5, -10, 0, 0, -10, -5, 5]\n",
       " [0, 0, 0, 20, 20, 0, 0, 0]\n",
       " [5, 5, 10, 25, 25, 10, 5, 5]\n",
       " [10, 10, 20, 30, 30, 20, 10, 10]\n",
       " [50, 50, 50, 50, 50, 50, 50, 50]\n",
       " [0, 0, 0, 0, 0, 0, 0, 0]"
      ]
     },
     "execution_count": 10,
     "metadata": {},
     "output_type": "execute_result"
    }
   ],
   "source": [
    "matrix_bp = reverse(matrix_wp, dims = 1)"
   ]
  },
  {
   "cell_type": "markdown",
   "id": "7c3a8bb8",
   "metadata": {},
   "source": [
    "Black Knight:"
   ]
  },
  {
   "cell_type": "code",
   "execution_count": 11,
   "id": "b72fefb6",
   "metadata": {},
   "outputs": [
    {
     "data": {
      "text/plain": [
       "8-element Vector{Vector{Int64}}:\n",
       " [-50, -40, -30, -30, -30, -30, -40, -50]\n",
       " [-40, -20, 0, 5, 5, 0, -20, -40]\n",
       " [-30, 5, 10, 15, 15, 10, 5, -30]\n",
       " [-30, 0, 15, 20, 20, 15, 0, -30]\n",
       " [-30, 5, 15, 20, 20, 15, 5, -30]\n",
       " [-30, 0, 10, 15, 15, 10, 0, -30]\n",
       " [-40, -20, 0, 0, 0, 0, -20, -40]\n",
       " [-50, -40, -30, -30, -30, -30, -40, -50]"
      ]
     },
     "execution_count": 11,
     "metadata": {},
     "output_type": "execute_result"
    }
   ],
   "source": [
    "matrix_bn = reverse(matrix_wn, dims = 1)"
   ]
  },
  {
   "cell_type": "markdown",
   "id": "de58842b",
   "metadata": {},
   "source": [
    "Black Bishop:"
   ]
  },
  {
   "cell_type": "code",
   "execution_count": 12,
   "id": "c3170594",
   "metadata": {},
   "outputs": [
    {
     "data": {
      "text/plain": [
       "8-element Vector{Vector{Int64}}:\n",
       " [-20, -10, -10, -10, -10, -10, -10, -20]\n",
       " [-10, 5, 0, 0, 0, 0, 5, -10]\n",
       " [-10, 10, 10, 10, 10, 10, 10, -10]\n",
       " [-10, 0, 10, 10, 10, 10, 0, -10]\n",
       " [-10, 5, 5, 10, 10, 5, 5, -10]\n",
       " [-10, 0, 5, 10, 10, 5, 0, -10]\n",
       " [-10, 0, 0, 0, 0, 0, 0, -10]\n",
       " [-20, -10, -10, -10, -10, -10, -10, -20]"
      ]
     },
     "execution_count": 12,
     "metadata": {},
     "output_type": "execute_result"
    }
   ],
   "source": [
    "matrix_bb = reverse(matrix_wb, dims = 1)"
   ]
  },
  {
   "cell_type": "markdown",
   "id": "bf1ddaf4",
   "metadata": {},
   "source": [
    "Black Rook:"
   ]
  },
  {
   "cell_type": "code",
   "execution_count": 13,
   "id": "76d4eab9",
   "metadata": {},
   "outputs": [
    {
     "data": {
      "text/plain": [
       "8-element Vector{Vector{Int64}}:\n",
       " [0, 0, 0, 5, 5, 0, 0, 0]\n",
       " [-5, 0, 0, 0, 0, 0, 0, -5]\n",
       " [-5, 0, 0, 0, 0, 0, 0, -5]\n",
       " [-5, 0, 0, 0, 0, 0, 0, -5]\n",
       " [-5, 0, 0, 0, 0, 0, 0, -5]\n",
       " [-5, 0, 0, 0, 0, 0, 0, -5]\n",
       " [5, 10, 10, 10, 10, 10, 10, 5]\n",
       " [0, 0, 0, 0, 0, 0, 0, 0]"
      ]
     },
     "execution_count": 13,
     "metadata": {},
     "output_type": "execute_result"
    }
   ],
   "source": [
    "matrix_br = reverse(matrix_wr, dims = 1)"
   ]
  },
  {
   "cell_type": "markdown",
   "id": "21df3a44",
   "metadata": {},
   "source": [
    "Black Queen:"
   ]
  },
  {
   "cell_type": "code",
   "execution_count": 14,
   "id": "32bcc9e0",
   "metadata": {},
   "outputs": [
    {
     "data": {
      "text/plain": [
       "8-element Vector{Vector{Int64}}:\n",
       " [-20, -10, -10, -5, -5, -10, -10, -20]\n",
       " [-10, 0, 5, 0, 0, 0, 0, -10]\n",
       " [-10, 5, 5, 5, 5, 5, 0, -10]\n",
       " [0, 0, 5, 5, 5, 5, 0, -5]\n",
       " [-5, 0, 5, 5, 5, 5, 0, -5]\n",
       " [-10, 0, 5, 5, 5, 5, 0, -10]\n",
       " [-10, 0, 0, 0, 0, 0, 0, -10]\n",
       " [-20, -10, -10, -5, -5, -10, -10, -20]"
      ]
     },
     "execution_count": 14,
     "metadata": {},
     "output_type": "execute_result"
    }
   ],
   "source": [
    "matrix_bq = reverse(matrix_wq, dims = 1)"
   ]
  },
  {
   "cell_type": "markdown",
   "id": "768dc26d",
   "metadata": {},
   "source": [
    "Black King:"
   ]
  },
  {
   "cell_type": "code",
   "execution_count": 15,
   "id": "8cd29df3",
   "metadata": {},
   "outputs": [
    {
     "data": {
      "text/plain": [
       "8-element Vector{Vector{Int64}}:\n",
       " [20, 30, 10, 0, 0, 10, 30, 20]\n",
       " [20, 20, 0, 0, 0, 0, 20, 20]\n",
       " [-10, -20, -20, -20, -20, -20, -20, -10]\n",
       " [-20, -30, -30, -40, -40, -30, -30, -20]\n",
       " [-30, -40, -40, -50, -50, -40, -40, -30]\n",
       " [-30, -40, -40, -50, -50, -40, -40, -30]\n",
       " [-30, -40, -40, -50, -50, -40, -40, -30]\n",
       " [-30, -40, -40, -50, -50, -40, -40, -30]"
      ]
     },
     "execution_count": 15,
     "metadata": {},
     "output_type": "execute_result"
    }
   ],
   "source": [
    "matrix_bk_mg = reverse(matrix_wk_mg, dims = 1)"
   ]
  },
  {
   "cell_type": "code",
   "execution_count": 16,
   "id": "0933e978",
   "metadata": {},
   "outputs": [
    {
     "data": {
      "text/plain": [
       "8-element Vector{Vector{Int64}}:\n",
       " [-50, -30, -30, -30, -30, -30, -30, -50]\n",
       " [-30, -30, 0, 0, 0, 0, -30, -30]\n",
       " [-30, -10, 20, 30, 30, 20, -10, -30]\n",
       " [-30, -10, 30, 40, 40, 30, -10, -30]\n",
       " [-30, -10, 30, 40, 40, 30, -10, -30]\n",
       " [-30, -10, 20, 30, 30, 20, -10, -30]\n",
       " [-30, -20, -10, 0, 0, -10, -20, -30]\n",
       " [-50, -40, -30, -20, -20, -30, -40, -50]"
      ]
     },
     "execution_count": 16,
     "metadata": {},
     "output_type": "execute_result"
    }
   ],
   "source": [
    "matrix_bk_eg = reverse(matrix_wk_eg, dims = 1)"
   ]
  },
  {
   "cell_type": "code",
   "execution_count": 17,
   "id": "ebdbb407",
   "metadata": {},
   "outputs": [
    {
     "data": {
      "text/plain": [
       "Dict{Piece, Vector{Vector{Int64}}} with 12 entries:\n",
       "  PIECE_WP => [[0, 0, 0, 0, 0, 0, 0, 0], [50, 50, 50, 50, 50, 50, 50, 50], [10,…\n",
       "  PIECE_WR => [[0, 0, 0, 0, 0, 0, 0, 0], [5, 10, 10, 10, 10, 10, 10, 5], [-5, 0…\n",
       "  PIECE_WN => [[-50, -40, -30, -30, -30, -30, -40, -50], [-40, -20, 0, 0, 0, 0,…\n",
       "  PIECE_BN => [[-50, -40, -30, -30, -30, -30, -40, -50], [-40, -20, 0, 5, 5, 0,…\n",
       "  PIECE_BQ => [[-20, -10, -10, -5, -5, -10, -10, -20], [-10, 0, 5, 0, 0, 0, 0, …\n",
       "  PIECE_WQ => [[-20, -10, -10, -5, -5, -10, -10, -20], [-10, 0, 0, 0, 0, 0, 0, …\n",
       "  PIECE_BR => [[0, 0, 0, 5, 5, 0, 0, 0], [-5, 0, 0, 0, 0, 0, 0, -5], [-5, 0, 0,…\n",
       "  PIECE_BP => [[0, 0, 0, 0, 0, 0, 0, 0], [5, 10, 10, -20, -20, 10, 10, 5], [5, …\n",
       "  PIECE_BK => [[20, 30, 10, 0, 0, 10, 30, 20], [20, 20, 0, 0, 0, 0, 20, 20], [-…\n",
       "  PIECE_WK => [[-30, -40, -40, -50, -50, -40, -40, -30], [-30, -40, -40, -50, -…\n",
       "  PIECE_WB => [[-20, -10, -10, -10, -10, -10, -10, -20], [-10, 0, 0, 0, 0, 0, 0…\n",
       "  PIECE_BB => [[-20, -10, -10, -10, -10, -10, -10, -20], [-10, 5, 0, 0, 0, 0, 5…"
      ]
     },
     "execution_count": 17,
     "metadata": {},
     "output_type": "execute_result"
    }
   ],
   "source": [
    "piece_dict = Dict(PIECE_WP => matrix_wp, PIECE_WN => matrix_wn, PIECE_WB => matrix_wb, PIECE_WR => matrix_wr, PIECE_WQ => matrix_wq, PIECE_WK => matrix_wk_mg, PIECE_BP => matrix_bp, PIECE_BN => matrix_bn, PIECE_BB => matrix_bb, PIECE_BR => matrix_br, PIECE_BQ => matrix_bq, PIECE_BK => matrix_bk_mg)"
   ]
  },
  {
   "cell_type": "code",
   "execution_count": 18,
   "id": "2e610a30",
   "metadata": {},
   "outputs": [
    {
     "data": {
      "text/plain": [
       "get_matrix_from_piece (generic function with 1 method)"
      ]
     },
     "execution_count": 18,
     "metadata": {},
     "output_type": "execute_result"
    }
   ],
   "source": [
    "#dictionary lookup um die matrix aus piece_dict zu ziehen und auf das piece zu matchen\n",
    "\n",
    "function get_matrix_from_piece(piece, piece_dict)\n",
    "    if haskey(piece_dict, piece) == true\n",
    "        matrix = get(piece_dict, piece, \"Error\")\n",
    "        return matrix\n",
    "    else\n",
    "        return \"Error: Key is not in piece_dict\" \n",
    "    end\n",
    "end"
   ]
  },
  {
   "cell_type": "code",
   "execution_count": 19,
   "id": "51576de4",
   "metadata": {},
   "outputs": [
    {
     "data": {
      "text/plain": [
       "get_weight_from_piece (generic function with 1 method)"
      ]
     },
     "execution_count": 19,
     "metadata": {},
     "output_type": "execute_result"
    }
   ],
   "source": [
    "# dictionary lookup to get the weight of the found piece\n",
    "\n",
    "function get_weight_from_piece(piece, piece_weight)\n",
    "    if haskey(piece_weight, piece) == true\n",
    "        weight = get(piece_weight, piece, \"Error\")\n",
    "        return weight\n",
    "    else\n",
    "        return \"Error: Key is not in piece_weight\" \n",
    "    end\n",
    "end"
   ]
  },
  {
   "cell_type": "code",
   "execution_count": 20,
   "id": "3000af15",
   "metadata": {},
   "outputs": [
    {
     "data": {
      "text/plain": [
       "map_to_int (generic function with 1 method)"
      ]
     },
     "execution_count": 20,
     "metadata": {},
     "output_type": "execute_result"
    }
   ],
   "source": [
    "#map_to_int funtion, die von einem file / rank auf int mapped\n",
    "\n",
    "function map_to_int(file)\n",
    "    result = Int(file)-96\n",
    "    return result\n",
    "end"
   ]
  },
  {
   "cell_type": "code",
   "execution_count": null,
   "id": "78019a77",
   "metadata": {},
   "outputs": [],
   "source": []
  },
  {
   "cell_type": "code",
   "execution_count": null,
   "id": "14cf1238",
   "metadata": {},
   "outputs": [],
   "source": []
  },
  {
   "cell_type": "code",
   "execution_count": 23,
   "id": "0b85dde0",
   "metadata": {
    "scrolled": true
   },
   "outputs": [
    {
     "data": {
      "text/plain": [
       "Dict{SquareRank, Int64} with 8 entries:\n",
       "  RANK_8 => 8\n",
       "  RANK_2 => 2\n",
       "  RANK_3 => 3\n",
       "  RANK_5 => 5\n",
       "  RANK_4 => 4\n",
       "  RANK_6 => 6\n",
       "  RANK_7 => 7\n",
       "  RANK_1 => 1"
      ]
     },
     "execution_count": 23,
     "metadata": {},
     "output_type": "execute_result"
    }
   ],
   "source": [
    "int_rank = Dict(RANK_1 => 1, RANK_2 => 2, RANK_3 => 3, RANK_4 => 4, RANK_5 => 5, RANK_6 => 6, RANK_7 => 7, RANK_8 => 8)"
   ]
  },
  {
   "cell_type": "code",
   "execution_count": 27,
   "id": "d64865cb",
   "metadata": {},
   "outputs": [
    {
     "data": {
      "text/plain": [
       "Dict{SquareFile, Int64} with 8 entries:\n",
       "  FILE_G => 7\n",
       "  FILE_B => 2\n",
       "  FILE_D => 4\n",
       "  FILE_C => 3\n",
       "  FILE_F => 6\n",
       "  FILE_H => 8\n",
       "  FILE_A => 1\n",
       "  FILE_E => 5"
      ]
     },
     "execution_count": 27,
     "metadata": {},
     "output_type": "execute_result"
    }
   ],
   "source": [
    "int_file = Dict(FILE_A => 1, FILE_B => 2, FILE_C => 3, FILE_D => 4, FILE_E => 5, FILE_F => 6, FILE_G => 7, FILE_H => 8)"
   ]
  },
  {
   "cell_type": "code",
   "execution_count": 25,
   "id": "6bae1874",
   "metadata": {},
   "outputs": [
    {
     "data": {
      "text/plain": [
       "get_int_from_rank (generic function with 1 method)"
      ]
     },
     "execution_count": 25,
     "metadata": {},
     "output_type": "execute_result"
    }
   ],
   "source": [
    "function get_int_from_rank(rank, int_rank)\n",
    "    if haskey(int_rank, rank) == true\n",
    "        int_from_rank = get(int_rank, rank, \"Error\")\n",
    "        return int_from_rank\n",
    "    else\n",
    "        return \"Error: Key is not in int_rank\" \n",
    "    end\n",
    "end"
   ]
  },
  {
   "cell_type": "code",
   "execution_count": 28,
   "id": "5fc87828",
   "metadata": {},
   "outputs": [
    {
     "data": {
      "text/plain": [
       "get_int_from_file (generic function with 1 method)"
      ]
     },
     "execution_count": 28,
     "metadata": {},
     "output_type": "execute_result"
    }
   ],
   "source": [
    "function get_int_from_file(file, int_rank)\n",
    "    if haskey(int_file, file) == true\n",
    "        int_from_file = get(int_file, file, \"Error\")\n",
    "        return int_from_file\n",
    "    else\n",
    "        return \"Error: Key is not in int_rank\" \n",
    "    end\n",
    "end"
   ]
  },
  {
   "cell_type": "code",
   "execution_count": 34,
   "id": "1752ed70",
   "metadata": {},
   "outputs": [
    {
     "data": {
      "text/plain": [
       "evaluate (generic function with 1 method)"
      ]
     },
     "execution_count": 34,
     "metadata": {},
     "output_type": "execute_result"
    }
   ],
   "source": [
    "\n",
    "function evaluate(board, piece_dict, piece_weight)\n",
    "    score = 0\n",
    "    for file in 'a':'h'\n",
    "      for rank in '1':'8'\n",
    "        square = Square(filefromchar(file), rankfromchar(rank))\n",
    "        piece = pieceon(board, square)\n",
    "        if piece != nothing\n",
    "            matrix = get_matrix_from_piece(piece, piece_dict)\n",
    "            weight = get_weight_from_piece(piece, piece_weight)\n",
    "            score += matrix[get_int_from_file(file, int_file)][9-get_int_from_rank(rank, int_rank)] + weight # 9- weil wir in der tabelle die zeile invertieren müssen\n",
    "          \n",
    "            end\n",
    "        end\n",
    "    end\n",
    "    return score\n",
    "end\n"
   ]
  },
  {
   "cell_type": "markdown",
   "id": "edc05fa8",
   "metadata": {},
   "source": [
    "***"
   ]
  }
 ],
 "metadata": {
  "kernelspec": {
   "display_name": "Julia 1.8.2",
   "language": "julia",
   "name": "julia-1.8"
  },
  "language_info": {
   "file_extension": ".jl",
   "mimetype": "application/julia",
   "name": "julia",
   "version": "1.8.2"
  }
 },
 "nbformat": 4,
 "nbformat_minor": 5
}
