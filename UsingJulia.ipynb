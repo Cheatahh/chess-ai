{
 "cells": [
  {
   "cell_type": "markdown",
   "id": "10285333",
   "metadata": {},
   "source": [
    "## Julia\n",
    "\n",
    "Julia ist eine dynamische Allzweck-Programmiersprache, welche vor allem für wissenschaftliche Berechnungen und Big-Data-Analysen beliebt ist. Dank der Verwendung eines JIT-Compilers (Just in Time) erweist sich Julia als sehr schnell und ermöglicht es Entwicklern, prägnanten und dennoch leistungsstarken Code zu schreiben.\n",
    "\n",
    "Die Sprache wurde 2012 entwickelt, um Eigenschaften wie die Geschwindigkeit von C, die Dynamik von Ruby und die Praktikabilität von Python zu vereinen. Hierbei wurde eine besonderer Wert auf Statistik und lineare Algebra gelegt, um effizient mathematische Probleme zu lösen (wie zb. Matlab). Julia ist somit vor allem bekannt für die Verwendung in der numerischen Analyse, Datenvisualisierung und maschinelles Lernen."
   ]
  },
  {
   "cell_type": "markdown",
   "id": "f0911eea",
   "metadata": {},
   "source": [
    "## Julia in Jupyter Notebooks\n",
    "\n",
    "Während es sich bei Jupyter Notebook in der Regel um interaktive Python-Notebooks handelt (IPython), gibt es einige Möglichkeiten, Julia innerhalb eines Notebooks auszuführen\n",
    "\n",
    "1. Julia Magic\n",
    "Mithilfe des `load_ext` Befehls lässt sich die Julia-Magic über den IPython Kernel laden (benötigt das Package Julia für IPython): `%load_ext julia.magic`\n",
    "Anschließend kann mit dem Prefix `%julia` Julia-Code innerhalb einer Code-Zelle ausgeführt werden.\n",
    "\n",
    "2. Shell Aufruf\n",
    "In einem Jupyter-Notebook lässt sich mithilfe des `!`-Prefixes ein Shell-Befehl ausführen:\n",
    "`!julia file.jl` startet somit einen Julia-Prozess, welcher die Datei `file.jl` ausführt (benötigt Julia).\n",
    "\n",
    "3. IJulia Notebook\n",
    "Installiert man das Package `IJulia` für Julia, so lässt sich eine Instanz von Juypter starten, welche als zusätzlichen Kernel eine interaktive Version von Julia bereitstellt. Somit lässt sich Julia ohne weiteres innerhalb einer Code-Zelle ausführen.\n",
    "Julia-REPL: \n",
    "`using IJulia; notebook()`\n",
    "\n",
    "Letzerer Variante wird für des dieses Notebook verwendet."
   ]
  },
  {
   "cell_type": "markdown",
   "id": "206e29e0",
   "metadata": {},
   "source": [
    "## Typisierung\n",
    "\n",
    "Ähnlich wie Python, ist Julia dynamisch typisiert. Falls erwünscht, lassen sich statische Typen optional deklarieren."
   ]
  },
  {
   "cell_type": "code",
   "execution_count": 7,
   "id": "3af16fdf",
   "metadata": {},
   "outputs": [
    {
     "data": {
      "text/plain": [
       "87.141594f0"
      ]
     },
     "execution_count": 7,
     "metadata": {},
     "output_type": "execute_result"
    }
   ],
   "source": [
    "x = 42\n",
    "y::Float32 = 42\n",
    "\n",
    "x + y + π # π-buildin"
   ]
  },
  {
   "cell_type": "markdown",
   "id": "5d98f423",
   "metadata": {},
   "source": [
    "Ein weiterer Hintergrund für Julia´s Geschwindigkeit ist die Verwendung von primitiven Datentypen mit limitierter Bit-Anzahl.\n",
    "Diese umfassen:\n",
    "- Boolsche Werte: Bool (8bit Integer), definiert durch `primitive type Bool <: Integer 8 end`\n",
    "- Schriftzeichen: Char (32bit utf-32), definiert durch `primitive type Char <: AbstractChar 32 end`\n",
    "- Ganzzahlen mit 8-, 16-, 32-, 64- und 128-Bit Größe: \n",
    "    - Int8, definiert durch `primitive type Int8 <: Signed 8 end`\n",
    "    - Int16, definiert durch `primitive type Int16 <: Signed 16 end`\n",
    "    - Int32, definiert durch `primitive type Int32 <: Signed 32 end`\n",
    "    - Int64, definiert durch `primitive type Int64 <: Signed 64 end`\n",
    "    - Int128, definiert durch `primitive type Int128 <: Signed 128 end`\n",
    "    Alle Integer-Typen sind ebefalls als unsigned-Typ verfügbar (zb. `UInt32`)\n",
    "    Der Shorthand `Int` wird hierbei auf die plattform-spezifische Pointer-Größe aufgelöst (zb. `Int64` auf 64-Bit Systemen).\n",
    "- Fließkommazahlen mit 16-, 32- und 64-Bit Größe:\n",
    "    - Float16, definiert durch `primitive type Float16 <: AbstractFloat 16 end`\n",
    "    - Float32, definiert durch `primitive type Float32 <: AbstractFloat 32 end`\n",
    "    - Float64, definiert durch `primitive type Float64 <: AbstractFloat 64 end`"
   ]
  },
  {
   "cell_type": "markdown",
   "id": "14f3c2dc",
   "metadata": {},
   "source": [
    "Des weiteren lassen sich zusammengesetzte Datentypen (ähnlich wie Structs in C) definieren:"
   ]
  },
  {
   "cell_type": "code",
   "execution_count": 8,
   "id": "16aaa9c6",
   "metadata": {},
   "outputs": [
    {
     "data": {
      "text/plain": [
       "Foo2(4, Float16(2.0))"
      ]
     },
     "execution_count": 8,
     "metadata": {},
     "output_type": "execute_result"
    }
   ],
   "source": [
    "struct Foo\n",
    "    bar #dynamischer Typ\n",
    "    float::Float16\n",
    "end\n",
    "\n",
    "mutable struct Foo2\n",
    "    bar #dynamischer Typ\n",
    "    const float::Float16 #konstant\n",
    "end\n",
    "\n",
    "foo = Foo2(0, 2)\n",
    "foo.bar = 4\n",
    "\n",
    "foo"
   ]
  },
  {
   "cell_type": "markdown",
   "id": "f17fd7be",
   "metadata": {},
   "source": [
    "## Mutiple Dispatch\n",
    "\n",
    "Julia´s Funktionen können mehrere Implementationen aufweisen, welche beim Aufruf dynamisch aufgrund der Parameter-Typen ausgewählt werden. Der Programmieren kann einer Funktion einen weitere Implementation zuweisen, indem er diese erneut mit einer anderen Signatur deklariert:"
   ]
  },
  {
   "cell_type": "code",
   "execution_count": 9,
   "id": "5f9f387d",
   "metadata": {},
   "outputs": [
    {
     "name": "stdout",
     "output_type": "stream",
     "text": [
      "I´ve got a value!\n",
      "I´ve got a value of type Float16!"
     ]
    }
   ],
   "source": [
    "function dispatch(value)\n",
    "    print(\"I´ve got a value!\\n\")\n",
    "end\n",
    "\n",
    "function dispatch(value::Float16)\n",
    "    print(\"I´ve got a value of type Float16!\")\n",
    "end\n",
    "\n",
    "dispatch(42)\n",
    "dispatch(foo.float)"
   ]
  },
  {
   "cell_type": "markdown",
   "id": "58be6e7a",
   "metadata": {},
   "source": [
    "[TODO] Des weiteren unterstüzt Julia Funktionen wie parameterisierten Typen, Vererbung, Type-Unions, Singletons, Value Types usw..."
   ]
  }
 ],
 "metadata": {
  "kernelspec": {
   "display_name": "Julia 1.8.1",
   "language": "julia",
   "name": "julia-1.8"
  },
  "language_info": {
   "file_extension": ".jl",
   "mimetype": "application/julia",
   "name": "julia",
   "version": "1.8.1"
  }
 },
 "nbformat": 4,
 "nbformat_minor": 5
}
