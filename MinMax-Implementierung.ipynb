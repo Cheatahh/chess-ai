{
 "cells": [
  {
   "cell_type": "code",
   "execution_count": 1,
   "id": "a48ddfce",
   "metadata": {},
   "outputs": [
    {
     "ename": "LoadError",
     "evalue": "SystemError: opening file \"style.html\": No such file or directory",
     "output_type": "error",
     "traceback": [
      "SystemError: opening file \"style.html\": No such file or directory",
      "",
      "Stacktrace:",
      " [1] systemerror(p::String, errno::Int32; extrainfo::Nothing)",
      "   @ Base .\\error.jl:176",
      " [2] #systemerror#80",
      "   @ .\\error.jl:175 [inlined]",
      " [3] systemerror",
      "   @ .\\error.jl:175 [inlined]",
      " [4] open(fname::String; lock::Bool, read::Nothing, write::Nothing, create::Nothing, truncate::Nothing, append::Nothing)",
      "   @ Base .\\iostream.jl:293",
      " [5] open(fname::String)",
      "   @ Base .\\iostream.jl:275",
      " [6] top-level scope",
      "   @ In[1]:1",
      " [7] eval",
      "   @ .\\boot.jl:368 [inlined]",
      " [8] include_string(mapexpr::typeof(REPL.softscope), mod::Module, code::String, filename::String)",
      "   @ Base .\\loading.jl:1428"
     ]
    }
   ],
   "source": [
    "HTML(read(open(\"style.html\"), String))"
   ]
  },
  {
   "cell_type": "markdown",
   "id": "9559171d",
   "metadata": {},
   "source": [
    "***"
   ]
  },
  {
   "cell_type": "markdown",
   "id": "ce6b0951",
   "metadata": {},
   "source": [
    "Version 1.0 - last edit 24/11/2022"
   ]
  },
  {
   "cell_type": "markdown",
   "id": "4bb7a11e",
   "metadata": {},
   "source": [
    "Dieses Notebook beschreibt den [MiniMax-Algorithmus](https://en.wikipedia.org/wiki/Minimax) und seinen Nutzen für das Gesamtprojekt \"Chess-AI\". Weiterhin werden hier nur weiter Variablen und Methoden definiert. Für ein vollständiges Schachspiel werden die anderen Notebooks dieses Repositories benötigt."
   ]
  },
  {
   "cell_type": "markdown",
   "id": "d9b8a1e7",
   "metadata": {},
   "source": [
    "Der MiniMax-Algorithmus wird in diesem Notebook als MM abgekürzt."
   ]
  },
  {
   "cell_type": "markdown",
   "id": "7dd1ca9e",
   "metadata": {},
   "source": [
    "Der MM wird genutzt, um den besten möglichen Ausgang des nächsten Zuges zu gewährleisten. Dazu werden die im PieceWorth.ipynb eingeführten Werte der Spielfiguren verwendet."
   ]
  },
  {
   "cell_type": "markdown",
   "id": "30c45a1b",
   "metadata": {},
   "source": [
    "***"
   ]
  },
  {
   "cell_type": "code",
   "execution_count": 6,
   "id": "55e2199f",
   "metadata": {},
   "outputs": [
    {
     "data": {
      "text/plain": [
       "evaluate (generic function with 1 method)"
      ]
     },
     "execution_count": 6,
     "metadata": {},
     "output_type": "execute_result"
    }
   ],
   "source": [
    "function evaluate(game, maximizing_color)\n",
    "    if maximizing_color == WHITE\n",
    "        return game.whiteScore - board.blackScore\n",
    "    else\n",
    "        return game.blackScore - board.whiteScore\n",
    "    end\n",
    "end"
   ]
  },
  {
   "cell_type": "code",
   "execution_count": null,
   "id": "a23ed3cc",
   "metadata": {},
   "outputs": [],
   "source": []
  },
  {
   "cell_type": "code",
   "execution_count": null,
   "id": "60bab102",
   "metadata": {},
   "outputs": [],
   "source": []
  },
  {
   "cell_type": "code",
   "execution_count": null,
   "id": "3efc353a",
   "metadata": {},
   "outputs": [],
   "source": []
  },
  {
   "cell_type": "markdown",
   "id": "8da5bb98",
   "metadata": {},
   "source": [
    "Im nächsten Schritt wird der MM eingeführt:"
   ]
  },
  {
   "cell_type": "markdown",
   "id": "e33eabb0",
   "metadata": {},
   "source": [
    "Funktionsweise MM:\n",
    "\n",
    "    - Zug durchrechnen und Gewichtung geben --> pieceworth function\n",
    "        - Summe der spielenden Figuren auf dem Spielfeld nach dem Zug - Summe der Gegner-Spielfiguren nach dem Zug\n",
    "            - Laut Wiki muss für Schwarz der Wert invertiert werden\n",
    "        - Je größer der Wert desto besser\n",
    "    - Zug gewichtung in Array speichern (Muss hier nur die gewichtung gespeichert werden oder der Zug selbst auch?)\n",
    "        - Falls ja -> dictionary\n",
    "        - Array / Dictionary sortieren\n",
    "        - Obersten Zug als bestMove ausgeben (return hier als string (die move-combination)?)\n",
    "        "
   ]
  },
  {
   "cell_type": "code",
   "execution_count": 5,
   "id": "2c9b589b",
   "metadata": {},
   "outputs": [
    {
     "ename": "LoadError",
     "evalue": "syntax: expected \"end\" in definition of function \"minimax\"",
     "output_type": "error",
     "traceback": [
      "syntax: expected \"end\" in definition of function \"minimax\"",
      "",
      "Stacktrace:",
      " [1] top-level scope",
      "   @ In[5]:3",
      " [2] eval",
      "   @ .\\boot.jl:368 [inlined]",
      " [3] include_string(mapexpr::typeof(REPL.softscope), mod::Module, code::String, filename::String)",
      "   @ Base .\\loading.jl:1428"
     ]
    }
   ],
   "source": [
    "bestMoves = Dict()\n",
    "function minimax\n",
    "    for move in available_moves:\n",
    "        do move\n",
    "        do pieceworth\n",
    "                return weight\n",
    "                bestMoves[\"move\"] = weight\n",
    "                #sort(collect(bestMoves), by= x->x[2], rev = true)  - no need cause findmax returns the max\n",
    "                best_move = findmax(bestMoves)\n",
    "                println(best_move[2]) # here we need to use [2] to return the move (string)\n",
    "    return best_move[2]\n",
    "            end\n",
    "        end\n",
    "    end\n",
    "end"
   ]
  },
  {
   "cell_type": "markdown",
   "id": "87c8849b",
   "metadata": {},
   "source": [
    "m"
   ]
  }
 ],
 "metadata": {
  "kernelspec": {
   "display_name": "Julia 1.8.2",
   "language": "julia",
   "name": "julia-1.8"
  },
  "language_info": {
   "file_extension": ".jl",
   "mimetype": "application/julia",
   "name": "julia",
   "version": "1.8.2"
  }
 },
 "nbformat": 4,
 "nbformat_minor": 5
}
