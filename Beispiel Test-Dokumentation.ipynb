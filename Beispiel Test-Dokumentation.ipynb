{
 "cells": [
  {
   "cell_type": "markdown",
   "id": "3504f9e6",
   "metadata": {},
   "source": [
    "Disclaimer: Dieses Dokument dient als Beispiel, um die spätere Gestaltung der Dokumenation zu erarbeiten."
   ]
  },
  {
   "cell_type": "markdown",
   "id": "78143432",
   "metadata": {},
   "source": [
    "***"
   ]
  },
  {
   "attachments": {},
   "cell_type": "markdown",
   "id": "bc8361c5",
   "metadata": {},
   "source": [
    "Warum Tests?\n",
    "\n",
    "    - Grund 1\n",
    "    - Grund 2\n",
    "    ..."
   ]
  },
  {
   "cell_type": "markdown",
   "id": "3fb6ab5b",
   "metadata": {},
   "source": [
    "***"
   ]
  },
  {
   "attachments": {},
   "cell_type": "markdown",
   "id": "ebdbeb64",
   "metadata": {},
   "source": [
    "Welche Tests gibt es?\n",
    "\n",
    "    - Unit-Test\n",
    "        - Beschreibung\n",
    "        - Ablauf / Funktionsweise\n",
    "    - Integration-Test\n",
    "        - Beschreibung\n",
    "        - Ablauf / Funktionsweise\n",
    "    - Component-Test\n",
    "        - Beschreibung\n",
    "        - Ablauf / Funktionsweise       \n",
    "    - Broad-Stack-Test\n",
    "        - Beschreibung\n",
    "        - Ablauf / Funktionsweise\n",
    "    - möglicher weiterer Test\n",
    "        - Beschreibung\n",
    "        - Ablauf / Funktionsweise"
   ]
  },
  {
   "cell_type": "markdown",
   "id": "a896636b",
   "metadata": {},
   "source": [
    "***"
   ]
  },
  {
   "attachments": {},
   "cell_type": "markdown",
   "id": "633a4117",
   "metadata": {},
   "source": [
    "Welche Tests nutzen wir und warum?\n",
    "\n",
    "    - Erklären welche Tests und warum\n",
    "    \n",
    "    Beispiel Unit-Test:\n",
    "    \n",
    "\t- Projektmanagement --> Agile Methodik --> häufige und viele Unittests zur QS\n",
    "\t\t○ Vollständig automatisiert\n",
    "\t\t○ Tests in gleicher Sprache wie Original-Code (nicht zwingend, aber empfohlen)\n",
    "\t\t○ Massiver gebrauch --> Refactoring + testgetriebene Entwicklung\n",
    "\t\t○ Defekte finden und verhindern\n",
    "\t\t○ Durch ständiges automatisches testen werden schon kleine, unbeabsichtigte Änderungen gefunden\n",
    "\t\t○ Bei Feature-Erweiterung decken Sie unbeabsichtigte Wechselwirkungen auf.\n",
    "        ○ Helfen bei Dokumentation --> Zeigen Reaktion des Testobjekts auf."
   ]
  },
  {
   "cell_type": "markdown",
   "id": "67eacaaf",
   "metadata": {},
   "source": [
    "***"
   ]
  },
  {
   "attachments": {},
   "cell_type": "markdown",
   "id": "0999dc2d",
   "metadata": {},
   "source": [
    "Quellen:\n",
    "\n",
    "\t- https://www.it-agile.de/agiles-wissen/agile-entwicklung/unit-tests/\n",
    "\t- https://martinfowler.com/bliki/UnitTest.html\n",
    "    - https://martinfowler.com/tags/test%20categories.html"
   ]
  },
  {
   "cell_type": "markdown",
   "id": "3e1c2768",
   "metadata": {},
   "source": []
  }
 ],
 "metadata": {
  "kernelspec": {
   "display_name": "Julia 1.8.2",
   "language": "julia",
   "name": "julia-1.8"
  },
  "language_info": {
   "file_extension": ".jl",
   "mimetype": "application/julia",
   "name": "julia",
   "version": "1.8.2"
  }
 },
 "nbformat": 4,
 "nbformat_minor": 5
}
