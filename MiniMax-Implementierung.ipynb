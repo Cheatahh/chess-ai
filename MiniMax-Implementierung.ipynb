{
 "cells": [
  {
   "cell_type": "code",
   "execution_count": null,
   "id": "a48ddfce",
   "metadata": {
    "scrolled": true
   },
   "outputs": [],
   "source": [
    "HTML(read(open(\"style.html\"), String))"
   ]
  },
  {
   "cell_type": "code",
   "execution_count": null,
   "id": "4af980c3",
   "metadata": {},
   "outputs": [],
   "source": [
    "using Pkg\n",
    "Pkg.add(\"NBInclude\")"
   ]
  },
  {
   "cell_type": "code",
   "execution_count": null,
   "id": "bef1f4c0",
   "metadata": {},
   "outputs": [],
   "source": [
    "using NBInclude\n",
    "@nbinclude(\"Piece-Weight and Simple Evaluation.ipynb\")"
   ]
  },
  {
   "cell_type": "markdown",
   "id": "9559171d",
   "metadata": {},
   "source": [
    "***"
   ]
  },
  {
   "cell_type": "markdown",
   "id": "cd1bfed9",
   "metadata": {},
   "source": [
    "## MiniMax-Algorithmus"
   ]
  },
  {
   "cell_type": "markdown",
   "id": "4bb7a11e",
   "metadata": {},
   "source": [
    "Dieses Notebook beschreibt den [MiniMax-Algorithmus](https://en.wikipedia.org/wiki/Minimax) und seinen Nutzen für das Gesamtprojekt \"Chess-AI\". Es wird nur der Algorithmus selbst implementiert. Eine Anwendung als SchachAI wird im Notebook MiniMaxAI eingeführt."
   ]
  },
  {
   "cell_type": "markdown",
   "id": "7dd1ca9e",
   "metadata": {},
   "source": [
    "Der MiniMax-Algorithmus wird genutzt, um den besten möglichen Ausgang des nächsten Zuges zu gewährleisten. Dazu werden verschiedene Parameter eingeführt:\n",
    "\n",
    "* **requiredDepth**: gibt die Tiefe an mit der gerechnet werden soll. Eine Tiefe von 1 sagt den nächsten Zug von Schwarz voraus. Eine Tiefe von 4 sagt die nächsten 4 Züge von Schwarz und die nächsten 3 Züge von weiß voraus. \n",
    "* **depth**: die tatächliche Tiefe während der Berechnung. Der Algorithmus stoppt wenn depth == requiredDepth.\n",
    "* **best_move**: der Zug der den besten Score ergibt. Wird ausgegeben sobald depth == requiredDepth\n",
    "\n",
    "Zur Berechnung selbst benötigen die Spielfiguren und die verschiedenen möglichen Spielzüge ein Bewertungsschema. Dieses wird in Piece-Weight and Simple Evaluation.ipynb eingeführt und erklärt. Das Resultat ist die Funktion \"evaluate2\"."
   ]
  },
  {
   "cell_type": "markdown",
   "id": "30c45a1b",
   "metadata": {},
   "source": [
    "***"
   ]
  },
  {
   "cell_type": "markdown",
   "id": "8da5bb98",
   "metadata": {},
   "source": [
    "Der MiniMax-Algorithmus wird wie folgt implementiert:"
   ]
  },
  {
   "cell_type": "code",
   "execution_count": 1,
   "id": "4694b11a",
   "metadata": {},
   "outputs": [
    {
     "data": {
      "text/plain": [
       "doMiniMax (generic function with 1 method)"
      ]
     },
     "execution_count": 1,
     "metadata": {},
     "output_type": "execute_result"
    }
   ],
   "source": [
    "function doMiniMax(board, requiredDepth) # remove ws\n",
    "    \n",
    "    best_move = nothing # move to minimax\n",
    "    \n",
    "    function miniMax(board, depth)\n",
    "        possibleMoves = moves(board)\n",
    "\n",
    "        color = sidetomove(board)\n",
    "        \n",
    "        if depth == 0 || size(possibleMoves) == 0\n",
    "            return evaluate2(board, color, piece_dict, piece_weight)\n",
    "        end\n",
    "    \n",
    "        maxValue = 1 << 63;\n",
    "    \n",
    "        for move in possibleMoves\n",
    "            undoInfo = domove!(board, move)\n",
    "            value = -miniMax(board, depth - 1)\n",
    "            undomove!(board, undoInfo)\n",
    "            if value > maxValue\n",
    "                maxValue = value\n",
    "                if depth == requiredDepth\n",
    "                    println(\"Best move: \", move, \" score \", value)\n",
    "                    best_move = move\n",
    "                end\n",
    "            end\n",
    "        end\n",
    "        \n",
    "        return maxValue\n",
    "    end\n",
    "    \n",
    "    miniMax(board, requiredDepth)\n",
    "    \n",
    "    return best_move\n",
    "end"
   ]
  },
  {
   "cell_type": "markdown",
   "id": "e735914a",
   "metadata": {},
   "source": [
    "***"
   ]
  },
  {
   "cell_type": "markdown",
   "id": "7fb734c8",
   "metadata": {},
   "source": [
    "by Florian Stach and Luc Kaiser"
   ]
  },
  {
   "cell_type": "markdown",
   "id": "44bf7bda",
   "metadata": {},
   "source": [
    "Last updated: 30/11/2022"
   ]
  },
  {
   "cell_type": "markdown",
   "id": "faaf0342",
   "metadata": {},
   "source": [
    "***"
   ]
  }
 ],
 "metadata": {
  "kernelspec": {
   "display_name": "Julia 1.8.1",
   "language": "julia",
   "name": "julia-1.8"
  },
  "language_info": {
   "file_extension": ".jl",
   "mimetype": "application/julia",
   "name": "julia",
   "version": "1.8.1"
  }
 },
 "nbformat": 4,
 "nbformat_minor": 5
}
