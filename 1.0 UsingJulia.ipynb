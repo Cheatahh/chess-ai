{
 "cells": [
  {
   "cell_type": "code",
   "execution_count": 1,
   "id": "c00adce3",
   "metadata": {},
   "outputs": [
    {
     "data": {
      "text/html": [
       "<link href='http://fonts.googleapis.com/css?family=Alegreya+Sans:100,300,400,500,700,800,900,100italic,300italic,400italic,500italic,700italic,800italic,900italic' rel='stylesheet' type='text/css'>\n",
       "<link href='http://fonts.googleapis.com/css?family=Arvo:400,700,400italic' rel='stylesheet' type='text/css'>\n",
       "<link href='http://fonts.googleapis.com/css?family=PT+Mono' rel='stylesheet' type='text/css'>\n",
       "<link href='http://fonts.googleapis.com/css?family=Shadows+Into+Light' rel='stylesheet' type='text/css'>\n",
       "<link href='http://fonts.googleapis.com/css?family=Philosopher:400,700,400italic,700italic' rel='stylesheet' type='text/css'>\n",
       "\n",
       "<style>\n",
       "\n",
       "@font-face {\n",
       "    font-family: \"Computer Modern\";\n",
       "    src: url('http://mirrors.ctan.org/fonts/cm-unicode/fonts/otf/cmunss.otf');\n",
       "}\n",
       "\n",
       ".container { width: 100% }\n",
       "\n",
       "/* Formatting for header cells */\n",
       ".text_cell_render h1 {\n",
       "    font-family: 'Philosopher', sans-serif;\n",
       "    font-weight: 400;\n",
       "    font-size: 2.2em;\n",
       "    line-height: 100%;\n",
       "    color: rgb(0, 80, 120);\n",
       "    margin-bottom: 0.1em;\n",
       "    margin-top: 0.1em;\n",
       "    display: block;\n",
       "}\t\n",
       ".text_cell_render h2 {\n",
       "    font-family: 'Philosopher', serif;\n",
       "    font-weight: 400;\n",
       "    font-size: 1.9em;\n",
       "    line-height: 100%;\n",
       "    color: rgb(200,100,0);\n",
       "    margin-bottom: 0.1em;\n",
       "    margin-top: 0.1em;\n",
       "    display: block;\n",
       "}\t\n",
       "\n",
       ".text_cell_render h3 {\n",
       "    font-family: 'Philosopher', serif;\n",
       "    margin-top:12px;\n",
       "    margin-bottom: 3px;\n",
       "    font-style: italic;\n",
       "    color: rgb(94,127,192);\n",
       "}\n",
       "\n",
       ".text_cell_render h4 {\n",
       "    font-family: 'Philosopher', serif;\n",
       "}\n",
       "\n",
       ".text_cell_render h5 {\n",
       "    font-family: 'Alegreya Sans', sans-serif;\n",
       "    font-weight: 300;\n",
       "    font-size: 16pt;\n",
       "    color: grey;\n",
       "    font-style: italic;\n",
       "    margin-bottom: .1em;\n",
       "    margin-top: 0.1em;\n",
       "    display: block;\n",
       "}\n",
       "\n",
       ".text_cell_render h6 {\n",
       "    font-family: 'PT Mono', sans-serif;\n",
       "    font-weight: 300;\n",
       "    font-size: 10pt;\n",
       "    color: grey;\n",
       "    margin-bottom: 1px;\n",
       "    margin-top: 1px;\n",
       "}\n",
       "\n",
       ".text_cell_render em {\n",
       "    font-family: 'Philosopher', sans-serif;\n",
       "    color:        blue;\n",
       "    background-color: rgb(255,220,180);\n",
       "    font-size:    110%;\n",
       "    margin-left:   2px;\n",
       "    margin-right:  2px;\n",
       "    font-weight:   100;\n",
       "}\n",
       "\n",
       ".text_cell_render b {\n",
       "    color:            rgb(255,195,195);\n",
       "    background-color: rgb(0,0,0);\n",
       "    font-size:    110%;\n",
       "    margin-left:   2px;\n",
       "    margin-right:  2px;\n",
       "    font-weight:   650;\n",
       "}\n",
       "\n",
       ".text_cell_render tt {\n",
       "    font-size:    120%;\n",
       "    margin-left:   2px;\n",
       "    margin-right:  2px;\n",
       "    font-weight:   150;\n",
       "}\n",
       "\n",
       ".Codemirror {\n",
       "    font-family: \"PT Mono\";\n",
       "    font-size: 100%;\n",
       "}\n",
       "\n",
       "</style>"
      ],
      "text/plain": [
       "HTML{String}(\"<link href='http://fonts.googleapis.com/css?family=Alegreya+Sans:100,300,400,500,700,800,900,100italic,300italic,400italic,500italic,700italic,800italic,900italic' rel='stylesheet' type='text/css'>\\n<link href='http://fonts.googleapis.com/css?family=Arvo:400,700,400italic' rel='stylesheet' type='text/css'>\\n<link href='http://fonts.googleapis.com/css?family=PT+Mono' rel='stylesheet' type='text/css'>\\n<link href='http://fonts.googleapis.com/css?family=Shadows+Into+Light' rel='stylesheet' type='text/css'>\\n<link href='http://fonts.googleapis.com/css?family=Philosopher:400,700,400italic,700italic' rel='stylesheet' type='text/css'>\\n\\n<style>\\n\\n@font-face {\\n    font-family: \\\"Computer Modern\\\";\\n    src: url('http://mirrors.ctan.org/fonts/cm-unicode/fonts/otf/cmunss.otf');\\n}\\n\\n.container { width: 100% }\\n\\n/* Formatting for header cells */\\n.text_cell_render h1 {\\n    font-family: 'Philosopher', sans-serif;\\n    font-weight: 400;\\n    font-size: 2.2em;\\n    line-height: 100%;\\n    color: rgb(0, 80, 120);\\n    margin-bottom: 0.1em;\\n    margin-top: 0.1em;\\n    display: block;\\n}\\t\\n.text_cell_render h2 {\\n    font-family: 'Philosopher', serif;\\n    font-weight: 400;\\n    font-size: 1.9em;\\n    line-height: 100%;\\n    color: rgb(200,100,0);\\n    margin-bottom: 0.1em;\\n    margin-top: 0.1em;\\n    display: block;\\n}\\t\\n\\n.text_cell_render h3 {\\n    font-family: 'Philosopher', serif;\\n    margin-top:12px;\\n    margin-bottom: 3px;\\n    font-style: italic;\\n    color: rgb(94,127,192);\\n}\\n\\n.text_cell_render h4 {\\n    font-family: 'Philosopher', serif;\\n}\\n\\n.text_cell_render h5 {\\n    font-family: 'Alegreya Sans', sans-serif;\\n    font-weight: 300;\\n    font-size: 16pt;\\n    color: grey;\\n    font-style: italic;\\n    margin-bottom: .1em;\\n    margin-top: 0.1em;\\n    display: block;\\n}\\n\\n.text_cell_render h6 {\\n    font-family: 'PT Mono', sans-serif;\\n    font-weight: 300;\\n    font-size: 10pt;\\n    color: grey;\\n    margin-bottom: 1px;\\n    margin-top: 1px;\\n}\\n\\n.text_cell_render em {\\n    font-family: 'Philosopher', sans-serif;\\n    color:        blue;\\n    background-color: rgb(255,220,180);\\n    font-size:    110%;\\n    margin-left:   2px;\\n    margin-right:  2px;\\n    font-weight:   100;\\n}\\n\\n.text_cell_render b {\\n    color:            rgb(255,195,195);\\n    background-color: rgb(0,0,0);\\n    font-size:    110%;\\n    margin-left:   2px;\\n    margin-right:  2px;\\n    font-weight:   650;\\n}\\n\\n.text_cell_render tt {\\n    font-size:    120%;\\n    margin-left:   2px;\\n    margin-right:  2px;\\n    font-weight:   150;\\n}\\n\\n.Codemirror {\\n    font-family: \\\"PT Mono\\\";\\n    font-size: 100%;\\n}\\n\\n</style>\")"
      ]
     },
     "execution_count": 1,
     "metadata": {},
     "output_type": "execute_result"
    }
   ],
   "source": [
    "HTML(read(open(\"style.html\"), String))"
   ]
  },
  {
   "cell_type": "markdown",
   "id": "10285333",
   "metadata": {},
   "source": [
    "## Julia\n",
    "\n",
    "Julia ist eine dynamische Allzweck-Programmiersprache, welche vor allem für wissenschaftliche Berechnungen und Big-Data-Analysen beliebt ist. Dank der Verwendung eines JIT-Compilers (Just in Time) erweist sich Julia als sehr schnell und ermöglicht es Entwicklern, prägnanten und dennoch leistungsstarken Code zu schreiben.\n",
    "\n",
    "Die Sprache wurde 2012 entwickelt, um Eigenschaften wie die Geschwindigkeit von C, die Dynamik von Ruby und die Praktikabilität von Python zu vereinen. Hierbei wurde ein besonderer Wert auf Statistik und lineare Algebra gelegt, um effizient mathematische Probleme zu lösen (wie zb. Matlab). Julia ist somit vor allem bekannt für die Verwendung in der numerischen Analyse, Datenvisualisierung und maschinelles Lernen."
   ]
  },
  {
   "cell_type": "markdown",
   "id": "f0911eea",
   "metadata": {},
   "source": [
    "## Julia in Jupyter Notebooks\n",
    "\n",
    "Während es sich bei Jupyter Notebook in der Regel um interaktive Python-Notebooks handelt (IPython), gibt es einige Möglichkeiten, Julia innerhalb eines Notebooks auszuführen\n",
    "\n",
    "1. Julia Magic\n",
    "Mithilfe des `load_ext` Befehls lässt sich die Julia-Magic über den IPython Kernel laden (benötigt das Package Julia für IPython): `%load_ext julia.magic`\n",
    "Anschließend kann mit dem Prefix `%julia` Julia-Code innerhalb einer Code-Zelle ausgeführt werden.\n",
    "\n",
    "2. Shell Aufruf\n",
    "In einem Jupyter-Notebook lässt sich mithilfe des `!`-Prefixes ein Shell-Befehl ausführen:\n",
    "`!julia file.jl` startet somit einen Julia-Prozess, welcher die Datei `file.jl` ausführt (benötigt Julia).\n",
    "\n",
    "3. IJulia Notebook\n",
    "Installiert man das Package `IJulia` für Julia, so lässt sich eine Instanz von Juypter starten, welche als zusätzlichen Kernel eine interaktive Version von Julia bereitstellt. Somit lässt sich Julia ohne weiteres innerhalb einer Code-Zelle ausführen.\n",
    "Julia-REPL: \n",
    "`using IJulia; notebook()`\n",
    "\n",
    "Letzerer Variante wird für des dieses Notebook verwendet."
   ]
  },
  {
   "cell_type": "markdown",
   "id": "206e29e0",
   "metadata": {},
   "source": [
    "## Typisierung\n",
    "\n",
    "Ähnlich wie Python, ist Julia dynamisch typisiert. Falls erwünscht, lassen sich statische Typen optional deklarieren."
   ]
  },
  {
   "cell_type": "code",
   "execution_count": 7,
   "id": "3af16fdf",
   "metadata": {},
   "outputs": [
    {
     "data": {
      "text/plain": [
       "87.141594f0"
      ]
     },
     "execution_count": 7,
     "metadata": {},
     "output_type": "execute_result"
    }
   ],
   "source": [
    "x = 42\n",
    "y::Float32 = 42\n",
    "\n",
    "x + y + π # π-buildin"
   ]
  },
  {
   "cell_type": "markdown",
   "id": "5d98f423",
   "metadata": {},
   "source": [
    "Ein weiterer Hintergrund für Julia´s Geschwindigkeit ist die Verwendung von primitiven Datentypen mit limitierter Bit-Anzahl.\n",
    "Diese umfassen:\n",
    "- Boolsche Werte: Bool (8bit Integer), definiert durch `primitive type Bool <: Integer 8 end`\n",
    "- Schriftzeichen: Char (32bit utf-32), definiert durch `primitive type Char <: AbstractChar 32 end`\n",
    "- Ganzzahlen mit 8-, 16-, 32-, 64- und 128-Bit Größe: \n",
    "    - Int8, definiert durch `primitive type Int8 <: Signed 8 end`\n",
    "    - Int16, definiert durch `primitive type Int16 <: Signed 16 end`\n",
    "    - Int32, definiert durch `primitive type Int32 <: Signed 32 end`\n",
    "    - Int64, definiert durch `primitive type Int64 <: Signed 64 end`\n",
    "    - Int128, definiert durch `primitive type Int128 <: Signed 128 end`\n",
    "    Alle Integer-Typen sind ebefalls als unsigned-Typ verfügbar (zb. `UInt32`)\n",
    "    Der Shorthand `Int` wird hierbei auf die plattform-spezifische Pointer-Größe aufgelöst (zb. `Int64` auf 64-Bit Systemen).\n",
    "- Fließkommazahlen mit 16-, 32- und 64-Bit Größe:\n",
    "    - Float16, definiert durch `primitive type Float16 <: AbstractFloat 16 end`\n",
    "    - Float32, definiert durch `primitive type Float32 <: AbstractFloat 32 end`\n",
    "    - Float64, definiert durch `primitive type Float64 <: AbstractFloat 64 end`"
   ]
  },
  {
   "cell_type": "markdown",
   "id": "14f3c2dc",
   "metadata": {},
   "source": [
    "Des weiteren lassen sich zusammengesetzte Datentypen (ähnlich wie Structs in C) definieren:"
   ]
  },
  {
   "cell_type": "code",
   "execution_count": 8,
   "id": "16aaa9c6",
   "metadata": {},
   "outputs": [
    {
     "data": {
      "text/plain": [
       "Foo2(4, Float16(2.0))"
      ]
     },
     "execution_count": 8,
     "metadata": {},
     "output_type": "execute_result"
    }
   ],
   "source": [
    "struct Foo\n",
    "    bar #dynamischer Typ\n",
    "    float::Float16\n",
    "end\n",
    "\n",
    "mutable struct Foo2\n",
    "    bar #dynamischer Typ\n",
    "    const float::Float16 #konstant\n",
    "end\n",
    "\n",
    "foo = Foo2(0, 2)\n",
    "foo.bar = 4\n",
    "\n",
    "foo"
   ]
  },
  {
   "cell_type": "markdown",
   "id": "f17fd7be",
   "metadata": {},
   "source": [
    "## Mutiple Dispatch\n",
    "\n",
    "Julia´s Funktionen können mehrere Implementationen aufweisen, welche beim Aufruf dynamisch aufgrund der Parameter-Typen ausgewählt werden. Der Programmieren kann einer Funktion einen weitere Implementation zuweisen, indem er diese erneut mit einer anderen Signatur deklariert:"
   ]
  },
  {
   "cell_type": "code",
   "execution_count": 9,
   "id": "5f9f387d",
   "metadata": {},
   "outputs": [
    {
     "name": "stdout",
     "output_type": "stream",
     "text": [
      "I´ve got a value!\n",
      "I´ve got a value of type Float16!"
     ]
    }
   ],
   "source": [
    "function dispatch(value)\n",
    "    print(\"I´ve got a value!\\n\")\n",
    "end\n",
    "\n",
    "function dispatch(value::Float16)\n",
    "    print(\"I´ve got a value of type Float16!\")\n",
    "end\n",
    "\n",
    "dispatch(42)\n",
    "dispatch(foo.float)"
   ]
  },
  {
   "cell_type": "markdown",
   "id": "58be6e7a",
   "metadata": {},
   "source": [
    "[TODO] Des weiteren unterstüzt Julia Funktionen wie parameterisierten Typen, Vererbung, Type-Unions, Singletons, Value Types usw...\n",
    "\n",
    "- reverse"
   ]
  },
  {
   "cell_type": "markdown",
   "id": "7c7ffb59",
   "metadata": {},
   "source": [
    "# Benutzer-Eingabe"
   ]
  },
  {
   "cell_type": "markdown",
   "id": "476e4018",
   "metadata": {},
   "source": [
    "In diversen Programmen und Anwendungen wird ein Nutzer-Input benötigt. Julia verwendet hierfür `readline`(`stdin`) ."
   ]
  },
  {
   "cell_type": "code",
   "execution_count": 1,
   "id": "529571b0",
   "metadata": {},
   "outputs": [
    {
     "name": "stdout",
     "output_type": "stream",
     "text": [
      "stdin> test\n",
      "test"
     ]
    }
   ],
   "source": [
    "input = readline(stdin) \n",
    "print(input)"
   ]
  },
  {
   "cell_type": "markdown",
   "id": "2cd3fc65",
   "metadata": {},
   "source": [
    "Diese Funktion wird in späteren Notebooks verwendet, damit der menschliche Spieler seine Züge eingeben kann."
   ]
  },
  {
   "cell_type": "markdown",
   "id": "b359e1c2",
   "metadata": {},
   "source": [
    "***"
   ]
  },
  {
   "cell_type": "markdown",
   "id": "e66dfe7d",
   "metadata": {},
   "source": [
    "by Florian Stach and Luc Kaiser"
   ]
  },
  {
   "cell_type": "markdown",
   "id": "f5236d3f",
   "metadata": {},
   "source": [
    "Last updated: 07/01/2023"
   ]
  },
  {
   "cell_type": "markdown",
   "id": "42862040",
   "metadata": {},
   "source": [
    "***"
   ]
  }
 ],
 "metadata": {
  "kernelspec": {
   "display_name": "Julia 1.8.2",
   "language": "julia",
   "name": "julia-1.8"
  },
  "language_info": {
   "file_extension": ".jl",
   "mimetype": "application/julia",
   "name": "julia",
   "version": "1.8.2"
  }
 },
 "nbformat": 4,
 "nbformat_minor": 5
}
