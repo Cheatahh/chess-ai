{
 "cells": [
  {
   "cell_type": "code",
   "execution_count": 1,
   "id": "c00adce3",
   "metadata": {},
   "outputs": [
    {
     "data": {
      "text/html": [
       "<link href='http://fonts.googleapis.com/css?family=Alegreya+Sans:100,300,400,500,700,800,900,100italic,300italic,400italic,500italic,700italic,800italic,900italic' rel='stylesheet' type='text/css'>\r\n",
       "<link href='http://fonts.googleapis.com/css?family=Arvo:400,700,400italic' rel='stylesheet' type='text/css'>\r\n",
       "<link href='http://fonts.googleapis.com/css?family=PT+Mono' rel='stylesheet' type='text/css'>\r\n",
       "<link href='http://fonts.googleapis.com/css?family=Shadows+Into+Light' rel='stylesheet' type='text/css'>\r\n",
       "<link href='http://fonts.googleapis.com/css?family=Philosopher:400,700,400italic,700italic' rel='stylesheet' type='text/css'>\r\n",
       "\r\n",
       "<style>\r\n",
       "\r\n",
       "@font-face {\r\n",
       "    font-family: \"Computer Modern\";\r\n",
       "    src: url('http://mirrors.ctan.org/fonts/cm-unicode/fonts/otf/cmunss.otf');\r\n",
       "}\r\n",
       "\r\n",
       ".container { width: 100% }\r\n",
       "\r\n",
       "/* Formatting for header cells */\r\n",
       ".text_cell_render h1 {\r\n",
       "    font-family: 'Philosopher', sans-serif;\r\n",
       "    font-weight: 400;\r\n",
       "    font-size: 2.2em;\r\n",
       "    line-height: 100%;\r\n",
       "    color: rgb(0, 80, 120);\r\n",
       "    margin-bottom: 0.1em;\r\n",
       "    margin-top: 0.1em;\r\n",
       "    display: block;\r\n",
       "}\t\r\n",
       ".text_cell_render h2 {\r\n",
       "    font-family: 'Philosopher', serif;\r\n",
       "    font-weight: 400;\r\n",
       "    font-size: 1.9em;\r\n",
       "    line-height: 100%;\r\n",
       "    color: rgb(200,100,0);\r\n",
       "    margin-bottom: 0.1em;\r\n",
       "    margin-top: 0.1em;\r\n",
       "    display: block;\r\n",
       "}\t\r\n",
       "\r\n",
       ".text_cell_render h3 {\r\n",
       "    font-family: 'Philosopher', serif;\r\n",
       "    margin-top:12px;\r\n",
       "    margin-bottom: 3px;\r\n",
       "    font-style: italic;\r\n",
       "    color: rgb(94,127,192);\r\n",
       "}\r\n",
       "\r\n",
       ".text_cell_render h4 {\r\n",
       "    font-family: 'Philosopher', serif;\r\n",
       "}\r\n",
       "\r\n",
       ".text_cell_render h5 {\r\n",
       "    font-family: 'Alegreya Sans', sans-serif;\r\n",
       "    font-weight: 300;\r\n",
       "    font-size: 16pt;\r\n",
       "    color: grey;\r\n",
       "    font-style: italic;\r\n",
       "    margin-bottom: .1em;\r\n",
       "    margin-top: 0.1em;\r\n",
       "    display: block;\r\n",
       "}\r\n",
       "\r\n",
       ".text_cell_render h6 {\r\n",
       "    font-family: 'PT Mono', sans-serif;\r\n",
       "    font-weight: 300;\r\n",
       "    font-size: 10pt;\r\n",
       "    color: grey;\r\n",
       "    margin-bottom: 1px;\r\n",
       "    margin-top: 1px;\r\n",
       "}\r\n",
       "\r\n",
       ".text_cell_render em {\r\n",
       "    font-family: 'Philosopher', sans-serif;\r\n",
       "    color:        blue;\r\n",
       "    background-color: rgb(255,220,180);\r\n",
       "    font-size:    110%;\r\n",
       "    margin-left:   2px;\r\n",
       "    margin-right:  2px;\r\n",
       "    font-weight:   100;\r\n",
       "}\r\n",
       "\r\n",
       ".text_cell_render b {\r\n",
       "    color:            rgb(255,195,195);\r\n",
       "    background-color: rgb(0,0,0);\r\n",
       "    font-size:    110%;\r\n",
       "    margin-left:   2px;\r\n",
       "    margin-right:  2px;\r\n",
       "    font-weight:   650;\r\n",
       "}\r\n",
       "\r\n",
       ".text_cell_render tt {\r\n",
       "    font-size:    120%;\r\n",
       "    margin-left:   2px;\r\n",
       "    margin-right:  2px;\r\n",
       "    font-weight:   150;\r\n",
       "}\r\n",
       "\r\n",
       ".Codemirror {\r\n",
       "    font-family: \"PT Mono\";\r\n",
       "    font-size: 100%;\r\n",
       "}\r\n",
       "\r\n",
       "</style>"
      ],
      "text/plain": [
       "HTML{String}(\"<link href='http://fonts.googleapis.com/css?family=Alegreya+Sans:100,300,400,500,700,800,900,100italic,300italic,400italic,500italic,700italic,800italic,900italic' rel='stylesheet' type='text/css'>\\r\\n<link href='http://fonts.googleapis.com/css?family=Arvo:400,700,400italic' rel='stylesheet' type='text/css'>\\r\\n<link href='http://fonts.googleapis.com/css?family=PT+Mono' rel='stylesheet' type='text/css'>\\r\\n<link href='http://fonts.googleapis.com/css?family=Shadows+Into+Light' rel='stylesheet' type='text/css'>\\r\\n<link href='http://fonts.googleapis.com/css?family=Philosopher:400,700,400italic,700italic' rel='stylesheet' type='text/css'>\\r\\n\\r\\n<style>\\r\\n\\r\\n@font-face {\\r\\n    font-family: \\\"Computer Modern\\\";\\r\\n    src: url('http://mirrors.ctan.org/fonts/cm-unicode/fonts/otf/cmunss.otf');\\r\\n}\\r\\n\\r\\n.container { width: 100% }\\r\\n\\r\\n/* Formatting for header cells */\\r\\n.text_cell_render h1 {\\r\\n    font-family: 'Philosopher', sans-serif;\\r\\n    font-weight: 400;\\r\\n    font-size: 2.2em;\\r\\n    line-height: 100%;\\r\\n    color: rgb(0, 80, 120);\\r\\n    margin-bottom: 0.1em;\\r\\n    margin-top: 0.1em;\\r\\n    display: block;\\r\\n}\\t\\r\\n.text_cell_render h2 {\\r\\n    font-family: 'Philosopher', serif;\\r\\n    font-weight: 400;\\r\\n    font-size: 1.9em;\\r\\n    line-height: 100%;\\r\\n    color: rgb(200,100,0);\\r\\n    margin-bottom: 0.1em;\\r\\n    margin-top: 0.1em;\\r\\n    display: block;\\r\\n}\\t\\r\\n\\r\\n.text_cell_render h3 {\\r\\n    font-family: 'Philosopher', serif;\\r\\n    margin-top:12px;\\r\\n    margin-bottom: 3px;\\r\\n    font-style: italic;\\r\\n    color: rgb(94,127,192);\\r\\n}\\r\\n\\r\\n.text_cell_render h4 {\\r\\n    font-family: 'Philosopher', serif;\\r\\n}\\r\\n\\r\\n.text_cell_render h5 {\\r\\n    font-family: 'Alegreya Sans', sans-serif;\\r\\n    font-weight: 300;\\r\\n    font-size: 16pt;\\r\\n    color: grey;\\r\\n    font-style: italic;\\r\\n    margin-bottom: .1em;\\r\\n    margin-top: 0.1em;\\r\\n    display: block;\\r\\n}\\r\\n\\r\\n.text_cell_render h6 {\\r\\n    font-family: 'PT Mono', sans-serif;\\r\\n    font-weight: 300;\\r\\n    font-size: 10pt;\\r\\n    color: grey;\\r\\n    margin-bottom: 1px;\\r\\n    margin-top: 1px;\\r\\n}\\r\\n\\r\\n.text_cell_render em {\\r\\n    font-family: 'Philosopher', sans-serif;\\r\\n    color:        blue;\\r\\n    background-color: rgb(255,220,180);\\r\\n    font-size:    110%;\\r\\n    margin-left:   2px;\\r\\n    margin-right:  2px;\\r\\n    font-weight:   100;\\r\\n}\\r\\n\\r\\n.text_cell_render b {\\r\\n    color:            rgb(255,195,195);\\r\\n    background-color: rgb(0,0,0);\\r\\n    font-size:    110%;\\r\\n    margin-left:   2px;\\r\\n    margin-right:  2px;\\r\\n    font-weight:   650;\\r\\n}\\r\\n\\r\\n.text_cell_render tt {\\r\\n    font-size:    120%;\\r\\n    margin-left:   2px;\\r\\n    margin-right:  2px;\\r\\n    font-weight:   150;\\r\\n}\\r\\n\\r\\n.Codemirror {\\r\\n    font-family: \\\"PT Mono\\\";\\r\\n    font-size: 100%;\\r\\n}\\r\\n\\r\\n</style>\")"
      ]
     },
     "execution_count": 1,
     "metadata": {},
     "output_type": "execute_result"
    }
   ],
   "source": [
    "HTML(read(open(\"style.html\"), String))"
   ]
  },
  {
   "cell_type": "markdown",
   "id": "10285333",
   "metadata": {},
   "source": [
    "## Julia\n",
    "\n",
    "Julia ist eine dynamische Allzweck-Programmiersprache, welche vor allem für wissenschaftliche Berechnungen und Big-Data-Analysen beliebt ist. Dank der Verwendung eines JIT-Compilers (Just in Time) erweist sich Julia als sehr schnell und ermöglicht es Entwicklern, prägnanten und dennoch leistungsstarken Code zu schreiben.\n",
    "\n",
    "Die Sprache wurde 2012 entwickelt, um Eigenschaften wie die Geschwindigkeit von C, die Dynamik von Ruby und die Praktikabilität von Python zu vereinen. Hierbei wurde ein besonderer Wert auf Statistik und lineare Algebra gelegt, um effizient mathematische Probleme zu lösen (wie z.B. Matlab). Julia ist somit vor allem bekannt für die Verwendung in der numerischen Analyse, Datenvisualisierung und maschinelles Lernen."
   ]
  },
  {
   "cell_type": "markdown",
   "id": "f0911eea",
   "metadata": {},
   "source": [
    "## Julia in Jupyter Notebooks\n",
    "\n",
    "Während es sich bei Jupyter Notebook in der Regel um interaktive Python-Notebooks handelt (IPython), gibt es einige Möglichkeiten, Julia innerhalb eines Notebooks auszuführen\n",
    "\n",
    "1. Julia Magic:\n",
    "Mithilfe des `load_ext` Befehls lässt sich die Julia-Magic über den IPython Kernel laden (benötigt das Package Julia für IPython): `%load_ext julia.magic`\n",
    "Anschließend kann mit dem Prefix `%julia` Julia-Code innerhalb einer Code-Zelle ausgeführt werden.\n",
    "\n",
    "2. Shell Aufruf:\n",
    "In einem Jupyter-Notebook lässt sich mithilfe des `!`-Prefixes ein Shell-Befehl ausführen:\n",
    "`!julia file.jl` startet somit einen Julia-Prozess, welcher die Datei `file.jl` ausführt (benötigt Julia).\n",
    "\n",
    "3. IJulia Notebook:\n",
    "Installiert man das Package `IJulia` für Julia, so lässt sich eine Instanz von Juypter starten, welche als zusätzlichen Kernel eine interaktive Version von Julia bereitstellt. Somit lässt sich Julia ohne weiteres innerhalb einer Code-Zelle ausführen.\n",
    "Julia-REPL: \n",
    "`using IJulia; notebook()`\n",
    "\n",
    "Letterer Variante wird für des dieses Notebook verwendet."
   ]
  },
  {
   "cell_type": "markdown",
   "id": "206e29e0",
   "metadata": {},
   "source": [
    "## Typisierung\n",
    "\n",
    "Ähnlich wie Python ist Julia dynamisch typisiert. Falls erwünscht, lassen sich statische Typen optional deklarieren."
   ]
  },
  {
   "cell_type": "code",
   "execution_count": 7,
   "id": "3af16fdf",
   "metadata": {},
   "outputs": [
    {
     "data": {
      "text/plain": [
       "87.141594f0"
      ]
     },
     "execution_count": 7,
     "metadata": {},
     "output_type": "execute_result"
    }
   ],
   "source": [
    "x = 42\n",
    "y::Float32 = 42\n",
    "\n",
    "x + y + π # π-buildin"
   ]
  },
  {
   "cell_type": "markdown",
   "id": "5d98f423",
   "metadata": {},
   "source": [
    "Ein weiterer Hintergrund für Julias Geschwindigkeit ist die Verwendung von primitiven Datentypen mit limitierter Bit-Anzahl.\n",
    "Diese umfassen:\n",
    "- Boolsche Werte: Bool (8bit Integer), definiert durch `primitive type Bool <: Integer 8 end`\n",
    "- Schriftzeichen: Char (32bit utf-32), definiert durch `primitive type Char <: AbstractChar 32 end`\n",
    "- Ganzzahlen mit 8-, 16-, 32-, 64- und 128-Bit Größe: \n",
    "    - Int8, definiert durch `primitive type Int8 <: Signed 8 end`\n",
    "    - Int16, definiert durch `primitive type Int16 <: Signed 16 end`\n",
    "    - Int32, definiert durch `primitive type Int32 <: Signed 32 end`\n",
    "    - Int64, definiert durch `primitive type Int64 <: Signed 64 end`\n",
    "    - Int128, definiert durch `primitive type Int128 <: Signed 128 end`\n",
    "    Alle Integer-Typen sind ebenfalls als unsigned-Typ verfügbar (zb. `UInt32`).\n",
    "    Der Shorthand `Int` wird hierbei auf die plattform-spezifische Pointer-Größe aufgelöst (z.B. `Int64` auf 64-Bit Systemen).\n",
    "- Fließkommazahlen mit 16-, 32- und 64-Bit Größe:\n",
    "    - Float16, definiert durch `primitive type Float16 <: AbstractFloat 16 end`\n",
    "    - Float32, definiert durch `primitive type Float32 <: AbstractFloat 32 end`\n",
    "    - Float64, definiert durch `primitive type Float64 <: AbstractFloat 64 end`"
   ]
  },
  {
   "cell_type": "markdown",
   "id": "14f3c2dc",
   "metadata": {},
   "source": [
    "Des Weiteren lassen sich zusammengesetzte Datentypen (ähnlich wie Structs in C) definieren:"
   ]
  },
  {
   "cell_type": "code",
   "execution_count": 8,
   "id": "16aaa9c6",
   "metadata": {},
   "outputs": [
    {
     "data": {
      "text/plain": [
       "Foo2(4, Float16(2.0))"
      ]
     },
     "execution_count": 8,
     "metadata": {},
     "output_type": "execute_result"
    }
   ],
   "source": [
    "struct Foo\n",
    "    bar #dynamischer Typ\n",
    "    float::Float16\n",
    "end\n",
    "\n",
    "mutable struct Foo2\n",
    "    bar #dynamischer Typ\n",
    "    const float::Float16 #konstant\n",
    "end\n",
    "\n",
    "foo = Foo2(0, 2)\n",
    "foo.bar = 4\n",
    "\n",
    "foo"
   ]
  },
  {
   "cell_type": "markdown",
   "id": "2e79d10a",
   "metadata": {},
   "source": [
    "## Type Unions"
   ]
  },
  {
   "cell_type": "markdown",
   "id": "216a57f5",
   "metadata": {},
   "source": [
    "Hierbei handelt es sich um einen `special abstract type`. Seine Objekte sind dabei alle Instanzen der gegebenen `argument types`. Er wird mithilfe des Schlagwortes `Union` konstruiert. Durch die `Type Unions` ist es möglich effizienten Code zu schreiben. Der Julia Compiler kann für jeden möglichen Typ, spezialisierten Code in separaten Zweigen generieren. Dies ermöglicht eine schnellere Verarbeitung."
   ]
  },
  {
   "cell_type": "code",
   "execution_count": 3,
   "id": "fe2d7a6d",
   "metadata": {},
   "outputs": [
    {
     "data": {
      "text/plain": [
       "Union{Int64, AbstractString}"
      ]
     },
     "execution_count": 3,
     "metadata": {},
     "output_type": "execute_result"
    }
   ],
   "source": [
    "IntOrString = Union{Int, AbstractString}"
   ]
  },
  {
   "cell_type": "code",
   "execution_count": 4,
   "id": "0ed89b8c",
   "metadata": {
    "scrolled": true
   },
   "outputs": [
    {
     "data": {
      "text/plain": [
       "10"
      ]
     },
     "execution_count": 4,
     "metadata": {},
     "output_type": "execute_result"
    }
   ],
   "source": [
    "10 :: IntOrString"
   ]
  },
  {
   "cell_type": "code",
   "execution_count": 6,
   "id": "58741603",
   "metadata": {},
   "outputs": [
    {
     "data": {
      "text/plain": [
       "\"asdwda\""
      ]
     },
     "execution_count": 6,
     "metadata": {},
     "output_type": "execute_result"
    }
   ],
   "source": [
    "\"asdwda\" :: IntOrString"
   ]
  },
  {
   "cell_type": "code",
   "execution_count": 7,
   "id": "7560e572",
   "metadata": {},
   "outputs": [
    {
     "ename": "LoadError",
     "evalue": "TypeError: in typeassert, expected Union{Int64, AbstractString}, got a value of type Float64",
     "output_type": "error",
     "traceback": [
      "TypeError: in typeassert, expected Union{Int64, AbstractString}, got a value of type Float64",
      "",
      "Stacktrace:",
      " [1] top-level scope",
      "   @ In[7]:1",
      " [2] eval",
      "   @ .\\boot.jl:368 [inlined]",
      " [3] include_string(mapexpr::typeof(REPL.softscope), mod::Module, code::String, filename::String)",
      "   @ Base .\\loading.jl:1428"
     ]
    }
   ],
   "source": [
    "1.0 :: IntOrString"
   ]
  },
  {
   "cell_type": "markdown",
   "id": "6f7f2e65",
   "metadata": {},
   "source": [
    "## Parametric Types"
   ]
  },
  {
   "cell_type": "markdown",
   "id": "9eb36a6c",
   "metadata": {},
   "source": [
    "`Parametric Types` ermöglichen es das `types` Parameter erhalten können. Somit werden bei einer Deklaration eines `types` direkt alle möglichen Kombinationen der Parameterwerte mit deklariert."
   ]
  },
  {
   "cell_type": "markdown",
   "id": "1fab91c5",
   "metadata": {},
   "source": [
    "### Parametric Composite Types"
   ]
  },
  {
   "cell_type": "markdown",
   "id": "088ce1cb",
   "metadata": {},
   "source": [
    "`Parametric Composite Types` ermöglichen die Deklarierung von einer Vielzahl von `types` als Inhalt einer Variable. Im nachfolgenden Beispiel wird das `struct` `Point{T}` definiert. Dabei kann `T` alles Mögliche sein. In diesem Fall ist eine Art von Koordinaten-Darstellung."
   ]
  },
  {
   "cell_type": "code",
   "execution_count": 9,
   "id": "753f8804",
   "metadata": {},
   "outputs": [],
   "source": [
    "struct Point{T}\n",
    "    x::T\n",
    "    y::T\n",
    "end"
   ]
  },
  {
   "cell_type": "code",
   "execution_count": 10,
   "id": "067a36e4",
   "metadata": {
    "scrolled": true
   },
   "outputs": [
    {
     "data": {
      "text/plain": [
       "Point{Float64}"
      ]
     },
     "execution_count": 10,
     "metadata": {},
     "output_type": "execute_result"
    }
   ],
   "source": [
    "Point{Float64}"
   ]
  },
  {
   "cell_type": "markdown",
   "id": "defcad5d",
   "metadata": {},
   "source": [
    "Hier ist die Koordinate als `float` dargestellt und im nächsten Beispiel als `string`."
   ]
  },
  {
   "cell_type": "code",
   "execution_count": 11,
   "id": "32c7aa34",
   "metadata": {},
   "outputs": [
    {
     "data": {
      "text/plain": [
       "Point{AbstractString}"
      ]
     },
     "execution_count": 11,
     "metadata": {},
     "output_type": "execute_result"
    }
   ],
   "source": [
    "Point{AbstractString}"
   ]
  },
  {
   "cell_type": "markdown",
   "id": "eb932dce",
   "metadata": {},
   "source": [
    "`Point` selbst ist ein valider Datentyp und enthält unter anderem `Point{Float64}` als `subtyp`."
   ]
  },
  {
   "cell_type": "code",
   "execution_count": 12,
   "id": "58ee00d9",
   "metadata": {},
   "outputs": [
    {
     "data": {
      "text/plain": [
       "true"
      ]
     },
     "execution_count": 12,
     "metadata": {},
     "output_type": "execute_result"
    }
   ],
   "source": [
    "Point{Float64} <: Point"
   ]
  },
  {
   "cell_type": "code",
   "execution_count": 13,
   "id": "bd240ac4",
   "metadata": {},
   "outputs": [
    {
     "data": {
      "text/plain": [
       "true"
      ]
     },
     "execution_count": 13,
     "metadata": {},
     "output_type": "execute_result"
    }
   ],
   "source": [
    "Point{AbstractString} <: Point"
   ]
  },
  {
   "cell_type": "markdown",
   "id": "8f9d6a03",
   "metadata": {},
   "source": [
    "Wichtig ist hier, dass verschiedene `subtypes` niemals `subtypes` voneinander sind."
   ]
  },
  {
   "cell_type": "code",
   "execution_count": 14,
   "id": "82cb70ee",
   "metadata": {},
   "outputs": [
    {
     "data": {
      "text/plain": [
       "false"
      ]
     },
     "execution_count": 14,
     "metadata": {},
     "output_type": "execute_result"
    }
   ],
   "source": [
    "Point{Float64} <: Point{Int64}"
   ]
  },
  {
   "cell_type": "code",
   "execution_count": 15,
   "id": "2af7385d",
   "metadata": {},
   "outputs": [
    {
     "data": {
      "text/plain": [
       "false"
      ]
     },
     "execution_count": 15,
     "metadata": {},
     "output_type": "execute_result"
    }
   ],
   "source": [
    "Point{Float64} <: Point{Real}"
   ]
  },
  {
   "cell_type": "markdown",
   "id": "f14100ee",
   "metadata": {},
   "source": [
    "Insbesondere das letzte Beispiel ist sehr wichtig, da es zeigt, dass Julias Typ parameter invariant sind. Dies wird besonders deutlich in der Effizienz der Speicherung von `Arrays`. So ist es in Julia möglich ein `Array{Float64}` als zusammenhängender Speicherblog von 64-bit `floating point-values` zu speichern. Im Vergleich dazu muss ein `Array{Real}` als `Array` von `pointern` gespeichert werden. Die `pointer` selbst können wiederrum auf `floating point-values` zeigen. Es wird deutlich, dass die erste Variante deutlich effizienter ist."
   ]
  },
  {
   "cell_type": "markdown",
   "id": "17c54a15",
   "metadata": {},
   "source": [
    "### Parametric Abstract Types"
   ]
  },
  {
   "cell_type": "markdown",
   "id": "1e6d9e9e",
   "metadata": {},
   "source": [
    "Hierbei handelt es sich um eine ähnliche Deklaration wie bei den `Parametric Composite Types`, nur für `abstract types`."
   ]
  },
  {
   "cell_type": "code",
   "execution_count": 16,
   "id": "11a256c7",
   "metadata": {},
   "outputs": [],
   "source": [
    " abstract type Pointy{T} end"
   ]
  },
  {
   "cell_type": "markdown",
   "id": "3426aa79",
   "metadata": {},
   "source": [
    "Gleiches gilt für die `subtypes`..."
   ]
  },
  {
   "cell_type": "code",
   "execution_count": 17,
   "id": "5994aa77",
   "metadata": {},
   "outputs": [
    {
     "data": {
      "text/plain": [
       "true"
      ]
     },
     "execution_count": 17,
     "metadata": {},
     "output_type": "execute_result"
    }
   ],
   "source": [
    "Pointy{Int64} <: Pointy"
   ]
  },
  {
   "cell_type": "code",
   "execution_count": 18,
   "id": "ff6d1b06",
   "metadata": {},
   "outputs": [
    {
     "data": {
      "text/plain": [
       "true"
      ]
     },
     "execution_count": 18,
     "metadata": {},
     "output_type": "execute_result"
    }
   ],
   "source": [
    "Pointy{1} <: Pointy"
   ]
  },
  {
   "cell_type": "markdown",
   "id": "3a741488",
   "metadata": {},
   "source": [
    "... und die `subtypes` voneinander."
   ]
  },
  {
   "cell_type": "code",
   "execution_count": 19,
   "id": "3190c924",
   "metadata": {},
   "outputs": [
    {
     "data": {
      "text/plain": [
       "false"
      ]
     },
     "execution_count": 19,
     "metadata": {},
     "output_type": "execute_result"
    }
   ],
   "source": [
    "Pointy{Float64} <: Pointy{Real}"
   ]
  },
  {
   "cell_type": "code",
   "execution_count": 20,
   "id": "0b1238b3",
   "metadata": {},
   "outputs": [
    {
     "data": {
      "text/plain": [
       "false"
      ]
     },
     "execution_count": 20,
     "metadata": {},
     "output_type": "execute_result"
    }
   ],
   "source": [
    "Pointy{Real} <: Pointy{Float64}"
   ]
  },
  {
   "cell_type": "markdown",
   "id": "455f91cf",
   "metadata": {},
   "source": [
    "`Parametric Abstract Types` bauen eine nützliche Hierarchy für die `Parametric Composite Types` auf. Dies zeigt sich in folgenden Beispielen."
   ]
  },
  {
   "cell_type": "code",
   "execution_count": 23,
   "id": "bd3aa9cf",
   "metadata": {},
   "outputs": [],
   "source": [
    "struct Points{T} <: Pointy{T}\n",
    "    x::T\n",
    "    y::T\n",
    "end"
   ]
  },
  {
   "cell_type": "code",
   "execution_count": 24,
   "id": "b3a7b4fb",
   "metadata": {},
   "outputs": [
    {
     "data": {
      "text/plain": [
       "true"
      ]
     },
     "execution_count": 24,
     "metadata": {},
     "output_type": "execute_result"
    }
   ],
   "source": [
    "Points{Float64} <: Pointy{Float64}"
   ]
  },
  {
   "cell_type": "code",
   "execution_count": 25,
   "id": "4f33489a",
   "metadata": {},
   "outputs": [
    {
     "data": {
      "text/plain": [
       "true"
      ]
     },
     "execution_count": 25,
     "metadata": {},
     "output_type": "execute_result"
    }
   ],
   "source": [
    "Points{Real} <: Pointy{Real}"
   ]
  },
  {
   "cell_type": "code",
   "execution_count": 26,
   "id": "c6df409d",
   "metadata": {},
   "outputs": [
    {
     "data": {
      "text/plain": [
       "true"
      ]
     },
     "execution_count": 26,
     "metadata": {},
     "output_type": "execute_result"
    }
   ],
   "source": [
    "Points{AbstractString} <: Pointy{AbstractString}"
   ]
  },
  {
   "cell_type": "markdown",
   "id": "30f22616",
   "metadata": {},
   "source": [
    "## Singletons"
   ]
  },
  {
   "cell_type": "markdown",
   "id": "169a95d2",
   "metadata": {},
   "source": [
    "Ein `singleton type` ist ein `type` der immer nur exact eine Instanz hat. Dies kann mithilfe von `Base.issingletontype()` überprüft werden. Des Weiteren gelten zwei Regeln:\n",
    "  + `X` ist ein `immutable composite type` (z.B. durch ein `struct` definiert)\n",
    "  + `a isa X && b isa X` impliziert `a === B` "
   ]
  },
  {
   "cell_type": "code",
   "execution_count": 27,
   "id": "210d3013",
   "metadata": {},
   "outputs": [],
   "source": [
    "struct Singleton\n",
    "end"
   ]
  },
  {
   "cell_type": "code",
   "execution_count": 28,
   "id": "81cd9549",
   "metadata": {},
   "outputs": [
    {
     "data": {
      "text/plain": [
       "true"
      ]
     },
     "execution_count": 28,
     "metadata": {},
     "output_type": "execute_result"
    }
   ],
   "source": [
    "Singleton() === Singleton()"
   ]
  },
  {
   "cell_type": "code",
   "execution_count": 29,
   "id": "ae860faa",
   "metadata": {},
   "outputs": [
    {
     "data": {
      "text/plain": [
       "true"
      ]
     },
     "execution_count": 29,
     "metadata": {},
     "output_type": "execute_result"
    }
   ],
   "source": [
    "Base.issingletontype(Singleton)"
   ]
  },
  {
   "cell_type": "markdown",
   "id": "af3b6396",
   "metadata": {},
   "source": [
    "## Value Types"
   ]
  },
  {
   "cell_type": "markdown",
   "id": "23226c15",
   "metadata": {},
   "source": [
    "`Value Types`ermöglichen es eigene `types`zu erstellen und mit diesen zu arbeiten. "
   ]
  },
  {
   "cell_type": "code",
   "execution_count": 30,
   "id": "edb5b0df",
   "metadata": {},
   "outputs": [],
   "source": [
    "struct Val{x}\n",
    "end"
   ]
  },
  {
   "cell_type": "code",
   "execution_count": 31,
   "id": "a78018e0",
   "metadata": {},
   "outputs": [
    {
     "data": {
      "text/plain": [
       "Val"
      ]
     },
     "execution_count": 31,
     "metadata": {},
     "output_type": "execute_result"
    }
   ],
   "source": [
    "Val(x) = Val{x}()"
   ]
  },
  {
   "cell_type": "code",
   "execution_count": 32,
   "id": "3fde3fbe",
   "metadata": {},
   "outputs": [
    {
     "data": {
      "text/plain": [
       "einszwei (generic function with 1 method)"
      ]
     },
     "execution_count": 32,
     "metadata": {},
     "output_type": "execute_result"
    }
   ],
   "source": [
    "einszwei(::Val{true}) = \"Eins\""
   ]
  },
  {
   "cell_type": "code",
   "execution_count": 33,
   "id": "26c9f250",
   "metadata": {},
   "outputs": [
    {
     "data": {
      "text/plain": [
       "einszwei (generic function with 2 methods)"
      ]
     },
     "execution_count": 33,
     "metadata": {},
     "output_type": "execute_result"
    }
   ],
   "source": [
    "einszwei(::Val{false}) = \"Zwei\""
   ]
  },
  {
   "cell_type": "code",
   "execution_count": 34,
   "id": "3cd16e2a",
   "metadata": {},
   "outputs": [
    {
     "data": {
      "text/plain": [
       "\"Eins\""
      ]
     },
     "execution_count": 34,
     "metadata": {},
     "output_type": "execute_result"
    }
   ],
   "source": [
    "einszwei(Val(true))"
   ]
  },
  {
   "cell_type": "code",
   "execution_count": 35,
   "id": "2dfcb550",
   "metadata": {},
   "outputs": [
    {
     "data": {
      "text/plain": [
       "\"Zwei\""
      ]
     },
     "execution_count": 35,
     "metadata": {},
     "output_type": "execute_result"
    }
   ],
   "source": [
    "einszwei(Val(false))"
   ]
  },
  {
   "cell_type": "markdown",
   "id": "0f8d9b74",
   "metadata": {},
   "source": [
    "Wichtig ist vorsichtig mit den `value types` zuarbeiten. Es ist sehr leicht sie falsch einzusetzen und oft wird die Performance stark beeinträchtigt."
   ]
  },
  {
   "cell_type": "markdown",
   "id": "f5b644d6",
   "metadata": {},
   "source": [
    "## Inheritance"
   ]
  },
  {
   "cell_type": "markdown",
   "id": "69e79194",
   "metadata": {},
   "source": [
    "Die Vererbung in Julia funktioniert via `abstract types`. Ein `subtype` erbt dabei von seinem `parenttype`."
   ]
  },
  {
   "cell_type": "code",
   "execution_count": 69,
   "id": "94ee9783",
   "metadata": {},
   "outputs": [],
   "source": [
    "abstract type Obst end\n",
    "\n",
    "struct Apfel <: Obst\n",
    "    flavor::Symbol\n",
    "end"
   ]
  },
  {
   "cell_type": "code",
   "execution_count": 70,
   "id": "9445482a",
   "metadata": {},
   "outputs": [
    {
     "data": {
      "text/plain": [
       "true"
      ]
     },
     "execution_count": 70,
     "metadata": {},
     "output_type": "execute_result"
    }
   ],
   "source": [
    "Apfel <: Obst"
   ]
  },
  {
   "cell_type": "markdown",
   "id": "0c7e2250",
   "metadata": {},
   "source": [
    "Da `Apfel`nun ein `subtyp`von `Obst` ist, sind die Eigenschaften von `Obst` die Eigenschaften von `Apfel`."
   ]
  },
  {
   "cell_type": "markdown",
   "id": "f17fd7be",
   "metadata": {},
   "source": [
    "## Multiple Dispatch\n",
    "\n",
    "Julias Funktionen können mehrere Implementationen aufweisen, welche beim Aufruf dynamisch aufgrund der Parameter-Typen ausgewählt werden. Der Programmierer kann einer Funktion eine weitere Implementation zuweisen, indem er diese erneut mit einer anderen Signatur deklariert:"
   ]
  },
  {
   "cell_type": "code",
   "execution_count": 9,
   "id": "5f9f387d",
   "metadata": {},
   "outputs": [
    {
     "name": "stdout",
     "output_type": "stream",
     "text": [
      "I´ve got a value!\n",
      "I´ve got a value of type Float16!"
     ]
    }
   ],
   "source": [
    "function dispatch(value)\n",
    "    print(\"I´ve got a value!\\n\")\n",
    "end\n",
    "\n",
    "function dispatch(value::Float16)\n",
    "    print(\"I´ve got a value of type Float16!\")\n",
    "end\n",
    "\n",
    "dispatch(42)\n",
    "dispatch(foo.float)"
   ]
  },
  {
   "cell_type": "markdown",
   "id": "7c7ffb59",
   "metadata": {},
   "source": [
    "## Benutzer-Eingabe"
   ]
  },
  {
   "cell_type": "markdown",
   "id": "476e4018",
   "metadata": {},
   "source": [
    "In diversen Programmen und Anwendungen wird ein Nutzer-Input benötigt. Julia verwendet hierfür `readline`(`stdin`) ."
   ]
  },
  {
   "cell_type": "code",
   "execution_count": 1,
   "id": "529571b0",
   "metadata": {},
   "outputs": [
    {
     "name": "stdout",
     "output_type": "stream",
     "text": [
      "stdin> test\n",
      "test"
     ]
    }
   ],
   "source": [
    "input = readline(stdin) \n",
    "print(input)"
   ]
  },
  {
   "cell_type": "markdown",
   "id": "2cd3fc65",
   "metadata": {},
   "source": [
    "Diese Funktion wird in späteren Notebooks verwendet, damit der menschliche Spieler seine Züge eingeben kann."
   ]
  },
  {
   "cell_type": "markdown",
   "id": "1ac93191",
   "metadata": {},
   "source": [
    "## Reverse Matrix"
   ]
  },
  {
   "cell_type": "markdown",
   "id": "a5de6a22",
   "metadata": {},
   "source": [
    "Eine Matrix in Julia wird wie folgt erstellt."
   ]
  },
  {
   "cell_type": "code",
   "execution_count": 50,
   "id": "8f852620",
   "metadata": {
    "scrolled": true
   },
   "outputs": [
    {
     "data": {
      "text/plain": [
       "2×2 Matrix{Int8}:\n",
       " 76  -85\n",
       " 17   12"
      ]
     },
     "execution_count": 50,
     "metadata": {},
     "output_type": "execute_result"
    }
   ],
   "source": [
    "A = rand(Int8, 2, 2)"
   ]
  },
  {
   "cell_type": "markdown",
   "id": "6d38c12f",
   "metadata": {},
   "source": [
    "Es wurde eine zufällige 2x2 Matrix erstellt. Um diese Matrix zu drehen, kann die Matrix einfach abgetippt werden. Ein besserer Weg ist es, die Matrix zu reversen. Dies geschieht mit der `reverse(matrix, dim = x) function` mit `x = 1`, für eine Spiegelung an der x-Achse, oder `x = 2`, für eine Spiegelung an der y-Achse."
   ]
  },
  {
   "cell_type": "code",
   "execution_count": 62,
   "id": "97a52b0d",
   "metadata": {},
   "outputs": [
    {
     "data": {
      "text/plain": [
       "2×2 Matrix{Int8}:\n",
       " 17   12\n",
       " 76  -85"
      ]
     },
     "execution_count": 62,
     "metadata": {},
     "output_type": "execute_result"
    }
   ],
   "source": [
    "B = reverse(A, dims = 1)\n",
    "return B"
   ]
  },
  {
   "cell_type": "code",
   "execution_count": 63,
   "id": "5e661edf",
   "metadata": {},
   "outputs": [
    {
     "data": {
      "text/plain": [
       "2×2 Matrix{Int8}:\n",
       " -85  76\n",
       "  12  17"
      ]
     },
     "execution_count": 63,
     "metadata": {},
     "output_type": "execute_result"
    }
   ],
   "source": [
    "C = reverse(A, dims = 2)\n",
    "return C"
   ]
  },
  {
   "cell_type": "markdown",
   "id": "9a3ee2fe",
   "metadata": {},
   "source": [
    "In unserem Fall wird die [Piece-Square-Table](https://www.chessprogramming.org/Simplified_Evaluation_Function) des weißen Bauern, im Notebook [3.0 Piece-Weight & Value calculation](3.0 Piece-Weight & Value calculation.ipynb) als Matrix dargestellt."
   ]
  },
  {
   "cell_type": "code",
   "execution_count": 37,
   "id": "c1ac699c",
   "metadata": {},
   "outputs": [
    {
     "data": {
      "text/plain": [
       "8-element Vector{Vector{Int64}}:\n",
       " [0, 0, 0, 0, 0, 0, 0, 0]\n",
       " [50, 50, 50, 50, 50, 50, 50, 50]\n",
       " [10, 10, 20, 30, 30, 20, 10, 10]\n",
       " [5, 5, 10, 25, 25, 10, 5, 5]\n",
       " [0, 0, 0, 20, 20, 0, 0, 0]\n",
       " [5, -5, -10, 0, 0, -10, -5, 5]\n",
       " [5, 10, 10, -20, -20, 10, 10, 5]\n",
       " [0, 0, 0, 0, 0, 0, 0, 0]"
      ]
     },
     "execution_count": 37,
     "metadata": {},
     "output_type": "execute_result"
    }
   ],
   "source": [
    "matrix_wp =\n",
    "[ \n",
    "\n",
    "[0,  0,  0,  0,  0,  0,  0,  0],\n",
    "[50, 50, 50, 50, 50, 50, 50, 50],\n",
    "[10, 10, 20, 30, 30, 20, 10, 10],\n",
    "[5,  5, 10, 25, 25, 10,  5,  5],\n",
    "[0,  0,  0, 20, 20,  0,  0,  0],\n",
    "[5, -5,-10,  0,  0,-10, -5,  5],\n",
    "[5, 10, 10,-20,-20, 10, 10,  5],\n",
    "[0,  0,  0,  0,  0,  0,  0,  0]\n",
    "    \n",
    "]"
   ]
  },
  {
   "cell_type": "markdown",
   "id": "1dc38a7d",
   "metadata": {},
   "source": [
    "Die [Piece-Square-Table](https://www.chessprogramming.org/Simplified_Evaluation_Function) des schwarzen Bauern ist die Matrix des weißen Bauern, aber an der x-Achse gespiegelt."
   ]
  },
  {
   "cell_type": "code",
   "execution_count": 38,
   "id": "7edb9a93",
   "metadata": {},
   "outputs": [
    {
     "data": {
      "text/plain": [
       "8-element Vector{Vector{Int64}}:\n",
       " [0, 0, 0, 0, 0, 0, 0, 0]\n",
       " [5, 10, 10, -20, -20, 10, 10, 5]\n",
       " [5, -5, -10, 0, 0, -10, -5, 5]\n",
       " [0, 0, 0, 20, 20, 0, 0, 0]\n",
       " [5, 5, 10, 25, 25, 10, 5, 5]\n",
       " [10, 10, 20, 30, 30, 20, 10, 10]\n",
       " [50, 50, 50, 50, 50, 50, 50, 50]\n",
       " [0, 0, 0, 0, 0, 0, 0, 0]"
      ]
     },
     "execution_count": 38,
     "metadata": {},
     "output_type": "execute_result"
    }
   ],
   "source": [
    "matrix_bp = reverse(matrix_wp, dims = 1)"
   ]
  },
  {
   "cell_type": "markdown",
   "id": "b359e1c2",
   "metadata": {},
   "source": [
    "***"
   ]
  },
  {
   "cell_type": "markdown",
   "id": "e66dfe7d",
   "metadata": {},
   "source": [
    "by Florian Stach and Luc Kaiser"
   ]
  },
  {
   "cell_type": "markdown",
   "id": "f5236d3f",
   "metadata": {},
   "source": [
    "Last updated: 07/01/2023"
   ]
  },
  {
   "cell_type": "markdown",
   "id": "42862040",
   "metadata": {},
   "source": [
    "***"
   ]
  }
 ],
 "metadata": {
  "kernelspec": {
   "display_name": "Julia 1.8.1",
   "language": "julia",
   "name": "julia-1.8"
  },
  "language_info": {
   "file_extension": ".jl",
   "mimetype": "application/julia",
   "name": "julia",
   "version": "1.8.1"
  }
 },
 "nbformat": 4,
 "nbformat_minor": 5
}
