{
 "cells": [
  {
   "cell_type": "code",
   "execution_count": null,
   "id": "0aa8c5ef",
   "metadata": {},
   "outputs": [],
   "source": [
    "HTML(read(open(\"style.html\"), String))"
   ]
  },
  {
   "cell_type": "code",
   "execution_count": null,
   "id": "59abb719",
   "metadata": {
    "scrolled": true
   },
   "outputs": [],
   "source": [
    "using Pkg\n",
    "Pkg.add(\"NBInclude\")"
   ]
  },
  {
   "cell_type": "code",
   "execution_count": null,
   "id": "d1376039",
   "metadata": {},
   "outputs": [],
   "source": [
    "using NBInclude\n",
    "@nbinclude(\"MiniMax-Implementierung.ipynb\")"
   ]
  },
  {
   "cell_type": "markdown",
   "id": "0ba4c6a1",
   "metadata": {},
   "source": [
    "***"
   ]
  },
  {
   "cell_type": "markdown",
   "id": "e3540887",
   "metadata": {},
   "source": [
    "In diesem Notebook wird die MiniMaxAI wie folgt implementiert. "
   ]
  },
  {
   "cell_type": "markdown",
   "id": "db370a23",
   "metadata": {},
   "source": [
    "## Entity MiniMaxAI"
   ]
  },
  {
   "cell_type": "markdown",
   "id": "82a2d52d",
   "metadata": {},
   "source": [
    "Es wird eine AI benötigt, die nicht zufällige Züge ausführt, sondern ihre Züge begründet durchführt. Dazu wird der [MiniMax-Alogrithmus](https://de.wikipedia.org/wiki/Minimax-Algorithmus) und die [Simple-Evaluation-Function](https://www.chessprogramming.org/Simplified_Evaluation_Function) verwendet. Als Ausgangssuchtiefe wurde sich zunächst für den Wert 4 entschieden. Während höhere Tiefen in einer besseren Spielweise resultieren, erhöhen diese gleichzeitig die Durchlaufzeit erheblich. "
   ]
  },
  {
   "cell_type": "code",
   "execution_count": 1,
   "id": "ab296a3d",
   "metadata": {},
   "outputs": [
    {
     "data": {
      "text/plain": [
       "next_move (generic function with 1 method)"
      ]
     },
     "execution_count": 1,
     "metadata": {},
     "output_type": "execute_result"
    }
   ],
   "source": [
    "struct MiniMaxAI \n",
    "    depth\n",
    "end\n",
    "\n",
    "function next_move(board, ai::MiniMaxAI)\n",
    "    return doMiniMax(board, ai.depth), \"\"\n",
    "end"
   ]
  },
  {
   "cell_type": "markdown",
   "id": "5e56ac8b",
   "metadata": {},
   "source": [
    "Der Unterschied zwischen der MiniMaxAI und der RandomAI ist, dass anstatt eines zufälligen Zuges, ein Zug deterministisch ausgewählt wird. Dabei werden alle möglichen Zuge durchgerechnet und mit einer Gewichtung verknüpft. Anschließend wird der beste mögliche Zug ausgewählt und durchgeführt."
   ]
  },
  {
   "cell_type": "markdown",
   "id": "84a7ca22",
   "metadata": {},
   "source": [
    "***"
   ]
  },
  {
   "cell_type": "markdown",
   "id": "ebfc44b8",
   "metadata": {},
   "source": [
    "by Florian Stach and Luc Kaiser"
   ]
  },
  {
   "cell_type": "markdown",
   "id": "b6fbe59e",
   "metadata": {},
   "source": [
    "Last updated: 30/11/2022"
   ]
  },
  {
   "cell_type": "markdown",
   "id": "2f0f23a2",
   "metadata": {},
   "source": [
    "***"
   ]
  }
 ],
 "metadata": {
  "kernelspec": {
   "display_name": "Julia 1.8.1",
   "language": "julia",
   "name": "julia-1.8"
  },
  "language_info": {
   "file_extension": ".jl",
   "mimetype": "application/julia",
   "name": "julia",
   "version": "1.8.1"
  }
 },
 "nbformat": 4,
 "nbformat_minor": 5
}
